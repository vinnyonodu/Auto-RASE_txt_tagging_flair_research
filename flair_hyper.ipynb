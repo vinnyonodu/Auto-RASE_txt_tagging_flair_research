{
  "nbformat": 4,
  "nbformat_minor": 0,
  "metadata": {
    "colab": {
      "provenance": [],
      "gpuType": "T4"
    },
    "kernelspec": {
      "name": "python3",
      "display_name": "Python 3"
    },
    "language_info": {
      "name": "python"
    },
    "accelerator": "GPU"
  },
  "cells": [
    {
      "cell_type": "code",
      "execution_count": 4,
      "metadata": {
        "colab": {
          "base_uri": "https://localhost:8080/"
        },
        "id": "UNYhWwo__IRH",
        "outputId": "3f99e5c4-9b28-43b1-cd6e-3c10ddb86472"
      },
      "outputs": [
        {
          "output_type": "stream",
          "name": "stdout",
          "text": [
            "Collecting flair\n",
            "  Downloading flair-0.13.0-py3-none-any.whl (387 kB)\n",
            "\u001b[2K     \u001b[90m━━━━━━━━━━━━━━━━━━━━━━━━━━━━━━━━━━━━━━━━\u001b[0m \u001b[32m387.2/387.2 kB\u001b[0m \u001b[31m7.5 MB/s\u001b[0m eta \u001b[36m0:00:00\u001b[0m\n",
            "\u001b[?25hCollecting boto3>=1.20.27 (from flair)\n",
            "  Downloading boto3-1.34.2-py3-none-any.whl (139 kB)\n",
            "\u001b[2K     \u001b[90m━━━━━━━━━━━━━━━━━━━━━━━━━━━━━━━━━━━━━━━━\u001b[0m \u001b[32m139.3/139.3 kB\u001b[0m \u001b[31m17.6 MB/s\u001b[0m eta \u001b[36m0:00:00\u001b[0m\n",
            "\u001b[?25hCollecting bpemb>=0.3.2 (from flair)\n",
            "  Downloading bpemb-0.3.4-py3-none-any.whl (19 kB)\n",
            "Collecting conllu>=4.0 (from flair)\n",
            "  Downloading conllu-4.5.3-py2.py3-none-any.whl (16 kB)\n",
            "Collecting deprecated>=1.2.13 (from flair)\n",
            "  Downloading Deprecated-1.2.14-py2.py3-none-any.whl (9.6 kB)\n",
            "Collecting ftfy>=6.1.0 (from flair)\n",
            "  Downloading ftfy-6.1.3-py3-none-any.whl (53 kB)\n",
            "\u001b[2K     \u001b[90m━━━━━━━━━━━━━━━━━━━━━━━━━━━━━━━━━━━━━━━━\u001b[0m \u001b[32m53.4/53.4 kB\u001b[0m \u001b[31m7.6 MB/s\u001b[0m eta \u001b[36m0:00:00\u001b[0m\n",
            "\u001b[?25hRequirement already satisfied: gdown>=4.4.0 in /usr/local/lib/python3.10/dist-packages (from flair) (4.6.6)\n",
            "Requirement already satisfied: gensim>=4.2.0 in /usr/local/lib/python3.10/dist-packages (from flair) (4.3.2)\n",
            "Requirement already satisfied: huggingface-hub>=0.10.0 in /usr/local/lib/python3.10/dist-packages (from flair) (0.19.4)\n",
            "Collecting janome>=0.4.2 (from flair)\n",
            "  Downloading Janome-0.5.0-py2.py3-none-any.whl (19.7 MB)\n",
            "\u001b[2K     \u001b[90m━━━━━━━━━━━━━━━━━━━━━━━━━━━━━━━━━━━━━━━━\u001b[0m \u001b[32m19.7/19.7 MB\u001b[0m \u001b[31m51.8 MB/s\u001b[0m eta \u001b[36m0:00:00\u001b[0m\n",
            "\u001b[?25hCollecting langdetect>=1.0.9 (from flair)\n",
            "  Downloading langdetect-1.0.9.tar.gz (981 kB)\n",
            "\u001b[2K     \u001b[90m━━━━━━━━━━━━━━━━━━━━━━━━━━━━━━━━━━━━━━━━\u001b[0m \u001b[32m981.5/981.5 kB\u001b[0m \u001b[31m57.2 MB/s\u001b[0m eta \u001b[36m0:00:00\u001b[0m\n",
            "\u001b[?25h  Preparing metadata (setup.py) ... \u001b[?25l\u001b[?25hdone\n",
            "Requirement already satisfied: lxml>=4.8.0 in /usr/local/lib/python3.10/dist-packages (from flair) (4.9.3)\n",
            "Requirement already satisfied: matplotlib>=2.2.3 in /usr/local/lib/python3.10/dist-packages (from flair) (3.7.1)\n",
            "Requirement already satisfied: more-itertools>=8.13.0 in /usr/local/lib/python3.10/dist-packages (from flair) (10.1.0)\n",
            "Collecting mpld3>=0.3 (from flair)\n",
            "  Downloading mpld3-0.5.9-py3-none-any.whl (201 kB)\n",
            "\u001b[2K     \u001b[90m━━━━━━━━━━━━━━━━━━━━━━━━━━━━━━━━━━━━━━━━\u001b[0m \u001b[32m201.2/201.2 kB\u001b[0m \u001b[31m25.0 MB/s\u001b[0m eta \u001b[36m0:00:00\u001b[0m\n",
            "\u001b[?25hCollecting pptree>=3.1 (from flair)\n",
            "  Downloading pptree-3.1.tar.gz (3.0 kB)\n",
            "  Preparing metadata (setup.py) ... \u001b[?25l\u001b[?25hdone\n",
            "Requirement already satisfied: python-dateutil>=2.8.2 in /usr/local/lib/python3.10/dist-packages (from flair) (2.8.2)\n",
            "Collecting pytorch-revgrad>=0.2.0 (from flair)\n",
            "  Downloading pytorch_revgrad-0.2.0-py3-none-any.whl (4.6 kB)\n",
            "Requirement already satisfied: regex>=2022.1.18 in /usr/local/lib/python3.10/dist-packages (from flair) (2023.6.3)\n",
            "Requirement already satisfied: scikit-learn>=1.0.2 in /usr/local/lib/python3.10/dist-packages (from flair) (1.2.2)\n",
            "Collecting segtok>=1.5.11 (from flair)\n",
            "  Downloading segtok-1.5.11-py3-none-any.whl (24 kB)\n",
            "Collecting sqlitedict>=2.0.0 (from flair)\n",
            "  Downloading sqlitedict-2.1.0.tar.gz (21 kB)\n",
            "  Preparing metadata (setup.py) ... \u001b[?25l\u001b[?25hdone\n",
            "Requirement already satisfied: tabulate>=0.8.10 in /usr/local/lib/python3.10/dist-packages (from flair) (0.9.0)\n",
            "Requirement already satisfied: torch!=1.8,>=1.5.0 in /usr/local/lib/python3.10/dist-packages (from flair) (2.1.0+cu121)\n",
            "Requirement already satisfied: tqdm>=4.63.0 in /usr/local/lib/python3.10/dist-packages (from flair) (4.66.1)\n",
            "Collecting transformer-smaller-training-vocab>=0.2.3 (from flair)\n",
            "  Downloading transformer_smaller_training_vocab-0.3.3-py3-none-any.whl (14 kB)\n",
            "Requirement already satisfied: transformers[sentencepiece]<5.0.0,>=4.18.0 in /usr/local/lib/python3.10/dist-packages (from flair) (4.35.2)\n",
            "Collecting urllib3<2.0.0,>=1.0.0 (from flair)\n",
            "  Downloading urllib3-1.26.18-py2.py3-none-any.whl (143 kB)\n",
            "\u001b[2K     \u001b[90m━━━━━━━━━━━━━━━━━━━━━━━━━━━━━━━━━━━━━━━━\u001b[0m \u001b[32m143.8/143.8 kB\u001b[0m \u001b[31m20.2 MB/s\u001b[0m eta \u001b[36m0:00:00\u001b[0m\n",
            "\u001b[?25hCollecting wikipedia-api>=0.5.7 (from flair)\n",
            "  Downloading Wikipedia_API-0.6.0-py3-none-any.whl (14 kB)\n",
            "Collecting semver<4.0.0,>=3.0.0 (from flair)\n",
            "  Downloading semver-3.0.2-py3-none-any.whl (17 kB)\n",
            "Collecting botocore<1.35.0,>=1.34.2 (from boto3>=1.20.27->flair)\n",
            "  Downloading botocore-1.34.2-py3-none-any.whl (11.8 MB)\n",
            "\u001b[2K     \u001b[90m━━━━━━━━━━━━━━━━━━━━━━━━━━━━━━━━━━━━━━━━\u001b[0m \u001b[32m11.8/11.8 MB\u001b[0m \u001b[31m93.4 MB/s\u001b[0m eta \u001b[36m0:00:00\u001b[0m\n",
            "\u001b[?25hCollecting jmespath<2.0.0,>=0.7.1 (from boto3>=1.20.27->flair)\n",
            "  Downloading jmespath-1.0.1-py3-none-any.whl (20 kB)\n",
            "Collecting s3transfer<0.10.0,>=0.9.0 (from boto3>=1.20.27->flair)\n",
            "  Downloading s3transfer-0.9.0-py3-none-any.whl (82 kB)\n",
            "\u001b[2K     \u001b[90m━━━━━━━━━━━━━━━━━━━━━━━━━━━━━━━━━━━━━━━━\u001b[0m \u001b[32m82.0/82.0 kB\u001b[0m \u001b[31m11.8 MB/s\u001b[0m eta \u001b[36m0:00:00\u001b[0m\n",
            "\u001b[?25hRequirement already satisfied: numpy in /usr/local/lib/python3.10/dist-packages (from bpemb>=0.3.2->flair) (1.23.5)\n",
            "Requirement already satisfied: requests in /usr/local/lib/python3.10/dist-packages (from bpemb>=0.3.2->flair) (2.31.0)\n",
            "Collecting sentencepiece (from bpemb>=0.3.2->flair)\n",
            "  Downloading sentencepiece-0.1.99-cp310-cp310-manylinux_2_17_x86_64.manylinux2014_x86_64.whl (1.3 MB)\n",
            "\u001b[2K     \u001b[90m━━━━━━━━━━━━━━━━━━━━━━━━━━━━━━━━━━━━━━━━\u001b[0m \u001b[32m1.3/1.3 MB\u001b[0m \u001b[31m74.1 MB/s\u001b[0m eta \u001b[36m0:00:00\u001b[0m\n",
            "\u001b[?25hRequirement already satisfied: wrapt<2,>=1.10 in /usr/local/lib/python3.10/dist-packages (from deprecated>=1.2.13->flair) (1.14.1)\n",
            "Requirement already satisfied: wcwidth<0.3.0,>=0.2.12 in /usr/local/lib/python3.10/dist-packages (from ftfy>=6.1.0->flair) (0.2.12)\n",
            "Requirement already satisfied: filelock in /usr/local/lib/python3.10/dist-packages (from gdown>=4.4.0->flair) (3.13.1)\n",
            "Requirement already satisfied: six in /usr/local/lib/python3.10/dist-packages (from gdown>=4.4.0->flair) (1.16.0)\n",
            "Requirement already satisfied: beautifulsoup4 in /usr/local/lib/python3.10/dist-packages (from gdown>=4.4.0->flair) (4.11.2)\n",
            "Requirement already satisfied: scipy>=1.7.0 in /usr/local/lib/python3.10/dist-packages (from gensim>=4.2.0->flair) (1.11.4)\n",
            "Requirement already satisfied: smart-open>=1.8.1 in /usr/local/lib/python3.10/dist-packages (from gensim>=4.2.0->flair) (6.4.0)\n",
            "Requirement already satisfied: fsspec>=2023.5.0 in /usr/local/lib/python3.10/dist-packages (from huggingface-hub>=0.10.0->flair) (2023.6.0)\n",
            "Requirement already satisfied: pyyaml>=5.1 in /usr/local/lib/python3.10/dist-packages (from huggingface-hub>=0.10.0->flair) (6.0.1)\n",
            "Requirement already satisfied: typing-extensions>=3.7.4.3 in /usr/local/lib/python3.10/dist-packages (from huggingface-hub>=0.10.0->flair) (4.5.0)\n",
            "Requirement already satisfied: packaging>=20.9 in /usr/local/lib/python3.10/dist-packages (from huggingface-hub>=0.10.0->flair) (23.2)\n",
            "Requirement already satisfied: contourpy>=1.0.1 in /usr/local/lib/python3.10/dist-packages (from matplotlib>=2.2.3->flair) (1.2.0)\n",
            "Requirement already satisfied: cycler>=0.10 in /usr/local/lib/python3.10/dist-packages (from matplotlib>=2.2.3->flair) (0.12.1)\n",
            "Requirement already satisfied: fonttools>=4.22.0 in /usr/local/lib/python3.10/dist-packages (from matplotlib>=2.2.3->flair) (4.46.0)\n",
            "Requirement already satisfied: kiwisolver>=1.0.1 in /usr/local/lib/python3.10/dist-packages (from matplotlib>=2.2.3->flair) (1.4.5)\n",
            "Requirement already satisfied: pillow>=6.2.0 in /usr/local/lib/python3.10/dist-packages (from matplotlib>=2.2.3->flair) (9.4.0)\n",
            "Requirement already satisfied: pyparsing>=2.3.1 in /usr/local/lib/python3.10/dist-packages (from matplotlib>=2.2.3->flair) (3.1.1)\n",
            "Requirement already satisfied: jinja2 in /usr/local/lib/python3.10/dist-packages (from mpld3>=0.3->flair) (3.1.2)\n",
            "Requirement already satisfied: joblib>=1.1.1 in /usr/local/lib/python3.10/dist-packages (from scikit-learn>=1.0.2->flair) (1.3.2)\n",
            "Requirement already satisfied: threadpoolctl>=2.0.0 in /usr/local/lib/python3.10/dist-packages (from scikit-learn>=1.0.2->flair) (3.2.0)\n",
            "Requirement already satisfied: sympy in /usr/local/lib/python3.10/dist-packages (from torch!=1.8,>=1.5.0->flair) (1.12)\n",
            "Requirement already satisfied: networkx in /usr/local/lib/python3.10/dist-packages (from torch!=1.8,>=1.5.0->flair) (3.2.1)\n",
            "Requirement already satisfied: triton==2.1.0 in /usr/local/lib/python3.10/dist-packages (from torch!=1.8,>=1.5.0->flair) (2.1.0)\n",
            "Requirement already satisfied: tokenizers<0.19,>=0.14 in /usr/local/lib/python3.10/dist-packages (from transformers[sentencepiece]<5.0.0,>=4.18.0->flair) (0.15.0)\n",
            "Requirement already satisfied: safetensors>=0.3.1 in /usr/local/lib/python3.10/dist-packages (from transformers[sentencepiece]<5.0.0,>=4.18.0->flair) (0.4.1)\n",
            "Requirement already satisfied: protobuf in /usr/local/lib/python3.10/dist-packages (from transformers[sentencepiece]<5.0.0,>=4.18.0->flair) (3.20.3)\n",
            "Collecting accelerate>=0.20.3 (from transformers[sentencepiece]<5.0.0,>=4.18.0->flair)\n",
            "  Downloading accelerate-0.25.0-py3-none-any.whl (265 kB)\n",
            "\u001b[2K     \u001b[90m━━━━━━━━━━━━━━━━━━━━━━━━━━━━━━━━━━━━━━━━\u001b[0m \u001b[32m265.7/265.7 kB\u001b[0m \u001b[31m31.7 MB/s\u001b[0m eta \u001b[36m0:00:00\u001b[0m\n",
            "\u001b[?25hRequirement already satisfied: soupsieve>1.2 in /usr/local/lib/python3.10/dist-packages (from beautifulsoup4->gdown>=4.4.0->flair) (2.5)\n",
            "Requirement already satisfied: MarkupSafe>=2.0 in /usr/local/lib/python3.10/dist-packages (from jinja2->mpld3>=0.3->flair) (2.1.3)\n",
            "Requirement already satisfied: charset-normalizer<4,>=2 in /usr/local/lib/python3.10/dist-packages (from requests->bpemb>=0.3.2->flair) (3.3.2)\n",
            "Requirement already satisfied: idna<4,>=2.5 in /usr/local/lib/python3.10/dist-packages (from requests->bpemb>=0.3.2->flair) (3.6)\n",
            "Requirement already satisfied: certifi>=2017.4.17 in /usr/local/lib/python3.10/dist-packages (from requests->bpemb>=0.3.2->flair) (2023.11.17)\n",
            "Requirement already satisfied: PySocks!=1.5.7,>=1.5.6 in /usr/local/lib/python3.10/dist-packages (from requests->bpemb>=0.3.2->flair) (1.7.1)\n",
            "Requirement already satisfied: mpmath>=0.19 in /usr/local/lib/python3.10/dist-packages (from sympy->torch!=1.8,>=1.5.0->flair) (1.3.0)\n",
            "Requirement already satisfied: psutil in /usr/local/lib/python3.10/dist-packages (from accelerate>=0.20.3->transformers[sentencepiece]<5.0.0,>=4.18.0->flair) (5.9.5)\n",
            "Building wheels for collected packages: langdetect, pptree, sqlitedict\n",
            "  Building wheel for langdetect (setup.py) ... \u001b[?25l\u001b[?25hdone\n",
            "  Created wheel for langdetect: filename=langdetect-1.0.9-py3-none-any.whl size=993225 sha256=b139d446e0e5f0488db0eb7821db8b656ae9096a26aaac2575145c91d924b4b4\n",
            "  Stored in directory: /root/.cache/pip/wheels/95/03/7d/59ea870c70ce4e5a370638b5462a7711ab78fba2f655d05106\n",
            "  Building wheel for pptree (setup.py) ... \u001b[?25l\u001b[?25hdone\n",
            "  Created wheel for pptree: filename=pptree-3.1-py3-none-any.whl size=4608 sha256=eab56f3e12657e863c9ab4c2c80eeb6e2b226f1a9e92b0cad954eeccd04ab393\n",
            "  Stored in directory: /root/.cache/pip/wheels/9f/b6/0e/6f26eb9e6eb53ff2107a7888d72b5a6a597593956113037828\n",
            "  Building wheel for sqlitedict (setup.py) ... \u001b[?25l\u001b[?25hdone\n",
            "  Created wheel for sqlitedict: filename=sqlitedict-2.1.0-py3-none-any.whl size=16863 sha256=8e97ecf7b53a7b7eee4eaa289ea5f37fa76be3ca9668a09a313fb80a29ec80fc\n",
            "  Stored in directory: /root/.cache/pip/wheels/79/d6/e7/304e0e6cb2221022c26d8161f7c23cd4f259a9e41e8bbcfabd\n",
            "Successfully built langdetect pptree sqlitedict\n",
            "Installing collected packages: sqlitedict, sentencepiece, pptree, janome, urllib3, semver, segtok, langdetect, jmespath, ftfy, deprecated, conllu, botocore, wikipedia-api, s3transfer, pytorch-revgrad, mpld3, bpemb, boto3, accelerate, transformer-smaller-training-vocab, flair\n",
            "  Attempting uninstall: urllib3\n",
            "    Found existing installation: urllib3 2.0.7\n",
            "    Uninstalling urllib3-2.0.7:\n",
            "      Successfully uninstalled urllib3-2.0.7\n",
            "Successfully installed accelerate-0.25.0 boto3-1.34.2 botocore-1.34.2 bpemb-0.3.4 conllu-4.5.3 deprecated-1.2.14 flair-0.13.0 ftfy-6.1.3 janome-0.5.0 jmespath-1.0.1 langdetect-1.0.9 mpld3-0.5.9 pptree-3.1 pytorch-revgrad-0.2.0 s3transfer-0.9.0 segtok-1.5.11 semver-3.0.2 sentencepiece-0.1.99 sqlitedict-2.1.0 transformer-smaller-training-vocab-0.3.3 urllib3-1.26.18 wikipedia-api-0.6.0\n"
          ]
        }
      ],
      "source": [
        "!pip install flair"
      ]
    },
    {
      "cell_type": "code",
      "source": [
        "from flair.data import Corpus\n",
        "from flair.datasets import ColumnCorpus\n",
        "from flair.embeddings import TokenEmbeddings, WordEmbeddings, StackedEmbeddings\n",
        "from flair.models import SequenceTagger\n",
        "from flair.trainers import ModelTrainer\n",
        "\n",
        "# Define columns\n",
        "columns = {0: 'text', 1: 'ner'}\n",
        "\n",
        "# Directory where the data resides\n",
        "data_folder = './'\n",
        "\n",
        "# Corpus with column format\n",
        "corpus: Corpus = ColumnCorpus(data_folder, columns,\n",
        "                              train_file='train.txt',\n",
        "                              test_file='test.txt',\n",
        "                              dev_file='dev.txt')"
      ],
      "metadata": {
        "colab": {
          "base_uri": "https://localhost:8080/"
        },
        "id": "KIhcIgcrX0fy",
        "outputId": "8b0f397b-e165-4583-d406-4ef20014b87f"
      },
      "execution_count": null,
      "outputs": [
        {
          "output_type": "stream",
          "name": "stdout",
          "text": [
            "2023-12-15 20:20:37,508 Reading data from .\n",
            "2023-12-15 20:20:37,510 Train: train.txt\n",
            "2023-12-15 20:20:37,511 Dev: dev.txt\n",
            "2023-12-15 20:20:37,514 Test: test.txt\n"
          ]
        }
      ]
    },
    {
      "cell_type": "code",
      "source": [
        "print(corpus.train[0].to_tagged_string())"
      ],
      "metadata": {
        "colab": {
          "base_uri": "https://localhost:8080/"
        },
        "id": "4knM7ilnY-OY",
        "outputId": "9ed43a44-3fd4-46f8-dfd5-f262980e4ec2"
      },
      "execution_count": null,
      "outputs": [
        {
          "output_type": "stream",
          "name": "stdout",
          "text": [
            "Sentence[2]: \"In certain\" → [\"In certain\"/Requirement]\n"
          ]
        }
      ]
    },
    {
      "cell_type": "code",
      "source": [
        "# Make tag dictionary from the corpus\n",
        "tag_dictionary = corpus.make_label_dictionary(label_type=\"ner\")\n",
        "tag_dictionary"
      ],
      "metadata": {
        "colab": {
          "base_uri": "https://localhost:8080/"
        },
        "id": "4G1VWYbqX2c4",
        "outputId": "f801bcb4-fbfd-4f68-f249-542694affbb5"
      },
      "execution_count": null,
      "outputs": [
        {
          "output_type": "stream",
          "name": "stdout",
          "text": [
            "2023-12-15 20:20:45,239 Computing label dictionary. Progress:\n"
          ]
        },
        {
          "output_type": "stream",
          "name": "stderr",
          "text": [
            "0it [00:00, ?it/s]\n",
            "5343it [00:00, 51289.94it/s]"
          ]
        },
        {
          "output_type": "stream",
          "name": "stdout",
          "text": [
            "2023-12-15 20:20:45,395 Dictionary created for label 'ner' with 4 values: Requirement (seen 6181 times), Application (seen 1755 times), Exception (seen 729 times), Selection (seen 566 times)\n"
          ]
        },
        {
          "output_type": "stream",
          "name": "stderr",
          "text": [
            "\n"
          ]
        },
        {
          "output_type": "execute_result",
          "data": {
            "text/plain": [
              "<flair.data.Dictionary at 0x7fd25ff66590>"
            ]
          },
          "metadata": {},
          "execution_count": 6
        }
      ]
    },
    {
      "cell_type": "code",
      "source": [
        "# Assuming 'tag_dictionary' is your tag dictionary\n",
        "for tag in tag_dictionary.idx2item:\n",
        "    print(tag)"
      ],
      "metadata": {
        "colab": {
          "base_uri": "https://localhost:8080/"
        },
        "id": "b7xUBYAZYtzJ",
        "outputId": "e8a552db-cfef-4209-d242-c9f8bede4433"
      },
      "execution_count": null,
      "outputs": [
        {
          "output_type": "stream",
          "name": "stdout",
          "text": [
            "b'Requirement'\n",
            "b'Application'\n",
            "b'Exception'\n",
            "b'Selection'\n"
          ]
        }
      ]
    },
    {
      "cell_type": "code",
      "source": [
        "# Initialize embeddings\n",
        "embedding_types = [\n",
        "    WordEmbeddings('glove'),\n",
        "    # other embeddings if needed\n",
        "]\n",
        "\n",
        "embeddings: StackedEmbeddings = StackedEmbeddings(embeddings=embedding_types)\n",
        "\n",
        "# Initialize sequence tagger\n",
        "tagger: SequenceTagger = SequenceTagger(hidden_size=256,\n",
        "                                        embeddings=embeddings,\n",
        "                                        tag_dictionary=tag_dictionary,\n",
        "                                        tag_type='ner',\n",
        "                                        rnn_layers = 2,\n",
        "                                        tag_format = \"BIO\",\n",
        "                                        use_crf=True)\n",
        "\n",
        "# Initialize trainer\n",
        "trainer: ModelTrainer = ModelTrainer(tagger, corpus)"
      ],
      "metadata": {
        "colab": {
          "base_uri": "https://localhost:8080/"
        },
        "id": "YBCzYlAxYEVg",
        "outputId": "4588d5be-5d67-4175-f15d-b36a9b2f0817"
      },
      "execution_count": null,
      "outputs": [
        {
          "output_type": "stream",
          "name": "stdout",
          "text": [
            "2023-12-15 20:38:37,273 SequenceTagger predicts: Dictionary with 9 tags: O, B-Requirement, I-Requirement, B-Application, I-Application, B-Exception, I-Exception, B-Selection, I-Selection\n"
          ]
        }
      ]
    },
    {
      "cell_type": "code",
      "source": [
        "\n",
        "trainer.train(\n",
        "    base_path='output',\n",
        "    learning_rate=0.1,  # Initial learning rate\n",
        "    mini_batch_size=32,\n",
        "    max_epochs=150,\n",
        "    anneal_factor=0.8,\n",
        "    min_learning_rate=0.009\n",
        ")\n"
      ],
      "metadata": {
        "colab": {
          "base_uri": "https://localhost:8080/"
        },
        "id": "R40_uwq4AnEy",
        "outputId": "4c828e96-124f-4671-e5c7-d71b2aac7b9c"
      },
      "execution_count": null,
      "outputs": [
        {
          "metadata": {
            "tags": null
          },
          "name": "stdout",
          "output_type": "stream",
          "text": [
            "2023-12-15 20:38:43,001 ----------------------------------------------------------------------------------------------------\n",
            "2023-12-15 20:38:43,003 Model: \"SequenceTagger(\n",
            "  (embeddings): StackedEmbeddings(\n",
            "    (list_embedding_0): WordEmbeddings(\n",
            "      'glove'\n",
            "      (embedding): Embedding(400001, 100)\n",
            "    )\n",
            "  )\n",
            "  (word_dropout): WordDropout(p=0.05)\n",
            "  (locked_dropout): LockedDropout(p=0.5)\n",
            "  (embedding2nn): Linear(in_features=100, out_features=100, bias=True)\n",
            "  (rnn): LSTM(100, 256, num_layers=2, batch_first=True, dropout=0.5, bidirectional=True)\n",
            "  (linear): Linear(in_features=512, out_features=11, bias=True)\n",
            "  (loss_function): ViterbiLoss()\n",
            "  (crf): CRF()\n",
            ")\"\n",
            "2023-12-15 20:38:43,004 ----------------------------------------------------------------------------------------------------\n",
            "2023-12-15 20:38:43,006 Corpus: 5343 train + 535 dev + 534 test sentences\n",
            "2023-12-15 20:38:43,007 ----------------------------------------------------------------------------------------------------\n",
            "2023-12-15 20:38:43,008 Train:  5343 sentences\n",
            "2023-12-15 20:38:43,009         (train_with_dev=False, train_with_test=False)\n",
            "2023-12-15 20:38:43,010 ----------------------------------------------------------------------------------------------------\n",
            "2023-12-15 20:38:43,012 Training Params:\n",
            "2023-12-15 20:38:43,013  - learning_rate: \"0.1\" \n",
            "2023-12-15 20:38:43,014  - mini_batch_size: \"32\"\n",
            "2023-12-15 20:38:43,015  - max_epochs: \"150\"\n",
            "2023-12-15 20:38:43,016  - shuffle: \"True\"\n",
            "2023-12-15 20:38:43,018 ----------------------------------------------------------------------------------------------------\n",
            "2023-12-15 20:38:43,019 Plugins:\n",
            "2023-12-15 20:38:43,021  - AnnealOnPlateau | patience: '3', anneal_factor: '0.8', min_learning_rate: '0.009'\n",
            "2023-12-15 20:38:43,022 ----------------------------------------------------------------------------------------------------\n",
            "2023-12-15 20:38:43,023 Final evaluation on model from best epoch (best-model.pt)\n",
            "2023-12-15 20:38:43,024  - metric: \"('micro avg', 'f1-score')\"\n",
            "2023-12-15 20:38:43,026 ----------------------------------------------------------------------------------------------------\n",
            "2023-12-15 20:38:43,027 Computation:\n",
            "2023-12-15 20:38:43,029  - compute on device: cuda:0\n",
            "2023-12-15 20:38:43,030  - embedding storage: cpu\n",
            "2023-12-15 20:38:43,031 ----------------------------------------------------------------------------------------------------\n",
            "2023-12-15 20:38:43,032 Model training base path: \"output\"\n",
            "2023-12-15 20:38:43,033 ----------------------------------------------------------------------------------------------------\n",
            "2023-12-15 20:38:43,035 ----------------------------------------------------------------------------------------------------\n"
          ]
        },
        {
          "metadata": {
            "tags": null
          },
          "name": "stderr",
          "output_type": "stream",
          "text": [
            "/usr/local/lib/python3.10/dist-packages/flair/trainers/trainer.py:84: UserWarning: There should be no best model saved at epoch 1 except there is a model from previous trainings in your training folder. All previous best models will be deleted.\n",
            "  warnings.warn(\n"
          ]
        },
        {
          "metadata": {
            "tags": null
          },
          "name": "stdout",
          "output_type": "stream",
          "text": [
            "2023-12-15 20:38:43,898 epoch 1 - iter 16/167 - loss 1.87420954 - time (sec): 0.86 - samples/sec: 4926.46 - lr: 0.100000 - momentum: 0.000000\n",
            "2023-12-15 20:38:44,677 epoch 1 - iter 32/167 - loss 1.46238043 - time (sec): 1.64 - samples/sec: 4980.03 - lr: 0.100000 - momentum: 0.000000\n",
            "2023-12-15 20:38:45,616 epoch 1 - iter 48/167 - loss 1.25883287 - time (sec): 2.58 - samples/sec: 4737.00 - lr: 0.100000 - momentum: 0.000000\n",
            "2023-12-15 20:38:46,497 epoch 1 - iter 64/167 - loss 1.10011219 - time (sec): 3.46 - samples/sec: 4723.11 - lr: 0.100000 - momentum: 0.000000\n",
            "2023-12-15 20:38:47,266 epoch 1 - iter 80/167 - loss 1.03836344 - time (sec): 4.23 - samples/sec: 4751.47 - lr: 0.100000 - momentum: 0.000000\n",
            "2023-12-15 20:38:48,413 epoch 1 - iter 96/167 - loss 0.97525510 - time (sec): 5.38 - samples/sec: 4418.08 - lr: 0.100000 - momentum: 0.000000\n",
            "2023-12-15 20:38:49,411 epoch 1 - iter 112/167 - loss 0.92454881 - time (sec): 6.37 - samples/sec: 4324.92 - lr: 0.100000 - momentum: 0.000000\n",
            "2023-12-15 20:38:50,267 epoch 1 - iter 128/167 - loss 0.88923249 - time (sec): 7.23 - samples/sec: 4321.82 - lr: 0.100000 - momentum: 0.000000\n",
            "2023-12-15 20:38:51,028 epoch 1 - iter 144/167 - loss 0.85211711 - time (sec): 7.99 - samples/sec: 4401.06 - lr: 0.100000 - momentum: 0.000000\n",
            "2023-12-15 20:38:51,674 epoch 1 - iter 160/167 - loss 0.82904313 - time (sec): 8.64 - samples/sec: 4489.50 - lr: 0.100000 - momentum: 0.000000\n",
            "2023-12-15 20:38:51,916 ----------------------------------------------------------------------------------------------------\n",
            "2023-12-15 20:38:51,917 EPOCH 1 done: loss 0.8187 - lr: 0.100000\n"
          ]
        },
        {
          "metadata": {
            "tags": null
          },
          "name": "stderr",
          "output_type": "stream",
          "text": [
            "100%|██████████| 9/9 [00:00<00:00, 12.58it/s]\n"
          ]
        },
        {
          "metadata": {
            "tags": null
          },
          "name": "stdout",
          "output_type": "stream",
          "text": [
            "2023-12-15 20:38:52,667 DEV : loss 0.5595788955688477 - f1-score (micro avg)  0.3074\n",
            "2023-12-15 20:38:52,688  - 0 epochs without improvement\n",
            "2023-12-15 20:38:52,689 saving best model\n",
            "2023-12-15 20:38:53,385 ----------------------------------------------------------------------------------------------------\n",
            "2023-12-15 20:38:54,245 epoch 2 - iter 16/167 - loss 0.47160775 - time (sec): 0.86 - samples/sec: 4597.53 - lr: 0.100000 - momentum: 0.000000\n",
            "2023-12-15 20:38:54,956 epoch 2 - iter 32/167 - loss 0.46830095 - time (sec): 1.57 - samples/sec: 4976.62 - lr: 0.100000 - momentum: 0.000000\n",
            "2023-12-15 20:38:55,811 epoch 2 - iter 48/167 - loss 0.46629544 - time (sec): 2.42 - samples/sec: 4985.50 - lr: 0.100000 - momentum: 0.000000\n",
            "2023-12-15 20:38:56,558 epoch 2 - iter 64/167 - loss 0.47595327 - time (sec): 3.17 - samples/sec: 4990.64 - lr: 0.100000 - momentum: 0.000000\n",
            "2023-12-15 20:38:57,216 epoch 2 - iter 80/167 - loss 0.47951848 - time (sec): 3.83 - samples/sec: 5103.03 - lr: 0.100000 - momentum: 0.000000\n",
            "2023-12-15 20:38:57,863 epoch 2 - iter 96/167 - loss 0.47712401 - time (sec): 4.47 - samples/sec: 5194.36 - lr: 0.100000 - momentum: 0.000000\n",
            "2023-12-15 20:38:58,644 epoch 2 - iter 112/167 - loss 0.47215153 - time (sec): 5.25 - samples/sec: 5145.51 - lr: 0.100000 - momentum: 0.000000\n",
            "2023-12-15 20:38:59,548 epoch 2 - iter 128/167 - loss 0.46544172 - time (sec): 6.16 - samples/sec: 5008.36 - lr: 0.100000 - momentum: 0.000000\n",
            "2023-12-15 20:39:00,538 epoch 2 - iter 144/167 - loss 0.46435064 - time (sec): 7.15 - samples/sec: 4826.30 - lr: 0.100000 - momentum: 0.000000\n",
            "2023-12-15 20:39:01,649 epoch 2 - iter 160/167 - loss 0.45536942 - time (sec): 8.26 - samples/sec: 4646.70 - lr: 0.100000 - momentum: 0.000000\n",
            "2023-12-15 20:39:02,208 ----------------------------------------------------------------------------------------------------\n",
            "2023-12-15 20:39:02,210 EPOCH 2 done: loss 0.4513 - lr: 0.100000\n"
          ]
        },
        {
          "metadata": {
            "tags": null
          },
          "name": "stderr",
          "output_type": "stream",
          "text": [
            "100%|██████████| 9/9 [00:00<00:00, 10.44it/s]"
          ]
        },
        {
          "metadata": {
            "tags": null
          },
          "name": "stdout",
          "output_type": "stream",
          "text": [
            "2023-12-15 20:39:03,101 DEV : loss 0.46703246235847473 - f1-score (micro avg)  0.298\n",
            "2023-12-15 20:39:03,117  - 1 epochs without improvement\n",
            "2023-12-15 20:39:03,118 ----------------------------------------------------------------------------------------------------\n"
          ]
        },
        {
          "metadata": {
            "tags": null
          },
          "name": "stderr",
          "output_type": "stream",
          "text": [
            "\n"
          ]
        },
        {
          "metadata": {
            "tags": null
          },
          "name": "stdout",
          "output_type": "stream",
          "text": [
            "2023-12-15 20:39:03,841 epoch 3 - iter 16/167 - loss 0.41071278 - time (sec): 0.72 - samples/sec: 5229.46 - lr: 0.100000 - momentum: 0.000000\n",
            "2023-12-15 20:39:04,580 epoch 3 - iter 32/167 - loss 0.42257549 - time (sec): 1.46 - samples/sec: 5268.62 - lr: 0.100000 - momentum: 0.000000\n",
            "2023-12-15 20:39:05,261 epoch 3 - iter 48/167 - loss 0.42217828 - time (sec): 2.14 - samples/sec: 5307.30 - lr: 0.100000 - momentum: 0.000000\n",
            "2023-12-15 20:39:06,134 epoch 3 - iter 64/167 - loss 0.41197804 - time (sec): 3.01 - samples/sec: 5174.93 - lr: 0.100000 - momentum: 0.000000\n",
            "2023-12-15 20:39:06,845 epoch 3 - iter 80/167 - loss 0.40984429 - time (sec): 3.72 - samples/sec: 5193.58 - lr: 0.100000 - momentum: 0.000000\n",
            "2023-12-15 20:39:07,501 epoch 3 - iter 96/167 - loss 0.41734991 - time (sec): 4.38 - samples/sec: 5258.71 - lr: 0.100000 - momentum: 0.000000\n",
            "2023-12-15 20:39:08,269 epoch 3 - iter 112/167 - loss 0.41120480 - time (sec): 5.15 - samples/sec: 5218.09 - lr: 0.100000 - momentum: 0.000000\n",
            "2023-12-15 20:39:09,024 epoch 3 - iter 128/167 - loss 0.41150345 - time (sec): 5.90 - samples/sec: 5194.58 - lr: 0.100000 - momentum: 0.000000\n",
            "2023-12-15 20:39:10,059 epoch 3 - iter 144/167 - loss 0.40878804 - time (sec): 6.94 - samples/sec: 5019.20 - lr: 0.100000 - momentum: 0.000000\n",
            "2023-12-15 20:39:10,796 epoch 3 - iter 160/167 - loss 0.40775575 - time (sec): 7.68 - samples/sec: 5026.76 - lr: 0.100000 - momentum: 0.000000\n",
            "2023-12-15 20:39:11,160 ----------------------------------------------------------------------------------------------------\n",
            "2023-12-15 20:39:11,161 EPOCH 3 done: loss 0.4038 - lr: 0.100000\n"
          ]
        },
        {
          "metadata": {
            "tags": null
          },
          "name": "stderr",
          "output_type": "stream",
          "text": [
            "100%|██████████| 9/9 [00:00<00:00, 12.26it/s]"
          ]
        },
        {
          "metadata": {
            "tags": null
          },
          "name": "stdout",
          "output_type": "stream",
          "text": [
            "2023-12-15 20:39:11,931 DEV : loss 0.436918169260025 - f1-score (micro avg)  0.3717\n",
            "2023-12-15 20:39:11,947  - 0 epochs without improvement\n",
            "2023-12-15 20:39:11,948 saving best model\n"
          ]
        },
        {
          "metadata": {
            "tags": null
          },
          "name": "stderr",
          "output_type": "stream",
          "text": [
            "\n"
          ]
        },
        {
          "metadata": {
            "tags": null
          },
          "name": "stdout",
          "output_type": "stream",
          "text": [
            "2023-12-15 20:39:12,732 ----------------------------------------------------------------------------------------------------\n",
            "2023-12-15 20:39:13,735 epoch 4 - iter 16/167 - loss 0.44588714 - time (sec): 1.00 - samples/sec: 3769.19 - lr: 0.100000 - momentum: 0.000000\n",
            "2023-12-15 20:39:14,798 epoch 4 - iter 32/167 - loss 0.42035168 - time (sec): 2.06 - samples/sec: 3644.97 - lr: 0.100000 - momentum: 0.000000\n",
            "2023-12-15 20:39:15,744 epoch 4 - iter 48/167 - loss 0.39506108 - time (sec): 3.01 - samples/sec: 3867.97 - lr: 0.100000 - momentum: 0.000000\n",
            "2023-12-15 20:39:16,578 epoch 4 - iter 64/167 - loss 0.38373610 - time (sec): 3.84 - samples/sec: 4026.42 - lr: 0.100000 - momentum: 0.000000\n",
            "2023-12-15 20:39:17,273 epoch 4 - iter 80/167 - loss 0.38941910 - time (sec): 4.54 - samples/sec: 4234.97 - lr: 0.100000 - momentum: 0.000000\n",
            "2023-12-15 20:39:18,005 epoch 4 - iter 96/167 - loss 0.39026520 - time (sec): 5.27 - samples/sec: 4378.66 - lr: 0.100000 - momentum: 0.000000\n",
            "2023-12-15 20:39:18,897 epoch 4 - iter 112/167 - loss 0.38314491 - time (sec): 6.16 - samples/sec: 4399.12 - lr: 0.100000 - momentum: 0.000000\n",
            "2023-12-15 20:39:19,626 epoch 4 - iter 128/167 - loss 0.37757197 - time (sec): 6.89 - samples/sec: 4483.19 - lr: 0.100000 - momentum: 0.000000\n",
            "2023-12-15 20:39:20,524 epoch 4 - iter 144/167 - loss 0.37508822 - time (sec): 7.79 - samples/sec: 4471.22 - lr: 0.100000 - momentum: 0.000000\n",
            "2023-12-15 20:39:21,296 epoch 4 - iter 160/167 - loss 0.37664667 - time (sec): 8.56 - samples/sec: 4490.66 - lr: 0.100000 - momentum: 0.000000\n",
            "2023-12-15 20:39:21,614 ----------------------------------------------------------------------------------------------------\n",
            "2023-12-15 20:39:21,616 EPOCH 4 done: loss 0.3724 - lr: 0.100000\n"
          ]
        },
        {
          "metadata": {
            "tags": null
          },
          "name": "stderr",
          "output_type": "stream",
          "text": [
            "100%|██████████| 9/9 [00:00<00:00, 12.60it/s]"
          ]
        },
        {
          "metadata": {
            "tags": null
          },
          "name": "stdout",
          "output_type": "stream",
          "text": [
            "2023-12-15 20:39:22,358 DEV : loss 0.4138745367527008 - f1-score (micro avg)  0.2981\n",
            "2023-12-15 20:39:22,373  - 1 epochs without improvement\n",
            "2023-12-15 20:39:22,375 ----------------------------------------------------------------------------------------------------\n"
          ]
        },
        {
          "metadata": {
            "tags": null
          },
          "name": "stderr",
          "output_type": "stream",
          "text": [
            "\n"
          ]
        },
        {
          "metadata": {
            "tags": null
          },
          "name": "stdout",
          "output_type": "stream",
          "text": [
            "2023-12-15 20:39:23,361 epoch 5 - iter 16/167 - loss 0.35602045 - time (sec): 0.98 - samples/sec: 4259.23 - lr: 0.100000 - momentum: 0.000000\n",
            "2023-12-15 20:39:24,175 epoch 5 - iter 32/167 - loss 0.36438542 - time (sec): 1.80 - samples/sec: 4535.86 - lr: 0.100000 - momentum: 0.000000\n",
            "2023-12-15 20:39:25,004 epoch 5 - iter 48/167 - loss 0.37329983 - time (sec): 2.63 - samples/sec: 4637.09 - lr: 0.100000 - momentum: 0.000000\n",
            "2023-12-15 20:39:25,846 epoch 5 - iter 64/167 - loss 0.37093882 - time (sec): 3.47 - samples/sec: 4593.21 - lr: 0.100000 - momentum: 0.000000\n",
            "2023-12-15 20:39:26,729 epoch 5 - iter 80/167 - loss 0.37684670 - time (sec): 4.35 - samples/sec: 4461.85 - lr: 0.100000 - momentum: 0.000000\n",
            "2023-12-15 20:39:27,801 epoch 5 - iter 96/167 - loss 0.37499266 - time (sec): 5.42 - samples/sec: 4253.50 - lr: 0.100000 - momentum: 0.000000\n",
            "2023-12-15 20:39:28,636 epoch 5 - iter 112/167 - loss 0.36768777 - time (sec): 6.26 - samples/sec: 4286.40 - lr: 0.100000 - momentum: 0.000000\n",
            "2023-12-15 20:39:29,268 epoch 5 - iter 128/167 - loss 0.36964642 - time (sec): 6.89 - samples/sec: 4419.80 - lr: 0.100000 - momentum: 0.000000\n",
            "2023-12-15 20:39:29,977 epoch 5 - iter 144/167 - loss 0.36616068 - time (sec): 7.60 - samples/sec: 4486.20 - lr: 0.100000 - momentum: 0.000000\n",
            "2023-12-15 20:39:30,864 epoch 5 - iter 160/167 - loss 0.36328209 - time (sec): 8.49 - samples/sec: 4515.85 - lr: 0.100000 - momentum: 0.000000\n",
            "2023-12-15 20:39:31,298 ----------------------------------------------------------------------------------------------------\n",
            "2023-12-15 20:39:31,300 EPOCH 5 done: loss 0.3640 - lr: 0.100000\n"
          ]
        },
        {
          "metadata": {
            "tags": null
          },
          "name": "stderr",
          "output_type": "stream",
          "text": [
            "100%|██████████| 9/9 [00:00<00:00, 12.55it/s]"
          ]
        },
        {
          "metadata": {
            "tags": null
          },
          "name": "stdout",
          "output_type": "stream",
          "text": [
            "2023-12-15 20:39:32,044 DEV : loss 0.37528133392333984 - f1-score (micro avg)  0.4132\n",
            "2023-12-15 20:39:32,060  - 0 epochs without improvement\n",
            "2023-12-15 20:39:32,061 saving best model\n"
          ]
        },
        {
          "metadata": {
            "tags": null
          },
          "name": "stderr",
          "output_type": "stream",
          "text": [
            "\n"
          ]
        },
        {
          "metadata": {
            "tags": null
          },
          "name": "stdout",
          "output_type": "stream",
          "text": [
            "2023-12-15 20:39:32,814 ----------------------------------------------------------------------------------------------------\n",
            "2023-12-15 20:39:33,747 epoch 6 - iter 16/167 - loss 0.32999336 - time (sec): 0.93 - samples/sec: 4444.54 - lr: 0.100000 - momentum: 0.000000\n",
            "2023-12-15 20:39:34,464 epoch 6 - iter 32/167 - loss 0.35700880 - time (sec): 1.65 - samples/sec: 4828.55 - lr: 0.100000 - momentum: 0.000000\n",
            "2023-12-15 20:39:35,203 epoch 6 - iter 48/167 - loss 0.35729622 - time (sec): 2.39 - samples/sec: 4959.06 - lr: 0.100000 - momentum: 0.000000\n",
            "2023-12-15 20:39:35,917 epoch 6 - iter 64/167 - loss 0.36030538 - time (sec): 3.10 - samples/sec: 5024.90 - lr: 0.100000 - momentum: 0.000000\n",
            "2023-12-15 20:39:36,700 epoch 6 - iter 80/167 - loss 0.35941586 - time (sec): 3.88 - samples/sec: 5038.12 - lr: 0.100000 - momentum: 0.000000\n",
            "2023-12-15 20:39:37,509 epoch 6 - iter 96/167 - loss 0.35753646 - time (sec): 4.69 - samples/sec: 5000.74 - lr: 0.100000 - momentum: 0.000000\n",
            "2023-12-15 20:39:38,418 epoch 6 - iter 112/167 - loss 0.35834463 - time (sec): 5.60 - samples/sec: 4882.77 - lr: 0.100000 - momentum: 0.000000\n",
            "2023-12-15 20:39:39,505 epoch 6 - iter 128/167 - loss 0.35659189 - time (sec): 6.69 - samples/sec: 4670.94 - lr: 0.100000 - momentum: 0.000000\n",
            "2023-12-15 20:39:40,651 epoch 6 - iter 144/167 - loss 0.35240417 - time (sec): 7.83 - samples/sec: 4478.40 - lr: 0.100000 - momentum: 0.000000\n",
            "2023-12-15 20:39:41,270 epoch 6 - iter 160/167 - loss 0.35106650 - time (sec): 8.45 - samples/sec: 4578.93 - lr: 0.100000 - momentum: 0.000000\n",
            "2023-12-15 20:39:41,568 ----------------------------------------------------------------------------------------------------\n",
            "2023-12-15 20:39:41,569 EPOCH 6 done: loss 0.3508 - lr: 0.100000\n"
          ]
        },
        {
          "metadata": {
            "tags": null
          },
          "name": "stderr",
          "output_type": "stream",
          "text": [
            "100%|██████████| 9/9 [00:00<00:00, 12.36it/s]"
          ]
        },
        {
          "metadata": {
            "tags": null
          },
          "name": "stdout",
          "output_type": "stream",
          "text": [
            "2023-12-15 20:39:42,325 DEV : loss 0.40221428871154785 - f1-score (micro avg)  0.4352\n",
            "2023-12-15 20:39:42,342  - 0 epochs without improvement\n",
            "2023-12-15 20:39:42,343 saving best model\n"
          ]
        },
        {
          "metadata": {
            "tags": null
          },
          "name": "stderr",
          "output_type": "stream",
          "text": [
            "\n"
          ]
        },
        {
          "metadata": {
            "tags": null
          },
          "name": "stdout",
          "output_type": "stream",
          "text": [
            "2023-12-15 20:39:43,110 ----------------------------------------------------------------------------------------------------\n",
            "2023-12-15 20:39:43,883 epoch 7 - iter 16/167 - loss 0.37825354 - time (sec): 0.77 - samples/sec: 4724.58 - lr: 0.100000 - momentum: 0.000000\n",
            "2023-12-15 20:39:44,684 epoch 7 - iter 32/167 - loss 0.38773504 - time (sec): 1.57 - samples/sec: 4839.50 - lr: 0.100000 - momentum: 0.000000\n",
            "2023-12-15 20:39:45,519 epoch 7 - iter 48/167 - loss 0.36639212 - time (sec): 2.40 - samples/sec: 4800.53 - lr: 0.100000 - momentum: 0.000000\n",
            "2023-12-15 20:39:46,253 epoch 7 - iter 64/167 - loss 0.35997824 - time (sec): 3.14 - samples/sec: 4841.06 - lr: 0.100000 - momentum: 0.000000\n",
            "2023-12-15 20:39:47,139 epoch 7 - iter 80/167 - loss 0.35550783 - time (sec): 4.02 - samples/sec: 4850.39 - lr: 0.100000 - momentum: 0.000000\n",
            "2023-12-15 20:39:47,892 epoch 7 - iter 96/167 - loss 0.35560268 - time (sec): 4.78 - samples/sec: 4893.62 - lr: 0.100000 - momentum: 0.000000\n",
            "2023-12-15 20:39:48,647 epoch 7 - iter 112/167 - loss 0.35523667 - time (sec): 5.53 - samples/sec: 4904.00 - lr: 0.100000 - momentum: 0.000000\n",
            "2023-12-15 20:39:49,418 epoch 7 - iter 128/167 - loss 0.35143590 - time (sec): 6.30 - samples/sec: 4958.73 - lr: 0.100000 - momentum: 0.000000\n",
            "2023-12-15 20:39:50,185 epoch 7 - iter 144/167 - loss 0.35024752 - time (sec): 7.07 - samples/sec: 4954.65 - lr: 0.100000 - momentum: 0.000000\n",
            "2023-12-15 20:39:51,180 epoch 7 - iter 160/167 - loss 0.34769114 - time (sec): 8.06 - samples/sec: 4794.81 - lr: 0.100000 - momentum: 0.000000\n",
            "2023-12-15 20:39:51,556 ----------------------------------------------------------------------------------------------------\n",
            "2023-12-15 20:39:51,558 EPOCH 7 done: loss 0.3490 - lr: 0.100000\n"
          ]
        },
        {
          "metadata": {
            "tags": null
          },
          "name": "stderr",
          "output_type": "stream",
          "text": [
            "100%|██████████| 9/9 [00:01<00:00,  7.94it/s]\n"
          ]
        },
        {
          "metadata": {
            "tags": null
          },
          "name": "stdout",
          "output_type": "stream",
          "text": [
            "2023-12-15 20:39:52,737 DEV : loss 0.3539113700389862 - f1-score (micro avg)  0.4991\n",
            "2023-12-15 20:39:52,761  - 0 epochs without improvement\n",
            "2023-12-15 20:39:52,763 saving best model\n",
            "2023-12-15 20:39:53,862 ----------------------------------------------------------------------------------------------------\n",
            "2023-12-15 20:39:54,607 epoch 8 - iter 16/167 - loss 0.40083195 - time (sec): 0.74 - samples/sec: 4957.20 - lr: 0.100000 - momentum: 0.000000\n",
            "2023-12-15 20:39:55,387 epoch 8 - iter 32/167 - loss 0.36194720 - time (sec): 1.52 - samples/sec: 4929.23 - lr: 0.100000 - momentum: 0.000000\n",
            "2023-12-15 20:39:56,140 epoch 8 - iter 48/167 - loss 0.34985342 - time (sec): 2.27 - samples/sec: 4987.81 - lr: 0.100000 - momentum: 0.000000\n",
            "2023-12-15 20:39:56,878 epoch 8 - iter 64/167 - loss 0.35158524 - time (sec): 3.01 - samples/sec: 5099.14 - lr: 0.100000 - momentum: 0.000000\n",
            "2023-12-15 20:39:57,592 epoch 8 - iter 80/167 - loss 0.35854263 - time (sec): 3.73 - samples/sec: 5121.50 - lr: 0.100000 - momentum: 0.000000\n",
            "2023-12-15 20:39:58,641 epoch 8 - iter 96/167 - loss 0.35157494 - time (sec): 4.78 - samples/sec: 4882.60 - lr: 0.100000 - momentum: 0.000000\n",
            "2023-12-15 20:39:59,439 epoch 8 - iter 112/167 - loss 0.34383275 - time (sec): 5.57 - samples/sec: 4872.80 - lr: 0.100000 - momentum: 0.000000\n",
            "2023-12-15 20:40:00,186 epoch 8 - iter 128/167 - loss 0.34220101 - time (sec): 6.32 - samples/sec: 4893.71 - lr: 0.100000 - momentum: 0.000000\n",
            "2023-12-15 20:40:00,948 epoch 8 - iter 144/167 - loss 0.34381351 - time (sec): 7.08 - samples/sec: 4895.35 - lr: 0.100000 - momentum: 0.000000\n",
            "2023-12-15 20:40:01,690 epoch 8 - iter 160/167 - loss 0.34654120 - time (sec): 7.83 - samples/sec: 4930.45 - lr: 0.100000 - momentum: 0.000000\n",
            "2023-12-15 20:40:02,026 ----------------------------------------------------------------------------------------------------\n",
            "2023-12-15 20:40:02,028 EPOCH 8 done: loss 0.3442 - lr: 0.100000\n"
          ]
        },
        {
          "metadata": {
            "tags": null
          },
          "name": "stderr",
          "output_type": "stream",
          "text": [
            "100%|██████████| 9/9 [00:00<00:00, 12.53it/s]\n"
          ]
        },
        {
          "metadata": {
            "tags": null
          },
          "name": "stdout",
          "output_type": "stream",
          "text": [
            "2023-12-15 20:40:02,777 DEV : loss 0.389080286026001 - f1-score (micro avg)  0.3929\n",
            "2023-12-15 20:40:02,796  - 1 epochs without improvement\n",
            "2023-12-15 20:40:02,797 ----------------------------------------------------------------------------------------------------\n",
            "2023-12-15 20:40:03,711 epoch 9 - iter 16/167 - loss 0.33202551 - time (sec): 0.91 - samples/sec: 4143.55 - lr: 0.100000 - momentum: 0.000000\n",
            "2023-12-15 20:40:04,662 epoch 9 - iter 32/167 - loss 0.35750061 - time (sec): 1.86 - samples/sec: 4065.47 - lr: 0.100000 - momentum: 0.000000\n",
            "2023-12-15 20:40:05,818 epoch 9 - iter 48/167 - loss 0.34998669 - time (sec): 3.02 - samples/sec: 3808.75 - lr: 0.100000 - momentum: 0.000000\n",
            "2023-12-15 20:40:06,765 epoch 9 - iter 64/167 - loss 0.33654488 - time (sec): 3.96 - samples/sec: 3928.59 - lr: 0.100000 - momentum: 0.000000\n",
            "2023-12-15 20:40:07,506 epoch 9 - iter 80/167 - loss 0.33819440 - time (sec): 4.71 - samples/sec: 4110.26 - lr: 0.100000 - momentum: 0.000000\n",
            "2023-12-15 20:40:08,159 epoch 9 - iter 96/167 - loss 0.34416042 - time (sec): 5.36 - samples/sec: 4306.50 - lr: 0.100000 - momentum: 0.000000\n",
            "2023-12-15 20:40:08,920 epoch 9 - iter 112/167 - loss 0.34046965 - time (sec): 6.12 - samples/sec: 4417.84 - lr: 0.100000 - momentum: 0.000000\n",
            "2023-12-15 20:40:09,708 epoch 9 - iter 128/167 - loss 0.33886470 - time (sec): 6.91 - samples/sec: 4488.26 - lr: 0.100000 - momentum: 0.000000\n",
            "2023-12-15 20:40:10,494 epoch 9 - iter 144/167 - loss 0.33870436 - time (sec): 7.69 - samples/sec: 4516.77 - lr: 0.100000 - momentum: 0.000000\n",
            "2023-12-15 20:40:11,365 epoch 9 - iter 160/167 - loss 0.33621756 - time (sec): 8.56 - samples/sec: 4529.89 - lr: 0.100000 - momentum: 0.000000\n",
            "2023-12-15 20:40:11,676 ----------------------------------------------------------------------------------------------------\n",
            "2023-12-15 20:40:11,677 EPOCH 9 done: loss 0.3372 - lr: 0.100000\n"
          ]
        },
        {
          "metadata": {
            "tags": null
          },
          "name": "stderr",
          "output_type": "stream",
          "text": [
            "100%|██████████| 9/9 [00:00<00:00, 12.43it/s]"
          ]
        },
        {
          "metadata": {
            "tags": null
          },
          "name": "stdout",
          "output_type": "stream",
          "text": [
            "2023-12-15 20:40:12,430 DEV : loss 0.4492616355419159 - f1-score (micro avg)  0.4269\n",
            "2023-12-15 20:40:12,445  - 2 epochs without improvement\n",
            "2023-12-15 20:40:12,447 ----------------------------------------------------------------------------------------------------\n"
          ]
        },
        {
          "metadata": {
            "tags": null
          },
          "name": "stderr",
          "output_type": "stream",
          "text": [
            "\n"
          ]
        },
        {
          "metadata": {
            "tags": null
          },
          "name": "stdout",
          "output_type": "stream",
          "text": [
            "2023-12-15 20:40:13,217 epoch 10 - iter 16/167 - loss 0.32279364 - time (sec): 0.77 - samples/sec: 5081.87 - lr: 0.100000 - momentum: 0.000000\n",
            "2023-12-15 20:40:14,030 epoch 10 - iter 32/167 - loss 0.32796746 - time (sec): 1.58 - samples/sec: 4888.76 - lr: 0.100000 - momentum: 0.000000\n",
            "2023-12-15 20:40:14,816 epoch 10 - iter 48/167 - loss 0.32144566 - time (sec): 2.37 - samples/sec: 4969.04 - lr: 0.100000 - momentum: 0.000000\n",
            "2023-12-15 20:40:15,495 epoch 10 - iter 64/167 - loss 0.33311715 - time (sec): 3.05 - samples/sec: 5083.39 - lr: 0.100000 - momentum: 0.000000\n",
            "2023-12-15 20:40:16,365 epoch 10 - iter 80/167 - loss 0.33664383 - time (sec): 3.92 - samples/sec: 4947.06 - lr: 0.100000 - momentum: 0.000000\n",
            "2023-12-15 20:40:17,368 epoch 10 - iter 96/167 - loss 0.33890064 - time (sec): 4.92 - samples/sec: 4687.35 - lr: 0.100000 - momentum: 0.000000\n",
            "2023-12-15 20:40:18,270 epoch 10 - iter 112/167 - loss 0.33848346 - time (sec): 5.82 - samples/sec: 4579.93 - lr: 0.100000 - momentum: 0.000000\n",
            "2023-12-15 20:40:19,302 epoch 10 - iter 128/167 - loss 0.33763848 - time (sec): 6.85 - samples/sec: 4500.71 - lr: 0.100000 - momentum: 0.000000\n",
            "2023-12-15 20:40:20,007 epoch 10 - iter 144/167 - loss 0.33825084 - time (sec): 7.56 - samples/sec: 4577.57 - lr: 0.100000 - momentum: 0.000000\n",
            "2023-12-15 20:40:20,916 epoch 10 - iter 160/167 - loss 0.33765132 - time (sec): 8.47 - samples/sec: 4557.34 - lr: 0.100000 - momentum: 0.000000\n",
            "2023-12-15 20:40:21,279 ----------------------------------------------------------------------------------------------------\n",
            "2023-12-15 20:40:21,281 EPOCH 10 done: loss 0.3370 - lr: 0.100000\n"
          ]
        },
        {
          "metadata": {
            "tags": null
          },
          "name": "stderr",
          "output_type": "stream",
          "text": [
            "100%|██████████| 9/9 [00:00<00:00, 12.33it/s]"
          ]
        },
        {
          "metadata": {
            "tags": null
          },
          "name": "stdout",
          "output_type": "stream",
          "text": [
            "2023-12-15 20:40:22,037 DEV : loss 0.33801892399787903 - f1-score (micro avg)  0.5952\n",
            "2023-12-15 20:40:22,053  - 0 epochs without improvement\n",
            "2023-12-15 20:40:22,054 saving best model\n"
          ]
        },
        {
          "metadata": {
            "tags": null
          },
          "name": "stderr",
          "output_type": "stream",
          "text": [
            "\n"
          ]
        },
        {
          "metadata": {
            "tags": null
          },
          "name": "stdout",
          "output_type": "stream",
          "text": [
            "2023-12-15 20:40:22,835 ----------------------------------------------------------------------------------------------------\n",
            "2023-12-15 20:40:23,654 epoch 11 - iter 16/167 - loss 0.36794968 - time (sec): 0.81 - samples/sec: 4536.65 - lr: 0.100000 - momentum: 0.000000\n",
            "2023-12-15 20:40:24,575 epoch 11 - iter 32/167 - loss 0.33892940 - time (sec): 1.74 - samples/sec: 4566.83 - lr: 0.100000 - momentum: 0.000000\n",
            "2023-12-15 20:40:25,277 epoch 11 - iter 48/167 - loss 0.34094645 - time (sec): 2.44 - samples/sec: 4833.81 - lr: 0.100000 - momentum: 0.000000\n",
            "2023-12-15 20:40:25,973 epoch 11 - iter 64/167 - loss 0.33819064 - time (sec): 3.13 - samples/sec: 4981.58 - lr: 0.100000 - momentum: 0.000000\n",
            "2023-12-15 20:40:26,680 epoch 11 - iter 80/167 - loss 0.33768632 - time (sec): 3.84 - samples/sec: 5012.69 - lr: 0.100000 - momentum: 0.000000\n",
            "2023-12-15 20:40:27,500 epoch 11 - iter 96/167 - loss 0.33446862 - time (sec): 4.66 - samples/sec: 4993.04 - lr: 0.100000 - momentum: 0.000000\n",
            "2023-12-15 20:40:28,263 epoch 11 - iter 112/167 - loss 0.33525067 - time (sec): 5.42 - samples/sec: 5012.68 - lr: 0.100000 - momentum: 0.000000\n",
            "2023-12-15 20:40:29,164 epoch 11 - iter 128/167 - loss 0.33090672 - time (sec): 6.32 - samples/sec: 4939.41 - lr: 0.100000 - momentum: 0.000000\n",
            "2023-12-15 20:40:30,031 epoch 11 - iter 144/167 - loss 0.33582036 - time (sec): 7.19 - samples/sec: 4818.05 - lr: 0.100000 - momentum: 0.000000\n",
            "2023-12-15 20:40:31,075 epoch 11 - iter 160/167 - loss 0.33335804 - time (sec): 8.24 - samples/sec: 4672.60 - lr: 0.100000 - momentum: 0.000000\n",
            "2023-12-15 20:40:31,570 ----------------------------------------------------------------------------------------------------\n",
            "2023-12-15 20:40:31,572 EPOCH 11 done: loss 0.3327 - lr: 0.100000\n"
          ]
        },
        {
          "metadata": {
            "tags": null
          },
          "name": "stderr",
          "output_type": "stream",
          "text": [
            "100%|██████████| 9/9 [00:00<00:00, 12.47it/s]\n"
          ]
        },
        {
          "metadata": {
            "tags": null
          },
          "name": "stdout",
          "output_type": "stream",
          "text": [
            "2023-12-15 20:40:32,322 DEV : loss 0.3638891577720642 - f1-score (micro avg)  0.5372\n",
            "2023-12-15 20:40:32,337  - 1 epochs without improvement\n",
            "2023-12-15 20:40:32,338 ----------------------------------------------------------------------------------------------------\n",
            "2023-12-15 20:40:33,121 epoch 12 - iter 16/167 - loss 0.30694773 - time (sec): 0.78 - samples/sec: 4991.89 - lr: 0.100000 - momentum: 0.000000\n",
            "2023-12-15 20:40:33,776 epoch 12 - iter 32/167 - loss 0.30920658 - time (sec): 1.43 - samples/sec: 5315.73 - lr: 0.100000 - momentum: 0.000000\n",
            "2023-12-15 20:40:34,480 epoch 12 - iter 48/167 - loss 0.32524512 - time (sec): 2.14 - samples/sec: 5322.17 - lr: 0.100000 - momentum: 0.000000\n",
            "2023-12-15 20:40:35,495 epoch 12 - iter 64/167 - loss 0.31448006 - time (sec): 3.15 - samples/sec: 4965.61 - lr: 0.100000 - momentum: 0.000000\n",
            "2023-12-15 20:40:36,129 epoch 12 - iter 80/167 - loss 0.32591917 - time (sec): 3.79 - samples/sec: 5087.38 - lr: 0.100000 - momentum: 0.000000\n",
            "2023-12-15 20:40:36,847 epoch 12 - iter 96/167 - loss 0.32871920 - time (sec): 4.51 - samples/sec: 5101.92 - lr: 0.100000 - momentum: 0.000000\n",
            "2023-12-15 20:40:37,811 epoch 12 - iter 112/167 - loss 0.32568549 - time (sec): 5.47 - samples/sec: 4970.72 - lr: 0.100000 - momentum: 0.000000\n",
            "2023-12-15 20:40:38,524 epoch 12 - iter 128/167 - loss 0.32887678 - time (sec): 6.18 - samples/sec: 5009.62 - lr: 0.100000 - momentum: 0.000000\n",
            "2023-12-15 20:40:39,251 epoch 12 - iter 144/167 - loss 0.33039394 - time (sec): 6.91 - samples/sec: 5014.47 - lr: 0.100000 - momentum: 0.000000\n",
            "2023-12-15 20:40:40,059 epoch 12 - iter 160/167 - loss 0.32631382 - time (sec): 7.72 - samples/sec: 5005.00 - lr: 0.100000 - momentum: 0.000000\n",
            "2023-12-15 20:40:40,379 ----------------------------------------------------------------------------------------------------\n",
            "2023-12-15 20:40:40,380 EPOCH 12 done: loss 0.3279 - lr: 0.100000\n"
          ]
        },
        {
          "metadata": {
            "tags": null
          },
          "name": "stderr",
          "output_type": "stream",
          "text": [
            "100%|██████████| 9/9 [00:00<00:00, 12.38it/s]\n"
          ]
        },
        {
          "metadata": {
            "tags": null
          },
          "name": "stdout",
          "output_type": "stream",
          "text": [
            "2023-12-15 20:40:41,650 DEV : loss 0.3212113380432129 - f1-score (micro avg)  0.5492\n",
            "2023-12-15 20:40:41,674  - 2 epochs without improvement\n",
            "2023-12-15 20:40:41,679 ----------------------------------------------------------------------------------------------------\n",
            "2023-12-15 20:40:42,807 epoch 13 - iter 16/167 - loss 0.30852870 - time (sec): 1.13 - samples/sec: 3548.05 - lr: 0.100000 - momentum: 0.000000\n",
            "2023-12-15 20:40:43,848 epoch 13 - iter 32/167 - loss 0.31822265 - time (sec): 2.17 - samples/sec: 3555.27 - lr: 0.100000 - momentum: 0.000000\n",
            "2023-12-15 20:40:44,667 epoch 13 - iter 48/167 - loss 0.32624172 - time (sec): 2.99 - samples/sec: 3869.34 - lr: 0.100000 - momentum: 0.000000\n",
            "2023-12-15 20:40:45,466 epoch 13 - iter 64/167 - loss 0.32956556 - time (sec): 3.78 - samples/sec: 4068.96 - lr: 0.100000 - momentum: 0.000000\n",
            "2023-12-15 20:40:46,242 epoch 13 - iter 80/167 - loss 0.33570499 - time (sec): 4.56 - samples/sec: 4190.66 - lr: 0.100000 - momentum: 0.000000\n",
            "2023-12-15 20:40:47,024 epoch 13 - iter 96/167 - loss 0.33091530 - time (sec): 5.34 - samples/sec: 4311.51 - lr: 0.100000 - momentum: 0.000000\n",
            "2023-12-15 20:40:47,780 epoch 13 - iter 112/167 - loss 0.33310379 - time (sec): 6.10 - samples/sec: 4379.34 - lr: 0.100000 - momentum: 0.000000\n",
            "2023-12-15 20:40:48,709 epoch 13 - iter 128/167 - loss 0.32535158 - time (sec): 7.03 - samples/sec: 4377.09 - lr: 0.100000 - momentum: 0.000000\n",
            "2023-12-15 20:40:49,398 epoch 13 - iter 144/167 - loss 0.32391687 - time (sec): 7.72 - samples/sec: 4492.88 - lr: 0.100000 - momentum: 0.000000\n",
            "2023-12-15 20:40:50,048 epoch 13 - iter 160/167 - loss 0.32151389 - time (sec): 8.37 - samples/sec: 4603.71 - lr: 0.100000 - momentum: 0.000000\n",
            "2023-12-15 20:40:50,375 ----------------------------------------------------------------------------------------------------\n",
            "2023-12-15 20:40:50,376 EPOCH 13 done: loss 0.3234 - lr: 0.100000\n"
          ]
        },
        {
          "metadata": {
            "tags": null
          },
          "name": "stderr",
          "output_type": "stream",
          "text": [
            "100%|██████████| 9/9 [00:00<00:00, 12.42it/s]"
          ]
        },
        {
          "metadata": {
            "tags": null
          },
          "name": "stdout",
          "output_type": "stream",
          "text": [
            "2023-12-15 20:40:51,131 DEV : loss 0.30418410897254944 - f1-score (micro avg)  0.6155\n",
            "2023-12-15 20:40:51,147  - 0 epochs without improvement\n",
            "2023-12-15 20:40:51,148 saving best model\n"
          ]
        },
        {
          "metadata": {
            "tags": null
          },
          "name": "stderr",
          "output_type": "stream",
          "text": [
            "\n"
          ]
        },
        {
          "metadata": {
            "tags": null
          },
          "name": "stdout",
          "output_type": "stream",
          "text": [
            "2023-12-15 20:40:52,084 ----------------------------------------------------------------------------------------------------\n",
            "2023-12-15 20:40:52,789 epoch 14 - iter 16/167 - loss 0.32009833 - time (sec): 0.70 - samples/sec: 5337.08 - lr: 0.100000 - momentum: 0.000000\n",
            "2023-12-15 20:40:53,679 epoch 14 - iter 32/167 - loss 0.31516789 - time (sec): 1.59 - samples/sec: 4756.39 - lr: 0.100000 - momentum: 0.000000\n",
            "2023-12-15 20:40:54,772 epoch 14 - iter 48/167 - loss 0.31175808 - time (sec): 2.68 - samples/sec: 4272.57 - lr: 0.100000 - momentum: 0.000000\n",
            "2023-12-15 20:40:55,840 epoch 14 - iter 64/167 - loss 0.30600455 - time (sec): 3.75 - samples/sec: 4152.96 - lr: 0.100000 - momentum: 0.000000\n",
            "2023-12-15 20:40:56,949 epoch 14 - iter 80/167 - loss 0.30836668 - time (sec): 4.86 - samples/sec: 4017.44 - lr: 0.100000 - momentum: 0.000000\n",
            "2023-12-15 20:40:57,618 epoch 14 - iter 96/167 - loss 0.30857127 - time (sec): 5.53 - samples/sec: 4195.39 - lr: 0.100000 - momentum: 0.000000\n",
            "2023-12-15 20:40:58,340 epoch 14 - iter 112/167 - loss 0.31686927 - time (sec): 6.25 - samples/sec: 4313.03 - lr: 0.100000 - momentum: 0.000000\n",
            "2023-12-15 20:40:59,273 epoch 14 - iter 128/167 - loss 0.31680964 - time (sec): 7.19 - samples/sec: 4330.92 - lr: 0.100000 - momentum: 0.000000\n",
            "2023-12-15 20:41:00,182 epoch 14 - iter 144/167 - loss 0.31675943 - time (sec): 8.09 - samples/sec: 4330.08 - lr: 0.100000 - momentum: 0.000000\n",
            "2023-12-15 20:41:00,892 epoch 14 - iter 160/167 - loss 0.31703794 - time (sec): 8.80 - samples/sec: 4401.99 - lr: 0.100000 - momentum: 0.000000\n",
            "2023-12-15 20:41:01,177 ----------------------------------------------------------------------------------------------------\n",
            "2023-12-15 20:41:01,178 EPOCH 14 done: loss 0.3204 - lr: 0.100000\n"
          ]
        },
        {
          "metadata": {
            "tags": null
          },
          "name": "stderr",
          "output_type": "stream",
          "text": [
            "100%|██████████| 9/9 [00:00<00:00, 12.38it/s]"
          ]
        },
        {
          "metadata": {
            "tags": null
          },
          "name": "stdout",
          "output_type": "stream",
          "text": [
            "2023-12-15 20:41:01,936 DEV : loss 0.31809455156326294 - f1-score (micro avg)  0.5573\n",
            "2023-12-15 20:41:01,952  - 1 epochs without improvement\n",
            "2023-12-15 20:41:01,954 ----------------------------------------------------------------------------------------------------\n"
          ]
        },
        {
          "metadata": {
            "tags": null
          },
          "name": "stderr",
          "output_type": "stream",
          "text": [
            "\n"
          ]
        },
        {
          "metadata": {
            "tags": null
          },
          "name": "stdout",
          "output_type": "stream",
          "text": [
            "2023-12-15 20:41:02,703 epoch 15 - iter 16/167 - loss 0.29943532 - time (sec): 0.75 - samples/sec: 5542.64 - lr: 0.100000 - momentum: 0.000000\n",
            "2023-12-15 20:41:03,460 epoch 15 - iter 32/167 - loss 0.31358695 - time (sec): 1.50 - samples/sec: 5217.35 - lr: 0.100000 - momentum: 0.000000\n",
            "2023-12-15 20:41:04,261 epoch 15 - iter 48/167 - loss 0.32038176 - time (sec): 2.30 - samples/sec: 5109.05 - lr: 0.100000 - momentum: 0.000000\n",
            "2023-12-15 20:41:05,195 epoch 15 - iter 64/167 - loss 0.31885146 - time (sec): 3.24 - samples/sec: 4896.35 - lr: 0.100000 - momentum: 0.000000\n",
            "2023-12-15 20:41:05,984 epoch 15 - iter 80/167 - loss 0.32379582 - time (sec): 4.03 - samples/sec: 4881.11 - lr: 0.100000 - momentum: 0.000000\n",
            "2023-12-15 20:41:06,646 epoch 15 - iter 96/167 - loss 0.32341657 - time (sec): 4.69 - samples/sec: 4961.60 - lr: 0.100000 - momentum: 0.000000\n",
            "2023-12-15 20:41:07,752 epoch 15 - iter 112/167 - loss 0.32302034 - time (sec): 5.80 - samples/sec: 4679.08 - lr: 0.100000 - momentum: 0.000000\n",
            "2023-12-15 20:41:08,809 epoch 15 - iter 128/167 - loss 0.31814842 - time (sec): 6.85 - samples/sec: 4530.55 - lr: 0.100000 - momentum: 0.000000\n",
            "2023-12-15 20:41:09,643 epoch 15 - iter 144/167 - loss 0.32105297 - time (sec): 7.69 - samples/sec: 4511.11 - lr: 0.100000 - momentum: 0.000000\n",
            "2023-12-15 20:41:10,417 epoch 15 - iter 160/167 - loss 0.32139995 - time (sec): 8.46 - samples/sec: 4553.42 - lr: 0.100000 - momentum: 0.000000\n",
            "2023-12-15 20:41:10,806 ----------------------------------------------------------------------------------------------------\n",
            "2023-12-15 20:41:10,807 EPOCH 15 done: loss 0.3194 - lr: 0.100000\n"
          ]
        },
        {
          "metadata": {
            "tags": null
          },
          "name": "stderr",
          "output_type": "stream",
          "text": [
            "100%|██████████| 9/9 [00:00<00:00, 12.32it/s]"
          ]
        },
        {
          "metadata": {
            "tags": null
          },
          "name": "stdout",
          "output_type": "stream",
          "text": [
            "2023-12-15 20:41:11,565 DEV : loss 0.29536640644073486 - f1-score (micro avg)  0.6147\n",
            "2023-12-15 20:41:11,581  - 2 epochs without improvement\n",
            "2023-12-15 20:41:11,582 ----------------------------------------------------------------------------------------------------\n"
          ]
        },
        {
          "metadata": {
            "tags": null
          },
          "name": "stderr",
          "output_type": "stream",
          "text": [
            "\n"
          ]
        },
        {
          "metadata": {
            "tags": null
          },
          "name": "stdout",
          "output_type": "stream",
          "text": [
            "2023-12-15 20:41:12,393 epoch 16 - iter 16/167 - loss 0.29575471 - time (sec): 0.81 - samples/sec: 4687.90 - lr: 0.100000 - momentum: 0.000000\n",
            "2023-12-15 20:41:13,096 epoch 16 - iter 32/167 - loss 0.29620734 - time (sec): 1.51 - samples/sec: 4940.11 - lr: 0.100000 - momentum: 0.000000\n",
            "2023-12-15 20:41:13,741 epoch 16 - iter 48/167 - loss 0.29942630 - time (sec): 2.16 - samples/sec: 5131.56 - lr: 0.100000 - momentum: 0.000000\n",
            "2023-12-15 20:41:14,870 epoch 16 - iter 64/167 - loss 0.29600610 - time (sec): 3.28 - samples/sec: 4737.03 - lr: 0.100000 - momentum: 0.000000\n",
            "2023-12-15 20:41:15,830 epoch 16 - iter 80/167 - loss 0.29802830 - time (sec): 4.24 - samples/sec: 4650.97 - lr: 0.100000 - momentum: 0.000000\n",
            "2023-12-15 20:41:16,548 epoch 16 - iter 96/167 - loss 0.30074355 - time (sec): 4.96 - samples/sec: 4748.03 - lr: 0.100000 - momentum: 0.000000\n",
            "2023-12-15 20:41:17,249 epoch 16 - iter 112/167 - loss 0.30677209 - time (sec): 5.66 - samples/sec: 4806.88 - lr: 0.100000 - momentum: 0.000000\n",
            "2023-12-15 20:41:18,013 epoch 16 - iter 128/167 - loss 0.30893734 - time (sec): 6.43 - samples/sec: 4860.82 - lr: 0.100000 - momentum: 0.000000\n",
            "2023-12-15 20:41:18,743 epoch 16 - iter 144/167 - loss 0.31035987 - time (sec): 7.16 - samples/sec: 4904.65 - lr: 0.100000 - momentum: 0.000000\n",
            "2023-12-15 20:41:19,400 epoch 16 - iter 160/167 - loss 0.31446839 - time (sec): 7.81 - samples/sec: 4943.09 - lr: 0.100000 - momentum: 0.000000\n",
            "2023-12-15 20:41:19,824 ----------------------------------------------------------------------------------------------------\n",
            "2023-12-15 20:41:19,826 EPOCH 16 done: loss 0.3146 - lr: 0.100000\n"
          ]
        },
        {
          "metadata": {
            "tags": null
          },
          "name": "stderr",
          "output_type": "stream",
          "text": [
            "100%|██████████| 9/9 [00:01<00:00,  8.04it/s]\n"
          ]
        },
        {
          "metadata": {
            "tags": null
          },
          "name": "stdout",
          "output_type": "stream",
          "text": [
            "2023-12-15 20:41:20,994 DEV : loss 0.3000204861164093 - f1-score (micro avg)  0.6139\n",
            "2023-12-15 20:41:21,020  - 3 epochs without improvement\n",
            "2023-12-15 20:41:21,024 ----------------------------------------------------------------------------------------------------\n",
            "2023-12-15 20:41:22,094 epoch 17 - iter 16/167 - loss 0.32117175 - time (sec): 1.07 - samples/sec: 3601.04 - lr: 0.100000 - momentum: 0.000000\n",
            "2023-12-15 20:41:22,729 epoch 17 - iter 32/167 - loss 0.31365342 - time (sec): 1.70 - samples/sec: 4443.72 - lr: 0.100000 - momentum: 0.000000\n",
            "2023-12-15 20:41:23,439 epoch 17 - iter 48/167 - loss 0.31747789 - time (sec): 2.41 - samples/sec: 4681.85 - lr: 0.100000 - momentum: 0.000000\n",
            "2023-12-15 20:41:24,187 epoch 17 - iter 64/167 - loss 0.32246730 - time (sec): 3.16 - samples/sec: 4778.47 - lr: 0.100000 - momentum: 0.000000\n",
            "2023-12-15 20:41:24,987 epoch 17 - iter 80/167 - loss 0.32033415 - time (sec): 3.96 - samples/sec: 4780.56 - lr: 0.100000 - momentum: 0.000000\n",
            "2023-12-15 20:41:25,705 epoch 17 - iter 96/167 - loss 0.31991602 - time (sec): 4.68 - samples/sec: 4863.53 - lr: 0.100000 - momentum: 0.000000\n",
            "2023-12-15 20:41:26,621 epoch 17 - iter 112/167 - loss 0.31690238 - time (sec): 5.60 - samples/sec: 4790.77 - lr: 0.100000 - momentum: 0.000000\n",
            "2023-12-15 20:41:27,480 epoch 17 - iter 128/167 - loss 0.31254689 - time (sec): 6.45 - samples/sec: 4777.57 - lr: 0.100000 - momentum: 0.000000\n",
            "2023-12-15 20:41:28,353 epoch 17 - iter 144/167 - loss 0.31197041 - time (sec): 7.33 - samples/sec: 4760.39 - lr: 0.100000 - momentum: 0.000000\n",
            "2023-12-15 20:41:29,095 epoch 17 - iter 160/167 - loss 0.31145118 - time (sec): 8.07 - samples/sec: 4794.01 - lr: 0.100000 - momentum: 0.000000\n",
            "2023-12-15 20:41:29,454 ----------------------------------------------------------------------------------------------------\n",
            "2023-12-15 20:41:29,455 EPOCH 17 done: loss 0.3113 - lr: 0.100000\n"
          ]
        },
        {
          "metadata": {
            "tags": null
          },
          "name": "stderr",
          "output_type": "stream",
          "text": [
            "100%|██████████| 9/9 [00:00<00:00, 12.51it/s]\n"
          ]
        },
        {
          "metadata": {
            "tags": null
          },
          "name": "stdout",
          "output_type": "stream",
          "text": [
            "2023-12-15 20:41:30,207 DEV : loss 0.2939640283584595 - f1-score (micro avg)  0.652\n",
            "2023-12-15 20:41:30,225  - 0 epochs without improvement\n",
            "2023-12-15 20:41:30,227 saving best model\n",
            "2023-12-15 20:41:31,007 ----------------------------------------------------------------------------------------------------\n",
            "2023-12-15 20:41:31,828 epoch 18 - iter 16/167 - loss 0.34533261 - time (sec): 0.82 - samples/sec: 4649.23 - lr: 0.100000 - momentum: 0.000000\n",
            "2023-12-15 20:41:33,209 epoch 18 - iter 32/167 - loss 0.31181360 - time (sec): 2.20 - samples/sec: 3723.85 - lr: 0.100000 - momentum: 0.000000\n",
            "2023-12-15 20:41:34,261 epoch 18 - iter 48/167 - loss 0.30944667 - time (sec): 3.25 - samples/sec: 3652.65 - lr: 0.100000 - momentum: 0.000000\n",
            "2023-12-15 20:41:35,140 epoch 18 - iter 64/167 - loss 0.30714265 - time (sec): 4.13 - samples/sec: 3787.85 - lr: 0.100000 - momentum: 0.000000\n",
            "2023-12-15 20:41:35,980 epoch 18 - iter 80/167 - loss 0.31177376 - time (sec): 4.97 - samples/sec: 3940.55 - lr: 0.100000 - momentum: 0.000000\n",
            "2023-12-15 20:41:36,675 epoch 18 - iter 96/167 - loss 0.31064893 - time (sec): 5.66 - samples/sec: 4104.89 - lr: 0.100000 - momentum: 0.000000\n",
            "2023-12-15 20:41:37,417 epoch 18 - iter 112/167 - loss 0.31182547 - time (sec): 6.41 - samples/sec: 4243.81 - lr: 0.100000 - momentum: 0.000000\n",
            "2023-12-15 20:41:38,166 epoch 18 - iter 128/167 - loss 0.31199193 - time (sec): 7.16 - samples/sec: 4332.52 - lr: 0.100000 - momentum: 0.000000\n",
            "2023-12-15 20:41:38,962 epoch 18 - iter 144/167 - loss 0.30839305 - time (sec): 7.95 - samples/sec: 4394.42 - lr: 0.100000 - momentum: 0.000000\n",
            "2023-12-15 20:41:39,724 epoch 18 - iter 160/167 - loss 0.30753450 - time (sec): 8.71 - samples/sec: 4448.94 - lr: 0.100000 - momentum: 0.000000\n",
            "2023-12-15 20:41:40,042 ----------------------------------------------------------------------------------------------------\n",
            "2023-12-15 20:41:40,044 EPOCH 18 done: loss 0.3094 - lr: 0.100000\n"
          ]
        },
        {
          "metadata": {
            "tags": null
          },
          "name": "stderr",
          "output_type": "stream",
          "text": [
            "100%|██████████| 9/9 [00:00<00:00, 12.68it/s]"
          ]
        },
        {
          "metadata": {
            "tags": null
          },
          "name": "stdout",
          "output_type": "stream",
          "text": [
            "2023-12-15 20:41:40,782 DEV : loss 0.2851259410381317 - f1-score (micro avg)  0.6027\n",
            "2023-12-15 20:41:40,801  - 1 epochs without improvement\n",
            "2023-12-15 20:41:40,803 ----------------------------------------------------------------------------------------------------\n"
          ]
        },
        {
          "metadata": {
            "tags": null
          },
          "name": "stderr",
          "output_type": "stream",
          "text": [
            "\n"
          ]
        },
        {
          "metadata": {
            "tags": null
          },
          "name": "stdout",
          "output_type": "stream",
          "text": [
            "2023-12-15 20:41:41,530 epoch 19 - iter 16/167 - loss 0.30046858 - time (sec): 0.72 - samples/sec: 5366.59 - lr: 0.100000 - momentum: 0.000000\n",
            "2023-12-15 20:41:42,187 epoch 19 - iter 32/167 - loss 0.32241034 - time (sec): 1.38 - samples/sec: 5468.95 - lr: 0.100000 - momentum: 0.000000\n",
            "2023-12-15 20:41:42,906 epoch 19 - iter 48/167 - loss 0.33245601 - time (sec): 2.10 - samples/sec: 5433.56 - lr: 0.100000 - momentum: 0.000000\n",
            "2023-12-15 20:41:43,913 epoch 19 - iter 64/167 - loss 0.32418974 - time (sec): 3.11 - samples/sec: 5035.46 - lr: 0.100000 - momentum: 0.000000\n",
            "2023-12-15 20:41:44,731 epoch 19 - iter 80/167 - loss 0.32393327 - time (sec): 3.93 - samples/sec: 4962.12 - lr: 0.100000 - momentum: 0.000000\n",
            "2023-12-15 20:41:45,889 epoch 19 - iter 96/167 - loss 0.32369448 - time (sec): 5.08 - samples/sec: 4571.32 - lr: 0.100000 - momentum: 0.000000\n",
            "2023-12-15 20:41:46,769 epoch 19 - iter 112/167 - loss 0.32047895 - time (sec): 5.96 - samples/sec: 4498.42 - lr: 0.100000 - momentum: 0.000000\n",
            "2023-12-15 20:41:47,662 epoch 19 - iter 128/167 - loss 0.31610592 - time (sec): 6.86 - samples/sec: 4458.10 - lr: 0.100000 - momentum: 0.000000\n",
            "2023-12-15 20:41:48,453 epoch 19 - iter 144/167 - loss 0.31210510 - time (sec): 7.65 - samples/sec: 4516.86 - lr: 0.100000 - momentum: 0.000000\n",
            "2023-12-15 20:41:49,206 epoch 19 - iter 160/167 - loss 0.30952735 - time (sec): 8.40 - samples/sec: 4566.97 - lr: 0.100000 - momentum: 0.000000\n",
            "2023-12-15 20:41:49,603 ----------------------------------------------------------------------------------------------------\n",
            "2023-12-15 20:41:49,604 EPOCH 19 done: loss 0.3072 - lr: 0.100000\n"
          ]
        },
        {
          "metadata": {
            "tags": null
          },
          "name": "stderr",
          "output_type": "stream",
          "text": [
            "100%|██████████| 9/9 [00:00<00:00, 12.44it/s]\n"
          ]
        },
        {
          "metadata": {
            "tags": null
          },
          "name": "stdout",
          "output_type": "stream",
          "text": [
            "2023-12-15 20:41:50,357 DEV : loss 0.2761172950267792 - f1-score (micro avg)  0.6171\n",
            "2023-12-15 20:41:50,372  - 2 epochs without improvement\n",
            "2023-12-15 20:41:50,374 ----------------------------------------------------------------------------------------------------\n",
            "2023-12-15 20:41:51,049 epoch 20 - iter 16/167 - loss 0.31504831 - time (sec): 0.67 - samples/sec: 5470.30 - lr: 0.100000 - momentum: 0.000000\n",
            "2023-12-15 20:41:51,917 epoch 20 - iter 32/167 - loss 0.30682079 - time (sec): 1.54 - samples/sec: 5005.26 - lr: 0.100000 - momentum: 0.000000\n",
            "2023-12-15 20:41:52,687 epoch 20 - iter 48/167 - loss 0.30573386 - time (sec): 2.31 - samples/sec: 5098.79 - lr: 0.100000 - momentum: 0.000000\n",
            "2023-12-15 20:41:53,535 epoch 20 - iter 64/167 - loss 0.30196022 - time (sec): 3.16 - samples/sec: 4984.50 - lr: 0.100000 - momentum: 0.000000\n",
            "2023-12-15 20:41:54,360 epoch 20 - iter 80/167 - loss 0.30177073 - time (sec): 3.98 - samples/sec: 4961.79 - lr: 0.100000 - momentum: 0.000000\n",
            "2023-12-15 20:41:55,185 epoch 20 - iter 96/167 - loss 0.30397091 - time (sec): 4.81 - samples/sec: 4890.37 - lr: 0.100000 - momentum: 0.000000\n",
            "2023-12-15 20:41:56,002 epoch 20 - iter 112/167 - loss 0.30120405 - time (sec): 5.63 - samples/sec: 4881.20 - lr: 0.100000 - momentum: 0.000000\n",
            "2023-12-15 20:41:56,741 epoch 20 - iter 128/167 - loss 0.30156096 - time (sec): 6.36 - samples/sec: 4876.52 - lr: 0.100000 - momentum: 0.000000\n",
            "2023-12-15 20:41:57,536 epoch 20 - iter 144/167 - loss 0.30588069 - time (sec): 7.16 - samples/sec: 4863.72 - lr: 0.100000 - momentum: 0.000000\n",
            "2023-12-15 20:41:58,636 epoch 20 - iter 160/167 - loss 0.30282694 - time (sec): 8.26 - samples/sec: 4697.98 - lr: 0.100000 - momentum: 0.000000\n",
            "2023-12-15 20:41:59,005 ----------------------------------------------------------------------------------------------------\n",
            "2023-12-15 20:41:59,007 EPOCH 20 done: loss 0.3033 - lr: 0.100000\n"
          ]
        },
        {
          "metadata": {
            "tags": null
          },
          "name": "stderr",
          "output_type": "stream",
          "text": [
            "100%|██████████| 9/9 [00:01<00:00,  8.27it/s]"
          ]
        },
        {
          "metadata": {
            "tags": null
          },
          "name": "stdout",
          "output_type": "stream",
          "text": [
            "2023-12-15 20:42:00,127 DEV : loss 0.27559465169906616 - f1-score (micro avg)  0.6408\n",
            "2023-12-15 20:42:00,142  - 3 epochs without improvement\n",
            "2023-12-15 20:42:00,143 ----------------------------------------------------------------------------------------------------\n"
          ]
        },
        {
          "metadata": {
            "tags": null
          },
          "name": "stderr",
          "output_type": "stream",
          "text": [
            "\n"
          ]
        },
        {
          "metadata": {
            "tags": null
          },
          "name": "stdout",
          "output_type": "stream",
          "text": [
            "2023-12-15 20:42:00,938 epoch 21 - iter 16/167 - loss 0.31846360 - time (sec): 0.79 - samples/sec: 4793.92 - lr: 0.100000 - momentum: 0.000000\n",
            "2023-12-15 20:42:01,616 epoch 21 - iter 32/167 - loss 0.31583571 - time (sec): 1.47 - samples/sec: 5074.87 - lr: 0.100000 - momentum: 0.000000\n",
            "2023-12-15 20:42:02,590 epoch 21 - iter 48/167 - loss 0.31237007 - time (sec): 2.44 - samples/sec: 4664.86 - lr: 0.100000 - momentum: 0.000000\n",
            "2023-12-15 20:42:03,380 epoch 21 - iter 64/167 - loss 0.31054714 - time (sec): 3.23 - samples/sec: 4709.52 - lr: 0.100000 - momentum: 0.000000\n",
            "2023-12-15 20:42:04,054 epoch 21 - iter 80/167 - loss 0.30559754 - time (sec): 3.91 - samples/sec: 4867.41 - lr: 0.100000 - momentum: 0.000000\n",
            "2023-12-15 20:42:04,749 epoch 21 - iter 96/167 - loss 0.31004080 - time (sec): 4.60 - samples/sec: 4963.12 - lr: 0.100000 - momentum: 0.000000\n",
            "2023-12-15 20:42:05,570 epoch 21 - iter 112/167 - loss 0.30269278 - time (sec): 5.42 - samples/sec: 4922.37 - lr: 0.100000 - momentum: 0.000000\n",
            "2023-12-15 20:42:06,276 epoch 21 - iter 128/167 - loss 0.30579338 - time (sec): 6.13 - samples/sec: 4954.90 - lr: 0.100000 - momentum: 0.000000\n",
            "2023-12-15 20:42:07,208 epoch 21 - iter 144/167 - loss 0.30006894 - time (sec): 7.06 - samples/sec: 4916.76 - lr: 0.100000 - momentum: 0.000000\n",
            "2023-12-15 20:42:07,975 epoch 21 - iter 160/167 - loss 0.30240902 - time (sec): 7.83 - samples/sec: 4936.17 - lr: 0.100000 - momentum: 0.000000\n",
            "2023-12-15 20:42:08,252 ----------------------------------------------------------------------------------------------------\n",
            "2023-12-15 20:42:08,254 EPOCH 21 done: loss 0.3029 - lr: 0.100000\n"
          ]
        },
        {
          "metadata": {
            "tags": null
          },
          "name": "stderr",
          "output_type": "stream",
          "text": [
            "100%|██████████| 9/9 [00:00<00:00, 12.26it/s]"
          ]
        },
        {
          "metadata": {
            "tags": null
          },
          "name": "stdout",
          "output_type": "stream",
          "text": [
            "2023-12-15 20:42:09,015 DEV : loss 0.293910413980484 - f1-score (micro avg)  0.6313\n",
            "2023-12-15 20:42:09,030  - 4 epochs without improvement (above 'patience')-> annealing learning_rate to [0.08000000000000002]\n",
            "2023-12-15 20:42:09,032 ----------------------------------------------------------------------------------------------------\n"
          ]
        },
        {
          "metadata": {
            "tags": null
          },
          "name": "stderr",
          "output_type": "stream",
          "text": [
            "\n"
          ]
        },
        {
          "metadata": {
            "tags": null
          },
          "name": "stdout",
          "output_type": "stream",
          "text": [
            "2023-12-15 20:42:09,929 epoch 22 - iter 16/167 - loss 0.28562385 - time (sec): 0.89 - samples/sec: 4543.15 - lr: 0.080000 - momentum: 0.000000\n",
            "2023-12-15 20:42:10,940 epoch 22 - iter 32/167 - loss 0.28364339 - time (sec): 1.91 - samples/sec: 4093.90 - lr: 0.080000 - momentum: 0.000000\n",
            "2023-12-15 20:42:11,906 epoch 22 - iter 48/167 - loss 0.28636703 - time (sec): 2.87 - samples/sec: 4000.97 - lr: 0.080000 - momentum: 0.000000\n",
            "2023-12-15 20:42:12,952 epoch 22 - iter 64/167 - loss 0.28322203 - time (sec): 3.92 - samples/sec: 3926.14 - lr: 0.080000 - momentum: 0.000000\n",
            "2023-12-15 20:42:13,724 epoch 22 - iter 80/167 - loss 0.28299362 - time (sec): 4.69 - samples/sec: 4106.15 - lr: 0.080000 - momentum: 0.000000\n",
            "2023-12-15 20:42:14,673 epoch 22 - iter 96/167 - loss 0.27746029 - time (sec): 5.64 - samples/sec: 4157.33 - lr: 0.080000 - momentum: 0.000000\n",
            "2023-12-15 20:42:15,516 epoch 22 - iter 112/167 - loss 0.27612826 - time (sec): 6.48 - samples/sec: 4232.33 - lr: 0.080000 - momentum: 0.000000\n",
            "2023-12-15 20:42:16,244 epoch 22 - iter 128/167 - loss 0.27888426 - time (sec): 7.21 - samples/sec: 4324.61 - lr: 0.080000 - momentum: 0.000000\n",
            "2023-12-15 20:42:17,006 epoch 22 - iter 144/167 - loss 0.28184318 - time (sec): 7.97 - samples/sec: 4387.79 - lr: 0.080000 - momentum: 0.000000\n",
            "2023-12-15 20:42:17,616 epoch 22 - iter 160/167 - loss 0.28353615 - time (sec): 8.58 - samples/sec: 4509.30 - lr: 0.080000 - momentum: 0.000000\n",
            "2023-12-15 20:42:17,939 ----------------------------------------------------------------------------------------------------\n",
            "2023-12-15 20:42:17,941 EPOCH 22 done: loss 0.2838 - lr: 0.080000\n"
          ]
        },
        {
          "metadata": {
            "tags": null
          },
          "name": "stderr",
          "output_type": "stream",
          "text": [
            "100%|██████████| 9/9 [00:00<00:00, 12.68it/s]\n"
          ]
        },
        {
          "metadata": {
            "tags": null
          },
          "name": "stdout",
          "output_type": "stream",
          "text": [
            "2023-12-15 20:42:18,681 DEV : loss 0.2576671838760376 - f1-score (micro avg)  0.6692\n",
            "2023-12-15 20:42:18,698  - 0 epochs without improvement\n",
            "2023-12-15 20:42:18,699 saving best model\n",
            "2023-12-15 20:42:19,469 ----------------------------------------------------------------------------------------------------\n",
            "2023-12-15 20:42:20,385 epoch 23 - iter 16/167 - loss 0.28156285 - time (sec): 0.91 - samples/sec: 4228.82 - lr: 0.080000 - momentum: 0.000000\n",
            "2023-12-15 20:42:21,235 epoch 23 - iter 32/167 - loss 0.27592736 - time (sec): 1.76 - samples/sec: 4427.14 - lr: 0.080000 - momentum: 0.000000\n",
            "2023-12-15 20:42:22,285 epoch 23 - iter 48/167 - loss 0.27353126 - time (sec): 2.81 - samples/sec: 4160.07 - lr: 0.080000 - momentum: 0.000000\n",
            "2023-12-15 20:42:23,561 epoch 23 - iter 64/167 - loss 0.27091456 - time (sec): 4.09 - samples/sec: 3812.62 - lr: 0.080000 - momentum: 0.000000\n",
            "2023-12-15 20:42:24,798 epoch 23 - iter 80/167 - loss 0.27776172 - time (sec): 5.32 - samples/sec: 3642.34 - lr: 0.080000 - momentum: 0.000000\n",
            "2023-12-15 20:42:25,916 epoch 23 - iter 96/167 - loss 0.28171984 - time (sec): 6.44 - samples/sec: 3579.35 - lr: 0.080000 - momentum: 0.000000\n",
            "2023-12-15 20:42:27,190 epoch 23 - iter 112/167 - loss 0.27861923 - time (sec): 7.72 - samples/sec: 3501.55 - lr: 0.080000 - momentum: 0.000000\n",
            "2023-12-15 20:42:27,871 epoch 23 - iter 128/167 - loss 0.28013107 - time (sec): 8.40 - samples/sec: 3643.36 - lr: 0.080000 - momentum: 0.000000\n",
            "2023-12-15 20:42:28,700 epoch 23 - iter 144/167 - loss 0.27962341 - time (sec): 9.23 - samples/sec: 3745.38 - lr: 0.080000 - momentum: 0.000000\n",
            "2023-12-15 20:42:29,434 epoch 23 - iter 160/167 - loss 0.28014635 - time (sec): 9.96 - samples/sec: 3860.42 - lr: 0.080000 - momentum: 0.000000\n",
            "2023-12-15 20:42:29,774 ----------------------------------------------------------------------------------------------------\n",
            "2023-12-15 20:42:29,775 EPOCH 23 done: loss 0.2796 - lr: 0.080000\n"
          ]
        },
        {
          "metadata": {
            "tags": null
          },
          "name": "stderr",
          "output_type": "stream",
          "text": [
            "100%|██████████| 9/9 [00:00<00:00, 12.32it/s]"
          ]
        },
        {
          "metadata": {
            "tags": null
          },
          "name": "stdout",
          "output_type": "stream",
          "text": [
            "2023-12-15 20:42:30,538 DEV : loss 0.25588834285736084 - f1-score (micro avg)  0.6561\n",
            "2023-12-15 20:42:30,555  - 1 epochs without improvement\n",
            "2023-12-15 20:42:30,557 ----------------------------------------------------------------------------------------------------\n"
          ]
        },
        {
          "metadata": {
            "tags": null
          },
          "name": "stderr",
          "output_type": "stream",
          "text": [
            "\n"
          ]
        },
        {
          "metadata": {
            "tags": null
          },
          "name": "stdout",
          "output_type": "stream",
          "text": [
            "2023-12-15 20:42:31,560 epoch 24 - iter 16/167 - loss 0.24846913 - time (sec): 1.00 - samples/sec: 4022.66 - lr: 0.080000 - momentum: 0.000000\n",
            "2023-12-15 20:42:32,223 epoch 24 - iter 32/167 - loss 0.26864563 - time (sec): 1.66 - samples/sec: 4596.71 - lr: 0.080000 - momentum: 0.000000\n",
            "2023-12-15 20:42:32,876 epoch 24 - iter 48/167 - loss 0.27173691 - time (sec): 2.32 - samples/sec: 4877.24 - lr: 0.080000 - momentum: 0.000000\n",
            "2023-12-15 20:42:33,489 epoch 24 - iter 64/167 - loss 0.27614076 - time (sec): 2.93 - samples/sec: 5054.34 - lr: 0.080000 - momentum: 0.000000\n",
            "2023-12-15 20:42:34,217 epoch 24 - iter 80/167 - loss 0.27422852 - time (sec): 3.66 - samples/sec: 5153.69 - lr: 0.080000 - momentum: 0.000000\n",
            "2023-12-15 20:42:34,946 epoch 24 - iter 96/167 - loss 0.27752831 - time (sec): 4.39 - samples/sec: 5194.86 - lr: 0.080000 - momentum: 0.000000\n",
            "2023-12-15 20:42:35,890 epoch 24 - iter 112/167 - loss 0.27822337 - time (sec): 5.33 - samples/sec: 5039.31 - lr: 0.080000 - momentum: 0.000000\n",
            "2023-12-15 20:42:36,736 epoch 24 - iter 128/167 - loss 0.27935542 - time (sec): 6.18 - samples/sec: 5023.63 - lr: 0.080000 - momentum: 0.000000\n",
            "2023-12-15 20:42:37,932 epoch 24 - iter 144/167 - loss 0.27807093 - time (sec): 7.37 - samples/sec: 4754.89 - lr: 0.080000 - momentum: 0.000000\n",
            "2023-12-15 20:42:38,961 epoch 24 - iter 160/167 - loss 0.27899523 - time (sec): 8.40 - samples/sec: 4598.19 - lr: 0.080000 - momentum: 0.000000\n",
            "2023-12-15 20:42:39,451 ----------------------------------------------------------------------------------------------------\n",
            "2023-12-15 20:42:39,453 EPOCH 24 done: loss 0.2783 - lr: 0.080000\n"
          ]
        },
        {
          "metadata": {
            "tags": null
          },
          "name": "stderr",
          "output_type": "stream",
          "text": [
            "100%|██████████| 9/9 [00:00<00:00, 12.49it/s]"
          ]
        },
        {
          "metadata": {
            "tags": null
          },
          "name": "stdout",
          "output_type": "stream",
          "text": [
            "2023-12-15 20:42:40,200 DEV : loss 0.26047077775001526 - f1-score (micro avg)  0.6533\n",
            "2023-12-15 20:42:40,217  - 2 epochs without improvement\n",
            "2023-12-15 20:42:40,219 ----------------------------------------------------------------------------------------------------\n"
          ]
        },
        {
          "metadata": {
            "tags": null
          },
          "name": "stderr",
          "output_type": "stream",
          "text": [
            "\n"
          ]
        },
        {
          "metadata": {
            "tags": null
          },
          "name": "stdout",
          "output_type": "stream",
          "text": [
            "2023-12-15 20:42:40,901 epoch 25 - iter 16/167 - loss 0.29704676 - time (sec): 0.68 - samples/sec: 5227.43 - lr: 0.080000 - momentum: 0.000000\n",
            "2023-12-15 20:42:41,663 epoch 25 - iter 32/167 - loss 0.27956306 - time (sec): 1.44 - samples/sec: 5108.89 - lr: 0.080000 - momentum: 0.000000\n",
            "2023-12-15 20:42:42,528 epoch 25 - iter 48/167 - loss 0.26975652 - time (sec): 2.31 - samples/sec: 4925.09 - lr: 0.080000 - momentum: 0.000000\n",
            "2023-12-15 20:42:43,248 epoch 25 - iter 64/167 - loss 0.27599668 - time (sec): 3.03 - samples/sec: 4930.42 - lr: 0.080000 - momentum: 0.000000\n",
            "2023-12-15 20:42:43,951 epoch 25 - iter 80/167 - loss 0.27725898 - time (sec): 3.73 - samples/sec: 5058.19 - lr: 0.080000 - momentum: 0.000000\n",
            "2023-12-15 20:42:44,619 epoch 25 - iter 96/167 - loss 0.28177375 - time (sec): 4.40 - samples/sec: 5133.61 - lr: 0.080000 - momentum: 0.000000\n",
            "2023-12-15 20:42:45,440 epoch 25 - iter 112/167 - loss 0.27915278 - time (sec): 5.22 - samples/sec: 5082.34 - lr: 0.080000 - momentum: 0.000000\n",
            "2023-12-15 20:42:46,131 epoch 25 - iter 128/167 - loss 0.27878671 - time (sec): 5.91 - samples/sec: 5131.94 - lr: 0.080000 - momentum: 0.000000\n",
            "2023-12-15 20:42:46,944 epoch 25 - iter 144/167 - loss 0.27690662 - time (sec): 6.72 - samples/sec: 5110.93 - lr: 0.080000 - momentum: 0.000000\n",
            "2023-12-15 20:42:47,923 epoch 25 - iter 160/167 - loss 0.27490944 - time (sec): 7.70 - samples/sec: 4997.30 - lr: 0.080000 - momentum: 0.000000\n",
            "2023-12-15 20:42:48,316 ----------------------------------------------------------------------------------------------------\n",
            "2023-12-15 20:42:48,318 EPOCH 25 done: loss 0.2738 - lr: 0.080000\n"
          ]
        },
        {
          "metadata": {
            "tags": null
          },
          "name": "stderr",
          "output_type": "stream",
          "text": [
            "100%|██████████| 9/9 [00:00<00:00, 12.18it/s]"
          ]
        },
        {
          "metadata": {
            "tags": null
          },
          "name": "stdout",
          "output_type": "stream",
          "text": [
            "2023-12-15 20:42:49,085 DEV : loss 0.2419538050889969 - f1-score (micro avg)  0.6692\n",
            "2023-12-15 20:42:49,103  - 3 epochs without improvement\n",
            "2023-12-15 20:42:49,105 ----------------------------------------------------------------------------------------------------\n"
          ]
        },
        {
          "metadata": {
            "tags": null
          },
          "name": "stderr",
          "output_type": "stream",
          "text": [
            "\n"
          ]
        },
        {
          "metadata": {
            "tags": null
          },
          "name": "stdout",
          "output_type": "stream",
          "text": [
            "2023-12-15 20:42:49,959 epoch 26 - iter 16/167 - loss 0.30337254 - time (sec): 0.85 - samples/sec: 4403.74 - lr: 0.080000 - momentum: 0.000000\n",
            "2023-12-15 20:42:51,143 epoch 26 - iter 32/167 - loss 0.28635596 - time (sec): 2.04 - samples/sec: 3752.84 - lr: 0.080000 - momentum: 0.000000\n",
            "2023-12-15 20:42:52,145 epoch 26 - iter 48/167 - loss 0.28601838 - time (sec): 3.04 - samples/sec: 3696.81 - lr: 0.080000 - momentum: 0.000000\n",
            "2023-12-15 20:42:52,846 epoch 26 - iter 64/167 - loss 0.28640900 - time (sec): 3.74 - samples/sec: 3996.13 - lr: 0.080000 - momentum: 0.000000\n",
            "2023-12-15 20:42:53,664 epoch 26 - iter 80/167 - loss 0.28012523 - time (sec): 4.56 - samples/sec: 4152.72 - lr: 0.080000 - momentum: 0.000000\n",
            "2023-12-15 20:42:54,785 epoch 26 - iter 96/167 - loss 0.27754536 - time (sec): 5.68 - samples/sec: 4112.36 - lr: 0.080000 - momentum: 0.000000\n",
            "2023-12-15 20:42:55,583 epoch 26 - iter 112/167 - loss 0.27670298 - time (sec): 6.48 - samples/sec: 4204.35 - lr: 0.080000 - momentum: 0.000000\n",
            "2023-12-15 20:42:56,370 epoch 26 - iter 128/167 - loss 0.27694483 - time (sec): 7.26 - samples/sec: 4261.20 - lr: 0.080000 - momentum: 0.000000\n",
            "2023-12-15 20:42:57,114 epoch 26 - iter 144/167 - loss 0.27602349 - time (sec): 8.01 - samples/sec: 4343.72 - lr: 0.080000 - momentum: 0.000000\n",
            "2023-12-15 20:42:57,755 epoch 26 - iter 160/167 - loss 0.27587790 - time (sec): 8.65 - samples/sec: 4452.04 - lr: 0.080000 - momentum: 0.000000\n",
            "2023-12-15 20:42:58,124 ----------------------------------------------------------------------------------------------------\n",
            "2023-12-15 20:42:58,125 EPOCH 26 done: loss 0.2754 - lr: 0.080000\n"
          ]
        },
        {
          "metadata": {
            "tags": null
          },
          "name": "stderr",
          "output_type": "stream",
          "text": [
            "100%|██████████| 9/9 [00:00<00:00, 12.23it/s]"
          ]
        },
        {
          "metadata": {
            "tags": null
          },
          "name": "stdout",
          "output_type": "stream",
          "text": [
            "2023-12-15 20:42:58,900 DEV : loss 0.3228808641433716 - f1-score (micro avg)  0.567\n",
            "2023-12-15 20:42:58,916  - 4 epochs without improvement (above 'patience')-> annealing learning_rate to [0.06400000000000002]\n",
            "2023-12-15 20:42:58,917 ----------------------------------------------------------------------------------------------------\n"
          ]
        },
        {
          "metadata": {
            "tags": null
          },
          "name": "stderr",
          "output_type": "stream",
          "text": [
            "\n"
          ]
        },
        {
          "metadata": {
            "tags": null
          },
          "name": "stdout",
          "output_type": "stream",
          "text": [
            "2023-12-15 20:42:59,749 epoch 27 - iter 16/167 - loss 0.29023221 - time (sec): 0.83 - samples/sec: 4623.07 - lr: 0.064000 - momentum: 0.000000\n",
            "2023-12-15 20:43:00,407 epoch 27 - iter 32/167 - loss 0.27822566 - time (sec): 1.49 - samples/sec: 5079.53 - lr: 0.064000 - momentum: 0.000000\n",
            "2023-12-15 20:43:01,168 epoch 27 - iter 48/167 - loss 0.26553019 - time (sec): 2.25 - samples/sec: 5073.20 - lr: 0.064000 - momentum: 0.000000\n",
            "2023-12-15 20:43:01,991 epoch 27 - iter 64/167 - loss 0.27062811 - time (sec): 3.07 - samples/sec: 4968.18 - lr: 0.064000 - momentum: 0.000000\n",
            "2023-12-15 20:43:03,083 epoch 27 - iter 80/167 - loss 0.27092513 - time (sec): 4.16 - samples/sec: 4645.66 - lr: 0.064000 - momentum: 0.000000\n",
            "2023-12-15 20:43:04,376 epoch 27 - iter 96/167 - loss 0.26842413 - time (sec): 5.46 - samples/sec: 4266.07 - lr: 0.064000 - momentum: 0.000000\n",
            "2023-12-15 20:43:05,223 epoch 27 - iter 112/167 - loss 0.26854138 - time (sec): 6.30 - samples/sec: 4270.29 - lr: 0.064000 - momentum: 0.000000\n",
            "2023-12-15 20:43:05,934 epoch 27 - iter 128/167 - loss 0.26704435 - time (sec): 7.01 - samples/sec: 4373.84 - lr: 0.064000 - momentum: 0.000000\n",
            "2023-12-15 20:43:06,689 epoch 27 - iter 144/167 - loss 0.26713034 - time (sec): 7.77 - samples/sec: 4461.83 - lr: 0.064000 - momentum: 0.000000\n",
            "2023-12-15 20:43:07,558 epoch 27 - iter 160/167 - loss 0.26678917 - time (sec): 8.64 - samples/sec: 4471.76 - lr: 0.064000 - momentum: 0.000000\n",
            "2023-12-15 20:43:07,849 ----------------------------------------------------------------------------------------------------\n",
            "2023-12-15 20:43:07,851 EPOCH 27 done: loss 0.2672 - lr: 0.064000\n"
          ]
        },
        {
          "metadata": {
            "tags": null
          },
          "name": "stderr",
          "output_type": "stream",
          "text": [
            "100%|██████████| 9/9 [00:00<00:00, 12.45it/s]"
          ]
        },
        {
          "metadata": {
            "tags": null
          },
          "name": "stdout",
          "output_type": "stream",
          "text": [
            "2023-12-15 20:43:08,601 DEV : loss 0.2432195395231247 - f1-score (micro avg)  0.6787\n",
            "2023-12-15 20:43:08,617  - 0 epochs without improvement\n",
            "2023-12-15 20:43:08,618 saving best model\n"
          ]
        },
        {
          "metadata": {
            "tags": null
          },
          "name": "stderr",
          "output_type": "stream",
          "text": [
            "\n"
          ]
        },
        {
          "metadata": {
            "tags": null
          },
          "name": "stdout",
          "output_type": "stream",
          "text": [
            "2023-12-15 20:43:09,412 ----------------------------------------------------------------------------------------------------\n",
            "2023-12-15 20:43:10,414 epoch 28 - iter 16/167 - loss 0.25651138 - time (sec): 0.99 - samples/sec: 4076.95 - lr: 0.064000 - momentum: 0.000000\n",
            "2023-12-15 20:43:11,101 epoch 28 - iter 32/167 - loss 0.26225687 - time (sec): 1.68 - samples/sec: 4550.99 - lr: 0.064000 - momentum: 0.000000\n",
            "2023-12-15 20:43:12,105 epoch 28 - iter 48/167 - loss 0.25385196 - time (sec): 2.69 - samples/sec: 4386.21 - lr: 0.064000 - momentum: 0.000000\n",
            "2023-12-15 20:43:12,752 epoch 28 - iter 64/167 - loss 0.26127504 - time (sec): 3.33 - samples/sec: 4614.75 - lr: 0.064000 - momentum: 0.000000\n",
            "2023-12-15 20:43:13,596 epoch 28 - iter 80/167 - loss 0.25801421 - time (sec): 4.18 - samples/sec: 4665.47 - lr: 0.064000 - momentum: 0.000000\n",
            "2023-12-15 20:43:14,310 epoch 28 - iter 96/167 - loss 0.26231028 - time (sec): 4.89 - samples/sec: 4760.35 - lr: 0.064000 - momentum: 0.000000\n",
            "2023-12-15 20:43:15,274 epoch 28 - iter 112/167 - loss 0.26441405 - time (sec): 5.85 - samples/sec: 4632.50 - lr: 0.064000 - momentum: 0.000000\n",
            "2023-12-15 20:43:16,268 epoch 28 - iter 128/167 - loss 0.26491003 - time (sec): 6.85 - samples/sec: 4534.73 - lr: 0.064000 - momentum: 0.000000\n",
            "2023-12-15 20:43:17,422 epoch 28 - iter 144/167 - loss 0.26203061 - time (sec): 8.00 - samples/sec: 4377.42 - lr: 0.064000 - momentum: 0.000000\n",
            "2023-12-15 20:43:18,037 epoch 28 - iter 160/167 - loss 0.26335717 - time (sec): 8.62 - samples/sec: 4492.32 - lr: 0.064000 - momentum: 0.000000\n",
            "2023-12-15 20:43:18,285 ----------------------------------------------------------------------------------------------------\n",
            "2023-12-15 20:43:18,286 EPOCH 28 done: loss 0.2650 - lr: 0.064000\n"
          ]
        },
        {
          "metadata": {
            "tags": null
          },
          "name": "stderr",
          "output_type": "stream",
          "text": [
            "100%|██████████| 9/9 [00:00<00:00, 12.40it/s]"
          ]
        },
        {
          "metadata": {
            "tags": null
          },
          "name": "stdout",
          "output_type": "stream",
          "text": [
            "2023-12-15 20:43:19,041 DEV : loss 0.22948583960533142 - f1-score (micro avg)  0.6703\n",
            "2023-12-15 20:43:19,058  - 1 epochs without improvement\n",
            "2023-12-15 20:43:19,059 ----------------------------------------------------------------------------------------------------\n"
          ]
        },
        {
          "metadata": {
            "tags": null
          },
          "name": "stderr",
          "output_type": "stream",
          "text": [
            "\n"
          ]
        },
        {
          "metadata": {
            "tags": null
          },
          "name": "stdout",
          "output_type": "stream",
          "text": [
            "2023-12-15 20:43:19,868 epoch 29 - iter 16/167 - loss 0.26318490 - time (sec): 0.81 - samples/sec: 4682.00 - lr: 0.064000 - momentum: 0.000000\n",
            "2023-12-15 20:43:20,671 epoch 29 - iter 32/167 - loss 0.26203662 - time (sec): 1.61 - samples/sec: 4866.25 - lr: 0.064000 - momentum: 0.000000\n",
            "2023-12-15 20:43:21,441 epoch 29 - iter 48/167 - loss 0.25179264 - time (sec): 2.38 - samples/sec: 4910.22 - lr: 0.064000 - momentum: 0.000000\n",
            "2023-12-15 20:43:22,184 epoch 29 - iter 64/167 - loss 0.25579898 - time (sec): 3.12 - samples/sec: 5003.74 - lr: 0.064000 - momentum: 0.000000\n",
            "2023-12-15 20:43:23,019 epoch 29 - iter 80/167 - loss 0.25487567 - time (sec): 3.96 - samples/sec: 4923.65 - lr: 0.064000 - momentum: 0.000000\n",
            "2023-12-15 20:43:23,856 epoch 29 - iter 96/167 - loss 0.25420896 - time (sec): 4.79 - samples/sec: 4881.23 - lr: 0.064000 - momentum: 0.000000\n",
            "2023-12-15 20:43:24,673 epoch 29 - iter 112/167 - loss 0.25314582 - time (sec): 5.61 - samples/sec: 4865.67 - lr: 0.064000 - momentum: 0.000000\n",
            "2023-12-15 20:43:25,493 epoch 29 - iter 128/167 - loss 0.25327706 - time (sec): 6.43 - samples/sec: 4858.66 - lr: 0.064000 - momentum: 0.000000\n",
            "2023-12-15 20:43:26,262 epoch 29 - iter 144/167 - loss 0.25331322 - time (sec): 7.20 - samples/sec: 4896.81 - lr: 0.064000 - momentum: 0.000000\n",
            "2023-12-15 20:43:26,972 epoch 29 - iter 160/167 - loss 0.25889536 - time (sec): 7.91 - samples/sec: 4903.40 - lr: 0.064000 - momentum: 0.000000\n",
            "2023-12-15 20:43:27,273 ----------------------------------------------------------------------------------------------------\n",
            "2023-12-15 20:43:27,274 EPOCH 29 done: loss 0.2605 - lr: 0.064000\n"
          ]
        },
        {
          "metadata": {
            "tags": null
          },
          "name": "stderr",
          "output_type": "stream",
          "text": [
            "100%|██████████| 9/9 [00:01<00:00,  8.03it/s]\n"
          ]
        },
        {
          "metadata": {
            "tags": null
          },
          "name": "stdout",
          "output_type": "stream",
          "text": [
            "2023-12-15 20:43:28,448 DEV : loss 0.23325115442276 - f1-score (micro avg)  0.671\n",
            "2023-12-15 20:43:28,472  - 2 epochs without improvement\n",
            "2023-12-15 20:43:28,474 ----------------------------------------------------------------------------------------------------\n",
            "2023-12-15 20:43:29,292 epoch 30 - iter 16/167 - loss 0.26369732 - time (sec): 0.82 - samples/sec: 4421.71 - lr: 0.064000 - momentum: 0.000000\n",
            "2023-12-15 20:43:30,287 epoch 30 - iter 32/167 - loss 0.25203668 - time (sec): 1.81 - samples/sec: 4211.73 - lr: 0.064000 - momentum: 0.000000\n",
            "2023-12-15 20:43:31,157 epoch 30 - iter 48/167 - loss 0.25173339 - time (sec): 2.68 - samples/sec: 4301.41 - lr: 0.064000 - momentum: 0.000000\n",
            "2023-12-15 20:43:31,897 epoch 30 - iter 64/167 - loss 0.25906874 - time (sec): 3.42 - samples/sec: 4504.64 - lr: 0.064000 - momentum: 0.000000\n",
            "2023-12-15 20:43:32,686 epoch 30 - iter 80/167 - loss 0.25846430 - time (sec): 4.21 - samples/sec: 4561.55 - lr: 0.064000 - momentum: 0.000000\n",
            "2023-12-15 20:43:33,447 epoch 30 - iter 96/167 - loss 0.25721374 - time (sec): 4.97 - samples/sec: 4640.77 - lr: 0.064000 - momentum: 0.000000\n",
            "2023-12-15 20:43:34,276 epoch 30 - iter 112/167 - loss 0.26020567 - time (sec): 5.80 - samples/sec: 4619.34 - lr: 0.064000 - momentum: 0.000000\n",
            "2023-12-15 20:43:34,914 epoch 30 - iter 128/167 - loss 0.26055653 - time (sec): 6.44 - samples/sec: 4729.33 - lr: 0.064000 - momentum: 0.000000\n",
            "2023-12-15 20:43:35,702 epoch 30 - iter 144/167 - loss 0.26142433 - time (sec): 7.23 - samples/sec: 4766.11 - lr: 0.064000 - momentum: 0.000000\n",
            "2023-12-15 20:43:36,653 epoch 30 - iter 160/167 - loss 0.25906470 - time (sec): 8.18 - samples/sec: 4740.15 - lr: 0.064000 - momentum: 0.000000\n",
            "2023-12-15 20:43:36,929 ----------------------------------------------------------------------------------------------------\n",
            "2023-12-15 20:43:36,930 EPOCH 30 done: loss 0.2604 - lr: 0.064000\n"
          ]
        },
        {
          "metadata": {
            "tags": null
          },
          "name": "stderr",
          "output_type": "stream",
          "text": [
            "100%|██████████| 9/9 [00:01<00:00,  7.84it/s]"
          ]
        },
        {
          "metadata": {
            "tags": null
          },
          "name": "stdout",
          "output_type": "stream",
          "text": [
            "2023-12-15 20:43:38,109 DEV : loss 0.22632119059562683 - f1-score (micro avg)  0.6893\n",
            "2023-12-15 20:43:38,125  - 0 epochs without improvement\n",
            "2023-12-15 20:43:38,126 saving best model\n"
          ]
        },
        {
          "metadata": {
            "tags": null
          },
          "name": "stderr",
          "output_type": "stream",
          "text": [
            "\n"
          ]
        },
        {
          "metadata": {
            "tags": null
          },
          "name": "stdout",
          "output_type": "stream",
          "text": [
            "2023-12-15 20:43:38,871 ----------------------------------------------------------------------------------------------------\n",
            "2023-12-15 20:43:39,711 epoch 31 - iter 16/167 - loss 0.26163089 - time (sec): 0.83 - samples/sec: 4706.79 - lr: 0.064000 - momentum: 0.000000\n",
            "2023-12-15 20:43:40,577 epoch 31 - iter 32/167 - loss 0.25882916 - time (sec): 1.70 - samples/sec: 4491.37 - lr: 0.064000 - momentum: 0.000000\n",
            "2023-12-15 20:43:41,721 epoch 31 - iter 48/167 - loss 0.26010105 - time (sec): 2.84 - samples/sec: 4114.91 - lr: 0.064000 - momentum: 0.000000\n",
            "2023-12-15 20:43:42,885 epoch 31 - iter 64/167 - loss 0.25353731 - time (sec): 4.01 - samples/sec: 3932.61 - lr: 0.064000 - momentum: 0.000000\n",
            "2023-12-15 20:43:43,584 epoch 31 - iter 80/167 - loss 0.25850965 - time (sec): 4.71 - samples/sec: 4152.77 - lr: 0.064000 - momentum: 0.000000\n",
            "2023-12-15 20:43:44,230 epoch 31 - iter 96/167 - loss 0.26474163 - time (sec): 5.35 - samples/sec: 4334.18 - lr: 0.064000 - momentum: 0.000000\n",
            "2023-12-15 20:43:44,908 epoch 31 - iter 112/167 - loss 0.26427775 - time (sec): 6.03 - samples/sec: 4474.08 - lr: 0.064000 - momentum: 0.000000\n",
            "2023-12-15 20:43:45,687 epoch 31 - iter 128/167 - loss 0.26431485 - time (sec): 6.81 - samples/sec: 4526.43 - lr: 0.064000 - momentum: 0.000000\n",
            "2023-12-15 20:43:46,514 epoch 31 - iter 144/167 - loss 0.25984602 - time (sec): 7.63 - samples/sec: 4551.30 - lr: 0.064000 - momentum: 0.000000\n",
            "2023-12-15 20:43:47,345 epoch 31 - iter 160/167 - loss 0.25793738 - time (sec): 8.47 - samples/sec: 4573.27 - lr: 0.064000 - momentum: 0.000000\n",
            "2023-12-15 20:43:47,665 ----------------------------------------------------------------------------------------------------\n",
            "2023-12-15 20:43:47,666 EPOCH 31 done: loss 0.2591 - lr: 0.064000\n"
          ]
        },
        {
          "metadata": {
            "tags": null
          },
          "name": "stderr",
          "output_type": "stream",
          "text": [
            "100%|██████████| 9/9 [00:00<00:00, 12.49it/s]"
          ]
        },
        {
          "metadata": {
            "tags": null
          },
          "name": "stdout",
          "output_type": "stream",
          "text": [
            "2023-12-15 20:43:48,420 DEV : loss 0.2250092476606369 - f1-score (micro avg)  0.6728\n",
            "2023-12-15 20:43:48,438  - 1 epochs without improvement\n",
            "2023-12-15 20:43:48,440 ----------------------------------------------------------------------------------------------------\n"
          ]
        },
        {
          "metadata": {
            "tags": null
          },
          "name": "stderr",
          "output_type": "stream",
          "text": [
            "\n"
          ]
        },
        {
          "metadata": {
            "tags": null
          },
          "name": "stdout",
          "output_type": "stream",
          "text": [
            "2023-12-15 20:43:49,287 epoch 32 - iter 16/167 - loss 0.22937282 - time (sec): 0.84 - samples/sec: 4654.64 - lr: 0.064000 - momentum: 0.000000\n",
            "2023-12-15 20:43:50,108 epoch 32 - iter 32/167 - loss 0.23751438 - time (sec): 1.67 - samples/sec: 4799.40 - lr: 0.064000 - momentum: 0.000000\n",
            "2023-12-15 20:43:51,030 epoch 32 - iter 48/167 - loss 0.24122137 - time (sec): 2.59 - samples/sec: 4642.34 - lr: 0.064000 - momentum: 0.000000\n",
            "2023-12-15 20:43:51,738 epoch 32 - iter 64/167 - loss 0.25208980 - time (sec): 3.30 - samples/sec: 4766.39 - lr: 0.064000 - momentum: 0.000000\n",
            "2023-12-15 20:43:52,370 epoch 32 - iter 80/167 - loss 0.25592811 - time (sec): 3.93 - samples/sec: 4914.26 - lr: 0.064000 - momentum: 0.000000\n",
            "2023-12-15 20:43:53,299 epoch 32 - iter 96/167 - loss 0.25372898 - time (sec): 4.86 - samples/sec: 4805.49 - lr: 0.064000 - momentum: 0.000000\n",
            "2023-12-15 20:43:54,508 epoch 32 - iter 112/167 - loss 0.25664781 - time (sec): 6.07 - samples/sec: 4475.89 - lr: 0.064000 - momentum: 0.000000\n",
            "2023-12-15 20:43:55,756 epoch 32 - iter 128/167 - loss 0.25305471 - time (sec): 7.31 - samples/sec: 4297.22 - lr: 0.064000 - momentum: 0.000000\n",
            "2023-12-15 20:43:56,424 epoch 32 - iter 144/167 - loss 0.25692240 - time (sec): 7.98 - samples/sec: 4397.67 - lr: 0.064000 - momentum: 0.000000\n",
            "2023-12-15 20:43:57,129 epoch 32 - iter 160/167 - loss 0.25953991 - time (sec): 8.69 - samples/sec: 4442.64 - lr: 0.064000 - momentum: 0.000000\n",
            "2023-12-15 20:43:57,424 ----------------------------------------------------------------------------------------------------\n",
            "2023-12-15 20:43:57,425 EPOCH 32 done: loss 0.2598 - lr: 0.064000\n"
          ]
        },
        {
          "metadata": {
            "tags": null
          },
          "name": "stderr",
          "output_type": "stream",
          "text": [
            "100%|██████████| 9/9 [00:00<00:00, 12.05it/s]"
          ]
        },
        {
          "metadata": {
            "tags": null
          },
          "name": "stdout",
          "output_type": "stream",
          "text": [
            "2023-12-15 20:43:58,202 DEV : loss 0.23361878097057343 - f1-score (micro avg)  0.6886\n",
            "2023-12-15 20:43:58,220  - 2 epochs without improvement\n",
            "2023-12-15 20:43:58,221 ----------------------------------------------------------------------------------------------------\n"
          ]
        },
        {
          "metadata": {
            "tags": null
          },
          "name": "stderr",
          "output_type": "stream",
          "text": [
            "\n"
          ]
        },
        {
          "metadata": {
            "tags": null
          },
          "name": "stdout",
          "output_type": "stream",
          "text": [
            "2023-12-15 20:43:59,024 epoch 33 - iter 16/167 - loss 0.24959516 - time (sec): 0.80 - samples/sec: 4800.28 - lr: 0.064000 - momentum: 0.000000\n",
            "2023-12-15 20:43:59,753 epoch 33 - iter 32/167 - loss 0.24857564 - time (sec): 1.53 - samples/sec: 4997.43 - lr: 0.064000 - momentum: 0.000000\n",
            "2023-12-15 20:44:00,506 epoch 33 - iter 48/167 - loss 0.25167669 - time (sec): 2.28 - samples/sec: 5093.87 - lr: 0.064000 - momentum: 0.000000\n",
            "2023-12-15 20:44:01,288 epoch 33 - iter 64/167 - loss 0.25821185 - time (sec): 3.06 - samples/sec: 4962.95 - lr: 0.064000 - momentum: 0.000000\n",
            "2023-12-15 20:44:02,171 epoch 33 - iter 80/167 - loss 0.26037950 - time (sec): 3.94 - samples/sec: 4805.84 - lr: 0.064000 - momentum: 0.000000\n",
            "2023-12-15 20:44:02,928 epoch 33 - iter 96/167 - loss 0.25796930 - time (sec): 4.70 - samples/sec: 4851.06 - lr: 0.064000 - momentum: 0.000000\n",
            "2023-12-15 20:44:03,565 epoch 33 - iter 112/167 - loss 0.25979910 - time (sec): 5.34 - samples/sec: 4970.68 - lr: 0.064000 - momentum: 0.000000\n",
            "2023-12-15 20:44:04,396 epoch 33 - iter 128/167 - loss 0.25859652 - time (sec): 6.17 - samples/sec: 4924.27 - lr: 0.064000 - momentum: 0.000000\n",
            "2023-12-15 20:44:05,106 epoch 33 - iter 144/167 - loss 0.25982486 - time (sec): 6.88 - samples/sec: 4950.88 - lr: 0.064000 - momentum: 0.000000\n",
            "2023-12-15 20:44:06,274 epoch 33 - iter 160/167 - loss 0.25604119 - time (sec): 8.05 - samples/sec: 4774.15 - lr: 0.064000 - momentum: 0.000000\n",
            "2023-12-15 20:44:06,830 ----------------------------------------------------------------------------------------------------\n",
            "2023-12-15 20:44:06,832 EPOCH 33 done: loss 0.2554 - lr: 0.064000\n"
          ]
        },
        {
          "metadata": {
            "tags": null
          },
          "name": "stderr",
          "output_type": "stream",
          "text": [
            "100%|██████████| 9/9 [00:01<00:00,  7.95it/s]\n"
          ]
        },
        {
          "metadata": {
            "tags": null
          },
          "name": "stdout",
          "output_type": "stream",
          "text": [
            "2023-12-15 20:44:08,010 DEV : loss 0.2189871370792389 - f1-score (micro avg)  0.7029\n",
            "2023-12-15 20:44:08,039  - 0 epochs without improvement\n",
            "2023-12-15 20:44:08,041 saving best model\n",
            "2023-12-15 20:44:08,807 ----------------------------------------------------------------------------------------------------\n",
            "2023-12-15 20:44:09,594 epoch 34 - iter 16/167 - loss 0.24735781 - time (sec): 0.77 - samples/sec: 4850.77 - lr: 0.064000 - momentum: 0.000000\n",
            "2023-12-15 20:44:10,540 epoch 34 - iter 32/167 - loss 0.23668601 - time (sec): 1.72 - samples/sec: 4681.24 - lr: 0.064000 - momentum: 0.000000\n",
            "2023-12-15 20:44:11,284 epoch 34 - iter 48/167 - loss 0.24414904 - time (sec): 2.46 - samples/sec: 4775.94 - lr: 0.064000 - momentum: 0.000000\n",
            "2023-12-15 20:44:12,191 epoch 34 - iter 64/167 - loss 0.24559937 - time (sec): 3.37 - samples/sec: 4692.99 - lr: 0.064000 - momentum: 0.000000\n",
            "2023-12-15 20:44:12,868 epoch 34 - iter 80/167 - loss 0.24232912 - time (sec): 4.05 - samples/sec: 4836.51 - lr: 0.064000 - momentum: 0.000000\n",
            "2023-12-15 20:44:13,674 epoch 34 - iter 96/167 - loss 0.24634384 - time (sec): 4.85 - samples/sec: 4806.75 - lr: 0.064000 - momentum: 0.000000\n",
            "2023-12-15 20:44:14,442 epoch 34 - iter 112/167 - loss 0.24957315 - time (sec): 5.62 - samples/sec: 4832.84 - lr: 0.064000 - momentum: 0.000000\n",
            "2023-12-15 20:44:15,132 epoch 34 - iter 128/167 - loss 0.25015403 - time (sec): 6.31 - samples/sec: 4908.85 - lr: 0.064000 - momentum: 0.000000\n",
            "2023-12-15 20:44:15,942 epoch 34 - iter 144/167 - loss 0.24882589 - time (sec): 7.12 - samples/sec: 4887.68 - lr: 0.064000 - momentum: 0.000000\n",
            "2023-12-15 20:44:16,678 epoch 34 - iter 160/167 - loss 0.24829535 - time (sec): 7.86 - samples/sec: 4931.57 - lr: 0.064000 - momentum: 0.000000\n",
            "2023-12-15 20:44:16,941 ----------------------------------------------------------------------------------------------------\n",
            "2023-12-15 20:44:16,943 EPOCH 34 done: loss 0.2492 - lr: 0.064000\n"
          ]
        },
        {
          "metadata": {
            "tags": null
          },
          "name": "stderr",
          "output_type": "stream",
          "text": [
            "100%|██████████| 9/9 [00:00<00:00, 12.19it/s]"
          ]
        },
        {
          "metadata": {
            "tags": null
          },
          "name": "stdout",
          "output_type": "stream",
          "text": [
            "2023-12-15 20:44:17,707 DEV : loss 0.21265451610088348 - f1-score (micro avg)  0.6778\n",
            "2023-12-15 20:44:17,722  - 1 epochs without improvement\n",
            "2023-12-15 20:44:17,724 ----------------------------------------------------------------------------------------------------\n"
          ]
        },
        {
          "metadata": {
            "tags": null
          },
          "name": "stderr",
          "output_type": "stream",
          "text": [
            "\n"
          ]
        },
        {
          "metadata": {
            "tags": null
          },
          "name": "stdout",
          "output_type": "stream",
          "text": [
            "2023-12-15 20:44:18,578 epoch 35 - iter 16/167 - loss 0.28650048 - time (sec): 0.85 - samples/sec: 4140.15 - lr: 0.064000 - momentum: 0.000000\n",
            "2023-12-15 20:44:19,701 epoch 35 - iter 32/167 - loss 0.25477840 - time (sec): 1.98 - samples/sec: 3807.84 - lr: 0.064000 - momentum: 0.000000\n",
            "2023-12-15 20:44:20,833 epoch 35 - iter 48/167 - loss 0.25767053 - time (sec): 3.11 - samples/sec: 3628.43 - lr: 0.064000 - momentum: 0.000000\n",
            "2023-12-15 20:44:21,588 epoch 35 - iter 64/167 - loss 0.25350851 - time (sec): 3.86 - samples/sec: 3893.23 - lr: 0.064000 - momentum: 0.000000\n",
            "2023-12-15 20:44:22,291 epoch 35 - iter 80/167 - loss 0.25466531 - time (sec): 4.57 - samples/sec: 4163.82 - lr: 0.064000 - momentum: 0.000000\n",
            "2023-12-15 20:44:23,120 epoch 35 - iter 96/167 - loss 0.25571507 - time (sec): 5.39 - samples/sec: 4242.04 - lr: 0.064000 - momentum: 0.000000\n",
            "2023-12-15 20:44:23,918 epoch 35 - iter 112/167 - loss 0.25516229 - time (sec): 6.19 - samples/sec: 4354.65 - lr: 0.064000 - momentum: 0.000000\n",
            "2023-12-15 20:44:24,698 epoch 35 - iter 128/167 - loss 0.25517666 - time (sec): 6.97 - samples/sec: 4405.18 - lr: 0.064000 - momentum: 0.000000\n",
            "2023-12-15 20:44:25,434 epoch 35 - iter 144/167 - loss 0.25501205 - time (sec): 7.71 - samples/sec: 4480.85 - lr: 0.064000 - momentum: 0.000000\n",
            "2023-12-15 20:44:26,266 epoch 35 - iter 160/167 - loss 0.25269695 - time (sec): 8.54 - samples/sec: 4525.72 - lr: 0.064000 - momentum: 0.000000\n",
            "2023-12-15 20:44:26,635 ----------------------------------------------------------------------------------------------------\n",
            "2023-12-15 20:44:26,637 EPOCH 35 done: loss 0.2534 - lr: 0.064000\n"
          ]
        },
        {
          "metadata": {
            "tags": null
          },
          "name": "stderr",
          "output_type": "stream",
          "text": [
            "100%|██████████| 9/9 [00:00<00:00, 12.13it/s]"
          ]
        },
        {
          "metadata": {
            "tags": null
          },
          "name": "stdout",
          "output_type": "stream",
          "text": [
            "2023-12-15 20:44:27,410 DEV : loss 0.21046872437000275 - f1-score (micro avg)  0.6958\n",
            "2023-12-15 20:44:27,425  - 2 epochs without improvement\n",
            "2023-12-15 20:44:27,427 ----------------------------------------------------------------------------------------------------\n"
          ]
        },
        {
          "metadata": {
            "tags": null
          },
          "name": "stderr",
          "output_type": "stream",
          "text": [
            "\n"
          ]
        },
        {
          "metadata": {
            "tags": null
          },
          "name": "stdout",
          "output_type": "stream",
          "text": [
            "2023-12-15 20:44:28,225 epoch 36 - iter 16/167 - loss 0.24064136 - time (sec): 0.80 - samples/sec: 4728.23 - lr: 0.064000 - momentum: 0.000000\n",
            "2023-12-15 20:44:29,051 epoch 36 - iter 32/167 - loss 0.23554207 - time (sec): 1.62 - samples/sec: 4826.09 - lr: 0.064000 - momentum: 0.000000\n",
            "2023-12-15 20:44:29,778 epoch 36 - iter 48/167 - loss 0.24957087 - time (sec): 2.35 - samples/sec: 4859.07 - lr: 0.064000 - momentum: 0.000000\n",
            "2023-12-15 20:44:30,616 epoch 36 - iter 64/167 - loss 0.24887208 - time (sec): 3.19 - samples/sec: 4834.81 - lr: 0.064000 - momentum: 0.000000\n",
            "2023-12-15 20:44:31,493 epoch 36 - iter 80/167 - loss 0.25042639 - time (sec): 4.06 - samples/sec: 4736.82 - lr: 0.064000 - momentum: 0.000000\n",
            "2023-12-15 20:44:32,360 epoch 36 - iter 96/167 - loss 0.25020804 - time (sec): 4.93 - samples/sec: 4643.88 - lr: 0.064000 - momentum: 0.000000\n",
            "2023-12-15 20:44:33,550 epoch 36 - iter 112/167 - loss 0.24963882 - time (sec): 6.12 - samples/sec: 4384.85 - lr: 0.064000 - momentum: 0.000000\n",
            "2023-12-15 20:44:34,445 epoch 36 - iter 128/167 - loss 0.24584912 - time (sec): 7.02 - samples/sec: 4407.00 - lr: 0.064000 - momentum: 0.000000\n",
            "2023-12-15 20:44:35,112 epoch 36 - iter 144/167 - loss 0.24830229 - time (sec): 7.68 - samples/sec: 4497.30 - lr: 0.064000 - momentum: 0.000000\n",
            "2023-12-15 20:44:35,905 epoch 36 - iter 160/167 - loss 0.24906617 - time (sec): 8.48 - samples/sec: 4525.83 - lr: 0.064000 - momentum: 0.000000\n",
            "2023-12-15 20:44:36,366 ----------------------------------------------------------------------------------------------------\n",
            "2023-12-15 20:44:36,367 EPOCH 36 done: loss 0.2496 - lr: 0.064000\n"
          ]
        },
        {
          "metadata": {
            "tags": null
          },
          "name": "stderr",
          "output_type": "stream",
          "text": [
            "100%|██████████| 9/9 [00:00<00:00, 12.30it/s]"
          ]
        },
        {
          "metadata": {
            "tags": null
          },
          "name": "stdout",
          "output_type": "stream",
          "text": [
            "2023-12-15 20:44:37,128 DEV : loss 0.21025919914245605 - f1-score (micro avg)  0.6917\n",
            "2023-12-15 20:44:37,144  - 3 epochs without improvement\n",
            "2023-12-15 20:44:37,145 ----------------------------------------------------------------------------------------------------\n"
          ]
        },
        {
          "metadata": {
            "tags": null
          },
          "name": "stderr",
          "output_type": "stream",
          "text": [
            "\n"
          ]
        },
        {
          "metadata": {
            "tags": null
          },
          "name": "stdout",
          "output_type": "stream",
          "text": [
            "2023-12-15 20:44:37,996 epoch 37 - iter 16/167 - loss 0.23999976 - time (sec): 0.85 - samples/sec: 4669.01 - lr: 0.064000 - momentum: 0.000000\n",
            "2023-12-15 20:44:38,904 epoch 37 - iter 32/167 - loss 0.23469816 - time (sec): 1.76 - samples/sec: 4465.33 - lr: 0.064000 - momentum: 0.000000\n",
            "2023-12-15 20:44:39,672 epoch 37 - iter 48/167 - loss 0.23052703 - time (sec): 2.52 - samples/sec: 4684.13 - lr: 0.064000 - momentum: 0.000000\n",
            "2023-12-15 20:44:40,384 epoch 37 - iter 64/167 - loss 0.23692743 - time (sec): 3.24 - samples/sec: 4891.89 - lr: 0.064000 - momentum: 0.000000\n",
            "2023-12-15 20:44:41,085 epoch 37 - iter 80/167 - loss 0.24189088 - time (sec): 3.94 - samples/sec: 5013.85 - lr: 0.064000 - momentum: 0.000000\n",
            "2023-12-15 20:44:41,878 epoch 37 - iter 96/167 - loss 0.24395446 - time (sec): 4.73 - samples/sec: 5009.56 - lr: 0.064000 - momentum: 0.000000\n",
            "2023-12-15 20:44:42,642 epoch 37 - iter 112/167 - loss 0.24649852 - time (sec): 5.49 - samples/sec: 4974.47 - lr: 0.064000 - momentum: 0.000000\n",
            "2023-12-15 20:44:43,556 epoch 37 - iter 128/167 - loss 0.24437984 - time (sec): 6.41 - samples/sec: 4881.15 - lr: 0.064000 - momentum: 0.000000\n",
            "2023-12-15 20:44:44,716 epoch 37 - iter 144/167 - loss 0.24659446 - time (sec): 7.57 - samples/sec: 4625.08 - lr: 0.064000 - momentum: 0.000000\n",
            "2023-12-15 20:44:45,780 epoch 37 - iter 160/167 - loss 0.24776124 - time (sec): 8.63 - samples/sec: 4495.32 - lr: 0.064000 - momentum: 0.000000\n",
            "2023-12-15 20:44:46,157 ----------------------------------------------------------------------------------------------------\n",
            "2023-12-15 20:44:46,159 EPOCH 37 done: loss 0.2481 - lr: 0.064000\n"
          ]
        },
        {
          "metadata": {
            "tags": null
          },
          "name": "stderr",
          "output_type": "stream",
          "text": [
            "100%|██████████| 9/9 [00:00<00:00, 12.31it/s]"
          ]
        },
        {
          "metadata": {
            "tags": null
          },
          "name": "stdout",
          "output_type": "stream",
          "text": [
            "2023-12-15 20:44:46,921 DEV : loss 0.21261829137802124 - f1-score (micro avg)  0.6839\n",
            "2023-12-15 20:44:46,937  - 4 epochs without improvement (above 'patience')-> annealing learning_rate to [0.051200000000000016]\n",
            "2023-12-15 20:44:46,938 ----------------------------------------------------------------------------------------------------\n"
          ]
        },
        {
          "metadata": {
            "tags": null
          },
          "name": "stderr",
          "output_type": "stream",
          "text": [
            "\n"
          ]
        },
        {
          "metadata": {
            "tags": null
          },
          "name": "stdout",
          "output_type": "stream",
          "text": [
            "2023-12-15 20:44:47,654 epoch 38 - iter 16/167 - loss 0.25494516 - time (sec): 0.71 - samples/sec: 5404.97 - lr: 0.051200 - momentum: 0.000000\n",
            "2023-12-15 20:44:48,622 epoch 38 - iter 32/167 - loss 0.24237788 - time (sec): 1.68 - samples/sec: 4832.69 - lr: 0.051200 - momentum: 0.000000\n",
            "2023-12-15 20:44:49,320 epoch 38 - iter 48/167 - loss 0.24345797 - time (sec): 2.38 - samples/sec: 4917.36 - lr: 0.051200 - momentum: 0.000000\n",
            "2023-12-15 20:44:50,181 epoch 38 - iter 64/167 - loss 0.23883789 - time (sec): 3.24 - samples/sec: 4868.31 - lr: 0.051200 - momentum: 0.000000\n",
            "2023-12-15 20:44:51,074 epoch 38 - iter 80/167 - loss 0.23530668 - time (sec): 4.13 - samples/sec: 4785.09 - lr: 0.051200 - momentum: 0.000000\n",
            "2023-12-15 20:44:51,957 epoch 38 - iter 96/167 - loss 0.23526267 - time (sec): 5.02 - samples/sec: 4719.05 - lr: 0.051200 - momentum: 0.000000\n",
            "2023-12-15 20:44:52,634 epoch 38 - iter 112/167 - loss 0.23861265 - time (sec): 5.69 - samples/sec: 4835.02 - lr: 0.051200 - momentum: 0.000000\n",
            "2023-12-15 20:44:53,253 epoch 38 - iter 128/167 - loss 0.24318382 - time (sec): 6.31 - samples/sec: 4909.55 - lr: 0.051200 - momentum: 0.000000\n",
            "2023-12-15 20:44:54,070 epoch 38 - iter 144/167 - loss 0.24182459 - time (sec): 7.13 - samples/sec: 4885.35 - lr: 0.051200 - momentum: 0.000000\n",
            "2023-12-15 20:44:54,780 epoch 38 - iter 160/167 - loss 0.24058280 - time (sec): 7.84 - samples/sec: 4932.13 - lr: 0.051200 - momentum: 0.000000\n",
            "2023-12-15 20:44:55,066 ----------------------------------------------------------------------------------------------------\n",
            "2023-12-15 20:44:55,067 EPOCH 38 done: loss 0.2421 - lr: 0.051200\n"
          ]
        },
        {
          "metadata": {
            "tags": null
          },
          "name": "stderr",
          "output_type": "stream",
          "text": [
            "100%|██████████| 9/9 [00:00<00:00, 12.52it/s]"
          ]
        },
        {
          "metadata": {
            "tags": null
          },
          "name": "stdout",
          "output_type": "stream",
          "text": [
            "2023-12-15 20:44:55,813 DEV : loss 0.19427558779716492 - f1-score (micro avg)  0.7366\n",
            "2023-12-15 20:44:55,830  - 0 epochs without improvement\n",
            "2023-12-15 20:44:55,832 saving best model\n"
          ]
        },
        {
          "metadata": {
            "tags": null
          },
          "name": "stderr",
          "output_type": "stream",
          "text": [
            "\n"
          ]
        },
        {
          "metadata": {
            "tags": null
          },
          "name": "stdout",
          "output_type": "stream",
          "text": [
            "2023-12-15 20:44:56,970 ----------------------------------------------------------------------------------------------------\n",
            "2023-12-15 20:44:58,197 epoch 39 - iter 16/167 - loss 0.21547301 - time (sec): 1.22 - samples/sec: 3393.24 - lr: 0.051200 - momentum: 0.000000\n",
            "2023-12-15 20:44:59,371 epoch 39 - iter 32/167 - loss 0.21394826 - time (sec): 2.40 - samples/sec: 3448.28 - lr: 0.051200 - momentum: 0.000000\n",
            "2023-12-15 20:45:00,157 epoch 39 - iter 48/167 - loss 0.22078709 - time (sec): 3.18 - samples/sec: 3853.25 - lr: 0.051200 - momentum: 0.000000\n",
            "2023-12-15 20:45:00,953 epoch 39 - iter 64/167 - loss 0.22017183 - time (sec): 3.98 - samples/sec: 4056.27 - lr: 0.051200 - momentum: 0.000000\n",
            "2023-12-15 20:45:01,639 epoch 39 - iter 80/167 - loss 0.22573288 - time (sec): 4.67 - samples/sec: 4223.23 - lr: 0.051200 - momentum: 0.000000\n",
            "2023-12-15 20:45:02,288 epoch 39 - iter 96/167 - loss 0.23191601 - time (sec): 5.32 - samples/sec: 4371.52 - lr: 0.051200 - momentum: 0.000000\n",
            "2023-12-15 20:45:03,159 epoch 39 - iter 112/167 - loss 0.23208957 - time (sec): 6.19 - samples/sec: 4405.28 - lr: 0.051200 - momentum: 0.000000\n",
            "2023-12-15 20:45:03,877 epoch 39 - iter 128/167 - loss 0.23434745 - time (sec): 6.90 - samples/sec: 4486.07 - lr: 0.051200 - momentum: 0.000000\n",
            "2023-12-15 20:45:04,724 epoch 39 - iter 144/167 - loss 0.23658232 - time (sec): 7.75 - samples/sec: 4496.04 - lr: 0.051200 - momentum: 0.000000\n",
            "2023-12-15 20:45:05,474 epoch 39 - iter 160/167 - loss 0.23816719 - time (sec): 8.50 - samples/sec: 4556.20 - lr: 0.051200 - momentum: 0.000000\n",
            "2023-12-15 20:45:05,759 ----------------------------------------------------------------------------------------------------\n",
            "2023-12-15 20:45:05,760 EPOCH 39 done: loss 0.2394 - lr: 0.051200\n"
          ]
        },
        {
          "metadata": {
            "tags": null
          },
          "name": "stderr",
          "output_type": "stream",
          "text": [
            "100%|██████████| 9/9 [00:00<00:00, 12.40it/s]\n"
          ]
        },
        {
          "metadata": {
            "tags": null
          },
          "name": "stdout",
          "output_type": "stream",
          "text": [
            "2023-12-15 20:45:06,518 DEV : loss 0.2121797353029251 - f1-score (micro avg)  0.7193\n",
            "2023-12-15 20:45:06,534  - 1 epochs without improvement\n",
            "2023-12-15 20:45:06,535 ----------------------------------------------------------------------------------------------------\n",
            "2023-12-15 20:45:07,166 epoch 40 - iter 16/167 - loss 0.26044212 - time (sec): 0.63 - samples/sec: 5406.96 - lr: 0.051200 - momentum: 0.000000\n",
            "2023-12-15 20:45:08,121 epoch 40 - iter 32/167 - loss 0.24538344 - time (sec): 1.58 - samples/sec: 4685.46 - lr: 0.051200 - momentum: 0.000000\n",
            "2023-12-15 20:45:08,893 epoch 40 - iter 48/167 - loss 0.24341388 - time (sec): 2.35 - samples/sec: 4710.90 - lr: 0.051200 - momentum: 0.000000\n",
            "2023-12-15 20:45:10,045 epoch 40 - iter 64/167 - loss 0.24164801 - time (sec): 3.51 - samples/sec: 4311.82 - lr: 0.051200 - momentum: 0.000000\n",
            "2023-12-15 20:45:11,347 epoch 40 - iter 80/167 - loss 0.24097213 - time (sec): 4.81 - samples/sec: 3967.35 - lr: 0.051200 - momentum: 0.000000\n",
            "2023-12-15 20:45:12,133 epoch 40 - iter 96/167 - loss 0.23959362 - time (sec): 5.59 - samples/sec: 4084.94 - lr: 0.051200 - momentum: 0.000000\n",
            "2023-12-15 20:45:12,976 epoch 40 - iter 112/167 - loss 0.23544998 - time (sec): 6.44 - samples/sec: 4194.08 - lr: 0.051200 - momentum: 0.000000\n",
            "2023-12-15 20:45:13,691 epoch 40 - iter 128/167 - loss 0.23665552 - time (sec): 7.15 - samples/sec: 4313.77 - lr: 0.051200 - momentum: 0.000000\n",
            "2023-12-15 20:45:14,382 epoch 40 - iter 144/167 - loss 0.23686845 - time (sec): 7.84 - samples/sec: 4424.92 - lr: 0.051200 - momentum: 0.000000\n",
            "2023-12-15 20:45:15,101 epoch 40 - iter 160/167 - loss 0.23965891 - time (sec): 8.56 - samples/sec: 4490.96 - lr: 0.051200 - momentum: 0.000000\n",
            "2023-12-15 20:45:15,426 ----------------------------------------------------------------------------------------------------\n",
            "2023-12-15 20:45:15,427 EPOCH 40 done: loss 0.2373 - lr: 0.051200\n"
          ]
        },
        {
          "metadata": {
            "tags": null
          },
          "name": "stderr",
          "output_type": "stream",
          "text": [
            "100%|██████████| 9/9 [00:00<00:00, 12.35it/s]"
          ]
        },
        {
          "metadata": {
            "tags": null
          },
          "name": "stdout",
          "output_type": "stream",
          "text": [
            "2023-12-15 20:45:16,185 DEV : loss 0.19062009453773499 - f1-score (micro avg)  0.6997\n",
            "2023-12-15 20:45:16,202  - 2 epochs without improvement\n",
            "2023-12-15 20:45:16,203 ----------------------------------------------------------------------------------------------------\n"
          ]
        },
        {
          "metadata": {
            "tags": null
          },
          "name": "stderr",
          "output_type": "stream",
          "text": [
            "\n"
          ]
        },
        {
          "metadata": {
            "tags": null
          },
          "name": "stdout",
          "output_type": "stream",
          "text": [
            "2023-12-15 20:45:16,927 epoch 41 - iter 16/167 - loss 0.24661089 - time (sec): 0.72 - samples/sec: 5023.52 - lr: 0.051200 - momentum: 0.000000\n",
            "2023-12-15 20:45:17,786 epoch 41 - iter 32/167 - loss 0.23796180 - time (sec): 1.58 - samples/sec: 4647.92 - lr: 0.051200 - momentum: 0.000000\n",
            "2023-12-15 20:45:18,764 epoch 41 - iter 48/167 - loss 0.22991222 - time (sec): 2.56 - samples/sec: 4517.32 - lr: 0.051200 - momentum: 0.000000\n",
            "2023-12-15 20:45:19,531 epoch 41 - iter 64/167 - loss 0.23164203 - time (sec): 3.33 - samples/sec: 4635.58 - lr: 0.051200 - momentum: 0.000000\n",
            "2023-12-15 20:45:20,160 epoch 41 - iter 80/167 - loss 0.23611187 - time (sec): 3.96 - samples/sec: 4813.30 - lr: 0.051200 - momentum: 0.000000\n",
            "2023-12-15 20:45:20,964 epoch 41 - iter 96/167 - loss 0.23623070 - time (sec): 4.76 - samples/sec: 4819.48 - lr: 0.051200 - momentum: 0.000000\n",
            "2023-12-15 20:45:21,816 epoch 41 - iter 112/167 - loss 0.23414449 - time (sec): 5.61 - samples/sec: 4797.51 - lr: 0.051200 - momentum: 0.000000\n",
            "2023-12-15 20:45:22,771 epoch 41 - iter 128/167 - loss 0.23338173 - time (sec): 6.57 - samples/sec: 4680.18 - lr: 0.051200 - momentum: 0.000000\n",
            "2023-12-15 20:45:23,897 epoch 41 - iter 144/167 - loss 0.23461458 - time (sec): 7.69 - samples/sec: 4493.52 - lr: 0.051200 - momentum: 0.000000\n",
            "2023-12-15 20:45:24,702 epoch 41 - iter 160/167 - loss 0.23835398 - time (sec): 8.50 - samples/sec: 4513.37 - lr: 0.051200 - momentum: 0.000000\n",
            "2023-12-15 20:45:25,091 ----------------------------------------------------------------------------------------------------\n",
            "2023-12-15 20:45:25,092 EPOCH 41 done: loss 0.2355 - lr: 0.051200\n"
          ]
        },
        {
          "metadata": {
            "tags": null
          },
          "name": "stderr",
          "output_type": "stream",
          "text": [
            "100%|██████████| 9/9 [00:00<00:00, 12.19it/s]"
          ]
        },
        {
          "metadata": {
            "tags": null
          },
          "name": "stdout",
          "output_type": "stream",
          "text": [
            "2023-12-15 20:45:25,857 DEV : loss 0.19478042423725128 - f1-score (micro avg)  0.7405\n",
            "2023-12-15 20:45:25,874  - 0 epochs without improvement\n",
            "2023-12-15 20:45:25,876 saving best model\n"
          ]
        },
        {
          "metadata": {
            "tags": null
          },
          "name": "stderr",
          "output_type": "stream",
          "text": [
            "\n"
          ]
        },
        {
          "metadata": {
            "tags": null
          },
          "name": "stdout",
          "output_type": "stream",
          "text": [
            "2023-12-15 20:45:26,603 ----------------------------------------------------------------------------------------------------\n",
            "2023-12-15 20:45:27,411 epoch 42 - iter 16/167 - loss 0.23736899 - time (sec): 0.80 - samples/sec: 4907.07 - lr: 0.051200 - momentum: 0.000000\n",
            "2023-12-15 20:45:28,237 epoch 42 - iter 32/167 - loss 0.23051395 - time (sec): 1.62 - samples/sec: 4802.24 - lr: 0.051200 - momentum: 0.000000\n",
            "2023-12-15 20:45:28,942 epoch 42 - iter 48/167 - loss 0.23307094 - time (sec): 2.33 - samples/sec: 4944.68 - lr: 0.051200 - momentum: 0.000000\n",
            "2023-12-15 20:45:29,750 epoch 42 - iter 64/167 - loss 0.22988363 - time (sec): 3.14 - samples/sec: 4908.53 - lr: 0.051200 - momentum: 0.000000\n",
            "2023-12-15 20:45:30,571 epoch 42 - iter 80/167 - loss 0.22494263 - time (sec): 3.96 - samples/sec: 4941.66 - lr: 0.051200 - momentum: 0.000000\n",
            "2023-12-15 20:45:31,214 epoch 42 - iter 96/167 - loss 0.22890870 - time (sec): 4.60 - samples/sec: 5030.90 - lr: 0.051200 - momentum: 0.000000\n",
            "2023-12-15 20:45:32,001 epoch 42 - iter 112/167 - loss 0.23203795 - time (sec): 5.39 - samples/sec: 5002.72 - lr: 0.051200 - momentum: 0.000000\n",
            "2023-12-15 20:45:32,803 epoch 42 - iter 128/167 - loss 0.23035275 - time (sec): 6.19 - samples/sec: 5006.85 - lr: 0.051200 - momentum: 0.000000\n",
            "2023-12-15 20:45:33,429 epoch 42 - iter 144/167 - loss 0.23185173 - time (sec): 6.81 - samples/sec: 5083.13 - lr: 0.051200 - momentum: 0.000000\n",
            "2023-12-15 20:45:34,224 epoch 42 - iter 160/167 - loss 0.23203603 - time (sec): 7.61 - samples/sec: 5068.77 - lr: 0.051200 - momentum: 0.000000\n",
            "2023-12-15 20:45:34,694 ----------------------------------------------------------------------------------------------------\n",
            "2023-12-15 20:45:34,697 EPOCH 42 done: loss 0.2311 - lr: 0.051200\n"
          ]
        },
        {
          "metadata": {
            "tags": null
          },
          "name": "stderr",
          "output_type": "stream",
          "text": [
            "100%|██████████| 9/9 [00:01<00:00,  8.03it/s]\n"
          ]
        },
        {
          "metadata": {
            "tags": null
          },
          "name": "stdout",
          "output_type": "stream",
          "text": [
            "2023-12-15 20:45:35,861 DEV : loss 0.1874043196439743 - f1-score (micro avg)  0.7577\n",
            "2023-12-15 20:45:35,888  - 0 epochs without improvement\n",
            "2023-12-15 20:45:35,892 saving best model\n",
            "2023-12-15 20:45:37,175 ----------------------------------------------------------------------------------------------------\n",
            "2023-12-15 20:45:38,055 epoch 43 - iter 16/167 - loss 0.26144473 - time (sec): 0.88 - samples/sec: 4351.20 - lr: 0.051200 - momentum: 0.000000\n",
            "2023-12-15 20:45:38,726 epoch 43 - iter 32/167 - loss 0.24184392 - time (sec): 1.55 - samples/sec: 4914.62 - lr: 0.051200 - momentum: 0.000000\n",
            "2023-12-15 20:45:39,602 epoch 43 - iter 48/167 - loss 0.23338828 - time (sec): 2.42 - samples/sec: 4866.77 - lr: 0.051200 - momentum: 0.000000\n",
            "2023-12-15 20:45:40,431 epoch 43 - iter 64/167 - loss 0.23366233 - time (sec): 3.25 - samples/sec: 4788.03 - lr: 0.051200 - momentum: 0.000000\n",
            "2023-12-15 20:45:41,014 epoch 43 - iter 80/167 - loss 0.23913465 - time (sec): 3.84 - samples/sec: 4978.20 - lr: 0.051200 - momentum: 0.000000\n",
            "2023-12-15 20:45:41,836 epoch 43 - iter 96/167 - loss 0.23931718 - time (sec): 4.66 - samples/sec: 4921.99 - lr: 0.051200 - momentum: 0.000000\n",
            "2023-12-15 20:45:42,631 epoch 43 - iter 112/167 - loss 0.23653897 - time (sec): 5.45 - samples/sec: 4923.85 - lr: 0.051200 - momentum: 0.000000\n",
            "2023-12-15 20:45:43,399 epoch 43 - iter 128/167 - loss 0.23495962 - time (sec): 6.22 - samples/sec: 4956.55 - lr: 0.051200 - momentum: 0.000000\n",
            "2023-12-15 20:45:44,086 epoch 43 - iter 144/167 - loss 0.23494813 - time (sec): 6.91 - samples/sec: 5025.97 - lr: 0.051200 - momentum: 0.000000\n",
            "2023-12-15 20:45:44,950 epoch 43 - iter 160/167 - loss 0.23396183 - time (sec): 7.77 - samples/sec: 4967.52 - lr: 0.051200 - momentum: 0.000000\n",
            "2023-12-15 20:45:45,207 ----------------------------------------------------------------------------------------------------\n",
            "2023-12-15 20:45:45,208 EPOCH 43 done: loss 0.2346 - lr: 0.051200\n"
          ]
        },
        {
          "metadata": {
            "tags": null
          },
          "name": "stderr",
          "output_type": "stream",
          "text": [
            "100%|██████████| 9/9 [00:00<00:00, 12.15it/s]"
          ]
        },
        {
          "metadata": {
            "tags": null
          },
          "name": "stdout",
          "output_type": "stream",
          "text": [
            "2023-12-15 20:45:45,977 DEV : loss 0.19120320677757263 - f1-score (micro avg)  0.7515\n",
            "2023-12-15 20:45:45,993  - 1 epochs without improvement\n",
            "2023-12-15 20:45:45,994 ----------------------------------------------------------------------------------------------------\n"
          ]
        },
        {
          "metadata": {
            "tags": null
          },
          "name": "stderr",
          "output_type": "stream",
          "text": [
            "\n"
          ]
        },
        {
          "metadata": {
            "tags": null
          },
          "name": "stdout",
          "output_type": "stream",
          "text": [
            "2023-12-15 20:45:46,783 epoch 44 - iter 16/167 - loss 0.23837350 - time (sec): 0.79 - samples/sec: 5005.62 - lr: 0.051200 - momentum: 0.000000\n",
            "2023-12-15 20:45:47,655 epoch 44 - iter 32/167 - loss 0.23575445 - time (sec): 1.66 - samples/sec: 4762.35 - lr: 0.051200 - momentum: 0.000000\n",
            "2023-12-15 20:45:48,715 epoch 44 - iter 48/167 - loss 0.23051895 - time (sec): 2.72 - samples/sec: 4341.04 - lr: 0.051200 - momentum: 0.000000\n",
            "2023-12-15 20:45:49,947 epoch 44 - iter 64/167 - loss 0.23014283 - time (sec): 3.95 - samples/sec: 3995.81 - lr: 0.051200 - momentum: 0.000000\n",
            "2023-12-15 20:45:50,631 epoch 44 - iter 80/167 - loss 0.23076389 - time (sec): 4.63 - samples/sec: 4205.13 - lr: 0.051200 - momentum: 0.000000\n",
            "2023-12-15 20:45:51,308 epoch 44 - iter 96/167 - loss 0.23639146 - time (sec): 5.31 - samples/sec: 4328.56 - lr: 0.051200 - momentum: 0.000000\n",
            "2023-12-15 20:45:52,129 epoch 44 - iter 112/167 - loss 0.23621405 - time (sec): 6.13 - samples/sec: 4395.35 - lr: 0.051200 - momentum: 0.000000\n",
            "2023-12-15 20:45:52,847 epoch 44 - iter 128/167 - loss 0.23434357 - time (sec): 6.85 - samples/sec: 4491.40 - lr: 0.051200 - momentum: 0.000000\n",
            "2023-12-15 20:45:53,745 epoch 44 - iter 144/167 - loss 0.23185711 - time (sec): 7.75 - samples/sec: 4483.12 - lr: 0.051200 - momentum: 0.000000\n",
            "2023-12-15 20:45:54,418 epoch 44 - iter 160/167 - loss 0.23229435 - time (sec): 8.42 - samples/sec: 4569.37 - lr: 0.051200 - momentum: 0.000000\n",
            "2023-12-15 20:45:54,821 ----------------------------------------------------------------------------------------------------\n",
            "2023-12-15 20:45:54,823 EPOCH 44 done: loss 0.2321 - lr: 0.051200\n"
          ]
        },
        {
          "metadata": {
            "tags": null
          },
          "name": "stderr",
          "output_type": "stream",
          "text": [
            "100%|██████████| 9/9 [00:00<00:00, 12.07it/s]"
          ]
        },
        {
          "metadata": {
            "tags": null
          },
          "name": "stdout",
          "output_type": "stream",
          "text": [
            "2023-12-15 20:45:55,596 DEV : loss 0.1879432499408722 - f1-score (micro avg)  0.7665\n",
            "2023-12-15 20:45:55,617  - 0 epochs without improvement\n",
            "2023-12-15 20:45:55,618 saving best model\n"
          ]
        },
        {
          "metadata": {
            "tags": null
          },
          "name": "stderr",
          "output_type": "stream",
          "text": [
            "\n"
          ]
        },
        {
          "metadata": {
            "tags": null
          },
          "name": "stdout",
          "output_type": "stream",
          "text": [
            "2023-12-15 20:45:56,429 ----------------------------------------------------------------------------------------------------\n",
            "2023-12-15 20:45:57,148 epoch 45 - iter 16/167 - loss 0.25461812 - time (sec): 0.72 - samples/sec: 4994.43 - lr: 0.051200 - momentum: 0.000000\n",
            "2023-12-15 20:45:57,987 epoch 45 - iter 32/167 - loss 0.23768350 - time (sec): 1.56 - samples/sec: 4800.77 - lr: 0.051200 - momentum: 0.000000\n",
            "2023-12-15 20:45:58,826 epoch 45 - iter 48/167 - loss 0.23415343 - time (sec): 2.39 - samples/sec: 4758.73 - lr: 0.051200 - momentum: 0.000000\n",
            "2023-12-15 20:45:59,682 epoch 45 - iter 64/167 - loss 0.23053323 - time (sec): 3.25 - samples/sec: 4794.15 - lr: 0.051200 - momentum: 0.000000\n",
            "2023-12-15 20:46:00,764 epoch 45 - iter 80/167 - loss 0.22852877 - time (sec): 4.33 - samples/sec: 4505.42 - lr: 0.051200 - momentum: 0.000000\n",
            "2023-12-15 20:46:01,868 epoch 45 - iter 96/167 - loss 0.22951515 - time (sec): 5.44 - samples/sec: 4289.17 - lr: 0.051200 - momentum: 0.000000\n",
            "2023-12-15 20:46:02,751 epoch 45 - iter 112/167 - loss 0.22879057 - time (sec): 6.32 - samples/sec: 4265.95 - lr: 0.051200 - momentum: 0.000000\n",
            "2023-12-15 20:46:03,543 epoch 45 - iter 128/167 - loss 0.22872085 - time (sec): 7.11 - samples/sec: 4339.04 - lr: 0.051200 - momentum: 0.000000\n",
            "2023-12-15 20:46:04,157 epoch 45 - iter 144/167 - loss 0.23087891 - time (sec): 7.73 - samples/sec: 4461.48 - lr: 0.051200 - momentum: 0.000000\n",
            "2023-12-15 20:46:05,063 epoch 45 - iter 160/167 - loss 0.23060075 - time (sec): 8.63 - samples/sec: 4463.11 - lr: 0.051200 - momentum: 0.000000\n",
            "2023-12-15 20:46:05,370 ----------------------------------------------------------------------------------------------------\n",
            "2023-12-15 20:46:05,371 EPOCH 45 done: loss 0.2313 - lr: 0.051200\n"
          ]
        },
        {
          "metadata": {
            "tags": null
          },
          "name": "stderr",
          "output_type": "stream",
          "text": [
            "100%|██████████| 9/9 [00:00<00:00, 12.33it/s]"
          ]
        },
        {
          "metadata": {
            "tags": null
          },
          "name": "stdout",
          "output_type": "stream",
          "text": [
            "2023-12-15 20:46:06,131 DEV : loss 0.179289311170578 - f1-score (micro avg)  0.7686\n",
            "2023-12-15 20:46:06,154  - 0 epochs without improvement\n",
            "2023-12-15 20:46:06,156 saving best model\n"
          ]
        },
        {
          "metadata": {
            "tags": null
          },
          "name": "stderr",
          "output_type": "stream",
          "text": [
            "\n"
          ]
        },
        {
          "metadata": {
            "tags": null
          },
          "name": "stdout",
          "output_type": "stream",
          "text": [
            "2023-12-15 20:46:06,918 ----------------------------------------------------------------------------------------------------\n",
            "2023-12-15 20:46:07,785 epoch 46 - iter 16/167 - loss 0.21747909 - time (sec): 0.86 - samples/sec: 4922.76 - lr: 0.051200 - momentum: 0.000000\n",
            "2023-12-15 20:46:08,647 epoch 46 - iter 32/167 - loss 0.20764014 - time (sec): 1.73 - samples/sec: 4731.05 - lr: 0.051200 - momentum: 0.000000\n",
            "2023-12-15 20:46:09,468 epoch 46 - iter 48/167 - loss 0.21387659 - time (sec): 2.55 - samples/sec: 4714.96 - lr: 0.051200 - momentum: 0.000000\n",
            "2023-12-15 20:46:10,191 epoch 46 - iter 64/167 - loss 0.22416243 - time (sec): 3.27 - samples/sec: 4782.81 - lr: 0.051200 - momentum: 0.000000\n",
            "2023-12-15 20:46:10,984 epoch 46 - iter 80/167 - loss 0.22183921 - time (sec): 4.06 - samples/sec: 4818.86 - lr: 0.051200 - momentum: 0.000000\n",
            "2023-12-15 20:46:11,630 epoch 46 - iter 96/167 - loss 0.22605974 - time (sec): 4.71 - samples/sec: 4958.33 - lr: 0.051200 - momentum: 0.000000\n",
            "2023-12-15 20:46:12,304 epoch 46 - iter 112/167 - loss 0.22800487 - time (sec): 5.38 - samples/sec: 5050.30 - lr: 0.051200 - momentum: 0.000000\n",
            "2023-12-15 20:46:13,344 epoch 46 - iter 128/167 - loss 0.22703032 - time (sec): 6.42 - samples/sec: 4841.82 - lr: 0.051200 - momentum: 0.000000\n",
            "2023-12-15 20:46:14,528 epoch 46 - iter 144/167 - loss 0.22622006 - time (sec): 7.61 - samples/sec: 4598.53 - lr: 0.051200 - momentum: 0.000000\n",
            "2023-12-15 20:46:15,433 epoch 46 - iter 160/167 - loss 0.22691813 - time (sec): 8.51 - samples/sec: 4527.68 - lr: 0.051200 - momentum: 0.000000\n",
            "2023-12-15 20:46:15,827 ----------------------------------------------------------------------------------------------------\n",
            "2023-12-15 20:46:15,829 EPOCH 46 done: loss 0.2268 - lr: 0.051200\n"
          ]
        },
        {
          "metadata": {
            "tags": null
          },
          "name": "stderr",
          "output_type": "stream",
          "text": [
            "100%|██████████| 9/9 [00:00<00:00, 11.98it/s]"
          ]
        },
        {
          "metadata": {
            "tags": null
          },
          "name": "stdout",
          "output_type": "stream",
          "text": [
            "2023-12-15 20:46:16,608 DEV : loss 0.1727294772863388 - f1-score (micro avg)  0.7765\n",
            "2023-12-15 20:46:16,623  - 0 epochs without improvement\n",
            "2023-12-15 20:46:16,625 saving best model\n"
          ]
        },
        {
          "metadata": {
            "tags": null
          },
          "name": "stderr",
          "output_type": "stream",
          "text": [
            "\n"
          ]
        },
        {
          "metadata": {
            "tags": null
          },
          "name": "stdout",
          "output_type": "stream",
          "text": [
            "2023-12-15 20:46:17,429 ----------------------------------------------------------------------------------------------------\n",
            "2023-12-15 20:46:18,226 epoch 47 - iter 16/167 - loss 0.22531148 - time (sec): 0.79 - samples/sec: 5085.20 - lr: 0.051200 - momentum: 0.000000\n",
            "2023-12-15 20:46:18,956 epoch 47 - iter 32/167 - loss 0.23659312 - time (sec): 1.52 - samples/sec: 5022.27 - lr: 0.051200 - momentum: 0.000000\n",
            "2023-12-15 20:46:19,693 epoch 47 - iter 48/167 - loss 0.23473821 - time (sec): 2.26 - samples/sec: 5040.78 - lr: 0.051200 - momentum: 0.000000\n",
            "2023-12-15 20:46:20,456 epoch 47 - iter 64/167 - loss 0.23023938 - time (sec): 3.02 - samples/sec: 5076.84 - lr: 0.051200 - momentum: 0.000000\n",
            "2023-12-15 20:46:21,250 epoch 47 - iter 80/167 - loss 0.23145193 - time (sec): 3.82 - samples/sec: 5030.24 - lr: 0.051200 - momentum: 0.000000\n",
            "2023-12-15 20:46:21,830 epoch 47 - iter 96/167 - loss 0.23456631 - time (sec): 4.39 - samples/sec: 5179.75 - lr: 0.051200 - momentum: 0.000000\n",
            "2023-12-15 20:46:22,496 epoch 47 - iter 112/167 - loss 0.23304840 - time (sec): 5.06 - samples/sec: 5233.87 - lr: 0.051200 - momentum: 0.000000\n",
            "2023-12-15 20:46:23,225 epoch 47 - iter 128/167 - loss 0.23227075 - time (sec): 5.79 - samples/sec: 5247.65 - lr: 0.051200 - momentum: 0.000000\n",
            "2023-12-15 20:46:24,184 epoch 47 - iter 144/167 - loss 0.23018342 - time (sec): 6.75 - samples/sec: 5100.30 - lr: 0.051200 - momentum: 0.000000\n",
            "2023-12-15 20:46:25,036 epoch 47 - iter 160/167 - loss 0.22895655 - time (sec): 7.60 - samples/sec: 5055.32 - lr: 0.051200 - momentum: 0.000000\n",
            "2023-12-15 20:46:25,578 ----------------------------------------------------------------------------------------------------\n",
            "2023-12-15 20:46:25,580 EPOCH 47 done: loss 0.2283 - lr: 0.051200\n"
          ]
        },
        {
          "metadata": {
            "tags": null
          },
          "name": "stderr",
          "output_type": "stream",
          "text": [
            "100%|██████████| 9/9 [00:01<00:00,  5.33it/s]"
          ]
        },
        {
          "metadata": {
            "tags": null
          },
          "name": "stdout",
          "output_type": "stream",
          "text": [
            "2023-12-15 20:46:27,308 DEV : loss 0.1714988350868225 - f1-score (micro avg)  0.7429\n",
            "2023-12-15 20:46:27,340  - 1 epochs without improvement\n",
            "2023-12-15 20:46:27,342 ----------------------------------------------------------------------------------------------------\n"
          ]
        },
        {
          "metadata": {
            "tags": null
          },
          "name": "stderr",
          "output_type": "stream",
          "text": [
            "\n"
          ]
        },
        {
          "metadata": {
            "tags": null
          },
          "name": "stdout",
          "output_type": "stream",
          "text": [
            "2023-12-15 20:46:28,426 epoch 48 - iter 16/167 - loss 0.21638954 - time (sec): 1.08 - samples/sec: 3763.18 - lr: 0.051200 - momentum: 0.000000\n",
            "2023-12-15 20:46:29,272 epoch 48 - iter 32/167 - loss 0.22086222 - time (sec): 1.93 - samples/sec: 4188.38 - lr: 0.051200 - momentum: 0.000000\n",
            "2023-12-15 20:46:30,066 epoch 48 - iter 48/167 - loss 0.21701501 - time (sec): 2.72 - samples/sec: 4429.99 - lr: 0.051200 - momentum: 0.000000\n",
            "2023-12-15 20:46:30,821 epoch 48 - iter 64/167 - loss 0.21614028 - time (sec): 3.48 - samples/sec: 4563.02 - lr: 0.051200 - momentum: 0.000000\n",
            "2023-12-15 20:46:31,656 epoch 48 - iter 80/167 - loss 0.22058387 - time (sec): 4.31 - samples/sec: 4595.50 - lr: 0.051200 - momentum: 0.000000\n",
            "2023-12-15 20:46:32,394 epoch 48 - iter 96/167 - loss 0.22138291 - time (sec): 5.05 - samples/sec: 4666.59 - lr: 0.051200 - momentum: 0.000000\n",
            "2023-12-15 20:46:33,056 epoch 48 - iter 112/167 - loss 0.22248379 - time (sec): 5.71 - samples/sec: 4759.59 - lr: 0.051200 - momentum: 0.000000\n",
            "2023-12-15 20:46:33,742 epoch 48 - iter 128/167 - loss 0.22328325 - time (sec): 6.40 - samples/sec: 4846.73 - lr: 0.051200 - momentum: 0.000000\n",
            "2023-12-15 20:46:34,561 epoch 48 - iter 144/167 - loss 0.22466016 - time (sec): 7.22 - samples/sec: 4839.60 - lr: 0.051200 - momentum: 0.000000\n",
            "2023-12-15 20:46:35,248 epoch 48 - iter 160/167 - loss 0.22387070 - time (sec): 7.90 - samples/sec: 4896.83 - lr: 0.051200 - momentum: 0.000000\n",
            "2023-12-15 20:46:35,521 ----------------------------------------------------------------------------------------------------\n",
            "2023-12-15 20:46:35,523 EPOCH 48 done: loss 0.2249 - lr: 0.051200\n"
          ]
        },
        {
          "metadata": {
            "tags": null
          },
          "name": "stderr",
          "output_type": "stream",
          "text": [
            "100%|██████████| 9/9 [00:00<00:00, 11.78it/s]"
          ]
        },
        {
          "metadata": {
            "tags": null
          },
          "name": "stdout",
          "output_type": "stream",
          "text": [
            "2023-12-15 20:46:36,315 DEV : loss 0.17306554317474365 - f1-score (micro avg)  0.7787\n",
            "2023-12-15 20:46:36,332  - 0 epochs without improvement\n",
            "2023-12-15 20:46:36,333 saving best model\n"
          ]
        },
        {
          "metadata": {
            "tags": null
          },
          "name": "stderr",
          "output_type": "stream",
          "text": [
            "\n"
          ]
        },
        {
          "metadata": {
            "tags": null
          },
          "name": "stdout",
          "output_type": "stream",
          "text": [
            "2023-12-15 20:46:37,125 ----------------------------------------------------------------------------------------------------\n",
            "2023-12-15 20:46:37,926 epoch 49 - iter 16/167 - loss 0.21354061 - time (sec): 0.79 - samples/sec: 5012.14 - lr: 0.051200 - momentum: 0.000000\n",
            "2023-12-15 20:46:38,905 epoch 49 - iter 32/167 - loss 0.22793941 - time (sec): 1.77 - samples/sec: 4299.26 - lr: 0.051200 - momentum: 0.000000\n",
            "2023-12-15 20:46:39,951 epoch 49 - iter 48/167 - loss 0.22315794 - time (sec): 2.82 - samples/sec: 4070.68 - lr: 0.051200 - momentum: 0.000000\n",
            "2023-12-15 20:46:41,240 epoch 49 - iter 64/167 - loss 0.21262758 - time (sec): 4.11 - samples/sec: 3817.73 - lr: 0.051200 - momentum: 0.000000\n",
            "2023-12-15 20:46:42,004 epoch 49 - iter 80/167 - loss 0.21519342 - time (sec): 4.87 - samples/sec: 4035.92 - lr: 0.051200 - momentum: 0.000000\n",
            "2023-12-15 20:46:42,710 epoch 49 - iter 96/167 - loss 0.21776315 - time (sec): 5.58 - samples/sec: 4179.11 - lr: 0.051200 - momentum: 0.000000\n",
            "2023-12-15 20:46:43,389 epoch 49 - iter 112/167 - loss 0.22067763 - time (sec): 6.26 - samples/sec: 4305.76 - lr: 0.051200 - momentum: 0.000000\n",
            "2023-12-15 20:46:44,223 epoch 49 - iter 128/167 - loss 0.21956613 - time (sec): 7.09 - samples/sec: 4367.72 - lr: 0.051200 - momentum: 0.000000\n",
            "2023-12-15 20:46:44,896 epoch 49 - iter 144/167 - loss 0.22324801 - time (sec): 7.76 - samples/sec: 4455.35 - lr: 0.051200 - momentum: 0.000000\n",
            "2023-12-15 20:46:45,839 epoch 49 - iter 160/167 - loss 0.22193367 - time (sec): 8.71 - samples/sec: 4455.00 - lr: 0.051200 - momentum: 0.000000\n",
            "2023-12-15 20:46:46,103 ----------------------------------------------------------------------------------------------------\n",
            "2023-12-15 20:46:46,105 EPOCH 49 done: loss 0.2227 - lr: 0.051200\n"
          ]
        },
        {
          "metadata": {
            "tags": null
          },
          "name": "stderr",
          "output_type": "stream",
          "text": [
            "100%|██████████| 9/9 [00:00<00:00, 12.14it/s]"
          ]
        },
        {
          "metadata": {
            "tags": null
          },
          "name": "stdout",
          "output_type": "stream",
          "text": [
            "2023-12-15 20:46:46,873 DEV : loss 0.17610417306423187 - f1-score (micro avg)  0.77\n",
            "2023-12-15 20:46:46,888  - 1 epochs without improvement\n",
            "2023-12-15 20:46:46,889 ----------------------------------------------------------------------------------------------------\n"
          ]
        },
        {
          "metadata": {
            "tags": null
          },
          "name": "stderr",
          "output_type": "stream",
          "text": [
            "\n"
          ]
        },
        {
          "metadata": {
            "tags": null
          },
          "name": "stdout",
          "output_type": "stream",
          "text": [
            "2023-12-15 20:46:47,580 epoch 50 - iter 16/167 - loss 0.24037687 - time (sec): 0.69 - samples/sec: 5284.59 - lr: 0.051200 - momentum: 0.000000\n",
            "2023-12-15 20:46:48,241 epoch 50 - iter 32/167 - loss 0.23430259 - time (sec): 1.35 - samples/sec: 5547.55 - lr: 0.051200 - momentum: 0.000000\n",
            "2023-12-15 20:46:49,059 epoch 50 - iter 48/167 - loss 0.22706907 - time (sec): 2.17 - samples/sec: 5249.41 - lr: 0.051200 - momentum: 0.000000\n",
            "2023-12-15 20:46:49,845 epoch 50 - iter 64/167 - loss 0.22517728 - time (sec): 2.95 - samples/sec: 5191.54 - lr: 0.051200 - momentum: 0.000000\n",
            "2023-12-15 20:46:50,622 epoch 50 - iter 80/167 - loss 0.22435226 - time (sec): 3.73 - samples/sec: 5168.13 - lr: 0.051200 - momentum: 0.000000\n",
            "2023-12-15 20:46:51,631 epoch 50 - iter 96/167 - loss 0.22705039 - time (sec): 4.74 - samples/sec: 4883.11 - lr: 0.051200 - momentum: 0.000000\n",
            "2023-12-15 20:46:52,611 epoch 50 - iter 112/167 - loss 0.22400552 - time (sec): 5.72 - samples/sec: 4694.25 - lr: 0.051200 - momentum: 0.000000\n",
            "2023-12-15 20:46:53,627 epoch 50 - iter 128/167 - loss 0.22538034 - time (sec): 6.73 - samples/sec: 4552.56 - lr: 0.051200 - momentum: 0.000000\n",
            "2023-12-15 20:46:54,487 epoch 50 - iter 144/167 - loss 0.22658582 - time (sec): 7.59 - samples/sec: 4539.62 - lr: 0.051200 - momentum: 0.000000\n",
            "2023-12-15 20:46:55,283 epoch 50 - iter 160/167 - loss 0.22389109 - time (sec): 8.39 - samples/sec: 4584.90 - lr: 0.051200 - momentum: 0.000000\n",
            "2023-12-15 20:46:55,735 ----------------------------------------------------------------------------------------------------\n",
            "2023-12-15 20:46:55,736 EPOCH 50 done: loss 0.2238 - lr: 0.051200\n"
          ]
        },
        {
          "metadata": {
            "tags": null
          },
          "name": "stderr",
          "output_type": "stream",
          "text": [
            "100%|██████████| 9/9 [00:00<00:00, 11.89it/s]"
          ]
        },
        {
          "metadata": {
            "tags": null
          },
          "name": "stdout",
          "output_type": "stream",
          "text": [
            "2023-12-15 20:46:56,521 DEV : loss 0.16506348550319672 - f1-score (micro avg)  0.7862\n",
            "2023-12-15 20:46:56,537  - 0 epochs without improvement\n",
            "2023-12-15 20:46:56,539 saving best model\n"
          ]
        },
        {
          "metadata": {
            "tags": null
          },
          "name": "stderr",
          "output_type": "stream",
          "text": [
            "\n"
          ]
        },
        {
          "metadata": {
            "tags": null
          },
          "name": "stdout",
          "output_type": "stream",
          "text": [
            "2023-12-15 20:46:57,331 ----------------------------------------------------------------------------------------------------\n",
            "2023-12-15 20:46:58,191 epoch 51 - iter 16/167 - loss 0.22970070 - time (sec): 0.86 - samples/sec: 4534.44 - lr: 0.051200 - momentum: 0.000000\n",
            "2023-12-15 20:46:58,971 epoch 51 - iter 32/167 - loss 0.22515135 - time (sec): 1.64 - samples/sec: 4665.54 - lr: 0.051200 - momentum: 0.000000\n",
            "2023-12-15 20:46:59,812 epoch 51 - iter 48/167 - loss 0.22381621 - time (sec): 2.48 - samples/sec: 4667.92 - lr: 0.051200 - momentum: 0.000000\n",
            "2023-12-15 20:47:00,490 epoch 51 - iter 64/167 - loss 0.22468287 - time (sec): 3.16 - samples/sec: 4884.22 - lr: 0.051200 - momentum: 0.000000\n",
            "2023-12-15 20:47:01,294 epoch 51 - iter 80/167 - loss 0.22321068 - time (sec): 3.96 - samples/sec: 4824.51 - lr: 0.051200 - momentum: 0.000000\n",
            "2023-12-15 20:47:02,084 epoch 51 - iter 96/167 - loss 0.22285239 - time (sec): 4.75 - samples/sec: 4830.01 - lr: 0.051200 - momentum: 0.000000\n",
            "2023-12-15 20:47:02,863 epoch 51 - iter 112/167 - loss 0.22066226 - time (sec): 5.53 - samples/sec: 4866.61 - lr: 0.051200 - momentum: 0.000000\n",
            "2023-12-15 20:47:03,825 epoch 51 - iter 128/167 - loss 0.21944242 - time (sec): 6.49 - samples/sec: 4722.57 - lr: 0.051200 - momentum: 0.000000\n",
            "2023-12-15 20:47:05,029 epoch 51 - iter 144/167 - loss 0.21622563 - time (sec): 7.69 - samples/sec: 4518.31 - lr: 0.051200 - momentum: 0.000000\n",
            "2023-12-15 20:47:06,023 epoch 51 - iter 160/167 - loss 0.21738833 - time (sec): 8.69 - samples/sec: 4444.43 - lr: 0.051200 - momentum: 0.000000\n",
            "2023-12-15 20:47:06,294 ----------------------------------------------------------------------------------------------------\n",
            "2023-12-15 20:47:06,296 EPOCH 51 done: loss 0.2188 - lr: 0.051200\n"
          ]
        },
        {
          "metadata": {
            "tags": null
          },
          "name": "stderr",
          "output_type": "stream",
          "text": [
            "100%|██████████| 9/9 [00:00<00:00, 12.25it/s]"
          ]
        },
        {
          "metadata": {
            "tags": null
          },
          "name": "stdout",
          "output_type": "stream",
          "text": [
            "2023-12-15 20:47:07,057 DEV : loss 0.16634458303451538 - f1-score (micro avg)  0.801\n",
            "2023-12-15 20:47:07,077  - 0 epochs without improvement\n",
            "2023-12-15 20:47:07,079 saving best model\n"
          ]
        },
        {
          "metadata": {
            "tags": null
          },
          "name": "stderr",
          "output_type": "stream",
          "text": [
            "\n"
          ]
        },
        {
          "metadata": {
            "tags": null
          },
          "name": "stdout",
          "output_type": "stream",
          "text": [
            "2023-12-15 20:47:07,843 ----------------------------------------------------------------------------------------------------\n",
            "2023-12-15 20:47:08,600 epoch 52 - iter 16/167 - loss 0.22364371 - time (sec): 0.75 - samples/sec: 4889.81 - lr: 0.051200 - momentum: 0.000000\n",
            "2023-12-15 20:47:09,311 epoch 52 - iter 32/167 - loss 0.22937200 - time (sec): 1.46 - samples/sec: 5048.23 - lr: 0.051200 - momentum: 0.000000\n",
            "2023-12-15 20:47:09,961 epoch 52 - iter 48/167 - loss 0.23160650 - time (sec): 2.11 - samples/sec: 5240.81 - lr: 0.051200 - momentum: 0.000000\n",
            "2023-12-15 20:47:10,780 epoch 52 - iter 64/167 - loss 0.22297766 - time (sec): 2.93 - samples/sec: 5144.50 - lr: 0.051200 - momentum: 0.000000\n",
            "2023-12-15 20:47:11,588 epoch 52 - iter 80/167 - loss 0.22305343 - time (sec): 3.74 - samples/sec: 5079.87 - lr: 0.051200 - momentum: 0.000000\n",
            "2023-12-15 20:47:12,409 epoch 52 - iter 96/167 - loss 0.21997247 - time (sec): 4.56 - samples/sec: 5076.88 - lr: 0.051200 - momentum: 0.000000\n",
            "2023-12-15 20:47:13,139 epoch 52 - iter 112/167 - loss 0.22124133 - time (sec): 5.29 - samples/sec: 5090.48 - lr: 0.051200 - momentum: 0.000000\n",
            "2023-12-15 20:47:13,975 epoch 52 - iter 128/167 - loss 0.22195992 - time (sec): 6.13 - samples/sec: 5001.37 - lr: 0.051200 - momentum: 0.000000\n",
            "2023-12-15 20:47:14,875 epoch 52 - iter 144/167 - loss 0.22091057 - time (sec): 7.03 - samples/sec: 4958.17 - lr: 0.051200 - momentum: 0.000000\n",
            "2023-12-15 20:47:15,598 epoch 52 - iter 160/167 - loss 0.22020709 - time (sec): 7.75 - samples/sec: 4971.60 - lr: 0.051200 - momentum: 0.000000\n",
            "2023-12-15 20:47:16,132 ----------------------------------------------------------------------------------------------------\n",
            "2023-12-15 20:47:16,138 EPOCH 52 done: loss 0.2193 - lr: 0.051200\n"
          ]
        },
        {
          "metadata": {
            "tags": null
          },
          "name": "stderr",
          "output_type": "stream",
          "text": [
            "100%|██████████| 9/9 [00:01<00:00,  7.75it/s]"
          ]
        },
        {
          "metadata": {
            "tags": null
          },
          "name": "stdout",
          "output_type": "stream",
          "text": [
            "2023-12-15 20:47:17,336 DEV : loss 0.1656695306301117 - f1-score (micro avg)  0.7806\n",
            "2023-12-15 20:47:17,363  - 1 epochs without improvement\n",
            "2023-12-15 20:47:17,368 ----------------------------------------------------------------------------------------------------\n"
          ]
        },
        {
          "metadata": {
            "tags": null
          },
          "name": "stderr",
          "output_type": "stream",
          "text": [
            "\n"
          ]
        },
        {
          "metadata": {
            "tags": null
          },
          "name": "stdout",
          "output_type": "stream",
          "text": [
            "2023-12-15 20:47:18,642 epoch 53 - iter 16/167 - loss 0.20228259 - time (sec): 1.27 - samples/sec: 3075.51 - lr: 0.051200 - momentum: 0.000000\n",
            "2023-12-15 20:47:19,395 epoch 53 - iter 32/167 - loss 0.20984165 - time (sec): 2.02 - samples/sec: 3792.63 - lr: 0.051200 - momentum: 0.000000\n",
            "2023-12-15 20:47:20,105 epoch 53 - iter 48/167 - loss 0.21419464 - time (sec): 2.73 - samples/sec: 4156.33 - lr: 0.051200 - momentum: 0.000000\n",
            "2023-12-15 20:47:20,770 epoch 53 - iter 64/167 - loss 0.21715729 - time (sec): 3.40 - samples/sec: 4416.82 - lr: 0.051200 - momentum: 0.000000\n",
            "2023-12-15 20:47:21,446 epoch 53 - iter 80/167 - loss 0.21990630 - time (sec): 4.08 - samples/sec: 4628.92 - lr: 0.051200 - momentum: 0.000000\n",
            "2023-12-15 20:47:22,254 epoch 53 - iter 96/167 - loss 0.21677680 - time (sec): 4.88 - samples/sec: 4683.68 - lr: 0.051200 - momentum: 0.000000\n",
            "2023-12-15 20:47:23,134 epoch 53 - iter 112/167 - loss 0.21373301 - time (sec): 5.76 - samples/sec: 4666.58 - lr: 0.051200 - momentum: 0.000000\n",
            "2023-12-15 20:47:24,014 epoch 53 - iter 128/167 - loss 0.21515225 - time (sec): 6.64 - samples/sec: 4644.35 - lr: 0.051200 - momentum: 0.000000\n",
            "2023-12-15 20:47:24,721 epoch 53 - iter 144/167 - loss 0.21530062 - time (sec): 7.35 - samples/sec: 4715.92 - lr: 0.051200 - momentum: 0.000000\n",
            "2023-12-15 20:47:25,517 epoch 53 - iter 160/167 - loss 0.21406916 - time (sec): 8.15 - samples/sec: 4750.43 - lr: 0.051200 - momentum: 0.000000\n",
            "2023-12-15 20:47:25,800 ----------------------------------------------------------------------------------------------------\n",
            "2023-12-15 20:47:25,801 EPOCH 53 done: loss 0.2156 - lr: 0.051200\n"
          ]
        },
        {
          "metadata": {
            "tags": null
          },
          "name": "stderr",
          "output_type": "stream",
          "text": [
            "100%|██████████| 9/9 [00:00<00:00, 12.16it/s]"
          ]
        },
        {
          "metadata": {
            "tags": null
          },
          "name": "stdout",
          "output_type": "stream",
          "text": [
            "2023-12-15 20:47:26,570 DEV : loss 0.15845520794391632 - f1-score (micro avg)  0.7671\n",
            "2023-12-15 20:47:26,586  - 2 epochs without improvement\n",
            "2023-12-15 20:47:26,588 ----------------------------------------------------------------------------------------------------\n"
          ]
        },
        {
          "metadata": {
            "tags": null
          },
          "name": "stderr",
          "output_type": "stream",
          "text": [
            "\n"
          ]
        },
        {
          "metadata": {
            "tags": null
          },
          "name": "stdout",
          "output_type": "stream",
          "text": [
            "2023-12-15 20:47:27,258 epoch 54 - iter 16/167 - loss 0.21759832 - time (sec): 0.67 - samples/sec: 5533.74 - lr: 0.051200 - momentum: 0.000000\n",
            "2023-12-15 20:47:27,965 epoch 54 - iter 32/167 - loss 0.22188800 - time (sec): 1.37 - samples/sec: 5372.98 - lr: 0.051200 - momentum: 0.000000\n",
            "2023-12-15 20:47:28,879 epoch 54 - iter 48/167 - loss 0.22014366 - time (sec): 2.29 - samples/sec: 4881.58 - lr: 0.051200 - momentum: 0.000000\n",
            "2023-12-15 20:47:29,900 epoch 54 - iter 64/167 - loss 0.22026158 - time (sec): 3.31 - samples/sec: 4534.49 - lr: 0.051200 - momentum: 0.000000\n",
            "2023-12-15 20:47:31,241 epoch 54 - iter 80/167 - loss 0.21628418 - time (sec): 4.65 - samples/sec: 4106.83 - lr: 0.051200 - momentum: 0.000000\n",
            "2023-12-15 20:47:31,932 epoch 54 - iter 96/167 - loss 0.21575752 - time (sec): 5.34 - samples/sec: 4255.70 - lr: 0.051200 - momentum: 0.000000\n",
            "2023-12-15 20:47:32,703 epoch 54 - iter 112/167 - loss 0.21414691 - time (sec): 6.11 - samples/sec: 4359.90 - lr: 0.051200 - momentum: 0.000000\n",
            "2023-12-15 20:47:33,505 epoch 54 - iter 128/167 - loss 0.21564691 - time (sec): 6.91 - samples/sec: 4416.32 - lr: 0.051200 - momentum: 0.000000\n",
            "2023-12-15 20:47:34,344 epoch 54 - iter 144/167 - loss 0.21803303 - time (sec): 7.75 - samples/sec: 4460.58 - lr: 0.051200 - momentum: 0.000000\n",
            "2023-12-15 20:47:35,148 epoch 54 - iter 160/167 - loss 0.21425842 - time (sec): 8.56 - samples/sec: 4511.54 - lr: 0.051200 - momentum: 0.000000\n",
            "2023-12-15 20:47:35,496 ----------------------------------------------------------------------------------------------------\n",
            "2023-12-15 20:47:35,498 EPOCH 54 done: loss 0.2150 - lr: 0.051200\n"
          ]
        },
        {
          "metadata": {
            "tags": null
          },
          "name": "stderr",
          "output_type": "stream",
          "text": [
            "100%|██████████| 9/9 [00:00<00:00, 12.16it/s]"
          ]
        },
        {
          "metadata": {
            "tags": null
          },
          "name": "stdout",
          "output_type": "stream",
          "text": [
            "2023-12-15 20:47:36,268 DEV : loss 0.15725743770599365 - f1-score (micro avg)  0.7887\n",
            "2023-12-15 20:47:36,284  - 3 epochs without improvement\n",
            "2023-12-15 20:47:36,287 ----------------------------------------------------------------------------------------------------\n"
          ]
        },
        {
          "metadata": {
            "tags": null
          },
          "name": "stderr",
          "output_type": "stream",
          "text": [
            "\n"
          ]
        },
        {
          "metadata": {
            "tags": null
          },
          "name": "stdout",
          "output_type": "stream",
          "text": [
            "2023-12-15 20:47:37,054 epoch 55 - iter 16/167 - loss 0.21031330 - time (sec): 0.76 - samples/sec: 5127.59 - lr: 0.051200 - momentum: 0.000000\n",
            "2023-12-15 20:47:37,734 epoch 55 - iter 32/167 - loss 0.21104092 - time (sec): 1.44 - samples/sec: 5333.63 - lr: 0.051200 - momentum: 0.000000\n",
            "2023-12-15 20:47:38,374 epoch 55 - iter 48/167 - loss 0.20930454 - time (sec): 2.09 - samples/sec: 5466.44 - lr: 0.051200 - momentum: 0.000000\n",
            "2023-12-15 20:47:39,188 epoch 55 - iter 64/167 - loss 0.21237994 - time (sec): 2.90 - samples/sec: 5224.40 - lr: 0.051200 - momentum: 0.000000\n",
            "2023-12-15 20:47:40,183 epoch 55 - iter 80/167 - loss 0.20959378 - time (sec): 3.89 - samples/sec: 4989.45 - lr: 0.051200 - momentum: 0.000000\n",
            "2023-12-15 20:47:40,981 epoch 55 - iter 96/167 - loss 0.20716054 - time (sec): 4.69 - samples/sec: 4986.69 - lr: 0.051200 - momentum: 0.000000\n",
            "2023-12-15 20:47:41,829 epoch 55 - iter 112/167 - loss 0.21185661 - time (sec): 5.54 - samples/sec: 4880.81 - lr: 0.051200 - momentum: 0.000000\n",
            "2023-12-15 20:47:42,778 epoch 55 - iter 128/167 - loss 0.21267384 - time (sec): 6.49 - samples/sec: 4742.88 - lr: 0.051200 - momentum: 0.000000\n",
            "2023-12-15 20:47:43,918 epoch 55 - iter 144/167 - loss 0.21274820 - time (sec): 7.63 - samples/sec: 4545.13 - lr: 0.051200 - momentum: 0.000000\n",
            "2023-12-15 20:47:44,679 epoch 55 - iter 160/167 - loss 0.21416283 - time (sec): 8.39 - samples/sec: 4604.99 - lr: 0.051200 - momentum: 0.000000\n",
            "2023-12-15 20:47:44,968 ----------------------------------------------------------------------------------------------------\n",
            "2023-12-15 20:47:44,974 EPOCH 55 done: loss 0.2145 - lr: 0.051200\n"
          ]
        },
        {
          "metadata": {
            "tags": null
          },
          "name": "stderr",
          "output_type": "stream",
          "text": [
            "100%|██████████| 9/9 [00:00<00:00, 12.43it/s]"
          ]
        },
        {
          "metadata": {
            "tags": null
          },
          "name": "stdout",
          "output_type": "stream",
          "text": [
            "2023-12-15 20:47:45,726 DEV : loss 0.15922874212265015 - f1-score (micro avg)  0.8149\n",
            "2023-12-15 20:47:45,743  - 0 epochs without improvement\n",
            "2023-12-15 20:47:45,744 saving best model\n"
          ]
        },
        {
          "metadata": {
            "tags": null
          },
          "name": "stderr",
          "output_type": "stream",
          "text": [
            "\n"
          ]
        },
        {
          "metadata": {
            "tags": null
          },
          "name": "stdout",
          "output_type": "stream",
          "text": [
            "2023-12-15 20:47:46,519 ----------------------------------------------------------------------------------------------------\n",
            "2023-12-15 20:47:47,370 epoch 56 - iter 16/167 - loss 0.20681730 - time (sec): 0.85 - samples/sec: 4549.98 - lr: 0.051200 - momentum: 0.000000\n",
            "2023-12-15 20:47:48,175 epoch 56 - iter 32/167 - loss 0.20984776 - time (sec): 1.65 - samples/sec: 4648.50 - lr: 0.051200 - momentum: 0.000000\n",
            "2023-12-15 20:47:48,888 epoch 56 - iter 48/167 - loss 0.21049208 - time (sec): 2.37 - samples/sec: 4910.79 - lr: 0.051200 - momentum: 0.000000\n",
            "2023-12-15 20:47:49,588 epoch 56 - iter 64/167 - loss 0.21597627 - time (sec): 3.07 - samples/sec: 5026.03 - lr: 0.051200 - momentum: 0.000000\n",
            "2023-12-15 20:47:50,322 epoch 56 - iter 80/167 - loss 0.21635565 - time (sec): 3.80 - samples/sec: 5063.66 - lr: 0.051200 - momentum: 0.000000\n",
            "2023-12-15 20:47:50,939 epoch 56 - iter 96/167 - loss 0.21589139 - time (sec): 4.42 - samples/sec: 5172.57 - lr: 0.051200 - momentum: 0.000000\n",
            "2023-12-15 20:47:51,790 epoch 56 - iter 112/167 - loss 0.21522145 - time (sec): 5.27 - samples/sec: 5095.31 - lr: 0.051200 - momentum: 0.000000\n",
            "2023-12-15 20:47:52,747 epoch 56 - iter 128/167 - loss 0.21380582 - time (sec): 6.22 - samples/sec: 4974.86 - lr: 0.051200 - momentum: 0.000000\n",
            "2023-12-15 20:47:53,542 epoch 56 - iter 144/167 - loss 0.21424485 - time (sec): 7.02 - samples/sec: 4947.14 - lr: 0.051200 - momentum: 0.000000\n",
            "2023-12-15 20:47:54,380 epoch 56 - iter 160/167 - loss 0.21518069 - time (sec): 7.86 - samples/sec: 4881.87 - lr: 0.051200 - momentum: 0.000000\n",
            "2023-12-15 20:47:55,016 ----------------------------------------------------------------------------------------------------\n",
            "2023-12-15 20:47:55,019 EPOCH 56 done: loss 0.2150 - lr: 0.051200\n"
          ]
        },
        {
          "metadata": {
            "tags": null
          },
          "name": "stderr",
          "output_type": "stream",
          "text": [
            "100%|██████████| 9/9 [00:01<00:00,  7.55it/s]\n"
          ]
        },
        {
          "metadata": {
            "tags": null
          },
          "name": "stdout",
          "output_type": "stream",
          "text": [
            "2023-12-15 20:47:56,254 DEV : loss 0.1492953896522522 - f1-score (micro avg)  0.7873\n",
            "2023-12-15 20:47:56,279  - 1 epochs without improvement\n",
            "2023-12-15 20:47:56,285 ----------------------------------------------------------------------------------------------------\n",
            "2023-12-15 20:47:57,147 epoch 57 - iter 16/167 - loss 0.20827904 - time (sec): 0.86 - samples/sec: 4561.57 - lr: 0.051200 - momentum: 0.000000\n",
            "2023-12-15 20:47:57,802 epoch 57 - iter 32/167 - loss 0.21970447 - time (sec): 1.51 - samples/sec: 4832.97 - lr: 0.051200 - momentum: 0.000000\n",
            "2023-12-15 20:47:58,542 epoch 57 - iter 48/167 - loss 0.21375569 - time (sec): 2.25 - samples/sec: 4951.68 - lr: 0.051200 - momentum: 0.000000\n",
            "2023-12-15 20:47:59,590 epoch 57 - iter 64/167 - loss 0.21067070 - time (sec): 3.30 - samples/sec: 4652.38 - lr: 0.051200 - momentum: 0.000000\n",
            "2023-12-15 20:48:00,448 epoch 57 - iter 80/167 - loss 0.20864493 - time (sec): 4.16 - samples/sec: 4657.94 - lr: 0.051200 - momentum: 0.000000\n",
            "2023-12-15 20:48:01,266 epoch 57 - iter 96/167 - loss 0.21028038 - time (sec): 4.98 - samples/sec: 4646.98 - lr: 0.051200 - momentum: 0.000000\n",
            "2023-12-15 20:48:01,938 epoch 57 - iter 112/167 - loss 0.21357208 - time (sec): 5.65 - samples/sec: 4741.09 - lr: 0.051200 - momentum: 0.000000\n",
            "2023-12-15 20:48:02,641 epoch 57 - iter 128/167 - loss 0.21260361 - time (sec): 6.35 - samples/sec: 4851.65 - lr: 0.051200 - momentum: 0.000000\n",
            "2023-12-15 20:48:03,405 epoch 57 - iter 144/167 - loss 0.21308214 - time (sec): 7.12 - samples/sec: 4882.43 - lr: 0.051200 - momentum: 0.000000\n",
            "2023-12-15 20:48:04,158 epoch 57 - iter 160/167 - loss 0.21394120 - time (sec): 7.87 - samples/sec: 4902.92 - lr: 0.051200 - momentum: 0.000000\n",
            "2023-12-15 20:48:04,498 ----------------------------------------------------------------------------------------------------\n",
            "2023-12-15 20:48:04,500 EPOCH 57 done: loss 0.2150 - lr: 0.051200\n"
          ]
        },
        {
          "metadata": {
            "tags": null
          },
          "name": "stderr",
          "output_type": "stream",
          "text": [
            "100%|██████████| 9/9 [00:00<00:00, 12.11it/s]"
          ]
        },
        {
          "metadata": {
            "tags": null
          },
          "name": "stdout",
          "output_type": "stream",
          "text": [
            "2023-12-15 20:48:05,274 DEV : loss 0.14991970360279083 - f1-score (micro avg)  0.8086\n",
            "2023-12-15 20:48:05,290  - 2 epochs without improvement\n",
            "2023-12-15 20:48:05,291 ----------------------------------------------------------------------------------------------------\n"
          ]
        },
        {
          "metadata": {
            "tags": null
          },
          "name": "stderr",
          "output_type": "stream",
          "text": [
            "\n"
          ]
        },
        {
          "metadata": {
            "tags": null
          },
          "name": "stdout",
          "output_type": "stream",
          "text": [
            "2023-12-15 20:48:06,045 epoch 58 - iter 16/167 - loss 0.20837549 - time (sec): 0.75 - samples/sec: 5100.81 - lr: 0.051200 - momentum: 0.000000\n",
            "2023-12-15 20:48:06,910 epoch 58 - iter 32/167 - loss 0.21704802 - time (sec): 1.62 - samples/sec: 4671.74 - lr: 0.051200 - momentum: 0.000000\n",
            "2023-12-15 20:48:08,139 epoch 58 - iter 48/167 - loss 0.20398202 - time (sec): 2.84 - samples/sec: 4095.24 - lr: 0.051200 - momentum: 0.000000\n",
            "2023-12-15 20:48:09,455 epoch 58 - iter 64/167 - loss 0.20039700 - time (sec): 4.16 - samples/sec: 3789.62 - lr: 0.051200 - momentum: 0.000000\n",
            "2023-12-15 20:48:10,170 epoch 58 - iter 80/167 - loss 0.20253413 - time (sec): 4.87 - samples/sec: 4022.25 - lr: 0.051200 - momentum: 0.000000\n",
            "2023-12-15 20:48:10,912 epoch 58 - iter 96/167 - loss 0.20519991 - time (sec): 5.62 - samples/sec: 4187.58 - lr: 0.051200 - momentum: 0.000000\n",
            "2023-12-15 20:48:11,610 epoch 58 - iter 112/167 - loss 0.20690597 - time (sec): 6.32 - samples/sec: 4297.96 - lr: 0.051200 - momentum: 0.000000\n",
            "2023-12-15 20:48:12,340 epoch 58 - iter 128/167 - loss 0.20759361 - time (sec): 7.05 - samples/sec: 4392.22 - lr: 0.051200 - momentum: 0.000000\n",
            "2023-12-15 20:48:13,131 epoch 58 - iter 144/167 - loss 0.20842964 - time (sec): 7.84 - samples/sec: 4440.86 - lr: 0.051200 - momentum: 0.000000\n",
            "2023-12-15 20:48:13,836 epoch 58 - iter 160/167 - loss 0.21038766 - time (sec): 8.54 - samples/sec: 4528.30 - lr: 0.051200 - momentum: 0.000000\n",
            "2023-12-15 20:48:14,152 ----------------------------------------------------------------------------------------------------\n",
            "2023-12-15 20:48:14,154 EPOCH 58 done: loss 0.2104 - lr: 0.051200\n"
          ]
        },
        {
          "metadata": {
            "tags": null
          },
          "name": "stderr",
          "output_type": "stream",
          "text": [
            "100%|██████████| 9/9 [00:00<00:00, 12.31it/s]"
          ]
        },
        {
          "metadata": {
            "tags": null
          },
          "name": "stdout",
          "output_type": "stream",
          "text": [
            "2023-12-15 20:48:14,912 DEV : loss 0.14499016106128693 - f1-score (micro avg)  0.8067\n",
            "2023-12-15 20:48:14,929  - 3 epochs without improvement\n",
            "2023-12-15 20:48:14,930 ----------------------------------------------------------------------------------------------------\n"
          ]
        },
        {
          "metadata": {
            "tags": null
          },
          "name": "stderr",
          "output_type": "stream",
          "text": [
            "\n"
          ]
        },
        {
          "metadata": {
            "tags": null
          },
          "name": "stdout",
          "output_type": "stream",
          "text": [
            "2023-12-15 20:48:15,677 epoch 59 - iter 16/167 - loss 0.21584735 - time (sec): 0.74 - samples/sec: 5085.49 - lr: 0.051200 - momentum: 0.000000\n",
            "2023-12-15 20:48:16,415 epoch 59 - iter 32/167 - loss 0.21321622 - time (sec): 1.48 - samples/sec: 5080.69 - lr: 0.051200 - momentum: 0.000000\n",
            "2023-12-15 20:48:17,199 epoch 59 - iter 48/167 - loss 0.21592064 - time (sec): 2.27 - samples/sec: 4982.25 - lr: 0.051200 - momentum: 0.000000\n",
            "2023-12-15 20:48:17,883 epoch 59 - iter 64/167 - loss 0.21433366 - time (sec): 2.95 - samples/sec: 5067.30 - lr: 0.051200 - momentum: 0.000000\n",
            "2023-12-15 20:48:18,748 epoch 59 - iter 80/167 - loss 0.21701801 - time (sec): 3.81 - samples/sec: 4910.94 - lr: 0.051200 - momentum: 0.000000\n",
            "2023-12-15 20:48:19,539 epoch 59 - iter 96/167 - loss 0.21984802 - time (sec): 4.61 - samples/sec: 4871.18 - lr: 0.051200 - momentum: 0.000000\n",
            "2023-12-15 20:48:20,680 epoch 59 - iter 112/167 - loss 0.21530444 - time (sec): 5.75 - samples/sec: 4609.83 - lr: 0.051200 - momentum: 0.000000\n",
            "2023-12-15 20:48:21,937 epoch 59 - iter 128/167 - loss 0.21372650 - time (sec): 7.00 - samples/sec: 4380.76 - lr: 0.051200 - momentum: 0.000000\n",
            "2023-12-15 20:48:22,634 epoch 59 - iter 144/167 - loss 0.21447623 - time (sec): 7.70 - samples/sec: 4475.26 - lr: 0.051200 - momentum: 0.000000\n",
            "2023-12-15 20:48:23,566 epoch 59 - iter 160/167 - loss 0.21122162 - time (sec): 8.63 - samples/sec: 4479.60 - lr: 0.051200 - momentum: 0.000000\n",
            "2023-12-15 20:48:23,889 ----------------------------------------------------------------------------------------------------\n",
            "2023-12-15 20:48:23,891 EPOCH 59 done: loss 0.2122 - lr: 0.051200\n"
          ]
        },
        {
          "metadata": {
            "tags": null
          },
          "name": "stderr",
          "output_type": "stream",
          "text": [
            "100%|██████████| 9/9 [00:00<00:00, 12.29it/s]"
          ]
        },
        {
          "metadata": {
            "tags": null
          },
          "name": "stdout",
          "output_type": "stream",
          "text": [
            "2023-12-15 20:48:24,651 DEV : loss 0.14086973667144775 - f1-score (micro avg)  0.8349\n",
            "2023-12-15 20:48:24,668  - 0 epochs without improvement\n",
            "2023-12-15 20:48:24,670 saving best model\n"
          ]
        },
        {
          "metadata": {
            "tags": null
          },
          "name": "stderr",
          "output_type": "stream",
          "text": [
            "\n"
          ]
        },
        {
          "metadata": {
            "tags": null
          },
          "name": "stdout",
          "output_type": "stream",
          "text": [
            "2023-12-15 20:48:25,447 ----------------------------------------------------------------------------------------------------\n",
            "2023-12-15 20:48:26,316 epoch 60 - iter 16/167 - loss 0.18072242 - time (sec): 0.86 - samples/sec: 4702.82 - lr: 0.051200 - momentum: 0.000000\n",
            "2023-12-15 20:48:27,178 epoch 60 - iter 32/167 - loss 0.18070766 - time (sec): 1.72 - samples/sec: 4802.37 - lr: 0.051200 - momentum: 0.000000\n",
            "2023-12-15 20:48:28,045 epoch 60 - iter 48/167 - loss 0.18831052 - time (sec): 2.59 - samples/sec: 4762.93 - lr: 0.051200 - momentum: 0.000000\n",
            "2023-12-15 20:48:28,658 epoch 60 - iter 64/167 - loss 0.19866236 - time (sec): 3.20 - samples/sec: 4924.66 - lr: 0.051200 - momentum: 0.000000\n",
            "2023-12-15 20:48:29,392 epoch 60 - iter 80/167 - loss 0.20289046 - time (sec): 3.94 - samples/sec: 4940.73 - lr: 0.051200 - momentum: 0.000000\n",
            "2023-12-15 20:48:30,230 epoch 60 - iter 96/167 - loss 0.20359428 - time (sec): 4.78 - samples/sec: 4899.04 - lr: 0.051200 - momentum: 0.000000\n",
            "2023-12-15 20:48:30,880 epoch 60 - iter 112/167 - loss 0.20338163 - time (sec): 5.42 - samples/sec: 5000.29 - lr: 0.051200 - momentum: 0.000000\n",
            "2023-12-15 20:48:31,595 epoch 60 - iter 128/167 - loss 0.20556813 - time (sec): 6.14 - samples/sec: 5004.54 - lr: 0.051200 - momentum: 0.000000\n",
            "2023-12-15 20:48:32,538 epoch 60 - iter 144/167 - loss 0.20447697 - time (sec): 7.08 - samples/sec: 4902.84 - lr: 0.051200 - momentum: 0.000000\n",
            "2023-12-15 20:48:33,626 epoch 60 - iter 160/167 - loss 0.20718832 - time (sec): 8.17 - samples/sec: 4721.61 - lr: 0.051200 - momentum: 0.000000\n",
            "2023-12-15 20:48:34,156 ----------------------------------------------------------------------------------------------------\n",
            "2023-12-15 20:48:34,158 EPOCH 60 done: loss 0.2077 - lr: 0.051200\n"
          ]
        },
        {
          "metadata": {
            "tags": null
          },
          "name": "stderr",
          "output_type": "stream",
          "text": [
            "100%|██████████| 9/9 [00:00<00:00, 10.26it/s]"
          ]
        },
        {
          "metadata": {
            "tags": null
          },
          "name": "stdout",
          "output_type": "stream",
          "text": [
            "2023-12-15 20:48:35,065 DEV : loss 0.14079347252845764 - f1-score (micro avg)  0.8263\n",
            "2023-12-15 20:48:35,084  - 1 epochs without improvement\n",
            "2023-12-15 20:48:35,086 ----------------------------------------------------------------------------------------------------\n"
          ]
        },
        {
          "metadata": {
            "tags": null
          },
          "name": "stderr",
          "output_type": "stream",
          "text": [
            "\n"
          ]
        },
        {
          "metadata": {
            "tags": null
          },
          "name": "stdout",
          "output_type": "stream",
          "text": [
            "2023-12-15 20:48:35,876 epoch 61 - iter 16/167 - loss 0.20359200 - time (sec): 0.78 - samples/sec: 4736.09 - lr: 0.051200 - momentum: 0.000000\n",
            "2023-12-15 20:48:36,626 epoch 61 - iter 32/167 - loss 0.19959536 - time (sec): 1.53 - samples/sec: 5032.42 - lr: 0.051200 - momentum: 0.000000\n",
            "2023-12-15 20:48:37,380 epoch 61 - iter 48/167 - loss 0.20122613 - time (sec): 2.29 - samples/sec: 5070.91 - lr: 0.051200 - momentum: 0.000000\n",
            "2023-12-15 20:48:38,209 epoch 61 - iter 64/167 - loss 0.20103004 - time (sec): 3.12 - samples/sec: 4966.42 - lr: 0.051200 - momentum: 0.000000\n",
            "2023-12-15 20:48:39,069 epoch 61 - iter 80/167 - loss 0.20065804 - time (sec): 3.98 - samples/sec: 4892.06 - lr: 0.051200 - momentum: 0.000000\n",
            "2023-12-15 20:48:39,753 epoch 61 - iter 96/167 - loss 0.20049840 - time (sec): 4.66 - samples/sec: 4993.91 - lr: 0.051200 - momentum: 0.000000\n",
            "2023-12-15 20:48:40,382 epoch 61 - iter 112/167 - loss 0.20181771 - time (sec): 5.29 - samples/sec: 5100.27 - lr: 0.051200 - momentum: 0.000000\n",
            "2023-12-15 20:48:41,142 epoch 61 - iter 128/167 - loss 0.20523938 - time (sec): 6.05 - samples/sec: 5089.07 - lr: 0.051200 - momentum: 0.000000\n",
            "2023-12-15 20:48:41,836 epoch 61 - iter 144/167 - loss 0.20624760 - time (sec): 6.74 - samples/sec: 5126.37 - lr: 0.051200 - momentum: 0.000000\n",
            "2023-12-15 20:48:42,714 epoch 61 - iter 160/167 - loss 0.20779814 - time (sec): 7.62 - samples/sec: 5041.11 - lr: 0.051200 - momentum: 0.000000\n",
            "2023-12-15 20:48:43,127 ----------------------------------------------------------------------------------------------------\n",
            "2023-12-15 20:48:43,128 EPOCH 61 done: loss 0.2073 - lr: 0.051200\n"
          ]
        },
        {
          "metadata": {
            "tags": null
          },
          "name": "stderr",
          "output_type": "stream",
          "text": [
            "100%|██████████| 9/9 [00:00<00:00, 12.19it/s]"
          ]
        },
        {
          "metadata": {
            "tags": null
          },
          "name": "stdout",
          "output_type": "stream",
          "text": [
            "2023-12-15 20:48:43,895 DEV : loss 0.1442076712846756 - f1-score (micro avg)  0.8434\n",
            "2023-12-15 20:48:43,911  - 0 epochs without improvement\n",
            "2023-12-15 20:48:43,913 saving best model\n"
          ]
        },
        {
          "metadata": {
            "tags": null
          },
          "name": "stderr",
          "output_type": "stream",
          "text": [
            "\n"
          ]
        },
        {
          "metadata": {
            "tags": null
          },
          "name": "stdout",
          "output_type": "stream",
          "text": [
            "2023-12-15 20:48:44,762 ----------------------------------------------------------------------------------------------------\n",
            "2023-12-15 20:48:46,001 epoch 62 - iter 16/167 - loss 0.19470381 - time (sec): 1.24 - samples/sec: 3207.24 - lr: 0.051200 - momentum: 0.000000\n",
            "2023-12-15 20:48:47,085 epoch 62 - iter 32/167 - loss 0.20167616 - time (sec): 2.32 - samples/sec: 3402.36 - lr: 0.051200 - momentum: 0.000000\n",
            "2023-12-15 20:48:47,872 epoch 62 - iter 48/167 - loss 0.20198762 - time (sec): 3.11 - samples/sec: 3753.00 - lr: 0.051200 - momentum: 0.000000\n",
            "2023-12-15 20:48:48,578 epoch 62 - iter 64/167 - loss 0.20097475 - time (sec): 3.81 - samples/sec: 4031.99 - lr: 0.051200 - momentum: 0.000000\n",
            "2023-12-15 20:48:49,282 epoch 62 - iter 80/167 - loss 0.20056507 - time (sec): 4.52 - samples/sec: 4214.91 - lr: 0.051200 - momentum: 0.000000\n",
            "2023-12-15 20:48:50,202 epoch 62 - iter 96/167 - loss 0.20016522 - time (sec): 5.44 - samples/sec: 4231.03 - lr: 0.051200 - momentum: 0.000000\n",
            "2023-12-15 20:48:50,921 epoch 62 - iter 112/167 - loss 0.20038135 - time (sec): 6.16 - samples/sec: 4381.69 - lr: 0.051200 - momentum: 0.000000\n",
            "2023-12-15 20:48:51,568 epoch 62 - iter 128/167 - loss 0.20532803 - time (sec): 6.80 - samples/sec: 4510.40 - lr: 0.051200 - momentum: 0.000000\n",
            "2023-12-15 20:48:52,375 epoch 62 - iter 144/167 - loss 0.20465706 - time (sec): 7.61 - samples/sec: 4549.02 - lr: 0.051200 - momentum: 0.000000\n",
            "2023-12-15 20:48:53,228 epoch 62 - iter 160/167 - loss 0.20351601 - time (sec): 8.46 - samples/sec: 4570.98 - lr: 0.051200 - momentum: 0.000000\n",
            "2023-12-15 20:48:53,522 ----------------------------------------------------------------------------------------------------\n",
            "2023-12-15 20:48:53,523 EPOCH 62 done: loss 0.2037 - lr: 0.051200\n"
          ]
        },
        {
          "metadata": {
            "tags": null
          },
          "name": "stderr",
          "output_type": "stream",
          "text": [
            "100%|██████████| 9/9 [00:00<00:00, 12.19it/s]"
          ]
        },
        {
          "metadata": {
            "tags": null
          },
          "name": "stdout",
          "output_type": "stream",
          "text": [
            "2023-12-15 20:48:54,293 DEV : loss 0.14181874692440033 - f1-score (micro avg)  0.8129\n",
            "2023-12-15 20:48:54,309  - 1 epochs without improvement\n",
            "2023-12-15 20:48:54,310 ----------------------------------------------------------------------------------------------------\n"
          ]
        },
        {
          "metadata": {
            "tags": null
          },
          "name": "stderr",
          "output_type": "stream",
          "text": [
            "\n"
          ]
        },
        {
          "metadata": {
            "tags": null
          },
          "name": "stdout",
          "output_type": "stream",
          "text": [
            "2023-12-15 20:48:55,065 epoch 63 - iter 16/167 - loss 0.20243071 - time (sec): 0.75 - samples/sec: 4988.68 - lr: 0.051200 - momentum: 0.000000\n",
            "2023-12-15 20:48:55,822 epoch 63 - iter 32/167 - loss 0.20182758 - time (sec): 1.51 - samples/sec: 5096.89 - lr: 0.051200 - momentum: 0.000000\n",
            "2023-12-15 20:48:56,619 epoch 63 - iter 48/167 - loss 0.20472109 - time (sec): 2.31 - samples/sec: 5056.86 - lr: 0.051200 - momentum: 0.000000\n",
            "2023-12-15 20:48:57,566 epoch 63 - iter 64/167 - loss 0.20313993 - time (sec): 3.25 - samples/sec: 4784.46 - lr: 0.051200 - momentum: 0.000000\n",
            "2023-12-15 20:48:58,735 epoch 63 - iter 80/167 - loss 0.20278666 - time (sec): 4.42 - samples/sec: 4408.66 - lr: 0.051200 - momentum: 0.000000\n",
            "2023-12-15 20:48:59,851 epoch 63 - iter 96/167 - loss 0.20539356 - time (sec): 5.54 - samples/sec: 4175.12 - lr: 0.051200 - momentum: 0.000000\n",
            "2023-12-15 20:49:00,659 epoch 63 - iter 112/167 - loss 0.20586410 - time (sec): 6.35 - samples/sec: 4221.39 - lr: 0.051200 - momentum: 0.000000\n",
            "2023-12-15 20:49:01,541 epoch 63 - iter 128/167 - loss 0.20270322 - time (sec): 7.23 - samples/sec: 4281.72 - lr: 0.051200 - momentum: 0.000000\n",
            "2023-12-15 20:49:02,241 epoch 63 - iter 144/167 - loss 0.20195433 - time (sec): 7.93 - samples/sec: 4375.92 - lr: 0.051200 - momentum: 0.000000\n",
            "2023-12-15 20:49:03,047 epoch 63 - iter 160/167 - loss 0.20248846 - time (sec): 8.73 - samples/sec: 4434.50 - lr: 0.051200 - momentum: 0.000000\n",
            "2023-12-15 20:49:03,303 ----------------------------------------------------------------------------------------------------\n",
            "2023-12-15 20:49:03,305 EPOCH 63 done: loss 0.2035 - lr: 0.051200\n"
          ]
        },
        {
          "metadata": {
            "tags": null
          },
          "name": "stderr",
          "output_type": "stream",
          "text": [
            "100%|██████████| 9/9 [00:00<00:00, 12.29it/s]"
          ]
        },
        {
          "metadata": {
            "tags": null
          },
          "name": "stdout",
          "output_type": "stream",
          "text": [
            "2023-12-15 20:49:04,066 DEV : loss 0.15135204792022705 - f1-score (micro avg)  0.8149\n",
            "2023-12-15 20:49:04,085  - 2 epochs without improvement\n",
            "2023-12-15 20:49:04,087 ----------------------------------------------------------------------------------------------------\n"
          ]
        },
        {
          "metadata": {
            "tags": null
          },
          "name": "stderr",
          "output_type": "stream",
          "text": [
            "\n"
          ]
        },
        {
          "metadata": {
            "tags": null
          },
          "name": "stdout",
          "output_type": "stream",
          "text": [
            "2023-12-15 20:49:05,109 epoch 64 - iter 16/167 - loss 0.17063309 - time (sec): 1.02 - samples/sec: 4149.10 - lr: 0.051200 - momentum: 0.000000\n",
            "2023-12-15 20:49:05,921 epoch 64 - iter 32/167 - loss 0.18138594 - time (sec): 1.83 - samples/sec: 4400.44 - lr: 0.051200 - momentum: 0.000000\n",
            "2023-12-15 20:49:06,586 epoch 64 - iter 48/167 - loss 0.19274127 - time (sec): 2.50 - samples/sec: 4764.49 - lr: 0.051200 - momentum: 0.000000\n",
            "2023-12-15 20:49:07,423 epoch 64 - iter 64/167 - loss 0.19754978 - time (sec): 3.33 - samples/sec: 4778.01 - lr: 0.051200 - momentum: 0.000000\n",
            "2023-12-15 20:49:08,118 epoch 64 - iter 80/167 - loss 0.20327800 - time (sec): 4.03 - samples/sec: 4867.17 - lr: 0.051200 - momentum: 0.000000\n",
            "2023-12-15 20:49:09,013 epoch 64 - iter 96/167 - loss 0.20264039 - time (sec): 4.92 - samples/sec: 4810.75 - lr: 0.051200 - momentum: 0.000000\n",
            "2023-12-15 20:49:09,858 epoch 64 - iter 112/167 - loss 0.20089013 - time (sec): 5.77 - samples/sec: 4770.32 - lr: 0.051200 - momentum: 0.000000\n",
            "2023-12-15 20:49:10,856 epoch 64 - iter 128/167 - loss 0.20124739 - time (sec): 6.77 - samples/sec: 4632.44 - lr: 0.051200 - momentum: 0.000000\n",
            "2023-12-15 20:49:11,847 epoch 64 - iter 144/167 - loss 0.20347863 - time (sec): 7.76 - samples/sec: 4511.76 - lr: 0.051200 - momentum: 0.000000\n",
            "2023-12-15 20:49:12,811 epoch 64 - iter 160/167 - loss 0.20513657 - time (sec): 8.72 - samples/sec: 4439.93 - lr: 0.051200 - momentum: 0.000000\n",
            "2023-12-15 20:49:13,077 ----------------------------------------------------------------------------------------------------\n",
            "2023-12-15 20:49:13,079 EPOCH 64 done: loss 0.2060 - lr: 0.051200\n"
          ]
        },
        {
          "metadata": {
            "tags": null
          },
          "name": "stderr",
          "output_type": "stream",
          "text": [
            "100%|██████████| 9/9 [00:00<00:00, 12.26it/s]"
          ]
        },
        {
          "metadata": {
            "tags": null
          },
          "name": "stdout",
          "output_type": "stream",
          "text": [
            "2023-12-15 20:49:13,844 DEV : loss 0.13542021811008453 - f1-score (micro avg)  0.8324\n",
            "2023-12-15 20:49:13,861  - 3 epochs without improvement\n",
            "2023-12-15 20:49:13,862 ----------------------------------------------------------------------------------------------------\n"
          ]
        },
        {
          "metadata": {
            "tags": null
          },
          "name": "stderr",
          "output_type": "stream",
          "text": [
            "\n"
          ]
        },
        {
          "metadata": {
            "tags": null
          },
          "name": "stdout",
          "output_type": "stream",
          "text": [
            "2023-12-15 20:49:14,611 epoch 65 - iter 16/167 - loss 0.18993929 - time (sec): 0.75 - samples/sec: 5109.21 - lr: 0.051200 - momentum: 0.000000\n",
            "2023-12-15 20:49:15,568 epoch 65 - iter 32/167 - loss 0.17836332 - time (sec): 1.70 - samples/sec: 4787.64 - lr: 0.051200 - momentum: 0.000000\n",
            "2023-12-15 20:49:16,305 epoch 65 - iter 48/167 - loss 0.19071332 - time (sec): 2.44 - samples/sec: 4906.64 - lr: 0.051200 - momentum: 0.000000\n",
            "2023-12-15 20:49:17,370 epoch 65 - iter 64/167 - loss 0.19300920 - time (sec): 3.50 - samples/sec: 4538.57 - lr: 0.051200 - momentum: 0.000000\n",
            "2023-12-15 20:49:18,409 epoch 65 - iter 80/167 - loss 0.19721531 - time (sec): 4.54 - samples/sec: 4304.98 - lr: 0.051200 - momentum: 0.000000\n",
            "2023-12-15 20:49:19,515 epoch 65 - iter 96/167 - loss 0.19832143 - time (sec): 5.65 - samples/sec: 4181.60 - lr: 0.051200 - momentum: 0.000000\n",
            "2023-12-15 20:49:20,549 epoch 65 - iter 112/167 - loss 0.20151339 - time (sec): 6.68 - samples/sec: 4081.00 - lr: 0.051200 - momentum: 0.000000\n",
            "2023-12-15 20:49:21,496 epoch 65 - iter 128/167 - loss 0.19820904 - time (sec): 7.63 - samples/sec: 4106.56 - lr: 0.051200 - momentum: 0.000000\n",
            "2023-12-15 20:49:22,131 epoch 65 - iter 144/167 - loss 0.20007417 - time (sec): 8.27 - samples/sec: 4223.03 - lr: 0.051200 - momentum: 0.000000\n",
            "2023-12-15 20:49:22,908 epoch 65 - iter 160/167 - loss 0.19990470 - time (sec): 9.04 - samples/sec: 4276.64 - lr: 0.051200 - momentum: 0.000000\n",
            "2023-12-15 20:49:23,339 ----------------------------------------------------------------------------------------------------\n",
            "2023-12-15 20:49:23,341 EPOCH 65 done: loss 0.2008 - lr: 0.051200\n"
          ]
        },
        {
          "metadata": {
            "tags": null
          },
          "name": "stderr",
          "output_type": "stream",
          "text": [
            "100%|██████████| 9/9 [00:01<00:00,  7.85it/s]\n"
          ]
        },
        {
          "metadata": {
            "tags": null
          },
          "name": "stdout",
          "output_type": "stream",
          "text": [
            "2023-12-15 20:49:24,529 DEV : loss 0.1381138563156128 - f1-score (micro avg)  0.8356\n",
            "2023-12-15 20:49:24,551  - 4 epochs without improvement (above 'patience')-> annealing learning_rate to [0.04096000000000002]\n",
            "2023-12-15 20:49:24,553 ----------------------------------------------------------------------------------------------------\n",
            "2023-12-15 20:49:25,673 epoch 66 - iter 16/167 - loss 0.20963438 - time (sec): 1.12 - samples/sec: 3613.33 - lr: 0.040960 - momentum: 0.000000\n",
            "2023-12-15 20:49:26,421 epoch 66 - iter 32/167 - loss 0.21135627 - time (sec): 1.87 - samples/sec: 4193.73 - lr: 0.040960 - momentum: 0.000000\n",
            "2023-12-15 20:49:27,206 epoch 66 - iter 48/167 - loss 0.20600158 - time (sec): 2.65 - samples/sec: 4431.14 - lr: 0.040960 - momentum: 0.000000\n",
            "2023-12-15 20:49:27,827 epoch 66 - iter 64/167 - loss 0.20397285 - time (sec): 3.27 - samples/sec: 4739.44 - lr: 0.040960 - momentum: 0.000000\n",
            "2023-12-15 20:49:28,846 epoch 66 - iter 80/167 - loss 0.19660245 - time (sec): 4.29 - samples/sec: 4598.64 - lr: 0.040960 - momentum: 0.000000\n",
            "2023-12-15 20:49:29,774 epoch 66 - iter 96/167 - loss 0.19571123 - time (sec): 5.22 - samples/sec: 4551.26 - lr: 0.040960 - momentum: 0.000000\n",
            "2023-12-15 20:49:30,528 epoch 66 - iter 112/167 - loss 0.19855957 - time (sec): 5.97 - samples/sec: 4624.23 - lr: 0.040960 - momentum: 0.000000\n",
            "2023-12-15 20:49:31,317 epoch 66 - iter 128/167 - loss 0.19873135 - time (sec): 6.76 - samples/sec: 4657.72 - lr: 0.040960 - momentum: 0.000000\n",
            "2023-12-15 20:49:31,981 epoch 66 - iter 144/167 - loss 0.20030625 - time (sec): 7.43 - samples/sec: 4724.78 - lr: 0.040960 - momentum: 0.000000\n",
            "2023-12-15 20:49:32,628 epoch 66 - iter 160/167 - loss 0.20019601 - time (sec): 8.07 - samples/sec: 4785.36 - lr: 0.040960 - momentum: 0.000000\n",
            "2023-12-15 20:49:32,911 ----------------------------------------------------------------------------------------------------\n",
            "2023-12-15 20:49:32,912 EPOCH 66 done: loss 0.1995 - lr: 0.040960\n"
          ]
        },
        {
          "metadata": {
            "tags": null
          },
          "name": "stderr",
          "output_type": "stream",
          "text": [
            "100%|██████████| 9/9 [00:01<00:00,  7.84it/s]"
          ]
        },
        {
          "metadata": {
            "tags": null
          },
          "name": "stdout",
          "output_type": "stream",
          "text": [
            "2023-12-15 20:49:34,090 DEV : loss 0.12670187652111053 - f1-score (micro avg)  0.8322\n",
            "2023-12-15 20:49:34,107  - 1 epochs without improvement\n",
            "2023-12-15 20:49:34,108 ----------------------------------------------------------------------------------------------------\n"
          ]
        },
        {
          "metadata": {
            "tags": null
          },
          "name": "stderr",
          "output_type": "stream",
          "text": [
            "\n"
          ]
        },
        {
          "metadata": {
            "tags": null
          },
          "name": "stdout",
          "output_type": "stream",
          "text": [
            "2023-12-15 20:49:34,813 epoch 67 - iter 16/167 - loss 0.18728382 - time (sec): 0.70 - samples/sec: 5441.56 - lr: 0.040960 - momentum: 0.000000\n",
            "2023-12-15 20:49:35,620 epoch 67 - iter 32/167 - loss 0.19034376 - time (sec): 1.51 - samples/sec: 5067.36 - lr: 0.040960 - momentum: 0.000000\n",
            "2023-12-15 20:49:36,523 epoch 67 - iter 48/167 - loss 0.19810864 - time (sec): 2.41 - samples/sec: 4722.56 - lr: 0.040960 - momentum: 0.000000\n",
            "2023-12-15 20:49:37,738 epoch 67 - iter 64/167 - loss 0.19283587 - time (sec): 3.63 - samples/sec: 4201.23 - lr: 0.040960 - momentum: 0.000000\n",
            "2023-12-15 20:49:38,673 epoch 67 - iter 80/167 - loss 0.18962014 - time (sec): 4.56 - samples/sec: 4205.24 - lr: 0.040960 - momentum: 0.000000\n",
            "2023-12-15 20:49:39,397 epoch 67 - iter 96/167 - loss 0.19317322 - time (sec): 5.29 - samples/sec: 4347.40 - lr: 0.040960 - momentum: 0.000000\n",
            "2023-12-15 20:49:40,114 epoch 67 - iter 112/167 - loss 0.19576347 - time (sec): 6.00 - samples/sec: 4443.56 - lr: 0.040960 - momentum: 0.000000\n",
            "2023-12-15 20:49:40,705 epoch 67 - iter 128/167 - loss 0.19654285 - time (sec): 6.59 - samples/sec: 4575.52 - lr: 0.040960 - momentum: 0.000000\n",
            "2023-12-15 20:49:41,661 epoch 67 - iter 144/167 - loss 0.19486696 - time (sec): 7.55 - samples/sec: 4582.34 - lr: 0.040960 - momentum: 0.000000\n",
            "2023-12-15 20:49:42,584 epoch 67 - iter 160/167 - loss 0.19462530 - time (sec): 8.47 - samples/sec: 4552.38 - lr: 0.040960 - momentum: 0.000000\n",
            "2023-12-15 20:49:42,955 ----------------------------------------------------------------------------------------------------\n",
            "2023-12-15 20:49:42,956 EPOCH 67 done: loss 0.1951 - lr: 0.040960\n"
          ]
        },
        {
          "metadata": {
            "tags": null
          },
          "name": "stderr",
          "output_type": "stream",
          "text": [
            "100%|██████████| 9/9 [00:00<00:00, 12.37it/s]\n"
          ]
        },
        {
          "metadata": {
            "tags": null
          },
          "name": "stdout",
          "output_type": "stream",
          "text": [
            "2023-12-15 20:49:43,714 DEV : loss 0.1278305947780609 - f1-score (micro avg)  0.8224\n",
            "2023-12-15 20:49:43,730  - 2 epochs without improvement\n",
            "2023-12-15 20:49:43,731 ----------------------------------------------------------------------------------------------------\n",
            "2023-12-15 20:49:44,732 epoch 68 - iter 16/167 - loss 0.16610416 - time (sec): 1.00 - samples/sec: 4270.57 - lr: 0.040960 - momentum: 0.000000\n",
            "2023-12-15 20:49:45,424 epoch 68 - iter 32/167 - loss 0.19361782 - time (sec): 1.69 - samples/sec: 4702.58 - lr: 0.040960 - momentum: 0.000000\n",
            "2023-12-15 20:49:46,237 epoch 68 - iter 48/167 - loss 0.19158026 - time (sec): 2.50 - samples/sec: 4746.94 - lr: 0.040960 - momentum: 0.000000\n",
            "2023-12-15 20:49:46,904 epoch 68 - iter 64/167 - loss 0.19394111 - time (sec): 3.17 - samples/sec: 4912.38 - lr: 0.040960 - momentum: 0.000000\n",
            "2023-12-15 20:49:47,609 epoch 68 - iter 80/167 - loss 0.19280754 - time (sec): 3.87 - samples/sec: 4988.23 - lr: 0.040960 - momentum: 0.000000\n",
            "2023-12-15 20:49:48,513 epoch 68 - iter 96/167 - loss 0.19412542 - time (sec): 4.78 - samples/sec: 4844.32 - lr: 0.040960 - momentum: 0.000000\n",
            "2023-12-15 20:49:49,497 epoch 68 - iter 112/167 - loss 0.19602834 - time (sec): 5.76 - samples/sec: 4667.83 - lr: 0.040960 - momentum: 0.000000\n",
            "2023-12-15 20:49:50,592 epoch 68 - iter 128/167 - loss 0.19755614 - time (sec): 6.86 - samples/sec: 4490.09 - lr: 0.040960 - momentum: 0.000000\n",
            "2023-12-15 20:49:51,352 epoch 68 - iter 144/167 - loss 0.19633660 - time (sec): 7.62 - samples/sec: 4562.29 - lr: 0.040960 - momentum: 0.000000\n",
            "2023-12-15 20:49:52,112 epoch 68 - iter 160/167 - loss 0.19477926 - time (sec): 8.38 - samples/sec: 4611.95 - lr: 0.040960 - momentum: 0.000000\n",
            "2023-12-15 20:49:52,485 ----------------------------------------------------------------------------------------------------\n",
            "2023-12-15 20:49:52,487 EPOCH 68 done: loss 0.1955 - lr: 0.040960\n"
          ]
        },
        {
          "metadata": {
            "tags": null
          },
          "name": "stderr",
          "output_type": "stream",
          "text": [
            "100%|██████████| 9/9 [00:00<00:00, 12.27it/s]\n"
          ]
        },
        {
          "metadata": {
            "tags": null
          },
          "name": "stdout",
          "output_type": "stream",
          "text": [
            "2023-12-15 20:49:53,254 DEV : loss 0.12378457188606262 - f1-score (micro avg)  0.829\n",
            "2023-12-15 20:49:53,270  - 3 epochs without improvement\n",
            "2023-12-15 20:49:53,272 ----------------------------------------------------------------------------------------------------\n",
            "2023-12-15 20:49:54,088 epoch 69 - iter 16/167 - loss 0.17259784 - time (sec): 0.81 - samples/sec: 4944.97 - lr: 0.040960 - momentum: 0.000000\n",
            "2023-12-15 20:49:54,817 epoch 69 - iter 32/167 - loss 0.18163139 - time (sec): 1.54 - samples/sec: 5080.13 - lr: 0.040960 - momentum: 0.000000\n",
            "2023-12-15 20:49:55,486 epoch 69 - iter 48/167 - loss 0.19969339 - time (sec): 2.21 - samples/sec: 5226.58 - lr: 0.040960 - momentum: 0.000000\n",
            "2023-12-15 20:49:56,199 epoch 69 - iter 64/167 - loss 0.19554949 - time (sec): 2.92 - samples/sec: 5222.34 - lr: 0.040960 - momentum: 0.000000\n",
            "2023-12-15 20:49:56,976 epoch 69 - iter 80/167 - loss 0.19696903 - time (sec): 3.70 - samples/sec: 5154.48 - lr: 0.040960 - momentum: 0.000000\n",
            "2023-12-15 20:49:57,642 epoch 69 - iter 96/167 - loss 0.19740074 - time (sec): 4.37 - samples/sec: 5192.09 - lr: 0.040960 - momentum: 0.000000\n",
            "2023-12-15 20:49:58,284 epoch 69 - iter 112/167 - loss 0.19923993 - time (sec): 5.01 - samples/sec: 5229.31 - lr: 0.040960 - momentum: 0.000000\n",
            "2023-12-15 20:49:59,381 epoch 69 - iter 128/167 - loss 0.19422205 - time (sec): 6.11 - samples/sec: 4989.12 - lr: 0.040960 - momentum: 0.000000\n",
            "2023-12-15 20:50:00,234 epoch 69 - iter 144/167 - loss 0.19375247 - time (sec): 6.96 - samples/sec: 4969.56 - lr: 0.040960 - momentum: 0.000000\n",
            "2023-12-15 20:50:01,121 epoch 69 - iter 160/167 - loss 0.19315366 - time (sec): 7.85 - samples/sec: 4890.63 - lr: 0.040960 - momentum: 0.000000\n",
            "2023-12-15 20:50:01,647 ----------------------------------------------------------------------------------------------------\n",
            "2023-12-15 20:50:01,649 EPOCH 69 done: loss 0.1925 - lr: 0.040960\n"
          ]
        },
        {
          "metadata": {
            "tags": null
          },
          "name": "stderr",
          "output_type": "stream",
          "text": [
            "100%|██████████| 9/9 [00:01<00:00,  8.02it/s]\n"
          ]
        },
        {
          "metadata": {
            "tags": null
          },
          "name": "stdout",
          "output_type": "stream",
          "text": [
            "2023-12-15 20:50:02,815 DEV : loss 0.12281116098165512 - f1-score (micro avg)  0.8425\n",
            "2023-12-15 20:50:02,841  - 4 epochs without improvement (above 'patience')-> annealing learning_rate to [0.03276800000000001]\n",
            "2023-12-15 20:50:02,847 ----------------------------------------------------------------------------------------------------\n",
            "2023-12-15 20:50:03,735 epoch 70 - iter 16/167 - loss 0.16892818 - time (sec): 0.89 - samples/sec: 4239.09 - lr: 0.032768 - momentum: 0.000000\n",
            "2023-12-15 20:50:04,513 epoch 70 - iter 32/167 - loss 0.18673927 - time (sec): 1.66 - samples/sec: 4470.79 - lr: 0.032768 - momentum: 0.000000\n",
            "2023-12-15 20:50:05,254 epoch 70 - iter 48/167 - loss 0.19675605 - time (sec): 2.40 - samples/sec: 4643.30 - lr: 0.032768 - momentum: 0.000000\n",
            "2023-12-15 20:50:05,992 epoch 70 - iter 64/167 - loss 0.19379437 - time (sec): 3.14 - samples/sec: 4821.01 - lr: 0.032768 - momentum: 0.000000\n",
            "2023-12-15 20:50:06,775 epoch 70 - iter 80/167 - loss 0.19067930 - time (sec): 3.93 - samples/sec: 4834.44 - lr: 0.032768 - momentum: 0.000000\n",
            "2023-12-15 20:50:07,681 epoch 70 - iter 96/167 - loss 0.18848910 - time (sec): 4.83 - samples/sec: 4798.80 - lr: 0.032768 - momentum: 0.000000\n",
            "2023-12-15 20:50:08,432 epoch 70 - iter 112/167 - loss 0.18696424 - time (sec): 5.58 - samples/sec: 4854.14 - lr: 0.032768 - momentum: 0.000000\n",
            "2023-12-15 20:50:09,178 epoch 70 - iter 128/167 - loss 0.18638265 - time (sec): 6.33 - samples/sec: 4877.54 - lr: 0.032768 - momentum: 0.000000\n",
            "2023-12-15 20:50:09,928 epoch 70 - iter 144/167 - loss 0.18642476 - time (sec): 7.08 - samples/sec: 4923.21 - lr: 0.032768 - momentum: 0.000000\n",
            "2023-12-15 20:50:10,679 epoch 70 - iter 160/167 - loss 0.18727796 - time (sec): 7.83 - samples/sec: 4944.68 - lr: 0.032768 - momentum: 0.000000\n",
            "2023-12-15 20:50:10,961 ----------------------------------------------------------------------------------------------------\n",
            "2023-12-15 20:50:10,963 EPOCH 70 done: loss 0.1886 - lr: 0.032768\n"
          ]
        },
        {
          "metadata": {
            "tags": null
          },
          "name": "stderr",
          "output_type": "stream",
          "text": [
            "100%|██████████| 9/9 [00:00<00:00, 12.04it/s]"
          ]
        },
        {
          "metadata": {
            "tags": null
          },
          "name": "stdout",
          "output_type": "stream",
          "text": [
            "2023-12-15 20:50:11,737 DEV : loss 0.12864696979522705 - f1-score (micro avg)  0.8372\n",
            "2023-12-15 20:50:11,754  - 1 epochs without improvement\n",
            "2023-12-15 20:50:11,755 ----------------------------------------------------------------------------------------------------\n"
          ]
        },
        {
          "metadata": {
            "tags": null
          },
          "name": "stderr",
          "output_type": "stream",
          "text": [
            "\n"
          ]
        },
        {
          "metadata": {
            "tags": null
          },
          "name": "stdout",
          "output_type": "stream",
          "text": [
            "2023-12-15 20:50:12,533 epoch 71 - iter 16/167 - loss 0.18223089 - time (sec): 0.78 - samples/sec: 4792.88 - lr: 0.032768 - momentum: 0.000000\n",
            "2023-12-15 20:50:13,271 epoch 71 - iter 32/167 - loss 0.17598362 - time (sec): 1.51 - samples/sec: 4999.21 - lr: 0.032768 - momentum: 0.000000\n",
            "2023-12-15 20:50:14,110 epoch 71 - iter 48/167 - loss 0.18213339 - time (sec): 2.35 - samples/sec: 4791.61 - lr: 0.032768 - momentum: 0.000000\n",
            "2023-12-15 20:50:15,244 epoch 71 - iter 64/167 - loss 0.19041920 - time (sec): 3.49 - samples/sec: 4322.71 - lr: 0.032768 - momentum: 0.000000\n",
            "2023-12-15 20:50:16,429 epoch 71 - iter 80/167 - loss 0.18786371 - time (sec): 4.67 - samples/sec: 4153.45 - lr: 0.032768 - momentum: 0.000000\n",
            "2023-12-15 20:50:17,099 epoch 71 - iter 96/167 - loss 0.18587018 - time (sec): 5.34 - samples/sec: 4369.96 - lr: 0.032768 - momentum: 0.000000\n",
            "2023-12-15 20:50:18,081 epoch 71 - iter 112/167 - loss 0.18339605 - time (sec): 6.32 - samples/sec: 4342.87 - lr: 0.032768 - momentum: 0.000000\n",
            "2023-12-15 20:50:18,826 epoch 71 - iter 128/167 - loss 0.18553018 - time (sec): 7.07 - samples/sec: 4412.04 - lr: 0.032768 - momentum: 0.000000\n",
            "2023-12-15 20:50:19,425 epoch 71 - iter 144/167 - loss 0.18809409 - time (sec): 7.67 - samples/sec: 4525.52 - lr: 0.032768 - momentum: 0.000000\n",
            "2023-12-15 20:50:20,198 epoch 71 - iter 160/167 - loss 0.19013901 - time (sec): 8.44 - samples/sec: 4569.33 - lr: 0.032768 - momentum: 0.000000\n",
            "2023-12-15 20:50:20,554 ----------------------------------------------------------------------------------------------------\n",
            "2023-12-15 20:50:20,555 EPOCH 71 done: loss 0.1907 - lr: 0.032768\n"
          ]
        },
        {
          "metadata": {
            "tags": null
          },
          "name": "stderr",
          "output_type": "stream",
          "text": [
            "100%|██████████| 9/9 [00:00<00:00, 12.34it/s]"
          ]
        },
        {
          "metadata": {
            "tags": null
          },
          "name": "stdout",
          "output_type": "stream",
          "text": [
            "2023-12-15 20:50:21,313 DEV : loss 0.12873996794223785 - f1-score (micro avg)  0.8312\n",
            "2023-12-15 20:50:21,329  - 2 epochs without improvement\n",
            "2023-12-15 20:50:21,330 ----------------------------------------------------------------------------------------------------\n"
          ]
        },
        {
          "metadata": {
            "tags": null
          },
          "name": "stderr",
          "output_type": "stream",
          "text": [
            "\n"
          ]
        },
        {
          "metadata": {
            "tags": null
          },
          "name": "stdout",
          "output_type": "stream",
          "text": [
            "2023-12-15 20:50:22,224 epoch 72 - iter 16/167 - loss 0.19418064 - time (sec): 0.89 - samples/sec: 4482.29 - lr: 0.032768 - momentum: 0.000000\n",
            "2023-12-15 20:50:23,037 epoch 72 - iter 32/167 - loss 0.19013669 - time (sec): 1.70 - samples/sec: 4663.22 - lr: 0.032768 - momentum: 0.000000\n",
            "2023-12-15 20:50:23,748 epoch 72 - iter 48/167 - loss 0.18898571 - time (sec): 2.42 - samples/sec: 4866.92 - lr: 0.032768 - momentum: 0.000000\n",
            "2023-12-15 20:50:24,702 epoch 72 - iter 64/167 - loss 0.18546717 - time (sec): 3.37 - samples/sec: 4717.46 - lr: 0.032768 - momentum: 0.000000\n",
            "2023-12-15 20:50:25,528 epoch 72 - iter 80/167 - loss 0.18414457 - time (sec): 4.20 - samples/sec: 4678.36 - lr: 0.032768 - momentum: 0.000000\n",
            "2023-12-15 20:50:26,206 epoch 72 - iter 96/167 - loss 0.18505767 - time (sec): 4.87 - samples/sec: 4746.81 - lr: 0.032768 - momentum: 0.000000\n",
            "2023-12-15 20:50:27,102 epoch 72 - iter 112/167 - loss 0.18637811 - time (sec): 5.77 - samples/sec: 4649.16 - lr: 0.032768 - momentum: 0.000000\n",
            "2023-12-15 20:50:28,373 epoch 72 - iter 128/167 - loss 0.18588138 - time (sec): 7.04 - samples/sec: 4372.66 - lr: 0.032768 - momentum: 0.000000\n",
            "2023-12-15 20:50:29,221 epoch 72 - iter 144/167 - loss 0.18577307 - time (sec): 7.89 - samples/sec: 4404.97 - lr: 0.032768 - momentum: 0.000000\n",
            "2023-12-15 20:50:29,948 epoch 72 - iter 160/167 - loss 0.18636120 - time (sec): 8.62 - samples/sec: 4464.20 - lr: 0.032768 - momentum: 0.000000\n",
            "2023-12-15 20:50:30,421 ----------------------------------------------------------------------------------------------------\n",
            "2023-12-15 20:50:30,423 EPOCH 72 done: loss 0.1858 - lr: 0.032768\n"
          ]
        },
        {
          "metadata": {
            "tags": null
          },
          "name": "stderr",
          "output_type": "stream",
          "text": [
            "100%|██████████| 9/9 [00:00<00:00, 12.05it/s]"
          ]
        },
        {
          "metadata": {
            "tags": null
          },
          "name": "stdout",
          "output_type": "stream",
          "text": [
            "2023-12-15 20:50:31,197 DEV : loss 0.12418860197067261 - f1-score (micro avg)  0.8414\n",
            "2023-12-15 20:50:31,214  - 3 epochs without improvement\n",
            "2023-12-15 20:50:31,216 ----------------------------------------------------------------------------------------------------\n"
          ]
        },
        {
          "metadata": {
            "tags": null
          },
          "name": "stderr",
          "output_type": "stream",
          "text": [
            "\n"
          ]
        },
        {
          "metadata": {
            "tags": null
          },
          "name": "stdout",
          "output_type": "stream",
          "text": [
            "2023-12-15 20:50:32,022 epoch 73 - iter 16/167 - loss 0.19397095 - time (sec): 0.80 - samples/sec: 4728.72 - lr: 0.032768 - momentum: 0.000000\n",
            "2023-12-15 20:50:32,756 epoch 73 - iter 32/167 - loss 0.19502331 - time (sec): 1.54 - samples/sec: 4881.62 - lr: 0.032768 - momentum: 0.000000\n",
            "2023-12-15 20:50:33,413 epoch 73 - iter 48/167 - loss 0.19427695 - time (sec): 2.19 - samples/sec: 5090.91 - lr: 0.032768 - momentum: 0.000000\n",
            "2023-12-15 20:50:34,045 epoch 73 - iter 64/167 - loss 0.20025764 - time (sec): 2.83 - samples/sec: 5167.81 - lr: 0.032768 - momentum: 0.000000\n",
            "2023-12-15 20:50:34,850 epoch 73 - iter 80/167 - loss 0.19458290 - time (sec): 3.63 - samples/sec: 5138.79 - lr: 0.032768 - momentum: 0.000000\n",
            "2023-12-15 20:50:35,669 epoch 73 - iter 96/167 - loss 0.19378488 - time (sec): 4.45 - samples/sec: 5102.18 - lr: 0.032768 - momentum: 0.000000\n",
            "2023-12-15 20:50:36,496 epoch 73 - iter 112/167 - loss 0.19154956 - time (sec): 5.28 - samples/sec: 5079.27 - lr: 0.032768 - momentum: 0.000000\n",
            "2023-12-15 20:50:37,404 epoch 73 - iter 128/167 - loss 0.18994995 - time (sec): 6.19 - samples/sec: 4998.56 - lr: 0.032768 - momentum: 0.000000\n",
            "2023-12-15 20:50:38,120 epoch 73 - iter 144/167 - loss 0.19136263 - time (sec): 6.90 - samples/sec: 5012.50 - lr: 0.032768 - momentum: 0.000000\n",
            "2023-12-15 20:50:39,139 epoch 73 - iter 160/167 - loss 0.19080862 - time (sec): 7.92 - samples/sec: 4868.14 - lr: 0.032768 - momentum: 0.000000\n",
            "2023-12-15 20:50:39,640 ----------------------------------------------------------------------------------------------------\n",
            "2023-12-15 20:50:39,647 EPOCH 73 done: loss 0.1907 - lr: 0.032768\n"
          ]
        },
        {
          "metadata": {
            "tags": null
          },
          "name": "stderr",
          "output_type": "stream",
          "text": [
            "100%|██████████| 9/9 [00:01<00:00,  7.96it/s]\n"
          ]
        },
        {
          "metadata": {
            "tags": null
          },
          "name": "stdout",
          "output_type": "stream",
          "text": [
            "2023-12-15 20:50:40,814 DEV : loss 0.11589129269123077 - f1-score (micro avg)  0.8561\n",
            "2023-12-15 20:50:40,841  - 0 epochs without improvement\n",
            "2023-12-15 20:50:40,846 saving best model\n",
            "2023-12-15 20:50:41,789 ----------------------------------------------------------------------------------------------------\n",
            "2023-12-15 20:50:42,624 epoch 74 - iter 16/167 - loss 0.16636095 - time (sec): 0.83 - samples/sec: 4529.40 - lr: 0.032768 - momentum: 0.000000\n",
            "2023-12-15 20:50:43,259 epoch 74 - iter 32/167 - loss 0.17838410 - time (sec): 1.47 - samples/sec: 5075.71 - lr: 0.032768 - momentum: 0.000000\n",
            "2023-12-15 20:50:43,977 epoch 74 - iter 48/167 - loss 0.17918519 - time (sec): 2.19 - samples/sec: 5178.71 - lr: 0.032768 - momentum: 0.000000\n",
            "2023-12-15 20:50:44,642 epoch 74 - iter 64/167 - loss 0.18061223 - time (sec): 2.85 - samples/sec: 5264.05 - lr: 0.032768 - momentum: 0.000000\n",
            "2023-12-15 20:50:45,454 epoch 74 - iter 80/167 - loss 0.18199710 - time (sec): 3.66 - samples/sec: 5151.22 - lr: 0.032768 - momentum: 0.000000\n",
            "2023-12-15 20:50:46,228 epoch 74 - iter 96/167 - loss 0.18382027 - time (sec): 4.44 - samples/sec: 5143.20 - lr: 0.032768 - momentum: 0.000000\n",
            "2023-12-15 20:50:47,129 epoch 74 - iter 112/167 - loss 0.18275128 - time (sec): 5.34 - samples/sec: 5029.90 - lr: 0.032768 - momentum: 0.000000\n",
            "2023-12-15 20:50:47,920 epoch 74 - iter 128/167 - loss 0.18352798 - time (sec): 6.13 - samples/sec: 4981.92 - lr: 0.032768 - momentum: 0.000000\n",
            "2023-12-15 20:50:48,650 epoch 74 - iter 144/167 - loss 0.18632047 - time (sec): 6.86 - samples/sec: 5026.30 - lr: 0.032768 - momentum: 0.000000\n",
            "2023-12-15 20:50:49,315 epoch 74 - iter 160/167 - loss 0.18447684 - time (sec): 7.52 - samples/sec: 5100.31 - lr: 0.032768 - momentum: 0.000000\n",
            "2023-12-15 20:50:49,856 ----------------------------------------------------------------------------------------------------\n",
            "2023-12-15 20:50:49,858 EPOCH 74 done: loss 0.1841 - lr: 0.032768\n"
          ]
        },
        {
          "metadata": {
            "tags": null
          },
          "name": "stderr",
          "output_type": "stream",
          "text": [
            "100%|██████████| 9/9 [00:00<00:00, 12.45it/s]"
          ]
        },
        {
          "metadata": {
            "tags": null
          },
          "name": "stdout",
          "output_type": "stream",
          "text": [
            "2023-12-15 20:50:50,608 DEV : loss 0.11756619065999985 - f1-score (micro avg)  0.8457\n",
            "2023-12-15 20:50:50,625  - 1 epochs without improvement\n",
            "2023-12-15 20:50:50,627 ----------------------------------------------------------------------------------------------------\n"
          ]
        },
        {
          "metadata": {
            "tags": null
          },
          "name": "stderr",
          "output_type": "stream",
          "text": [
            "\n"
          ]
        },
        {
          "metadata": {
            "tags": null
          },
          "name": "stdout",
          "output_type": "stream",
          "text": [
            "2023-12-15 20:50:51,276 epoch 75 - iter 16/167 - loss 0.20397781 - time (sec): 0.65 - samples/sec: 5638.05 - lr: 0.032768 - momentum: 0.000000\n",
            "2023-12-15 20:50:52,234 epoch 75 - iter 32/167 - loss 0.20256863 - time (sec): 1.60 - samples/sec: 4681.78 - lr: 0.032768 - momentum: 0.000000\n",
            "2023-12-15 20:50:53,184 epoch 75 - iter 48/167 - loss 0.19796800 - time (sec): 2.55 - samples/sec: 4383.41 - lr: 0.032768 - momentum: 0.000000\n",
            "2023-12-15 20:50:54,328 epoch 75 - iter 64/167 - loss 0.20109243 - time (sec): 3.70 - samples/sec: 4077.98 - lr: 0.032768 - momentum: 0.000000\n",
            "2023-12-15 20:50:54,877 epoch 75 - iter 80/167 - loss 0.20400315 - time (sec): 4.25 - samples/sec: 4314.34 - lr: 0.032768 - momentum: 0.000000\n",
            "2023-12-15 20:50:55,821 epoch 75 - iter 96/167 - loss 0.19741398 - time (sec): 5.19 - samples/sec: 4365.93 - lr: 0.032768 - momentum: 0.000000\n",
            "2023-12-15 20:50:56,607 epoch 75 - iter 112/167 - loss 0.19343213 - time (sec): 5.98 - samples/sec: 4443.42 - lr: 0.032768 - momentum: 0.000000\n",
            "2023-12-15 20:50:57,405 epoch 75 - iter 128/167 - loss 0.19039550 - time (sec): 6.77 - samples/sec: 4504.70 - lr: 0.032768 - momentum: 0.000000\n",
            "2023-12-15 20:50:58,191 epoch 75 - iter 144/167 - loss 0.18875201 - time (sec): 7.56 - samples/sec: 4567.95 - lr: 0.032768 - momentum: 0.000000\n",
            "2023-12-15 20:50:58,983 epoch 75 - iter 160/167 - loss 0.18809212 - time (sec): 8.35 - samples/sec: 4618.68 - lr: 0.032768 - momentum: 0.000000\n",
            "2023-12-15 20:50:59,279 ----------------------------------------------------------------------------------------------------\n",
            "2023-12-15 20:50:59,280 EPOCH 75 done: loss 0.1874 - lr: 0.032768\n"
          ]
        },
        {
          "metadata": {
            "tags": null
          },
          "name": "stderr",
          "output_type": "stream",
          "text": [
            "100%|██████████| 9/9 [00:00<00:00, 12.36it/s]"
          ]
        },
        {
          "metadata": {
            "tags": null
          },
          "name": "stdout",
          "output_type": "stream",
          "text": [
            "2023-12-15 20:51:00,035 DEV : loss 0.11327464133501053 - f1-score (micro avg)  0.8491\n",
            "2023-12-15 20:51:00,051  - 2 epochs without improvement\n",
            "2023-12-15 20:51:00,052 ----------------------------------------------------------------------------------------------------\n"
          ]
        },
        {
          "metadata": {
            "tags": null
          },
          "name": "stderr",
          "output_type": "stream",
          "text": [
            "\n"
          ]
        },
        {
          "metadata": {
            "tags": null
          },
          "name": "stdout",
          "output_type": "stream",
          "text": [
            "2023-12-15 20:51:00,863 epoch 76 - iter 16/167 - loss 0.17496839 - time (sec): 0.81 - samples/sec: 4780.40 - lr: 0.032768 - momentum: 0.000000\n",
            "2023-12-15 20:51:01,657 epoch 76 - iter 32/167 - loss 0.17046901 - time (sec): 1.60 - samples/sec: 4846.89 - lr: 0.032768 - momentum: 0.000000\n",
            "2023-12-15 20:51:02,589 epoch 76 - iter 48/167 - loss 0.17106843 - time (sec): 2.53 - samples/sec: 4653.34 - lr: 0.032768 - momentum: 0.000000\n",
            "2023-12-15 20:51:03,248 epoch 76 - iter 64/167 - loss 0.17493121 - time (sec): 3.19 - samples/sec: 4892.31 - lr: 0.032768 - momentum: 0.000000\n",
            "2023-12-15 20:51:03,979 epoch 76 - iter 80/167 - loss 0.17929023 - time (sec): 3.92 - samples/sec: 4901.94 - lr: 0.032768 - momentum: 0.000000\n",
            "2023-12-15 20:51:05,136 epoch 76 - iter 96/167 - loss 0.17937569 - time (sec): 5.08 - samples/sec: 4572.35 - lr: 0.032768 - momentum: 0.000000\n",
            "2023-12-15 20:51:06,132 epoch 76 - iter 112/167 - loss 0.18122552 - time (sec): 6.08 - samples/sec: 4472.08 - lr: 0.032768 - momentum: 0.000000\n",
            "2023-12-15 20:51:07,078 epoch 76 - iter 128/167 - loss 0.18121906 - time (sec): 7.02 - samples/sec: 4450.27 - lr: 0.032768 - momentum: 0.000000\n",
            "2023-12-15 20:51:07,763 epoch 76 - iter 144/167 - loss 0.18179291 - time (sec): 7.71 - samples/sec: 4533.31 - lr: 0.032768 - momentum: 0.000000\n",
            "2023-12-15 20:51:08,399 epoch 76 - iter 160/167 - loss 0.18316308 - time (sec): 8.34 - samples/sec: 4630.65 - lr: 0.032768 - momentum: 0.000000\n",
            "2023-12-15 20:51:08,697 ----------------------------------------------------------------------------------------------------\n",
            "2023-12-15 20:51:08,698 EPOCH 76 done: loss 0.1835 - lr: 0.032768\n"
          ]
        },
        {
          "metadata": {
            "tags": null
          },
          "name": "stderr",
          "output_type": "stream",
          "text": [
            "100%|██████████| 9/9 [00:00<00:00, 12.21it/s]"
          ]
        },
        {
          "metadata": {
            "tags": null
          },
          "name": "stdout",
          "output_type": "stream",
          "text": [
            "2023-12-15 20:51:09,465 DEV : loss 0.11466095596551895 - f1-score (micro avg)  0.8454\n",
            "2023-12-15 20:51:09,481  - 3 epochs without improvement\n",
            "2023-12-15 20:51:09,483 ----------------------------------------------------------------------------------------------------\n"
          ]
        },
        {
          "metadata": {
            "tags": null
          },
          "name": "stderr",
          "output_type": "stream",
          "text": [
            "\n"
          ]
        },
        {
          "metadata": {
            "tags": null
          },
          "name": "stdout",
          "output_type": "stream",
          "text": [
            "2023-12-15 20:51:10,172 epoch 77 - iter 16/167 - loss 0.18459900 - time (sec): 0.69 - samples/sec: 5399.18 - lr: 0.032768 - momentum: 0.000000\n",
            "2023-12-15 20:51:10,826 epoch 77 - iter 32/167 - loss 0.20098434 - time (sec): 1.34 - samples/sec: 5434.34 - lr: 0.032768 - momentum: 0.000000\n",
            "2023-12-15 20:51:11,489 epoch 77 - iter 48/167 - loss 0.19670172 - time (sec): 2.00 - samples/sec: 5520.81 - lr: 0.032768 - momentum: 0.000000\n",
            "2023-12-15 20:51:12,431 epoch 77 - iter 64/167 - loss 0.18953610 - time (sec): 2.95 - samples/sec: 5147.90 - lr: 0.032768 - momentum: 0.000000\n",
            "2023-12-15 20:51:13,107 epoch 77 - iter 80/167 - loss 0.18831790 - time (sec): 3.62 - samples/sec: 5241.22 - lr: 0.032768 - momentum: 0.000000\n",
            "2023-12-15 20:51:13,978 epoch 77 - iter 96/167 - loss 0.18582513 - time (sec): 4.49 - samples/sec: 5132.83 - lr: 0.032768 - momentum: 0.000000\n",
            "2023-12-15 20:51:15,009 epoch 77 - iter 112/167 - loss 0.18292528 - time (sec): 5.52 - samples/sec: 4921.44 - lr: 0.032768 - momentum: 0.000000\n",
            "2023-12-15 20:51:15,948 epoch 77 - iter 128/167 - loss 0.18134230 - time (sec): 6.46 - samples/sec: 4821.51 - lr: 0.032768 - momentum: 0.000000\n",
            "2023-12-15 20:51:16,665 epoch 77 - iter 144/167 - loss 0.18123843 - time (sec): 7.18 - samples/sec: 4862.86 - lr: 0.032768 - momentum: 0.000000\n",
            "2023-12-15 20:51:17,599 epoch 77 - iter 160/167 - loss 0.18197736 - time (sec): 8.11 - samples/sec: 4758.61 - lr: 0.032768 - momentum: 0.000000\n",
            "2023-12-15 20:51:18,083 ----------------------------------------------------------------------------------------------------\n",
            "2023-12-15 20:51:18,086 EPOCH 77 done: loss 0.1825 - lr: 0.032768\n"
          ]
        },
        {
          "metadata": {
            "tags": null
          },
          "name": "stderr",
          "output_type": "stream",
          "text": [
            "100%|██████████| 9/9 [00:00<00:00, 11.32it/s]"
          ]
        },
        {
          "metadata": {
            "tags": null
          },
          "name": "stdout",
          "output_type": "stream",
          "text": [
            "2023-12-15 20:51:18,910 DEV : loss 0.11733290553092957 - f1-score (micro avg)  0.8571\n",
            "2023-12-15 20:51:18,925  - 0 epochs without improvement\n",
            "2023-12-15 20:51:18,927 saving best model\n"
          ]
        },
        {
          "metadata": {
            "tags": null
          },
          "name": "stderr",
          "output_type": "stream",
          "text": [
            "\n"
          ]
        },
        {
          "metadata": {
            "tags": null
          },
          "name": "stdout",
          "output_type": "stream",
          "text": [
            "2023-12-15 20:51:19,668 ----------------------------------------------------------------------------------------------------\n",
            "2023-12-15 20:51:20,526 epoch 78 - iter 16/167 - loss 0.19101090 - time (sec): 0.86 - samples/sec: 4462.23 - lr: 0.032768 - momentum: 0.000000\n",
            "2023-12-15 20:51:21,467 epoch 78 - iter 32/167 - loss 0.18085670 - time (sec): 1.80 - samples/sec: 4412.60 - lr: 0.032768 - momentum: 0.000000\n",
            "2023-12-15 20:51:22,225 epoch 78 - iter 48/167 - loss 0.17859130 - time (sec): 2.56 - samples/sec: 4668.10 - lr: 0.032768 - momentum: 0.000000\n",
            "2023-12-15 20:51:22,973 epoch 78 - iter 64/167 - loss 0.18037410 - time (sec): 3.30 - samples/sec: 4776.99 - lr: 0.032768 - momentum: 0.000000\n",
            "2023-12-15 20:51:23,663 epoch 78 - iter 80/167 - loss 0.18002453 - time (sec): 3.99 - samples/sec: 4887.39 - lr: 0.032768 - momentum: 0.000000\n",
            "2023-12-15 20:51:24,417 epoch 78 - iter 96/167 - loss 0.18008379 - time (sec): 4.75 - samples/sec: 4940.34 - lr: 0.032768 - momentum: 0.000000\n",
            "2023-12-15 20:51:25,124 epoch 78 - iter 112/167 - loss 0.17845516 - time (sec): 5.45 - samples/sec: 4990.42 - lr: 0.032768 - momentum: 0.000000\n",
            "2023-12-15 20:51:25,809 epoch 78 - iter 128/167 - loss 0.17908728 - time (sec): 6.14 - samples/sec: 5054.73 - lr: 0.032768 - momentum: 0.000000\n",
            "2023-12-15 20:51:26,525 epoch 78 - iter 144/167 - loss 0.17875460 - time (sec): 6.86 - samples/sec: 5079.51 - lr: 0.032768 - momentum: 0.000000\n",
            "2023-12-15 20:51:27,288 epoch 78 - iter 160/167 - loss 0.18010058 - time (sec): 7.62 - samples/sec: 5060.97 - lr: 0.032768 - momentum: 0.000000\n",
            "2023-12-15 20:51:27,647 ----------------------------------------------------------------------------------------------------\n",
            "2023-12-15 20:51:27,649 EPOCH 78 done: loss 0.1804 - lr: 0.032768\n"
          ]
        },
        {
          "metadata": {
            "tags": null
          },
          "name": "stderr",
          "output_type": "stream",
          "text": [
            "100%|██████████| 9/9 [00:00<00:00, 11.19it/s]"
          ]
        },
        {
          "metadata": {
            "tags": null
          },
          "name": "stdout",
          "output_type": "stream",
          "text": [
            "2023-12-15 20:51:28,488 DEV : loss 0.11370012909173965 - f1-score (micro avg)  0.8547\n",
            "2023-12-15 20:51:28,512  - 1 epochs without improvement\n",
            "2023-12-15 20:51:28,516 ----------------------------------------------------------------------------------------------------\n"
          ]
        },
        {
          "metadata": {
            "tags": null
          },
          "name": "stderr",
          "output_type": "stream",
          "text": [
            "\n"
          ]
        },
        {
          "metadata": {
            "tags": null
          },
          "name": "stdout",
          "output_type": "stream",
          "text": [
            "2023-12-15 20:51:29,485 epoch 79 - iter 16/167 - loss 0.20245109 - time (sec): 0.97 - samples/sec: 3858.48 - lr: 0.032768 - momentum: 0.000000\n",
            "2023-12-15 20:51:30,399 epoch 79 - iter 32/167 - loss 0.17867852 - time (sec): 1.88 - samples/sec: 4100.74 - lr: 0.032768 - momentum: 0.000000\n",
            "2023-12-15 20:51:31,190 epoch 79 - iter 48/167 - loss 0.17953634 - time (sec): 2.67 - samples/sec: 4335.98 - lr: 0.032768 - momentum: 0.000000\n",
            "2023-12-15 20:51:31,850 epoch 79 - iter 64/167 - loss 0.18285219 - time (sec): 3.33 - samples/sec: 4576.05 - lr: 0.032768 - momentum: 0.000000\n",
            "2023-12-15 20:51:32,527 epoch 79 - iter 80/167 - loss 0.18338071 - time (sec): 4.01 - samples/sec: 4726.37 - lr: 0.032768 - momentum: 0.000000\n",
            "2023-12-15 20:51:33,417 epoch 79 - iter 96/167 - loss 0.18053050 - time (sec): 4.90 - samples/sec: 4686.57 - lr: 0.032768 - momentum: 0.000000\n",
            "2023-12-15 20:51:34,095 epoch 79 - iter 112/167 - loss 0.18211493 - time (sec): 5.58 - samples/sec: 4778.40 - lr: 0.032768 - momentum: 0.000000\n",
            "2023-12-15 20:51:34,795 epoch 79 - iter 128/167 - loss 0.18366076 - time (sec): 6.28 - samples/sec: 4843.54 - lr: 0.032768 - momentum: 0.000000\n",
            "2023-12-15 20:51:35,663 epoch 79 - iter 144/167 - loss 0.18212662 - time (sec): 7.15 - samples/sec: 4826.25 - lr: 0.032768 - momentum: 0.000000\n",
            "2023-12-15 20:51:36,580 epoch 79 - iter 160/167 - loss 0.17902976 - time (sec): 8.06 - samples/sec: 4812.54 - lr: 0.032768 - momentum: 0.000000\n",
            "2023-12-15 20:51:36,859 ----------------------------------------------------------------------------------------------------\n",
            "2023-12-15 20:51:36,861 EPOCH 79 done: loss 0.1809 - lr: 0.032768\n"
          ]
        },
        {
          "metadata": {
            "tags": null
          },
          "name": "stderr",
          "output_type": "stream",
          "text": [
            "100%|██████████| 9/9 [00:00<00:00, 12.52it/s]"
          ]
        },
        {
          "metadata": {
            "tags": null
          },
          "name": "stdout",
          "output_type": "stream",
          "text": [
            "2023-12-15 20:51:37,607 DEV : loss 0.11140763759613037 - f1-score (micro avg)  0.8634\n",
            "2023-12-15 20:51:37,622  - 0 epochs without improvement\n",
            "2023-12-15 20:51:37,624 saving best model\n"
          ]
        },
        {
          "metadata": {
            "tags": null
          },
          "name": "stderr",
          "output_type": "stream",
          "text": [
            "\n"
          ]
        },
        {
          "metadata": {
            "tags": null
          },
          "name": "stdout",
          "output_type": "stream",
          "text": [
            "2023-12-15 20:51:38,343 ----------------------------------------------------------------------------------------------------\n",
            "2023-12-15 20:51:39,148 epoch 80 - iter 16/167 - loss 0.18562368 - time (sec): 0.80 - samples/sec: 4890.63 - lr: 0.032768 - momentum: 0.000000\n",
            "2023-12-15 20:51:39,920 epoch 80 - iter 32/167 - loss 0.18318123 - time (sec): 1.57 - samples/sec: 4956.32 - lr: 0.032768 - momentum: 0.000000\n",
            "2023-12-15 20:51:40,926 epoch 80 - iter 48/167 - loss 0.18252099 - time (sec): 2.58 - samples/sec: 4446.39 - lr: 0.032768 - momentum: 0.000000\n",
            "2023-12-15 20:51:41,845 epoch 80 - iter 64/167 - loss 0.18180382 - time (sec): 3.50 - samples/sec: 4331.50 - lr: 0.032768 - momentum: 0.000000\n",
            "2023-12-15 20:51:42,694 epoch 80 - iter 80/167 - loss 0.17948106 - time (sec): 4.35 - samples/sec: 4413.53 - lr: 0.032768 - momentum: 0.000000\n",
            "2023-12-15 20:51:43,642 epoch 80 - iter 96/167 - loss 0.17885407 - time (sec): 5.30 - samples/sec: 4368.23 - lr: 0.032768 - momentum: 0.000000\n",
            "2023-12-15 20:51:44,527 epoch 80 - iter 112/167 - loss 0.17595595 - time (sec): 6.18 - samples/sec: 4399.29 - lr: 0.032768 - momentum: 0.000000\n",
            "2023-12-15 20:51:45,222 epoch 80 - iter 128/167 - loss 0.17644423 - time (sec): 6.88 - samples/sec: 4537.83 - lr: 0.032768 - momentum: 0.000000\n",
            "2023-12-15 20:51:45,830 epoch 80 - iter 144/167 - loss 0.17816758 - time (sec): 7.48 - samples/sec: 4660.47 - lr: 0.032768 - momentum: 0.000000\n",
            "2023-12-15 20:51:46,527 epoch 80 - iter 160/167 - loss 0.17730283 - time (sec): 8.18 - samples/sec: 4745.29 - lr: 0.032768 - momentum: 0.000000\n",
            "2023-12-15 20:51:46,809 ----------------------------------------------------------------------------------------------------\n",
            "2023-12-15 20:51:46,810 EPOCH 80 done: loss 0.1776 - lr: 0.032768\n"
          ]
        },
        {
          "metadata": {
            "tags": null
          },
          "name": "stderr",
          "output_type": "stream",
          "text": [
            "100%|██████████| 9/9 [00:00<00:00, 12.54it/s]"
          ]
        },
        {
          "metadata": {
            "tags": null
          },
          "name": "stdout",
          "output_type": "stream",
          "text": [
            "2023-12-15 20:51:47,554 DEV : loss 0.1102093979716301 - f1-score (micro avg)  0.8617\n",
            "2023-12-15 20:51:47,571  - 1 epochs without improvement\n",
            "2023-12-15 20:51:47,572 ----------------------------------------------------------------------------------------------------\n"
          ]
        },
        {
          "metadata": {
            "tags": null
          },
          "name": "stderr",
          "output_type": "stream",
          "text": [
            "\n"
          ]
        },
        {
          "metadata": {
            "tags": null
          },
          "name": "stdout",
          "output_type": "stream",
          "text": [
            "2023-12-15 20:51:48,547 epoch 81 - iter 16/167 - loss 0.16709409 - time (sec): 0.97 - samples/sec: 4307.49 - lr: 0.032768 - momentum: 0.000000\n",
            "2023-12-15 20:51:49,260 epoch 81 - iter 32/167 - loss 0.17382765 - time (sec): 1.68 - samples/sec: 4746.39 - lr: 0.032768 - momentum: 0.000000\n",
            "2023-12-15 20:51:50,039 epoch 81 - iter 48/167 - loss 0.17135776 - time (sec): 2.46 - samples/sec: 4891.89 - lr: 0.032768 - momentum: 0.000000\n",
            "2023-12-15 20:51:50,730 epoch 81 - iter 64/167 - loss 0.17592997 - time (sec): 3.15 - samples/sec: 5040.85 - lr: 0.032768 - momentum: 0.000000\n",
            "2023-12-15 20:51:51,613 epoch 81 - iter 80/167 - loss 0.17057058 - time (sec): 4.04 - samples/sec: 4939.86 - lr: 0.032768 - momentum: 0.000000\n",
            "2023-12-15 20:51:52,539 epoch 81 - iter 96/167 - loss 0.17262309 - time (sec): 4.96 - samples/sec: 4796.02 - lr: 0.032768 - momentum: 0.000000\n",
            "2023-12-15 20:51:53,660 epoch 81 - iter 112/167 - loss 0.17368450 - time (sec): 6.08 - samples/sec: 4526.48 - lr: 0.032768 - momentum: 0.000000\n",
            "2023-12-15 20:51:54,376 epoch 81 - iter 128/167 - loss 0.17478909 - time (sec): 6.80 - samples/sec: 4606.72 - lr: 0.032768 - momentum: 0.000000\n",
            "2023-12-15 20:51:55,067 epoch 81 - iter 144/167 - loss 0.17720999 - time (sec): 7.49 - samples/sec: 4681.63 - lr: 0.032768 - momentum: 0.000000\n",
            "2023-12-15 20:51:55,741 epoch 81 - iter 160/167 - loss 0.17945910 - time (sec): 8.16 - samples/sec: 4713.90 - lr: 0.032768 - momentum: 0.000000\n",
            "2023-12-15 20:51:56,169 ----------------------------------------------------------------------------------------------------\n",
            "2023-12-15 20:51:56,171 EPOCH 81 done: loss 0.1799 - lr: 0.032768\n"
          ]
        },
        {
          "metadata": {
            "tags": null
          },
          "name": "stderr",
          "output_type": "stream",
          "text": [
            "100%|██████████| 9/9 [00:00<00:00, 12.46it/s]"
          ]
        },
        {
          "metadata": {
            "tags": null
          },
          "name": "stdout",
          "output_type": "stream",
          "text": [
            "2023-12-15 20:51:56,928 DEV : loss 0.10869279503822327 - f1-score (micro avg)  0.8691\n",
            "2023-12-15 20:51:56,944  - 0 epochs without improvement\n",
            "2023-12-15 20:51:56,945 saving best model\n"
          ]
        },
        {
          "metadata": {
            "tags": null
          },
          "name": "stderr",
          "output_type": "stream",
          "text": [
            "\n"
          ]
        },
        {
          "output_type": "stream",
          "name": "stdout",
          "text": [
            "2023-12-15 20:51:57,674 ----------------------------------------------------------------------------------------------------\n",
            "2023-12-15 20:51:58,404 epoch 82 - iter 16/167 - loss 0.18617167 - time (sec): 0.73 - samples/sec: 5202.64 - lr: 0.032768 - momentum: 0.000000\n",
            "2023-12-15 20:51:59,264 epoch 82 - iter 32/167 - loss 0.17823926 - time (sec): 1.59 - samples/sec: 4905.68 - lr: 0.032768 - momentum: 0.000000\n",
            "2023-12-15 20:52:00,081 epoch 82 - iter 48/167 - loss 0.17663872 - time (sec): 2.41 - samples/sec: 4932.60 - lr: 0.032768 - momentum: 0.000000\n",
            "2023-12-15 20:52:00,869 epoch 82 - iter 64/167 - loss 0.17620326 - time (sec): 3.19 - samples/sec: 4907.03 - lr: 0.032768 - momentum: 0.000000\n",
            "2023-12-15 20:52:01,506 epoch 82 - iter 80/167 - loss 0.17848150 - time (sec): 3.83 - samples/sec: 5041.40 - lr: 0.032768 - momentum: 0.000000\n",
            "2023-12-15 20:52:02,250 epoch 82 - iter 96/167 - loss 0.17824752 - time (sec): 4.57 - samples/sec: 5041.41 - lr: 0.032768 - momentum: 0.000000\n",
            "2023-12-15 20:52:02,969 epoch 82 - iter 112/167 - loss 0.17777934 - time (sec): 5.29 - samples/sec: 5079.59 - lr: 0.032768 - momentum: 0.000000\n",
            "2023-12-15 20:52:04,104 epoch 82 - iter 128/167 - loss 0.17778440 - time (sec): 6.43 - samples/sec: 4807.61 - lr: 0.032768 - momentum: 0.000000\n",
            "2023-12-15 20:52:05,038 epoch 82 - iter 144/167 - loss 0.17812407 - time (sec): 7.36 - samples/sec: 4688.98 - lr: 0.032768 - momentum: 0.000000\n",
            "2023-12-15 20:52:05,977 epoch 82 - iter 160/167 - loss 0.17708662 - time (sec): 8.30 - samples/sec: 4649.09 - lr: 0.032768 - momentum: 0.000000\n",
            "2023-12-15 20:52:06,372 ----------------------------------------------------------------------------------------------------\n",
            "2023-12-15 20:52:06,373 EPOCH 82 done: loss 0.1769 - lr: 0.032768\n"
          ]
        },
        {
          "output_type": "stream",
          "name": "stderr",
          "text": [
            "100%|██████████| 9/9 [00:00<00:00, 12.19it/s]"
          ]
        },
        {
          "output_type": "stream",
          "name": "stdout",
          "text": [
            "2023-12-15 20:52:07,139 DEV : loss 0.10746573656797409 - f1-score (micro avg)  0.8657\n",
            "2023-12-15 20:52:07,156  - 1 epochs without improvement\n",
            "2023-12-15 20:52:07,157 ----------------------------------------------------------------------------------------------------\n"
          ]
        },
        {
          "output_type": "stream",
          "name": "stderr",
          "text": [
            "\n"
          ]
        },
        {
          "output_type": "stream",
          "name": "stdout",
          "text": [
            "2023-12-15 20:52:07,992 epoch 83 - iter 16/167 - loss 0.17507451 - time (sec): 0.83 - samples/sec: 4661.12 - lr: 0.032768 - momentum: 0.000000\n",
            "2023-12-15 20:52:08,665 epoch 83 - iter 32/167 - loss 0.18346593 - time (sec): 1.50 - samples/sec: 4962.73 - lr: 0.032768 - momentum: 0.000000\n",
            "2023-12-15 20:52:09,372 epoch 83 - iter 48/167 - loss 0.18413762 - time (sec): 2.21 - samples/sec: 5080.35 - lr: 0.032768 - momentum: 0.000000\n",
            "2023-12-15 20:52:10,169 epoch 83 - iter 64/167 - loss 0.17925947 - time (sec): 3.01 - samples/sec: 5045.24 - lr: 0.032768 - momentum: 0.000000\n",
            "2023-12-15 20:52:10,874 epoch 83 - iter 80/167 - loss 0.18138831 - time (sec): 3.71 - samples/sec: 5062.84 - lr: 0.032768 - momentum: 0.000000\n",
            "2023-12-15 20:52:11,716 epoch 83 - iter 96/167 - loss 0.17909796 - time (sec): 4.55 - samples/sec: 4979.41 - lr: 0.032768 - momentum: 0.000000\n",
            "2023-12-15 20:52:12,579 epoch 83 - iter 112/167 - loss 0.18107631 - time (sec): 5.42 - samples/sec: 4907.11 - lr: 0.032768 - momentum: 0.000000\n",
            "2023-12-15 20:52:13,320 epoch 83 - iter 128/167 - loss 0.17946000 - time (sec): 6.16 - samples/sec: 4955.14 - lr: 0.032768 - momentum: 0.000000\n",
            "2023-12-15 20:52:14,152 epoch 83 - iter 144/167 - loss 0.17697433 - time (sec): 6.99 - samples/sec: 4965.74 - lr: 0.032768 - momentum: 0.000000\n",
            "2023-12-15 20:52:14,852 epoch 83 - iter 160/167 - loss 0.17770412 - time (sec): 7.69 - samples/sec: 5008.81 - lr: 0.032768 - momentum: 0.000000\n",
            "2023-12-15 20:52:15,283 ----------------------------------------------------------------------------------------------------\n",
            "2023-12-15 20:52:15,285 EPOCH 83 done: loss 0.1774 - lr: 0.032768\n"
          ]
        },
        {
          "output_type": "stream",
          "name": "stderr",
          "text": [
            "100%|██████████| 9/9 [00:01<00:00,  7.90it/s]\n"
          ]
        },
        {
          "output_type": "stream",
          "name": "stdout",
          "text": [
            "2023-12-15 20:52:16,465 DEV : loss 0.10629776120185852 - f1-score (micro avg)  0.8618\n",
            "2023-12-15 20:52:16,492  - 2 epochs without improvement\n",
            "2023-12-15 20:52:16,497 ----------------------------------------------------------------------------------------------------\n",
            "2023-12-15 20:52:17,440 epoch 84 - iter 16/167 - loss 0.18878671 - time (sec): 0.94 - samples/sec: 3951.67 - lr: 0.032768 - momentum: 0.000000\n",
            "2023-12-15 20:52:18,246 epoch 84 - iter 32/167 - loss 0.18048715 - time (sec): 1.75 - samples/sec: 4430.84 - lr: 0.032768 - momentum: 0.000000\n",
            "2023-12-15 20:52:18,896 epoch 84 - iter 48/167 - loss 0.17946356 - time (sec): 2.40 - samples/sec: 4772.14 - lr: 0.032768 - momentum: 0.000000\n",
            "2023-12-15 20:52:19,564 epoch 84 - iter 64/167 - loss 0.17909401 - time (sec): 3.06 - samples/sec: 4945.44 - lr: 0.032768 - momentum: 0.000000\n",
            "2023-12-15 20:52:20,362 epoch 84 - iter 80/167 - loss 0.17906970 - time (sec): 3.86 - samples/sec: 4919.08 - lr: 0.032768 - momentum: 0.000000\n",
            "2023-12-15 20:52:21,108 epoch 84 - iter 96/167 - loss 0.17708793 - time (sec): 4.61 - samples/sec: 4958.06 - lr: 0.032768 - momentum: 0.000000\n",
            "2023-12-15 20:52:21,800 epoch 84 - iter 112/167 - loss 0.17613632 - time (sec): 5.30 - samples/sec: 5031.76 - lr: 0.032768 - momentum: 0.000000\n",
            "2023-12-15 20:52:22,646 epoch 84 - iter 128/167 - loss 0.17792782 - time (sec): 6.15 - samples/sec: 4977.69 - lr: 0.032768 - momentum: 0.000000\n",
            "2023-12-15 20:52:23,330 epoch 84 - iter 144/167 - loss 0.17865133 - time (sec): 6.83 - samples/sec: 5028.15 - lr: 0.032768 - momentum: 0.000000\n",
            "2023-12-15 20:52:24,288 epoch 84 - iter 160/167 - loss 0.17753538 - time (sec): 7.79 - samples/sec: 4945.25 - lr: 0.032768 - momentum: 0.000000\n",
            "2023-12-15 20:52:24,684 ----------------------------------------------------------------------------------------------------\n",
            "2023-12-15 20:52:24,685 EPOCH 84 done: loss 0.1768 - lr: 0.032768\n"
          ]
        },
        {
          "output_type": "stream",
          "name": "stderr",
          "text": [
            "100%|██████████| 9/9 [00:00<00:00, 12.34it/s]"
          ]
        },
        {
          "output_type": "stream",
          "name": "stdout",
          "text": [
            "2023-12-15 20:52:25,444 DEV : loss 0.10856026411056519 - f1-score (micro avg)  0.8564\n",
            "2023-12-15 20:52:25,461  - 3 epochs without improvement\n",
            "2023-12-15 20:52:25,463 ----------------------------------------------------------------------------------------------------\n"
          ]
        },
        {
          "output_type": "stream",
          "name": "stderr",
          "text": [
            "\n"
          ]
        },
        {
          "output_type": "stream",
          "name": "stdout",
          "text": [
            "2023-12-15 20:52:26,360 epoch 85 - iter 16/167 - loss 0.15766109 - time (sec): 0.90 - samples/sec: 4563.59 - lr: 0.032768 - momentum: 0.000000\n",
            "2023-12-15 20:52:27,102 epoch 85 - iter 32/167 - loss 0.16823429 - time (sec): 1.64 - samples/sec: 4814.73 - lr: 0.032768 - momentum: 0.000000\n",
            "2023-12-15 20:52:28,178 epoch 85 - iter 48/167 - loss 0.16833869 - time (sec): 2.71 - samples/sec: 4350.81 - lr: 0.032768 - momentum: 0.000000\n",
            "2023-12-15 20:52:29,147 epoch 85 - iter 64/167 - loss 0.17753695 - time (sec): 3.68 - samples/sec: 4216.71 - lr: 0.032768 - momentum: 0.000000\n",
            "2023-12-15 20:52:30,007 epoch 85 - iter 80/167 - loss 0.17397356 - time (sec): 4.54 - samples/sec: 4289.07 - lr: 0.032768 - momentum: 0.000000\n",
            "2023-12-15 20:52:30,695 epoch 85 - iter 96/167 - loss 0.17342665 - time (sec): 5.23 - samples/sec: 4456.93 - lr: 0.032768 - momentum: 0.000000\n",
            "2023-12-15 20:52:31,440 epoch 85 - iter 112/167 - loss 0.17374957 - time (sec): 5.98 - samples/sec: 4538.87 - lr: 0.032768 - momentum: 0.000000\n",
            "2023-12-15 20:52:32,077 epoch 85 - iter 128/167 - loss 0.17541942 - time (sec): 6.61 - samples/sec: 4634.54 - lr: 0.032768 - momentum: 0.000000\n",
            "2023-12-15 20:52:32,922 epoch 85 - iter 144/167 - loss 0.17506366 - time (sec): 7.46 - samples/sec: 4622.49 - lr: 0.032768 - momentum: 0.000000\n",
            "2023-12-15 20:52:33,663 epoch 85 - iter 160/167 - loss 0.17569897 - time (sec): 8.20 - samples/sec: 4667.85 - lr: 0.032768 - momentum: 0.000000\n",
            "2023-12-15 20:52:34,132 ----------------------------------------------------------------------------------------------------\n",
            "2023-12-15 20:52:34,134 EPOCH 85 done: loss 0.1753 - lr: 0.032768\n"
          ]
        },
        {
          "output_type": "stream",
          "name": "stderr",
          "text": [
            "100%|██████████| 9/9 [00:01<00:00,  7.83it/s]"
          ]
        },
        {
          "output_type": "stream",
          "name": "stdout",
          "text": [
            "2023-12-15 20:52:35,310 DEV : loss 0.10212141275405884 - f1-score (micro avg)  0.867\n",
            "2023-12-15 20:52:35,333  - 4 epochs without improvement (above 'patience')-> annealing learning_rate to [0.026214400000000013]\n",
            "2023-12-15 20:52:35,335 ----------------------------------------------------------------------------------------------------\n"
          ]
        },
        {
          "output_type": "stream",
          "name": "stderr",
          "text": [
            "\n"
          ]
        },
        {
          "output_type": "stream",
          "name": "stdout",
          "text": [
            "2023-12-15 20:52:36,160 epoch 86 - iter 16/167 - loss 0.16663975 - time (sec): 0.82 - samples/sec: 4785.51 - lr: 0.026214 - momentum: 0.000000\n",
            "2023-12-15 20:52:36,955 epoch 86 - iter 32/167 - loss 0.17085048 - time (sec): 1.62 - samples/sec: 4740.81 - lr: 0.026214 - momentum: 0.000000\n",
            "2023-12-15 20:52:37,704 epoch 86 - iter 48/167 - loss 0.17128873 - time (sec): 2.37 - samples/sec: 4830.71 - lr: 0.026214 - momentum: 0.000000\n",
            "2023-12-15 20:52:38,615 epoch 86 - iter 64/167 - loss 0.17143300 - time (sec): 3.28 - samples/sec: 4741.31 - lr: 0.026214 - momentum: 0.000000\n",
            "2023-12-15 20:52:39,644 epoch 86 - iter 80/167 - loss 0.16891589 - time (sec): 4.31 - samples/sec: 4529.39 - lr: 0.026214 - momentum: 0.000000\n",
            "2023-12-15 20:52:40,717 epoch 86 - iter 96/167 - loss 0.17119160 - time (sec): 5.38 - samples/sec: 4342.45 - lr: 0.026214 - momentum: 0.000000\n",
            "2023-12-15 20:52:41,447 epoch 86 - iter 112/167 - loss 0.17385908 - time (sec): 6.11 - samples/sec: 4448.99 - lr: 0.026214 - momentum: 0.000000\n",
            "2023-12-15 20:52:42,127 epoch 86 - iter 128/167 - loss 0.17298063 - time (sec): 6.79 - samples/sec: 4552.12 - lr: 0.026214 - momentum: 0.000000\n",
            "2023-12-15 20:52:42,780 epoch 86 - iter 144/167 - loss 0.17300330 - time (sec): 7.44 - samples/sec: 4659.10 - lr: 0.026214 - momentum: 0.000000\n",
            "2023-12-15 20:52:43,495 epoch 86 - iter 160/167 - loss 0.17410935 - time (sec): 8.16 - samples/sec: 4694.60 - lr: 0.026214 - momentum: 0.000000\n",
            "2023-12-15 20:52:43,913 ----------------------------------------------------------------------------------------------------\n",
            "2023-12-15 20:52:43,916 EPOCH 86 done: loss 0.1727 - lr: 0.026214\n"
          ]
        },
        {
          "output_type": "stream",
          "name": "stderr",
          "text": [
            "100%|██████████| 9/9 [00:00<00:00, 11.97it/s]"
          ]
        },
        {
          "output_type": "stream",
          "name": "stdout",
          "text": [
            "2023-12-15 20:52:44,695 DEV : loss 0.10046520829200745 - f1-score (micro avg)  0.8762\n",
            "2023-12-15 20:52:44,712  - 0 epochs without improvement\n",
            "2023-12-15 20:52:44,713 saving best model\n"
          ]
        },
        {
          "output_type": "stream",
          "name": "stderr",
          "text": [
            "\n"
          ]
        },
        {
          "output_type": "stream",
          "name": "stdout",
          "text": [
            "2023-12-15 20:52:45,451 ----------------------------------------------------------------------------------------------------\n",
            "2023-12-15 20:52:46,134 epoch 87 - iter 16/167 - loss 0.18853999 - time (sec): 0.68 - samples/sec: 5259.47 - lr: 0.026214 - momentum: 0.000000\n",
            "2023-12-15 20:52:46,971 epoch 87 - iter 32/167 - loss 0.17621436 - time (sec): 1.52 - samples/sec: 4906.71 - lr: 0.026214 - momentum: 0.000000\n",
            "2023-12-15 20:52:47,777 epoch 87 - iter 48/167 - loss 0.17636722 - time (sec): 2.32 - samples/sec: 4912.61 - lr: 0.026214 - momentum: 0.000000\n",
            "2023-12-15 20:52:48,495 epoch 87 - iter 64/167 - loss 0.17588712 - time (sec): 3.04 - samples/sec: 5026.09 - lr: 0.026214 - momentum: 0.000000\n",
            "2023-12-15 20:52:49,157 epoch 87 - iter 80/167 - loss 0.17473322 - time (sec): 3.70 - samples/sec: 5178.62 - lr: 0.026214 - momentum: 0.000000\n",
            "2023-12-15 20:52:49,868 epoch 87 - iter 96/167 - loss 0.17639019 - time (sec): 4.41 - samples/sec: 5201.18 - lr: 0.026214 - momentum: 0.000000\n",
            "2023-12-15 20:52:50,826 epoch 87 - iter 112/167 - loss 0.17391289 - time (sec): 5.37 - samples/sec: 5055.31 - lr: 0.026214 - momentum: 0.000000\n",
            "2023-12-15 20:52:51,795 epoch 87 - iter 128/167 - loss 0.17381982 - time (sec): 6.34 - samples/sec: 4872.15 - lr: 0.026214 - momentum: 0.000000\n",
            "2023-12-15 20:52:52,881 epoch 87 - iter 144/167 - loss 0.17116381 - time (sec): 7.43 - samples/sec: 4698.80 - lr: 0.026214 - momentum: 0.000000\n",
            "2023-12-15 20:52:53,698 epoch 87 - iter 160/167 - loss 0.17186141 - time (sec): 8.24 - samples/sec: 4684.98 - lr: 0.026214 - momentum: 0.000000\n",
            "2023-12-15 20:52:54,002 ----------------------------------------------------------------------------------------------------\n",
            "2023-12-15 20:52:54,003 EPOCH 87 done: loss 0.1724 - lr: 0.026214\n"
          ]
        },
        {
          "output_type": "stream",
          "name": "stderr",
          "text": [
            "100%|██████████| 9/9 [00:00<00:00, 12.00it/s]"
          ]
        },
        {
          "output_type": "stream",
          "name": "stdout",
          "text": [
            "2023-12-15 20:52:54,784 DEV : loss 0.10512034595012665 - f1-score (micro avg)  0.8756\n",
            "2023-12-15 20:52:54,801  - 1 epochs without improvement\n",
            "2023-12-15 20:52:54,803 ----------------------------------------------------------------------------------------------------\n"
          ]
        },
        {
          "output_type": "stream",
          "name": "stderr",
          "text": [
            "\n"
          ]
        },
        {
          "output_type": "stream",
          "name": "stdout",
          "text": [
            "2023-12-15 20:52:55,535 epoch 88 - iter 16/167 - loss 0.17342217 - time (sec): 0.73 - samples/sec: 4904.45 - lr: 0.026214 - momentum: 0.000000\n",
            "2023-12-15 20:52:56,227 epoch 88 - iter 32/167 - loss 0.17157429 - time (sec): 1.42 - samples/sec: 5229.93 - lr: 0.026214 - momentum: 0.000000\n",
            "2023-12-15 20:52:56,940 epoch 88 - iter 48/167 - loss 0.17209146 - time (sec): 2.13 - samples/sec: 5179.44 - lr: 0.026214 - momentum: 0.000000\n",
            "2023-12-15 20:52:57,890 epoch 88 - iter 64/167 - loss 0.16644142 - time (sec): 3.08 - samples/sec: 4895.89 - lr: 0.026214 - momentum: 0.000000\n",
            "2023-12-15 20:52:58,729 epoch 88 - iter 80/167 - loss 0.16504822 - time (sec): 3.92 - samples/sec: 4860.23 - lr: 0.026214 - momentum: 0.000000\n",
            "2023-12-15 20:52:59,602 epoch 88 - iter 96/167 - loss 0.16707839 - time (sec): 4.80 - samples/sec: 4772.41 - lr: 0.026214 - momentum: 0.000000\n",
            "2023-12-15 20:53:00,381 epoch 88 - iter 112/167 - loss 0.17002295 - time (sec): 5.58 - samples/sec: 4807.72 - lr: 0.026214 - momentum: 0.000000\n",
            "2023-12-15 20:53:01,097 epoch 88 - iter 128/167 - loss 0.16931358 - time (sec): 6.29 - samples/sec: 4888.35 - lr: 0.026214 - momentum: 0.000000\n",
            "2023-12-15 20:53:01,749 epoch 88 - iter 144/167 - loss 0.17003965 - time (sec): 6.94 - samples/sec: 4977.50 - lr: 0.026214 - momentum: 0.000000\n",
            "2023-12-15 20:53:02,755 epoch 88 - iter 160/167 - loss 0.17014521 - time (sec): 7.95 - samples/sec: 4858.39 - lr: 0.026214 - momentum: 0.000000\n",
            "2023-12-15 20:53:03,281 ----------------------------------------------------------------------------------------------------\n",
            "2023-12-15 20:53:03,285 EPOCH 88 done: loss 0.1700 - lr: 0.026214\n"
          ]
        },
        {
          "output_type": "stream",
          "name": "stderr",
          "text": [
            "100%|██████████| 9/9 [00:01<00:00,  8.34it/s]"
          ]
        },
        {
          "output_type": "stream",
          "name": "stdout",
          "text": [
            "2023-12-15 20:53:04,401 DEV : loss 0.1045989990234375 - f1-score (micro avg)  0.8621\n",
            "2023-12-15 20:53:04,418  - 2 epochs without improvement\n",
            "2023-12-15 20:53:04,420 ----------------------------------------------------------------------------------------------------\n"
          ]
        },
        {
          "output_type": "stream",
          "name": "stderr",
          "text": [
            "\n"
          ]
        },
        {
          "output_type": "stream",
          "name": "stdout",
          "text": [
            "2023-12-15 20:53:05,337 epoch 89 - iter 16/167 - loss 0.15671773 - time (sec): 0.91 - samples/sec: 4435.10 - lr: 0.026214 - momentum: 0.000000\n",
            "2023-12-15 20:53:06,145 epoch 89 - iter 32/167 - loss 0.15703945 - time (sec): 1.72 - samples/sec: 4636.45 - lr: 0.026214 - momentum: 0.000000\n",
            "2023-12-15 20:53:06,865 epoch 89 - iter 48/167 - loss 0.15793028 - time (sec): 2.44 - samples/sec: 4845.02 - lr: 0.026214 - momentum: 0.000000\n",
            "2023-12-15 20:53:07,643 epoch 89 - iter 64/167 - loss 0.15881633 - time (sec): 3.22 - samples/sec: 4919.89 - lr: 0.026214 - momentum: 0.000000\n",
            "2023-12-15 20:53:08,429 epoch 89 - iter 80/167 - loss 0.16155410 - time (sec): 4.01 - samples/sec: 4921.47 - lr: 0.026214 - momentum: 0.000000\n",
            "2023-12-15 20:53:09,226 epoch 89 - iter 96/167 - loss 0.16140503 - time (sec): 4.80 - samples/sec: 4910.97 - lr: 0.026214 - momentum: 0.000000\n",
            "2023-12-15 20:53:09,926 epoch 89 - iter 112/167 - loss 0.16442899 - time (sec): 5.50 - samples/sec: 4931.71 - lr: 0.026214 - momentum: 0.000000\n",
            "2023-12-15 20:53:10,732 epoch 89 - iter 128/167 - loss 0.16667966 - time (sec): 6.31 - samples/sec: 4934.52 - lr: 0.026214 - momentum: 0.000000\n",
            "2023-12-15 20:53:11,457 epoch 89 - iter 144/167 - loss 0.16643194 - time (sec): 7.03 - samples/sec: 4964.48 - lr: 0.026214 - momentum: 0.000000\n",
            "2023-12-15 20:53:12,163 epoch 89 - iter 160/167 - loss 0.16785965 - time (sec): 7.74 - samples/sec: 4993.47 - lr: 0.026214 - momentum: 0.000000\n",
            "2023-12-15 20:53:12,461 ----------------------------------------------------------------------------------------------------\n",
            "2023-12-15 20:53:12,462 EPOCH 89 done: loss 0.1683 - lr: 0.026214\n"
          ]
        },
        {
          "output_type": "stream",
          "name": "stderr",
          "text": [
            "100%|██████████| 9/9 [00:00<00:00, 11.87it/s]"
          ]
        },
        {
          "output_type": "stream",
          "name": "stdout",
          "text": [
            "2023-12-15 20:53:13,252 DEV : loss 0.09711327403783798 - f1-score (micro avg)  0.8764\n",
            "2023-12-15 20:53:13,270  - 0 epochs without improvement\n",
            "2023-12-15 20:53:13,272 saving best model\n"
          ]
        },
        {
          "output_type": "stream",
          "name": "stderr",
          "text": [
            "\n"
          ]
        },
        {
          "output_type": "stream",
          "name": "stdout",
          "text": [
            "2023-12-15 20:53:14,024 ----------------------------------------------------------------------------------------------------\n",
            "2023-12-15 20:53:14,991 epoch 90 - iter 16/167 - loss 0.16840449 - time (sec): 0.96 - samples/sec: 4010.77 - lr: 0.026214 - momentum: 0.000000\n",
            "2023-12-15 20:53:16,140 epoch 90 - iter 32/167 - loss 0.16812837 - time (sec): 2.11 - samples/sec: 3654.20 - lr: 0.026214 - momentum: 0.000000\n",
            "2023-12-15 20:53:16,868 epoch 90 - iter 48/167 - loss 0.16767139 - time (sec): 2.84 - samples/sec: 4063.62 - lr: 0.026214 - momentum: 0.000000\n",
            "2023-12-15 20:53:17,575 epoch 90 - iter 64/167 - loss 0.16429746 - time (sec): 3.54 - samples/sec: 4353.56 - lr: 0.026214 - momentum: 0.000000\n",
            "2023-12-15 20:53:18,276 epoch 90 - iter 80/167 - loss 0.16525117 - time (sec): 4.24 - samples/sec: 4541.27 - lr: 0.026214 - momentum: 0.000000\n",
            "2023-12-15 20:53:19,119 epoch 90 - iter 96/167 - loss 0.16611117 - time (sec): 5.09 - samples/sec: 4532.25 - lr: 0.026214 - momentum: 0.000000\n",
            "2023-12-15 20:53:19,951 epoch 90 - iter 112/167 - loss 0.16724997 - time (sec): 5.92 - samples/sec: 4546.78 - lr: 0.026214 - momentum: 0.000000\n",
            "2023-12-15 20:53:20,948 epoch 90 - iter 128/167 - loss 0.16586983 - time (sec): 6.92 - samples/sec: 4508.25 - lr: 0.026214 - momentum: 0.000000\n",
            "2023-12-15 20:53:21,743 epoch 90 - iter 144/167 - loss 0.16669921 - time (sec): 7.71 - samples/sec: 4519.76 - lr: 0.026214 - momentum: 0.000000\n",
            "2023-12-15 20:53:22,476 epoch 90 - iter 160/167 - loss 0.16682907 - time (sec): 8.44 - samples/sec: 4561.50 - lr: 0.026214 - momentum: 0.000000\n",
            "2023-12-15 20:53:22,752 ----------------------------------------------------------------------------------------------------\n",
            "2023-12-15 20:53:22,753 EPOCH 90 done: loss 0.1670 - lr: 0.026214\n"
          ]
        },
        {
          "output_type": "stream",
          "name": "stderr",
          "text": [
            "100%|██████████| 9/9 [00:00<00:00, 12.23it/s]"
          ]
        },
        {
          "output_type": "stream",
          "name": "stdout",
          "text": [
            "2023-12-15 20:53:23,525 DEV : loss 0.09812838584184647 - f1-score (micro avg)  0.8747\n",
            "2023-12-15 20:53:23,544  - 1 epochs without improvement\n",
            "2023-12-15 20:53:23,546 ----------------------------------------------------------------------------------------------------\n"
          ]
        },
        {
          "output_type": "stream",
          "name": "stderr",
          "text": [
            "\n"
          ]
        },
        {
          "output_type": "stream",
          "name": "stdout",
          "text": [
            "2023-12-15 20:53:24,425 epoch 91 - iter 16/167 - loss 0.14428268 - time (sec): 0.88 - samples/sec: 4747.39 - lr: 0.026214 - momentum: 0.000000\n",
            "2023-12-15 20:53:25,088 epoch 91 - iter 32/167 - loss 0.16655706 - time (sec): 1.54 - samples/sec: 5037.99 - lr: 0.026214 - momentum: 0.000000\n",
            "2023-12-15 20:53:25,901 epoch 91 - iter 48/167 - loss 0.17160430 - time (sec): 2.35 - samples/sec: 4943.50 - lr: 0.026214 - momentum: 0.000000\n",
            "2023-12-15 20:53:26,925 epoch 91 - iter 64/167 - loss 0.16606683 - time (sec): 3.38 - samples/sec: 4652.89 - lr: 0.026214 - momentum: 0.000000\n",
            "2023-12-15 20:53:28,037 epoch 91 - iter 80/167 - loss 0.16605898 - time (sec): 4.49 - samples/sec: 4378.02 - lr: 0.026214 - momentum: 0.000000\n",
            "2023-12-15 20:53:28,729 epoch 91 - iter 96/167 - loss 0.16580888 - time (sec): 5.18 - samples/sec: 4485.62 - lr: 0.026214 - momentum: 0.000000\n",
            "2023-12-15 20:53:29,536 epoch 91 - iter 112/167 - loss 0.16668326 - time (sec): 5.99 - samples/sec: 4556.32 - lr: 0.026214 - momentum: 0.000000\n",
            "2023-12-15 20:53:30,259 epoch 91 - iter 128/167 - loss 0.16823561 - time (sec): 6.71 - samples/sec: 4613.01 - lr: 0.026214 - momentum: 0.000000\n",
            "2023-12-15 20:53:31,104 epoch 91 - iter 144/167 - loss 0.16831048 - time (sec): 7.56 - samples/sec: 4609.52 - lr: 0.026214 - momentum: 0.000000\n",
            "2023-12-15 20:53:31,875 epoch 91 - iter 160/167 - loss 0.16834188 - time (sec): 8.33 - samples/sec: 4655.23 - lr: 0.026214 - momentum: 0.000000\n",
            "2023-12-15 20:53:32,132 ----------------------------------------------------------------------------------------------------\n",
            "2023-12-15 20:53:32,134 EPOCH 91 done: loss 0.1686 - lr: 0.026214\n"
          ]
        },
        {
          "output_type": "stream",
          "name": "stderr",
          "text": [
            "100%|██████████| 9/9 [00:00<00:00, 11.67it/s]"
          ]
        },
        {
          "output_type": "stream",
          "name": "stdout",
          "text": [
            "2023-12-15 20:53:32,932 DEV : loss 0.09549877792596817 - f1-score (micro avg)  0.8782\n",
            "2023-12-15 20:53:32,950  - 0 epochs without improvement\n",
            "2023-12-15 20:53:32,951 saving best model\n"
          ]
        },
        {
          "output_type": "stream",
          "name": "stderr",
          "text": [
            "\n"
          ]
        },
        {
          "output_type": "stream",
          "name": "stdout",
          "text": [
            "2023-12-15 20:53:33,731 ----------------------------------------------------------------------------------------------------\n",
            "2023-12-15 20:53:34,683 epoch 92 - iter 16/167 - loss 0.15632667 - time (sec): 0.95 - samples/sec: 4394.48 - lr: 0.026214 - momentum: 0.000000\n",
            "2023-12-15 20:53:35,436 epoch 92 - iter 32/167 - loss 0.16239774 - time (sec): 1.70 - samples/sec: 4670.88 - lr: 0.026214 - momentum: 0.000000\n",
            "2023-12-15 20:53:36,323 epoch 92 - iter 48/167 - loss 0.15879834 - time (sec): 2.59 - samples/sec: 4635.15 - lr: 0.026214 - momentum: 0.000000\n",
            "2023-12-15 20:53:37,144 epoch 92 - iter 64/167 - loss 0.16015046 - time (sec): 3.41 - samples/sec: 4765.16 - lr: 0.026214 - momentum: 0.000000\n",
            "2023-12-15 20:53:37,971 epoch 92 - iter 80/167 - loss 0.16273299 - time (sec): 4.24 - samples/sec: 4745.56 - lr: 0.026214 - momentum: 0.000000\n",
            "2023-12-15 20:53:38,881 epoch 92 - iter 96/167 - loss 0.16420614 - time (sec): 5.15 - samples/sec: 4588.76 - lr: 0.026214 - momentum: 0.000000\n",
            "2023-12-15 20:53:39,860 epoch 92 - iter 112/167 - loss 0.16541199 - time (sec): 6.13 - samples/sec: 4489.44 - lr: 0.026214 - momentum: 0.000000\n",
            "2023-12-15 20:53:40,734 epoch 92 - iter 128/167 - loss 0.16509376 - time (sec): 7.00 - samples/sec: 4486.32 - lr: 0.026214 - momentum: 0.000000\n",
            "2023-12-15 20:53:41,449 epoch 92 - iter 144/167 - loss 0.16641496 - time (sec): 7.72 - samples/sec: 4544.44 - lr: 0.026214 - momentum: 0.000000\n",
            "2023-12-15 20:53:42,247 epoch 92 - iter 160/167 - loss 0.16738478 - time (sec): 8.51 - samples/sec: 4551.33 - lr: 0.026214 - momentum: 0.000000\n",
            "2023-12-15 20:53:42,511 ----------------------------------------------------------------------------------------------------\n",
            "2023-12-15 20:53:42,512 EPOCH 92 done: loss 0.1676 - lr: 0.026214\n"
          ]
        },
        {
          "output_type": "stream",
          "name": "stderr",
          "text": [
            "100%|██████████| 9/9 [00:00<00:00, 12.06it/s]"
          ]
        },
        {
          "output_type": "stream",
          "name": "stdout",
          "text": [
            "2023-12-15 20:53:43,292 DEV : loss 0.09610164910554886 - f1-score (micro avg)  0.8783\n",
            "2023-12-15 20:53:43,309  - 0 epochs without improvement\n",
            "2023-12-15 20:53:43,310 saving best model\n"
          ]
        },
        {
          "output_type": "stream",
          "name": "stderr",
          "text": [
            "\n"
          ]
        },
        {
          "output_type": "stream",
          "name": "stdout",
          "text": [
            "2023-12-15 20:53:44,047 ----------------------------------------------------------------------------------------------------\n",
            "2023-12-15 20:53:44,750 epoch 93 - iter 16/167 - loss 0.15414279 - time (sec): 0.70 - samples/sec: 5505.95 - lr: 0.026214 - momentum: 0.000000\n",
            "2023-12-15 20:53:45,581 epoch 93 - iter 32/167 - loss 0.15615164 - time (sec): 1.53 - samples/sec: 5055.73 - lr: 0.026214 - momentum: 0.000000\n",
            "2023-12-15 20:53:46,320 epoch 93 - iter 48/167 - loss 0.15930057 - time (sec): 2.27 - samples/sec: 5018.68 - lr: 0.026214 - momentum: 0.000000\n",
            "2023-12-15 20:53:47,155 epoch 93 - iter 64/167 - loss 0.15858279 - time (sec): 3.11 - samples/sec: 4967.45 - lr: 0.026214 - momentum: 0.000000\n",
            "2023-12-15 20:53:48,023 epoch 93 - iter 80/167 - loss 0.16224096 - time (sec): 3.97 - samples/sec: 4910.31 - lr: 0.026214 - momentum: 0.000000\n",
            "2023-12-15 20:53:48,720 epoch 93 - iter 96/167 - loss 0.16426976 - time (sec): 4.67 - samples/sec: 4960.26 - lr: 0.026214 - momentum: 0.000000\n",
            "2023-12-15 20:53:49,440 epoch 93 - iter 112/167 - loss 0.16470181 - time (sec): 5.39 - samples/sec: 4990.83 - lr: 0.026214 - momentum: 0.000000\n",
            "2023-12-15 20:53:50,601 epoch 93 - iter 128/167 - loss 0.16660453 - time (sec): 6.55 - samples/sec: 4732.53 - lr: 0.026214 - momentum: 0.000000\n",
            "2023-12-15 20:53:51,493 epoch 93 - iter 144/167 - loss 0.16731842 - time (sec): 7.44 - samples/sec: 4661.77 - lr: 0.026214 - momentum: 0.000000\n",
            "2023-12-15 20:53:52,293 epoch 93 - iter 160/167 - loss 0.16606926 - time (sec): 8.24 - samples/sec: 4684.29 - lr: 0.026214 - momentum: 0.000000\n",
            "2023-12-15 20:53:52,620 ----------------------------------------------------------------------------------------------------\n",
            "2023-12-15 20:53:52,621 EPOCH 93 done: loss 0.1663 - lr: 0.026214\n"
          ]
        },
        {
          "output_type": "stream",
          "name": "stderr",
          "text": [
            "100%|██████████| 9/9 [00:00<00:00, 12.05it/s]"
          ]
        },
        {
          "output_type": "stream",
          "name": "stdout",
          "text": [
            "2023-12-15 20:53:53,403 DEV : loss 0.09409438073635101 - f1-score (micro avg)  0.8901\n",
            "2023-12-15 20:53:53,420  - 0 epochs without improvement\n",
            "2023-12-15 20:53:53,422 saving best model\n"
          ]
        },
        {
          "output_type": "stream",
          "name": "stderr",
          "text": [
            "\n"
          ]
        },
        {
          "output_type": "stream",
          "name": "stdout",
          "text": [
            "2023-12-15 20:53:54,167 ----------------------------------------------------------------------------------------------------\n",
            "2023-12-15 20:53:55,067 epoch 94 - iter 16/167 - loss 0.17184103 - time (sec): 0.90 - samples/sec: 4321.32 - lr: 0.026214 - momentum: 0.000000\n",
            "2023-12-15 20:53:55,772 epoch 94 - iter 32/167 - loss 0.16728805 - time (sec): 1.60 - samples/sec: 4802.38 - lr: 0.026214 - momentum: 0.000000\n",
            "2023-12-15 20:53:56,509 epoch 94 - iter 48/167 - loss 0.17011190 - time (sec): 2.34 - samples/sec: 4945.94 - lr: 0.026214 - momentum: 0.000000\n",
            "2023-12-15 20:53:57,238 epoch 94 - iter 64/167 - loss 0.16794741 - time (sec): 3.07 - samples/sec: 5047.77 - lr: 0.026214 - momentum: 0.000000\n",
            "2023-12-15 20:53:58,065 epoch 94 - iter 80/167 - loss 0.16714911 - time (sec): 3.90 - samples/sec: 4949.45 - lr: 0.026214 - momentum: 0.000000\n",
            "2023-12-15 20:53:58,866 epoch 94 - iter 96/167 - loss 0.16730896 - time (sec): 4.70 - samples/sec: 4935.24 - lr: 0.026214 - momentum: 0.000000\n",
            "2023-12-15 20:53:59,716 epoch 94 - iter 112/167 - loss 0.16439903 - time (sec): 5.55 - samples/sec: 4902.87 - lr: 0.026214 - momentum: 0.000000\n",
            "2023-12-15 20:54:00,406 epoch 94 - iter 128/167 - loss 0.16634277 - time (sec): 6.24 - samples/sec: 4949.71 - lr: 0.026214 - momentum: 0.000000\n",
            "2023-12-15 20:54:01,123 epoch 94 - iter 144/167 - loss 0.16555421 - time (sec): 6.95 - samples/sec: 4978.81 - lr: 0.026214 - momentum: 0.000000\n",
            "2023-12-15 20:54:02,260 epoch 94 - iter 160/167 - loss 0.16559522 - time (sec): 8.09 - samples/sec: 4774.33 - lr: 0.026214 - momentum: 0.000000\n",
            "2023-12-15 20:54:02,827 ----------------------------------------------------------------------------------------------------\n",
            "2023-12-15 20:54:02,831 EPOCH 94 done: loss 0.1651 - lr: 0.026214\n"
          ]
        },
        {
          "output_type": "stream",
          "name": "stderr",
          "text": [
            "100%|██████████| 9/9 [00:00<00:00, 10.91it/s]"
          ]
        },
        {
          "output_type": "stream",
          "name": "stdout",
          "text": [
            "2023-12-15 20:54:03,691 DEV : loss 0.09264254570007324 - f1-score (micro avg)  0.8762\n",
            "2023-12-15 20:54:03,708  - 1 epochs without improvement\n",
            "2023-12-15 20:54:03,710 ----------------------------------------------------------------------------------------------------\n"
          ]
        },
        {
          "output_type": "stream",
          "name": "stderr",
          "text": [
            "\n"
          ]
        },
        {
          "output_type": "stream",
          "name": "stdout",
          "text": [
            "2023-12-15 20:54:04,473 epoch 95 - iter 16/167 - loss 0.15081433 - time (sec): 0.76 - samples/sec: 5278.93 - lr: 0.026214 - momentum: 0.000000\n",
            "2023-12-15 20:54:05,102 epoch 95 - iter 32/167 - loss 0.16468650 - time (sec): 1.39 - samples/sec: 5452.58 - lr: 0.026214 - momentum: 0.000000\n",
            "2023-12-15 20:54:05,884 epoch 95 - iter 48/167 - loss 0.16330937 - time (sec): 2.17 - samples/sec: 5253.40 - lr: 0.026214 - momentum: 0.000000\n",
            "2023-12-15 20:54:06,757 epoch 95 - iter 64/167 - loss 0.16439167 - time (sec): 3.04 - samples/sec: 4992.40 - lr: 0.026214 - momentum: 0.000000\n",
            "2023-12-15 20:54:07,566 epoch 95 - iter 80/167 - loss 0.16547136 - time (sec): 3.85 - samples/sec: 4962.33 - lr: 0.026214 - momentum: 0.000000\n",
            "2023-12-15 20:54:08,349 epoch 95 - iter 96/167 - loss 0.16192828 - time (sec): 4.64 - samples/sec: 4991.58 - lr: 0.026214 - momentum: 0.000000\n",
            "2023-12-15 20:54:09,216 epoch 95 - iter 112/167 - loss 0.15878949 - time (sec): 5.50 - samples/sec: 4976.44 - lr: 0.026214 - momentum: 0.000000\n",
            "2023-12-15 20:54:09,956 epoch 95 - iter 128/167 - loss 0.15996535 - time (sec): 6.24 - samples/sec: 4969.81 - lr: 0.026214 - momentum: 0.000000\n",
            "2023-12-15 20:54:10,732 epoch 95 - iter 144/167 - loss 0.16065815 - time (sec): 7.02 - samples/sec: 4976.30 - lr: 0.026214 - momentum: 0.000000\n",
            "2023-12-15 20:54:11,486 epoch 95 - iter 160/167 - loss 0.16260179 - time (sec): 7.77 - samples/sec: 4991.72 - lr: 0.026214 - momentum: 0.000000\n",
            "2023-12-15 20:54:11,722 ----------------------------------------------------------------------------------------------------\n",
            "2023-12-15 20:54:11,723 EPOCH 95 done: loss 0.1638 - lr: 0.026214\n"
          ]
        },
        {
          "output_type": "stream",
          "name": "stderr",
          "text": [
            "100%|██████████| 9/9 [00:00<00:00, 11.94it/s]"
          ]
        },
        {
          "output_type": "stream",
          "name": "stdout",
          "text": [
            "2023-12-15 20:54:12,506 DEV : loss 0.09502218663692474 - f1-score (micro avg)  0.8745\n",
            "2023-12-15 20:54:12,524  - 2 epochs without improvement\n",
            "2023-12-15 20:54:12,526 ----------------------------------------------------------------------------------------------------\n"
          ]
        },
        {
          "output_type": "stream",
          "name": "stderr",
          "text": [
            "\n"
          ]
        },
        {
          "output_type": "stream",
          "name": "stdout",
          "text": [
            "2023-12-15 20:54:13,571 epoch 96 - iter 16/167 - loss 0.17115326 - time (sec): 1.04 - samples/sec: 3797.72 - lr: 0.026214 - momentum: 0.000000\n",
            "2023-12-15 20:54:14,634 epoch 96 - iter 32/167 - loss 0.16535349 - time (sec): 2.10 - samples/sec: 3695.11 - lr: 0.026214 - momentum: 0.000000\n",
            "2023-12-15 20:54:15,389 epoch 96 - iter 48/167 - loss 0.16311635 - time (sec): 2.86 - samples/sec: 4023.24 - lr: 0.026214 - momentum: 0.000000\n",
            "2023-12-15 20:54:16,277 epoch 96 - iter 64/167 - loss 0.15889515 - time (sec): 3.75 - samples/sec: 4109.14 - lr: 0.026214 - momentum: 0.000000\n",
            "2023-12-15 20:54:16,897 epoch 96 - iter 80/167 - loss 0.16025391 - time (sec): 4.37 - samples/sec: 4345.72 - lr: 0.026214 - momentum: 0.000000\n",
            "2023-12-15 20:54:17,679 epoch 96 - iter 96/167 - loss 0.16113128 - time (sec): 5.15 - samples/sec: 4449.35 - lr: 0.026214 - momentum: 0.000000\n",
            "2023-12-15 20:54:18,417 epoch 96 - iter 112/167 - loss 0.16084424 - time (sec): 5.89 - samples/sec: 4565.70 - lr: 0.026214 - momentum: 0.000000\n",
            "2023-12-15 20:54:19,053 epoch 96 - iter 128/167 - loss 0.16402719 - time (sec): 6.52 - samples/sec: 4667.87 - lr: 0.026214 - momentum: 0.000000\n",
            "2023-12-15 20:54:20,021 epoch 96 - iter 144/167 - loss 0.15988063 - time (sec): 7.49 - samples/sec: 4657.42 - lr: 0.026214 - momentum: 0.000000\n",
            "2023-12-15 20:54:20,728 epoch 96 - iter 160/167 - loss 0.16068447 - time (sec): 8.20 - samples/sec: 4702.30 - lr: 0.026214 - momentum: 0.000000\n",
            "2023-12-15 20:54:21,117 ----------------------------------------------------------------------------------------------------\n",
            "2023-12-15 20:54:21,119 EPOCH 96 done: loss 0.1606 - lr: 0.026214\n"
          ]
        },
        {
          "output_type": "stream",
          "name": "stderr",
          "text": [
            "100%|██████████| 9/9 [00:00<00:00, 12.16it/s]"
          ]
        },
        {
          "output_type": "stream",
          "name": "stdout",
          "text": [
            "2023-12-15 20:54:21,887 DEV : loss 0.09041325747966766 - f1-score (micro avg)  0.8908\n",
            "2023-12-15 20:54:21,905  - 0 epochs without improvement\n",
            "2023-12-15 20:54:21,907 saving best model\n"
          ]
        },
        {
          "output_type": "stream",
          "name": "stderr",
          "text": [
            "\n"
          ]
        },
        {
          "output_type": "stream",
          "name": "stdout",
          "text": [
            "2023-12-15 20:54:22,631 ----------------------------------------------------------------------------------------------------\n",
            "2023-12-15 20:54:23,448 epoch 97 - iter 16/167 - loss 0.16525839 - time (sec): 0.81 - samples/sec: 4829.52 - lr: 0.026214 - momentum: 0.000000\n",
            "2023-12-15 20:54:24,242 epoch 97 - iter 32/167 - loss 0.16810330 - time (sec): 1.61 - samples/sec: 4744.46 - lr: 0.026214 - momentum: 0.000000\n",
            "2023-12-15 20:54:24,822 epoch 97 - iter 48/167 - loss 0.16665158 - time (sec): 2.19 - samples/sec: 5068.55 - lr: 0.026214 - momentum: 0.000000\n",
            "2023-12-15 20:54:25,871 epoch 97 - iter 64/167 - loss 0.17178314 - time (sec): 3.23 - samples/sec: 4566.33 - lr: 0.026214 - momentum: 0.000000\n",
            "2023-12-15 20:54:26,803 epoch 97 - iter 80/167 - loss 0.17134830 - time (sec): 4.17 - samples/sec: 4422.09 - lr: 0.026214 - momentum: 0.000000\n",
            "2023-12-15 20:54:27,687 epoch 97 - iter 96/167 - loss 0.16871680 - time (sec): 5.05 - samples/sec: 4470.35 - lr: 0.026214 - momentum: 0.000000\n",
            "2023-12-15 20:54:28,527 epoch 97 - iter 112/167 - loss 0.16754336 - time (sec): 5.89 - samples/sec: 4543.94 - lr: 0.026214 - momentum: 0.000000\n",
            "2023-12-15 20:54:29,304 epoch 97 - iter 128/167 - loss 0.16531743 - time (sec): 6.67 - samples/sec: 4605.92 - lr: 0.026214 - momentum: 0.000000\n",
            "2023-12-15 20:54:30,221 epoch 97 - iter 144/167 - loss 0.16525774 - time (sec): 7.59 - samples/sec: 4607.68 - lr: 0.026214 - momentum: 0.000000\n",
            "2023-12-15 20:54:30,833 epoch 97 - iter 160/167 - loss 0.16608932 - time (sec): 8.20 - samples/sec: 4703.58 - lr: 0.026214 - momentum: 0.000000\n",
            "2023-12-15 20:54:31,169 ----------------------------------------------------------------------------------------------------\n",
            "2023-12-15 20:54:31,170 EPOCH 97 done: loss 0.1663 - lr: 0.026214\n"
          ]
        },
        {
          "output_type": "stream",
          "name": "stderr",
          "text": [
            "100%|██████████| 9/9 [00:00<00:00, 12.02it/s]"
          ]
        },
        {
          "output_type": "stream",
          "name": "stdout",
          "text": [
            "2023-12-15 20:54:31,949 DEV : loss 0.08885623514652252 - f1-score (micro avg)  0.8921\n",
            "2023-12-15 20:54:31,967  - 0 epochs without improvement\n",
            "2023-12-15 20:54:31,969 saving best model\n"
          ]
        },
        {
          "output_type": "stream",
          "name": "stderr",
          "text": [
            "\n"
          ]
        },
        {
          "output_type": "stream",
          "name": "stdout",
          "text": [
            "2023-12-15 20:54:32,708 ----------------------------------------------------------------------------------------------------\n",
            "2023-12-15 20:54:33,507 epoch 98 - iter 16/167 - loss 0.17535608 - time (sec): 0.80 - samples/sec: 4614.01 - lr: 0.026214 - momentum: 0.000000\n",
            "2023-12-15 20:54:34,395 epoch 98 - iter 32/167 - loss 0.16063190 - time (sec): 1.68 - samples/sec: 4707.93 - lr: 0.026214 - momentum: 0.000000\n",
            "2023-12-15 20:54:35,135 epoch 98 - iter 48/167 - loss 0.15842691 - time (sec): 2.42 - samples/sec: 4866.79 - lr: 0.026214 - momentum: 0.000000\n",
            "2023-12-15 20:54:35,883 epoch 98 - iter 64/167 - loss 0.15889531 - time (sec): 3.17 - samples/sec: 4932.19 - lr: 0.026214 - momentum: 0.000000\n",
            "2023-12-15 20:54:36,703 epoch 98 - iter 80/167 - loss 0.16125286 - time (sec): 3.99 - samples/sec: 4873.78 - lr: 0.026214 - momentum: 0.000000\n",
            "2023-12-15 20:54:37,904 epoch 98 - iter 96/167 - loss 0.16246343 - time (sec): 5.19 - samples/sec: 4517.55 - lr: 0.026214 - momentum: 0.000000\n",
            "2023-12-15 20:54:38,808 epoch 98 - iter 112/167 - loss 0.16130823 - time (sec): 6.10 - samples/sec: 4495.34 - lr: 0.026214 - momentum: 0.000000\n",
            "2023-12-15 20:54:39,636 epoch 98 - iter 128/167 - loss 0.16202235 - time (sec): 6.93 - samples/sec: 4484.65 - lr: 0.026214 - momentum: 0.000000\n",
            "2023-12-15 20:54:40,512 epoch 98 - iter 144/167 - loss 0.16093317 - time (sec): 7.80 - samples/sec: 4498.77 - lr: 0.026214 - momentum: 0.000000\n",
            "2023-12-15 20:54:41,080 epoch 98 - iter 160/167 - loss 0.16236421 - time (sec): 8.37 - samples/sec: 4611.64 - lr: 0.026214 - momentum: 0.000000\n",
            "2023-12-15 20:54:41,434 ----------------------------------------------------------------------------------------------------\n",
            "2023-12-15 20:54:41,435 EPOCH 98 done: loss 0.1621 - lr: 0.026214\n"
          ]
        },
        {
          "output_type": "stream",
          "name": "stderr",
          "text": [
            "100%|██████████| 9/9 [00:00<00:00, 12.13it/s]"
          ]
        },
        {
          "output_type": "stream",
          "name": "stdout",
          "text": [
            "2023-12-15 20:54:42,206 DEV : loss 0.08816810697317123 - f1-score (micro avg)  0.8828\n",
            "2023-12-15 20:54:42,224  - 1 epochs without improvement\n",
            "2023-12-15 20:54:42,225 ----------------------------------------------------------------------------------------------------\n"
          ]
        },
        {
          "output_type": "stream",
          "name": "stderr",
          "text": [
            "\n"
          ]
        },
        {
          "output_type": "stream",
          "name": "stdout",
          "text": [
            "2023-12-15 20:54:42,922 epoch 99 - iter 16/167 - loss 0.16884018 - time (sec): 0.69 - samples/sec: 5473.48 - lr: 0.026214 - momentum: 0.000000\n",
            "2023-12-15 20:54:43,847 epoch 99 - iter 32/167 - loss 0.16071905 - time (sec): 1.62 - samples/sec: 4931.99 - lr: 0.026214 - momentum: 0.000000\n",
            "2023-12-15 20:54:44,651 epoch 99 - iter 48/167 - loss 0.16295152 - time (sec): 2.42 - samples/sec: 4979.72 - lr: 0.026214 - momentum: 0.000000\n",
            "2023-12-15 20:54:45,304 epoch 99 - iter 64/167 - loss 0.16264101 - time (sec): 3.08 - samples/sec: 5128.13 - lr: 0.026214 - momentum: 0.000000\n",
            "2023-12-15 20:54:45,986 epoch 99 - iter 80/167 - loss 0.16170916 - time (sec): 3.76 - samples/sec: 5185.06 - lr: 0.026214 - momentum: 0.000000\n",
            "2023-12-15 20:54:46,904 epoch 99 - iter 96/167 - loss 0.16159539 - time (sec): 4.68 - samples/sec: 5019.80 - lr: 0.026214 - momentum: 0.000000\n",
            "2023-12-15 20:54:47,603 epoch 99 - iter 112/167 - loss 0.16112495 - time (sec): 5.37 - samples/sec: 5089.04 - lr: 0.026214 - momentum: 0.000000\n",
            "2023-12-15 20:54:48,449 epoch 99 - iter 128/167 - loss 0.16181310 - time (sec): 6.22 - samples/sec: 5012.15 - lr: 0.026214 - momentum: 0.000000\n",
            "2023-12-15 20:54:49,375 epoch 99 - iter 144/167 - loss 0.16544577 - time (sec): 7.15 - samples/sec: 4855.14 - lr: 0.026214 - momentum: 0.000000\n",
            "2023-12-15 20:54:50,400 epoch 99 - iter 160/167 - loss 0.16511396 - time (sec): 8.17 - samples/sec: 4710.95 - lr: 0.026214 - momentum: 0.000000\n",
            "2023-12-15 20:54:50,840 ----------------------------------------------------------------------------------------------------\n",
            "2023-12-15 20:54:50,841 EPOCH 99 done: loss 0.1649 - lr: 0.026214\n"
          ]
        },
        {
          "output_type": "stream",
          "name": "stderr",
          "text": [
            "100%|██████████| 9/9 [00:00<00:00, 12.04it/s]"
          ]
        },
        {
          "output_type": "stream",
          "name": "stdout",
          "text": [
            "2023-12-15 20:54:51,617 DEV : loss 0.09048763662576675 - f1-score (micro avg)  0.8864\n",
            "2023-12-15 20:54:51,634  - 2 epochs without improvement\n",
            "2023-12-15 20:54:51,636 ----------------------------------------------------------------------------------------------------\n"
          ]
        },
        {
          "output_type": "stream",
          "name": "stderr",
          "text": [
            "\n"
          ]
        },
        {
          "output_type": "stream",
          "name": "stdout",
          "text": [
            "2023-12-15 20:54:52,333 epoch 100 - iter 16/167 - loss 0.17219772 - time (sec): 0.69 - samples/sec: 5381.46 - lr: 0.026214 - momentum: 0.000000\n",
            "2023-12-15 20:54:52,997 epoch 100 - iter 32/167 - loss 0.17668156 - time (sec): 1.36 - samples/sec: 5474.00 - lr: 0.026214 - momentum: 0.000000\n",
            "2023-12-15 20:54:53,783 epoch 100 - iter 48/167 - loss 0.17155340 - time (sec): 2.14 - samples/sec: 5226.78 - lr: 0.026214 - momentum: 0.000000\n",
            "2023-12-15 20:54:54,629 epoch 100 - iter 64/167 - loss 0.16595110 - time (sec): 2.99 - samples/sec: 5095.31 - lr: 0.026214 - momentum: 0.000000\n",
            "2023-12-15 20:54:55,332 epoch 100 - iter 80/167 - loss 0.16381394 - time (sec): 3.69 - samples/sec: 5138.30 - lr: 0.026214 - momentum: 0.000000\n",
            "2023-12-15 20:54:56,142 epoch 100 - iter 96/167 - loss 0.16035046 - time (sec): 4.50 - samples/sec: 5101.68 - lr: 0.026214 - momentum: 0.000000\n",
            "2023-12-15 20:54:56,974 epoch 100 - iter 112/167 - loss 0.15954579 - time (sec): 5.34 - samples/sec: 5060.46 - lr: 0.026214 - momentum: 0.000000\n",
            "2023-12-15 20:54:57,697 epoch 100 - iter 128/167 - loss 0.15972024 - time (sec): 6.06 - samples/sec: 5108.54 - lr: 0.026214 - momentum: 0.000000\n",
            "2023-12-15 20:54:58,511 epoch 100 - iter 144/167 - loss 0.16061266 - time (sec): 6.87 - samples/sec: 5056.44 - lr: 0.026214 - momentum: 0.000000\n",
            "2023-12-15 20:54:59,348 epoch 100 - iter 160/167 - loss 0.15932220 - time (sec): 7.71 - samples/sec: 5020.88 - lr: 0.026214 - momentum: 0.000000\n",
            "2023-12-15 20:54:59,678 ----------------------------------------------------------------------------------------------------\n",
            "2023-12-15 20:54:59,680 EPOCH 100 done: loss 0.1599 - lr: 0.026214\n"
          ]
        },
        {
          "output_type": "stream",
          "name": "stderr",
          "text": [
            "100%|██████████| 9/9 [00:00<00:00,  9.36it/s]\n"
          ]
        },
        {
          "output_type": "stream",
          "name": "stdout",
          "text": [
            "2023-12-15 20:55:00,682 DEV : loss 0.08998905122280121 - f1-score (micro avg)  0.8747\n",
            "2023-12-15 20:55:00,705  - 3 epochs without improvement\n",
            "2023-12-15 20:55:00,707 ----------------------------------------------------------------------------------------------------\n",
            "2023-12-15 20:55:01,877 epoch 101 - iter 16/167 - loss 0.16750913 - time (sec): 1.17 - samples/sec: 3358.55 - lr: 0.026214 - momentum: 0.000000\n",
            "2023-12-15 20:55:02,537 epoch 101 - iter 32/167 - loss 0.16067836 - time (sec): 1.83 - samples/sec: 4186.24 - lr: 0.026214 - momentum: 0.000000\n",
            "2023-12-15 20:55:03,421 epoch 101 - iter 48/167 - loss 0.15832387 - time (sec): 2.71 - samples/sec: 4222.46 - lr: 0.026214 - momentum: 0.000000\n",
            "2023-12-15 20:55:04,202 epoch 101 - iter 64/167 - loss 0.16118854 - time (sec): 3.49 - samples/sec: 4404.90 - lr: 0.026214 - momentum: 0.000000\n",
            "2023-12-15 20:55:04,844 epoch 101 - iter 80/167 - loss 0.16168589 - time (sec): 4.13 - samples/sec: 4601.83 - lr: 0.026214 - momentum: 0.000000\n",
            "2023-12-15 20:55:05,588 epoch 101 - iter 96/167 - loss 0.16317222 - time (sec): 4.88 - samples/sec: 4666.11 - lr: 0.026214 - momentum: 0.000000\n",
            "2023-12-15 20:55:06,502 epoch 101 - iter 112/167 - loss 0.16170361 - time (sec): 5.79 - samples/sec: 4632.49 - lr: 0.026214 - momentum: 0.000000\n",
            "2023-12-15 20:55:07,225 epoch 101 - iter 128/167 - loss 0.16249619 - time (sec): 6.52 - samples/sec: 4689.67 - lr: 0.026214 - momentum: 0.000000\n",
            "2023-12-15 20:55:07,901 epoch 101 - iter 144/167 - loss 0.16300212 - time (sec): 7.19 - samples/sec: 4790.70 - lr: 0.026214 - momentum: 0.000000\n",
            "2023-12-15 20:55:08,644 epoch 101 - iter 160/167 - loss 0.16049876 - time (sec): 7.94 - samples/sec: 4847.56 - lr: 0.026214 - momentum: 0.000000\n",
            "2023-12-15 20:55:09,061 ----------------------------------------------------------------------------------------------------\n",
            "2023-12-15 20:55:09,062 EPOCH 101 done: loss 0.1591 - lr: 0.026214\n"
          ]
        },
        {
          "output_type": "stream",
          "name": "stderr",
          "text": [
            "100%|██████████| 9/9 [00:00<00:00, 12.08it/s]"
          ]
        },
        {
          "output_type": "stream",
          "name": "stdout",
          "text": [
            "2023-12-15 20:55:09,845 DEV : loss 0.08854799717664719 - f1-score (micro avg)  0.8845\n",
            "2023-12-15 20:55:09,868  - 4 epochs without improvement (above 'patience')-> annealing learning_rate to [0.02097152000000001]\n",
            "2023-12-15 20:55:09,870 ----------------------------------------------------------------------------------------------------\n"
          ]
        },
        {
          "output_type": "stream",
          "name": "stderr",
          "text": [
            "\n"
          ]
        },
        {
          "output_type": "stream",
          "name": "stdout",
          "text": [
            "2023-12-15 20:55:10,633 epoch 102 - iter 16/167 - loss 0.14814874 - time (sec): 0.76 - samples/sec: 5145.51 - lr: 0.020972 - momentum: 0.000000\n",
            "2023-12-15 20:55:11,289 epoch 102 - iter 32/167 - loss 0.15031069 - time (sec): 1.42 - samples/sec: 5379.84 - lr: 0.020972 - momentum: 0.000000\n",
            "2023-12-15 20:55:12,244 epoch 102 - iter 48/167 - loss 0.15154868 - time (sec): 2.37 - samples/sec: 4867.96 - lr: 0.020972 - momentum: 0.000000\n",
            "2023-12-15 20:55:13,473 epoch 102 - iter 64/167 - loss 0.15246285 - time (sec): 3.60 - samples/sec: 4320.81 - lr: 0.020972 - momentum: 0.000000\n",
            "2023-12-15 20:55:14,274 epoch 102 - iter 80/167 - loss 0.15283916 - time (sec): 4.40 - samples/sec: 4420.35 - lr: 0.020972 - momentum: 0.000000\n",
            "2023-12-15 20:55:15,028 epoch 102 - iter 96/167 - loss 0.15561419 - time (sec): 5.16 - samples/sec: 4483.22 - lr: 0.020972 - momentum: 0.000000\n",
            "2023-12-15 20:55:15,662 epoch 102 - iter 112/167 - loss 0.15826164 - time (sec): 5.79 - samples/sec: 4601.37 - lr: 0.020972 - momentum: 0.000000\n",
            "2023-12-15 20:55:16,497 epoch 102 - iter 128/167 - loss 0.15932367 - time (sec): 6.63 - samples/sec: 4629.68 - lr: 0.020972 - momentum: 0.000000\n",
            "2023-12-15 20:55:17,243 epoch 102 - iter 144/167 - loss 0.15952473 - time (sec): 7.37 - samples/sec: 4675.96 - lr: 0.020972 - momentum: 0.000000\n",
            "2023-12-15 20:55:18,070 epoch 102 - iter 160/167 - loss 0.15948535 - time (sec): 8.20 - samples/sec: 4708.50 - lr: 0.020972 - momentum: 0.000000\n",
            "2023-12-15 20:55:18,420 ----------------------------------------------------------------------------------------------------\n",
            "2023-12-15 20:55:18,422 EPOCH 102 done: loss 0.1591 - lr: 0.020972\n"
          ]
        },
        {
          "output_type": "stream",
          "name": "stderr",
          "text": [
            "100%|██████████| 9/9 [00:00<00:00, 11.92it/s]"
          ]
        },
        {
          "output_type": "stream",
          "name": "stdout",
          "text": [
            "2023-12-15 20:55:19,206 DEV : loss 0.08908838778734207 - f1-score (micro avg)  0.8788\n",
            "2023-12-15 20:55:19,224  - 1 epochs without improvement\n",
            "2023-12-15 20:55:19,226 ----------------------------------------------------------------------------------------------------\n"
          ]
        },
        {
          "output_type": "stream",
          "name": "stderr",
          "text": [
            "\n"
          ]
        },
        {
          "output_type": "stream",
          "name": "stdout",
          "text": [
            "2023-12-15 20:55:20,058 epoch 103 - iter 16/167 - loss 0.14577626 - time (sec): 0.83 - samples/sec: 4807.47 - lr: 0.020972 - momentum: 0.000000\n",
            "2023-12-15 20:55:20,837 epoch 103 - iter 32/167 - loss 0.15066274 - time (sec): 1.60 - samples/sec: 4843.61 - lr: 0.020972 - momentum: 0.000000\n",
            "2023-12-15 20:55:21,777 epoch 103 - iter 48/167 - loss 0.15333430 - time (sec): 2.55 - samples/sec: 4665.61 - lr: 0.020972 - momentum: 0.000000\n",
            "2023-12-15 20:55:22,597 epoch 103 - iter 64/167 - loss 0.15475969 - time (sec): 3.37 - samples/sec: 4729.88 - lr: 0.020972 - momentum: 0.000000\n",
            "2023-12-15 20:55:23,305 epoch 103 - iter 80/167 - loss 0.15639172 - time (sec): 4.07 - samples/sec: 4824.41 - lr: 0.020972 - momentum: 0.000000\n",
            "2023-12-15 20:55:24,163 epoch 103 - iter 96/167 - loss 0.15986569 - time (sec): 4.93 - samples/sec: 4745.94 - lr: 0.020972 - momentum: 0.000000\n",
            "2023-12-15 20:55:25,163 epoch 103 - iter 112/167 - loss 0.15980867 - time (sec): 5.93 - samples/sec: 4569.13 - lr: 0.020972 - momentum: 0.000000\n",
            "2023-12-15 20:55:25,858 epoch 103 - iter 128/167 - loss 0.15977464 - time (sec): 6.63 - samples/sec: 4631.46 - lr: 0.020972 - momentum: 0.000000\n",
            "2023-12-15 20:55:26,837 epoch 103 - iter 144/167 - loss 0.15964350 - time (sec): 7.60 - samples/sec: 4610.46 - lr: 0.020972 - momentum: 0.000000\n",
            "2023-12-15 20:55:27,522 epoch 103 - iter 160/167 - loss 0.16170116 - time (sec): 8.29 - samples/sec: 4662.12 - lr: 0.020972 - momentum: 0.000000\n",
            "2023-12-15 20:55:27,786 ----------------------------------------------------------------------------------------------------\n",
            "2023-12-15 20:55:27,788 EPOCH 103 done: loss 0.1613 - lr: 0.020972\n"
          ]
        },
        {
          "output_type": "stream",
          "name": "stderr",
          "text": [
            "100%|██████████| 9/9 [00:00<00:00, 12.11it/s]"
          ]
        },
        {
          "output_type": "stream",
          "name": "stdout",
          "text": [
            "2023-12-15 20:55:28,560 DEV : loss 0.08544300496578217 - f1-score (micro avg)  0.8887\n",
            "2023-12-15 20:55:28,580  - 2 epochs without improvement\n",
            "2023-12-15 20:55:28,581 ----------------------------------------------------------------------------------------------------\n"
          ]
        },
        {
          "output_type": "stream",
          "name": "stderr",
          "text": [
            "\n"
          ]
        },
        {
          "output_type": "stream",
          "name": "stdout",
          "text": [
            "2023-12-15 20:55:29,436 epoch 104 - iter 16/167 - loss 0.15181886 - time (sec): 0.85 - samples/sec: 4778.62 - lr: 0.020972 - momentum: 0.000000\n",
            "2023-12-15 20:55:30,157 epoch 104 - iter 32/167 - loss 0.15485851 - time (sec): 1.57 - samples/sec: 5043.29 - lr: 0.020972 - momentum: 0.000000\n",
            "2023-12-15 20:55:30,970 epoch 104 - iter 48/167 - loss 0.15744479 - time (sec): 2.39 - samples/sec: 4967.45 - lr: 0.020972 - momentum: 0.000000\n",
            "2023-12-15 20:55:31,905 epoch 104 - iter 64/167 - loss 0.15547577 - time (sec): 3.32 - samples/sec: 4787.38 - lr: 0.020972 - momentum: 0.000000\n",
            "2023-12-15 20:55:32,586 epoch 104 - iter 80/167 - loss 0.15901941 - time (sec): 4.00 - samples/sec: 4905.04 - lr: 0.020972 - momentum: 0.000000\n",
            "2023-12-15 20:55:33,305 epoch 104 - iter 96/167 - loss 0.15794895 - time (sec): 4.72 - samples/sec: 4951.33 - lr: 0.020972 - momentum: 0.000000\n",
            "2023-12-15 20:55:34,100 epoch 104 - iter 112/167 - loss 0.15776453 - time (sec): 5.52 - samples/sec: 4916.09 - lr: 0.020972 - momentum: 0.000000\n",
            "2023-12-15 20:55:34,883 epoch 104 - iter 128/167 - loss 0.15783394 - time (sec): 6.30 - samples/sec: 4936.08 - lr: 0.020972 - momentum: 0.000000\n",
            "2023-12-15 20:55:35,597 epoch 104 - iter 144/167 - loss 0.16027894 - time (sec): 7.01 - samples/sec: 4939.48 - lr: 0.020972 - momentum: 0.000000\n",
            "2023-12-15 20:55:36,674 epoch 104 - iter 160/167 - loss 0.15982572 - time (sec): 8.09 - samples/sec: 4751.11 - lr: 0.020972 - momentum: 0.000000\n",
            "2023-12-15 20:55:37,261 ----------------------------------------------------------------------------------------------------\n",
            "2023-12-15 20:55:37,263 EPOCH 104 done: loss 0.1599 - lr: 0.020972\n"
          ]
        },
        {
          "output_type": "stream",
          "name": "stderr",
          "text": [
            "100%|██████████| 9/9 [00:01<00:00,  7.80it/s]"
          ]
        },
        {
          "output_type": "stream",
          "name": "stdout",
          "text": [
            "2023-12-15 20:55:38,446 DEV : loss 0.08598475903272629 - f1-score (micro avg)  0.8901\n",
            "2023-12-15 20:55:38,464  - 3 epochs without improvement\n",
            "2023-12-15 20:55:38,465 ----------------------------------------------------------------------------------------------------\n"
          ]
        },
        {
          "output_type": "stream",
          "name": "stderr",
          "text": [
            "\n"
          ]
        },
        {
          "output_type": "stream",
          "name": "stdout",
          "text": [
            "2023-12-15 20:55:39,162 epoch 105 - iter 16/167 - loss 0.16104514 - time (sec): 0.69 - samples/sec: 5417.65 - lr: 0.020972 - momentum: 0.000000\n",
            "2023-12-15 20:55:39,979 epoch 105 - iter 32/167 - loss 0.16501598 - time (sec): 1.51 - samples/sec: 5011.22 - lr: 0.020972 - momentum: 0.000000\n",
            "2023-12-15 20:55:40,755 epoch 105 - iter 48/167 - loss 0.16456256 - time (sec): 2.29 - samples/sec: 4990.53 - lr: 0.020972 - momentum: 0.000000\n",
            "2023-12-15 20:55:41,461 epoch 105 - iter 64/167 - loss 0.16440103 - time (sec): 2.99 - samples/sec: 5041.42 - lr: 0.020972 - momentum: 0.000000\n",
            "2023-12-15 20:55:42,267 epoch 105 - iter 80/167 - loss 0.16233795 - time (sec): 3.80 - samples/sec: 5028.10 - lr: 0.020972 - momentum: 0.000000\n",
            "2023-12-15 20:55:43,063 epoch 105 - iter 96/167 - loss 0.16171876 - time (sec): 4.60 - samples/sec: 5011.38 - lr: 0.020972 - momentum: 0.000000\n",
            "2023-12-15 20:55:43,900 epoch 105 - iter 112/167 - loss 0.15946673 - time (sec): 5.43 - samples/sec: 4949.46 - lr: 0.020972 - momentum: 0.000000\n",
            "2023-12-15 20:55:44,637 epoch 105 - iter 128/167 - loss 0.15917297 - time (sec): 6.17 - samples/sec: 4998.20 - lr: 0.020972 - momentum: 0.000000\n",
            "2023-12-15 20:55:45,552 epoch 105 - iter 144/167 - loss 0.15817628 - time (sec): 7.08 - samples/sec: 4922.34 - lr: 0.020972 - momentum: 0.000000\n",
            "2023-12-15 20:55:46,352 epoch 105 - iter 160/167 - loss 0.15855522 - time (sec): 7.88 - samples/sec: 4904.43 - lr: 0.020972 - momentum: 0.000000\n",
            "2023-12-15 20:55:46,646 ----------------------------------------------------------------------------------------------------\n",
            "2023-12-15 20:55:46,647 EPOCH 105 done: loss 0.1594 - lr: 0.020972\n"
          ]
        },
        {
          "output_type": "stream",
          "name": "stderr",
          "text": [
            "100%|██████████| 9/9 [00:00<00:00,  9.24it/s]\n"
          ]
        },
        {
          "output_type": "stream",
          "name": "stdout",
          "text": [
            "2023-12-15 20:55:47,659 DEV : loss 0.08873046934604645 - f1-score (micro avg)  0.8984\n",
            "2023-12-15 20:55:47,683  - 0 epochs without improvement\n",
            "2023-12-15 20:55:47,684 saving best model\n",
            "2023-12-15 20:55:48,882 ----------------------------------------------------------------------------------------------------\n",
            "2023-12-15 20:55:49,806 epoch 106 - iter 16/167 - loss 0.15461495 - time (sec): 0.92 - samples/sec: 4157.93 - lr: 0.020972 - momentum: 0.000000\n",
            "2023-12-15 20:55:50,619 epoch 106 - iter 32/167 - loss 0.15290206 - time (sec): 1.73 - samples/sec: 4612.77 - lr: 0.020972 - momentum: 0.000000\n",
            "2023-12-15 20:55:51,369 epoch 106 - iter 48/167 - loss 0.15360961 - time (sec): 2.48 - samples/sec: 4730.30 - lr: 0.020972 - momentum: 0.000000\n",
            "2023-12-15 20:55:52,006 epoch 106 - iter 64/167 - loss 0.15821748 - time (sec): 3.12 - samples/sec: 4902.12 - lr: 0.020972 - momentum: 0.000000\n",
            "2023-12-15 20:55:52,882 epoch 106 - iter 80/167 - loss 0.15705512 - time (sec): 4.00 - samples/sec: 4796.21 - lr: 0.020972 - momentum: 0.000000\n",
            "2023-12-15 20:55:53,647 epoch 106 - iter 96/167 - loss 0.15830519 - time (sec): 4.76 - samples/sec: 4807.04 - lr: 0.020972 - momentum: 0.000000\n",
            "2023-12-15 20:55:54,276 epoch 106 - iter 112/167 - loss 0.15749154 - time (sec): 5.39 - samples/sec: 4927.55 - lr: 0.020972 - momentum: 0.000000\n",
            "2023-12-15 20:55:55,058 epoch 106 - iter 128/167 - loss 0.15974861 - time (sec): 6.17 - samples/sec: 4914.00 - lr: 0.020972 - momentum: 0.000000\n",
            "2023-12-15 20:55:55,838 epoch 106 - iter 144/167 - loss 0.15862194 - time (sec): 6.95 - samples/sec: 4945.06 - lr: 0.020972 - momentum: 0.000000\n",
            "2023-12-15 20:55:56,797 epoch 106 - iter 160/167 - loss 0.15786791 - time (sec): 7.91 - samples/sec: 4866.95 - lr: 0.020972 - momentum: 0.000000\n",
            "2023-12-15 20:55:57,139 ----------------------------------------------------------------------------------------------------\n",
            "2023-12-15 20:55:57,141 EPOCH 106 done: loss 0.1577 - lr: 0.020972\n"
          ]
        },
        {
          "output_type": "stream",
          "name": "stderr",
          "text": [
            "100%|██████████| 9/9 [00:00<00:00, 11.94it/s]"
          ]
        },
        {
          "output_type": "stream",
          "name": "stdout",
          "text": [
            "2023-12-15 20:55:57,922 DEV : loss 0.0862722247838974 - f1-score (micro avg)  0.8975\n",
            "2023-12-15 20:55:57,941  - 1 epochs without improvement\n",
            "2023-12-15 20:55:57,943 ----------------------------------------------------------------------------------------------------\n"
          ]
        },
        {
          "output_type": "stream",
          "name": "stderr",
          "text": [
            "\n"
          ]
        },
        {
          "output_type": "stream",
          "name": "stdout",
          "text": [
            "2023-12-15 20:55:58,828 epoch 107 - iter 16/167 - loss 0.15451712 - time (sec): 0.88 - samples/sec: 4498.45 - lr: 0.020972 - momentum: 0.000000\n",
            "2023-12-15 20:55:59,759 epoch 107 - iter 32/167 - loss 0.15942678 - time (sec): 1.81 - samples/sec: 4269.82 - lr: 0.020972 - momentum: 0.000000\n",
            "2023-12-15 20:56:00,952 epoch 107 - iter 48/167 - loss 0.15332916 - time (sec): 3.01 - samples/sec: 3887.60 - lr: 0.020972 - momentum: 0.000000\n",
            "2023-12-15 20:56:01,665 epoch 107 - iter 64/167 - loss 0.15541823 - time (sec): 3.72 - samples/sec: 4170.50 - lr: 0.020972 - momentum: 0.000000\n",
            "2023-12-15 20:56:02,282 epoch 107 - iter 80/167 - loss 0.15919715 - time (sec): 4.34 - samples/sec: 4425.19 - lr: 0.020972 - momentum: 0.000000\n",
            "2023-12-15 20:56:03,066 epoch 107 - iter 96/167 - loss 0.15620976 - time (sec): 5.12 - samples/sec: 4499.37 - lr: 0.020972 - momentum: 0.000000\n",
            "2023-12-15 20:56:03,778 epoch 107 - iter 112/167 - loss 0.15448989 - time (sec): 5.83 - samples/sec: 4580.89 - lr: 0.020972 - momentum: 0.000000\n",
            "2023-12-15 20:56:04,564 epoch 107 - iter 128/167 - loss 0.15374418 - time (sec): 6.62 - samples/sec: 4623.48 - lr: 0.020972 - momentum: 0.000000\n",
            "2023-12-15 20:56:05,315 epoch 107 - iter 144/167 - loss 0.15503758 - time (sec): 7.37 - samples/sec: 4655.73 - lr: 0.020972 - momentum: 0.000000\n",
            "2023-12-15 20:56:06,270 epoch 107 - iter 160/167 - loss 0.15343170 - time (sec): 8.33 - samples/sec: 4607.48 - lr: 0.020972 - momentum: 0.000000\n",
            "2023-12-15 20:56:06,712 ----------------------------------------------------------------------------------------------------\n",
            "2023-12-15 20:56:06,713 EPOCH 107 done: loss 0.1532 - lr: 0.020972\n"
          ]
        },
        {
          "output_type": "stream",
          "name": "stderr",
          "text": [
            "100%|██████████| 9/9 [00:00<00:00, 12.28it/s]"
          ]
        },
        {
          "output_type": "stream",
          "name": "stdout",
          "text": [
            "2023-12-15 20:56:07,474 DEV : loss 0.08215462416410446 - f1-score (micro avg)  0.8887\n",
            "2023-12-15 20:56:07,492  - 2 epochs without improvement\n",
            "2023-12-15 20:56:07,494 ----------------------------------------------------------------------------------------------------\n"
          ]
        },
        {
          "output_type": "stream",
          "name": "stderr",
          "text": [
            "\n"
          ]
        },
        {
          "output_type": "stream",
          "name": "stdout",
          "text": [
            "2023-12-15 20:56:08,170 epoch 108 - iter 16/167 - loss 0.14820758 - time (sec): 0.67 - samples/sec: 5787.37 - lr: 0.020972 - momentum: 0.000000\n",
            "2023-12-15 20:56:08,870 epoch 108 - iter 32/167 - loss 0.15577671 - time (sec): 1.37 - samples/sec: 5574.75 - lr: 0.020972 - momentum: 0.000000\n",
            "2023-12-15 20:56:09,586 epoch 108 - iter 48/167 - loss 0.16003013 - time (sec): 2.09 - samples/sec: 5561.18 - lr: 0.020972 - momentum: 0.000000\n",
            "2023-12-15 20:56:10,223 epoch 108 - iter 64/167 - loss 0.15918436 - time (sec): 2.72 - samples/sec: 5579.05 - lr: 0.020972 - momentum: 0.000000\n",
            "2023-12-15 20:56:11,114 epoch 108 - iter 80/167 - loss 0.15824658 - time (sec): 3.61 - samples/sec: 5284.75 - lr: 0.020972 - momentum: 0.000000\n",
            "2023-12-15 20:56:12,202 epoch 108 - iter 96/167 - loss 0.15719671 - time (sec): 4.70 - samples/sec: 4866.79 - lr: 0.020972 - momentum: 0.000000\n",
            "2023-12-15 20:56:13,327 epoch 108 - iter 112/167 - loss 0.15700675 - time (sec): 5.83 - samples/sec: 4630.05 - lr: 0.020972 - momentum: 0.000000\n",
            "2023-12-15 20:56:14,011 epoch 108 - iter 128/167 - loss 0.15733195 - time (sec): 6.51 - samples/sec: 4733.26 - lr: 0.020972 - momentum: 0.000000\n",
            "2023-12-15 20:56:14,715 epoch 108 - iter 144/167 - loss 0.15768276 - time (sec): 7.22 - samples/sec: 4793.95 - lr: 0.020972 - momentum: 0.000000\n",
            "2023-12-15 20:56:15,606 epoch 108 - iter 160/167 - loss 0.15811060 - time (sec): 8.11 - samples/sec: 4767.14 - lr: 0.020972 - momentum: 0.000000\n",
            "2023-12-15 20:56:16,095 ----------------------------------------------------------------------------------------------------\n",
            "2023-12-15 20:56:16,098 EPOCH 108 done: loss 0.1579 - lr: 0.020972\n"
          ]
        },
        {
          "output_type": "stream",
          "name": "stderr",
          "text": [
            "100%|██████████| 9/9 [00:01<00:00,  7.68it/s]\n"
          ]
        },
        {
          "output_type": "stream",
          "name": "stdout",
          "text": [
            "2023-12-15 20:56:17,311 DEV : loss 0.0827297791838646 - f1-score (micro avg)  0.8956\n",
            "2023-12-15 20:56:17,336  - 3 epochs without improvement\n",
            "2023-12-15 20:56:17,338 ----------------------------------------------------------------------------------------------------\n",
            "2023-12-15 20:56:18,401 epoch 109 - iter 16/167 - loss 0.17204263 - time (sec): 1.06 - samples/sec: 3563.69 - lr: 0.020972 - momentum: 0.000000\n",
            "2023-12-15 20:56:19,122 epoch 109 - iter 32/167 - loss 0.16178804 - time (sec): 1.78 - samples/sec: 4243.57 - lr: 0.020972 - momentum: 0.000000\n",
            "2023-12-15 20:56:19,994 epoch 109 - iter 48/167 - loss 0.15492521 - time (sec): 2.65 - samples/sec: 4421.48 - lr: 0.020972 - momentum: 0.000000\n",
            "2023-12-15 20:56:20,790 epoch 109 - iter 64/167 - loss 0.15361278 - time (sec): 3.45 - samples/sec: 4507.45 - lr: 0.020972 - momentum: 0.000000\n",
            "2023-12-15 20:56:21,524 epoch 109 - iter 80/167 - loss 0.15618578 - time (sec): 4.18 - samples/sec: 4594.20 - lr: 0.020972 - momentum: 0.000000\n",
            "2023-12-15 20:56:22,443 epoch 109 - iter 96/167 - loss 0.15669299 - time (sec): 5.10 - samples/sec: 4570.87 - lr: 0.020972 - momentum: 0.000000\n",
            "2023-12-15 20:56:23,432 epoch 109 - iter 112/167 - loss 0.15728315 - time (sec): 6.09 - samples/sec: 4448.37 - lr: 0.020972 - momentum: 0.000000\n",
            "2023-12-15 20:56:24,459 epoch 109 - iter 128/167 - loss 0.15563159 - time (sec): 7.12 - samples/sec: 4346.74 - lr: 0.020972 - momentum: 0.000000\n",
            "2023-12-15 20:56:25,184 epoch 109 - iter 144/167 - loss 0.15375847 - time (sec): 7.84 - samples/sec: 4457.68 - lr: 0.020972 - momentum: 0.000000\n",
            "2023-12-15 20:56:25,932 epoch 109 - iter 160/167 - loss 0.15452272 - time (sec): 8.59 - samples/sec: 4495.92 - lr: 0.020972 - momentum: 0.000000\n",
            "2023-12-15 20:56:26,198 ----------------------------------------------------------------------------------------------------\n",
            "2023-12-15 20:56:26,199 EPOCH 109 done: loss 0.1547 - lr: 0.020972\n"
          ]
        },
        {
          "output_type": "stream",
          "name": "stderr",
          "text": [
            "100%|██████████| 9/9 [00:00<00:00, 12.09it/s]"
          ]
        },
        {
          "output_type": "stream",
          "name": "stdout",
          "text": [
            "2023-12-15 20:56:26,976 DEV : loss 0.08178622275590897 - f1-score (micro avg)  0.9059\n",
            "2023-12-15 20:56:26,994  - 0 epochs without improvement\n",
            "2023-12-15 20:56:26,996 saving best model\n"
          ]
        },
        {
          "output_type": "stream",
          "name": "stderr",
          "text": [
            "\n"
          ]
        },
        {
          "output_type": "stream",
          "name": "stdout",
          "text": [
            "2023-12-15 20:56:27,734 ----------------------------------------------------------------------------------------------------\n",
            "2023-12-15 20:56:28,486 epoch 110 - iter 16/167 - loss 0.15807349 - time (sec): 0.75 - samples/sec: 5019.72 - lr: 0.020972 - momentum: 0.000000\n",
            "2023-12-15 20:56:29,195 epoch 110 - iter 32/167 - loss 0.15502525 - time (sec): 1.46 - samples/sec: 5230.65 - lr: 0.020972 - momentum: 0.000000\n",
            "2023-12-15 20:56:30,039 epoch 110 - iter 48/167 - loss 0.14757538 - time (sec): 2.30 - samples/sec: 5099.89 - lr: 0.020972 - momentum: 0.000000\n",
            "2023-12-15 20:56:30,764 epoch 110 - iter 64/167 - loss 0.14968117 - time (sec): 3.03 - samples/sec: 5096.63 - lr: 0.020972 - momentum: 0.000000\n",
            "2023-12-15 20:56:31,506 epoch 110 - iter 80/167 - loss 0.15082840 - time (sec): 3.77 - samples/sec: 5106.47 - lr: 0.020972 - momentum: 0.000000\n",
            "2023-12-15 20:56:32,426 epoch 110 - iter 96/167 - loss 0.14893852 - time (sec): 4.69 - samples/sec: 4997.70 - lr: 0.020972 - momentum: 0.000000\n",
            "2023-12-15 20:56:33,083 epoch 110 - iter 112/167 - loss 0.15025379 - time (sec): 5.35 - samples/sec: 5045.61 - lr: 0.020972 - momentum: 0.000000\n",
            "2023-12-15 20:56:33,993 epoch 110 - iter 128/167 - loss 0.15121562 - time (sec): 6.26 - samples/sec: 4969.62 - lr: 0.020972 - momentum: 0.000000\n",
            "2023-12-15 20:56:34,973 epoch 110 - iter 144/167 - loss 0.15468575 - time (sec): 7.24 - samples/sec: 4820.33 - lr: 0.020972 - momentum: 0.000000\n",
            "2023-12-15 20:56:36,028 epoch 110 - iter 160/167 - loss 0.15520523 - time (sec): 8.29 - samples/sec: 4666.83 - lr: 0.020972 - momentum: 0.000000\n",
            "2023-12-15 20:56:36,342 ----------------------------------------------------------------------------------------------------\n",
            "2023-12-15 20:56:36,344 EPOCH 110 done: loss 0.1553 - lr: 0.020972\n"
          ]
        },
        {
          "output_type": "stream",
          "name": "stderr",
          "text": [
            "100%|██████████| 9/9 [00:00<00:00, 12.45it/s]"
          ]
        },
        {
          "output_type": "stream",
          "name": "stdout",
          "text": [
            "2023-12-15 20:56:37,094 DEV : loss 0.08294857293367386 - f1-score (micro avg)  0.8965\n",
            "2023-12-15 20:56:37,117  - 1 epochs without improvement\n",
            "2023-12-15 20:56:37,118 ----------------------------------------------------------------------------------------------------\n"
          ]
        },
        {
          "output_type": "stream",
          "name": "stderr",
          "text": [
            "\n"
          ]
        },
        {
          "output_type": "stream",
          "name": "stdout",
          "text": [
            "2023-12-15 20:56:38,014 epoch 111 - iter 16/167 - loss 0.14063524 - time (sec): 0.90 - samples/sec: 4714.90 - lr: 0.020972 - momentum: 0.000000\n",
            "2023-12-15 20:56:38,700 epoch 111 - iter 32/167 - loss 0.14757676 - time (sec): 1.58 - samples/sec: 4990.14 - lr: 0.020972 - momentum: 0.000000\n",
            "2023-12-15 20:56:39,560 epoch 111 - iter 48/167 - loss 0.14400612 - time (sec): 2.44 - samples/sec: 4881.72 - lr: 0.020972 - momentum: 0.000000\n",
            "2023-12-15 20:56:40,473 epoch 111 - iter 64/167 - loss 0.14273332 - time (sec): 3.35 - samples/sec: 4797.79 - lr: 0.020972 - momentum: 0.000000\n",
            "2023-12-15 20:56:41,096 epoch 111 - iter 80/167 - loss 0.14702759 - time (sec): 3.98 - samples/sec: 4965.04 - lr: 0.020972 - momentum: 0.000000\n",
            "2023-12-15 20:56:41,727 epoch 111 - iter 96/167 - loss 0.14986170 - time (sec): 4.61 - samples/sec: 5025.41 - lr: 0.020972 - momentum: 0.000000\n",
            "2023-12-15 20:56:42,444 epoch 111 - iter 112/167 - loss 0.15170954 - time (sec): 5.32 - samples/sec: 5100.41 - lr: 0.020972 - momentum: 0.000000\n",
            "2023-12-15 20:56:43,102 epoch 111 - iter 128/167 - loss 0.15177789 - time (sec): 5.98 - samples/sec: 5169.05 - lr: 0.020972 - momentum: 0.000000\n",
            "2023-12-15 20:56:43,823 epoch 111 - iter 144/167 - loss 0.15336251 - time (sec): 6.70 - samples/sec: 5163.59 - lr: 0.020972 - momentum: 0.000000\n",
            "2023-12-15 20:56:44,606 epoch 111 - iter 160/167 - loss 0.15339961 - time (sec): 7.49 - samples/sec: 5151.60 - lr: 0.020972 - momentum: 0.000000\n",
            "2023-12-15 20:56:45,157 ----------------------------------------------------------------------------------------------------\n",
            "2023-12-15 20:56:45,159 EPOCH 111 done: loss 0.1535 - lr: 0.020972\n"
          ]
        },
        {
          "output_type": "stream",
          "name": "stderr",
          "text": [
            "100%|██████████| 9/9 [00:00<00:00, 10.77it/s]"
          ]
        },
        {
          "output_type": "stream",
          "name": "stdout",
          "text": [
            "2023-12-15 20:56:46,031 DEV : loss 0.0818398967385292 - f1-score (micro avg)  0.8889\n",
            "2023-12-15 20:56:46,049  - 2 epochs without improvement\n",
            "2023-12-15 20:56:46,050 ----------------------------------------------------------------------------------------------------\n"
          ]
        },
        {
          "output_type": "stream",
          "name": "stderr",
          "text": [
            "\n"
          ]
        },
        {
          "output_type": "stream",
          "name": "stdout",
          "text": [
            "2023-12-15 20:56:47,329 epoch 112 - iter 16/167 - loss 0.13622745 - time (sec): 1.28 - samples/sec: 3326.88 - lr: 0.020972 - momentum: 0.000000\n",
            "2023-12-15 20:56:48,282 epoch 112 - iter 32/167 - loss 0.14279230 - time (sec): 2.23 - samples/sec: 3599.28 - lr: 0.020972 - momentum: 0.000000\n",
            "2023-12-15 20:56:49,132 epoch 112 - iter 48/167 - loss 0.14163764 - time (sec): 3.08 - samples/sec: 3934.93 - lr: 0.020972 - momentum: 0.000000\n",
            "2023-12-15 20:56:49,942 epoch 112 - iter 64/167 - loss 0.14571288 - time (sec): 3.89 - samples/sec: 4155.38 - lr: 0.020972 - momentum: 0.000000\n",
            "2023-12-15 20:56:50,628 epoch 112 - iter 80/167 - loss 0.14708488 - time (sec): 4.57 - samples/sec: 4383.88 - lr: 0.020972 - momentum: 0.000000\n",
            "2023-12-15 20:56:51,462 epoch 112 - iter 96/167 - loss 0.14676849 - time (sec): 5.41 - samples/sec: 4441.59 - lr: 0.020972 - momentum: 0.000000\n",
            "2023-12-15 20:56:52,309 epoch 112 - iter 112/167 - loss 0.14636730 - time (sec): 6.25 - samples/sec: 4458.45 - lr: 0.020972 - momentum: 0.000000\n",
            "2023-12-15 20:56:52,926 epoch 112 - iter 128/167 - loss 0.14691046 - time (sec): 6.87 - samples/sec: 4596.24 - lr: 0.020972 - momentum: 0.000000\n",
            "2023-12-15 20:56:53,562 epoch 112 - iter 144/167 - loss 0.15048849 - time (sec): 7.51 - samples/sec: 4671.04 - lr: 0.020972 - momentum: 0.000000\n",
            "2023-12-15 20:56:54,292 epoch 112 - iter 160/167 - loss 0.15256934 - time (sec): 8.24 - samples/sec: 4718.28 - lr: 0.020972 - momentum: 0.000000\n",
            "2023-12-15 20:56:54,571 ----------------------------------------------------------------------------------------------------\n",
            "2023-12-15 20:56:54,572 EPOCH 112 done: loss 0.1534 - lr: 0.020972\n"
          ]
        },
        {
          "output_type": "stream",
          "name": "stderr",
          "text": [
            "100%|██████████| 9/9 [00:00<00:00, 12.09it/s]"
          ]
        },
        {
          "output_type": "stream",
          "name": "stdout",
          "text": [
            "2023-12-15 20:56:55,349 DEV : loss 0.07915233075618744 - f1-score (micro avg)  0.9009\n",
            "2023-12-15 20:56:55,367  - 3 epochs without improvement\n",
            "2023-12-15 20:56:55,369 ----------------------------------------------------------------------------------------------------\n"
          ]
        },
        {
          "output_type": "stream",
          "name": "stderr",
          "text": [
            "\n"
          ]
        },
        {
          "output_type": "stream",
          "name": "stdout",
          "text": [
            "2023-12-15 20:56:56,240 epoch 113 - iter 16/167 - loss 0.14600853 - time (sec): 0.87 - samples/sec: 4510.59 - lr: 0.020972 - momentum: 0.000000\n",
            "2023-12-15 20:56:56,882 epoch 113 - iter 32/167 - loss 0.15585938 - time (sec): 1.51 - samples/sec: 4919.36 - lr: 0.020972 - momentum: 0.000000\n",
            "2023-12-15 20:56:57,726 epoch 113 - iter 48/167 - loss 0.15142628 - time (sec): 2.35 - samples/sec: 4899.06 - lr: 0.020972 - momentum: 0.000000\n",
            "2023-12-15 20:56:58,615 epoch 113 - iter 64/167 - loss 0.15566080 - time (sec): 3.24 - samples/sec: 4676.92 - lr: 0.020972 - momentum: 0.000000\n",
            "2023-12-15 20:56:59,615 epoch 113 - iter 80/167 - loss 0.15907716 - time (sec): 4.24 - samples/sec: 4428.99 - lr: 0.020972 - momentum: 0.000000\n",
            "2023-12-15 20:57:00,395 epoch 113 - iter 96/167 - loss 0.15853524 - time (sec): 5.02 - samples/sec: 4528.29 - lr: 0.020972 - momentum: 0.000000\n",
            "2023-12-15 20:57:01,174 epoch 113 - iter 112/167 - loss 0.15682937 - time (sec): 5.80 - samples/sec: 4577.12 - lr: 0.020972 - momentum: 0.000000\n",
            "2023-12-15 20:57:02,157 epoch 113 - iter 128/167 - loss 0.15383293 - time (sec): 6.78 - samples/sec: 4526.23 - lr: 0.020972 - momentum: 0.000000\n",
            "2023-12-15 20:57:03,063 epoch 113 - iter 144/167 - loss 0.15423377 - time (sec): 7.69 - samples/sec: 4515.58 - lr: 0.020972 - momentum: 0.000000\n",
            "2023-12-15 20:57:03,841 epoch 113 - iter 160/167 - loss 0.15263059 - time (sec): 8.47 - samples/sec: 4576.47 - lr: 0.020972 - momentum: 0.000000\n",
            "2023-12-15 20:57:04,105 ----------------------------------------------------------------------------------------------------\n",
            "2023-12-15 20:57:04,106 EPOCH 113 done: loss 0.1535 - lr: 0.020972\n"
          ]
        },
        {
          "output_type": "stream",
          "name": "stderr",
          "text": [
            "100%|██████████| 9/9 [00:00<00:00, 11.32it/s]"
          ]
        },
        {
          "output_type": "stream",
          "name": "stdout",
          "text": [
            "2023-12-15 20:57:04,933 DEV : loss 0.07859940826892853 - f1-score (micro avg)  0.8998\n",
            "2023-12-15 20:57:04,954  - 4 epochs without improvement (above 'patience')-> annealing learning_rate to [0.016777216000000008]\n",
            "2023-12-15 20:57:04,956 ----------------------------------------------------------------------------------------------------\n"
          ]
        },
        {
          "output_type": "stream",
          "name": "stderr",
          "text": [
            "\n"
          ]
        },
        {
          "output_type": "stream",
          "name": "stdout",
          "text": [
            "2023-12-15 20:57:05,827 epoch 114 - iter 16/167 - loss 0.14299441 - time (sec): 0.87 - samples/sec: 4478.36 - lr: 0.016777 - momentum: 0.000000\n",
            "2023-12-15 20:57:06,547 epoch 114 - iter 32/167 - loss 0.14569985 - time (sec): 1.59 - samples/sec: 4892.14 - lr: 0.016777 - momentum: 0.000000\n",
            "2023-12-15 20:57:07,214 epoch 114 - iter 48/167 - loss 0.14785265 - time (sec): 2.26 - samples/sec: 5066.06 - lr: 0.016777 - momentum: 0.000000\n",
            "2023-12-15 20:57:07,973 epoch 114 - iter 64/167 - loss 0.14642787 - time (sec): 3.01 - samples/sec: 5093.95 - lr: 0.016777 - momentum: 0.000000\n",
            "2023-12-15 20:57:08,784 epoch 114 - iter 80/167 - loss 0.14913790 - time (sec): 3.83 - samples/sec: 5033.40 - lr: 0.016777 - momentum: 0.000000\n",
            "2023-12-15 20:57:09,642 epoch 114 - iter 96/167 - loss 0.14894702 - time (sec): 4.68 - samples/sec: 4944.01 - lr: 0.016777 - momentum: 0.000000\n",
            "2023-12-15 20:57:10,665 epoch 114 - iter 112/167 - loss 0.15053664 - time (sec): 5.71 - samples/sec: 4712.94 - lr: 0.016777 - momentum: 0.000000\n",
            "2023-12-15 20:57:11,585 epoch 114 - iter 128/167 - loss 0.15061265 - time (sec): 6.63 - samples/sec: 4625.16 - lr: 0.016777 - momentum: 0.000000\n",
            "2023-12-15 20:57:12,403 epoch 114 - iter 144/167 - loss 0.15089590 - time (sec): 7.44 - samples/sec: 4640.79 - lr: 0.016777 - momentum: 0.000000\n",
            "2023-12-15 20:57:13,254 epoch 114 - iter 160/167 - loss 0.15034245 - time (sec): 8.30 - samples/sec: 4659.48 - lr: 0.016777 - momentum: 0.000000\n",
            "2023-12-15 20:57:13,618 ----------------------------------------------------------------------------------------------------\n",
            "2023-12-15 20:57:13,620 EPOCH 114 done: loss 0.1510 - lr: 0.016777\n"
          ]
        },
        {
          "output_type": "stream",
          "name": "stderr",
          "text": [
            "100%|██████████| 9/9 [00:00<00:00, 11.91it/s]"
          ]
        },
        {
          "output_type": "stream",
          "name": "stdout",
          "text": [
            "2023-12-15 20:57:14,404 DEV : loss 0.07857615500688553 - f1-score (micro avg)  0.9107\n",
            "2023-12-15 20:57:14,421  - 0 epochs without improvement\n",
            "2023-12-15 20:57:14,423 saving best model\n"
          ]
        },
        {
          "output_type": "stream",
          "name": "stderr",
          "text": [
            "\n"
          ]
        },
        {
          "output_type": "stream",
          "name": "stdout",
          "text": [
            "2023-12-15 20:57:15,183 ----------------------------------------------------------------------------------------------------\n",
            "2023-12-15 20:57:15,944 epoch 115 - iter 16/167 - loss 0.14716330 - time (sec): 0.76 - samples/sec: 4768.53 - lr: 0.016777 - momentum: 0.000000\n",
            "2023-12-15 20:57:16,682 epoch 115 - iter 32/167 - loss 0.15065084 - time (sec): 1.50 - samples/sec: 4961.87 - lr: 0.016777 - momentum: 0.000000\n",
            "2023-12-15 20:57:17,379 epoch 115 - iter 48/167 - loss 0.15575164 - time (sec): 2.19 - samples/sec: 5045.27 - lr: 0.016777 - momentum: 0.000000\n",
            "2023-12-15 20:57:18,134 epoch 115 - iter 64/167 - loss 0.15391889 - time (sec): 2.95 - samples/sec: 5017.84 - lr: 0.016777 - momentum: 0.000000\n",
            "2023-12-15 20:57:19,094 epoch 115 - iter 80/167 - loss 0.15059398 - time (sec): 3.91 - samples/sec: 4852.86 - lr: 0.016777 - momentum: 0.000000\n",
            "2023-12-15 20:57:19,773 epoch 115 - iter 96/167 - loss 0.14941489 - time (sec): 4.59 - samples/sec: 4971.11 - lr: 0.016777 - momentum: 0.000000\n",
            "2023-12-15 20:57:20,626 epoch 115 - iter 112/167 - loss 0.15025183 - time (sec): 5.44 - samples/sec: 4939.38 - lr: 0.016777 - momentum: 0.000000\n",
            "2023-12-15 20:57:21,371 epoch 115 - iter 128/167 - loss 0.15182630 - time (sec): 6.19 - samples/sec: 4946.53 - lr: 0.016777 - momentum: 0.000000\n",
            "2023-12-15 20:57:22,334 epoch 115 - iter 144/167 - loss 0.15200949 - time (sec): 7.15 - samples/sec: 4809.30 - lr: 0.016777 - momentum: 0.000000\n",
            "2023-12-15 20:57:23,573 epoch 115 - iter 160/167 - loss 0.15132779 - time (sec): 8.39 - samples/sec: 4596.39 - lr: 0.016777 - momentum: 0.000000\n",
            "2023-12-15 20:57:23,896 ----------------------------------------------------------------------------------------------------\n",
            "2023-12-15 20:57:23,897 EPOCH 115 done: loss 0.1508 - lr: 0.016777\n"
          ]
        },
        {
          "output_type": "stream",
          "name": "stderr",
          "text": [
            "100%|██████████| 9/9 [00:00<00:00, 12.09it/s]"
          ]
        },
        {
          "output_type": "stream",
          "name": "stdout",
          "text": [
            "2023-12-15 20:57:24,670 DEV : loss 0.07746166735887527 - f1-score (micro avg)  0.8992\n",
            "2023-12-15 20:57:24,688  - 1 epochs without improvement\n",
            "2023-12-15 20:57:24,689 ----------------------------------------------------------------------------------------------------\n"
          ]
        },
        {
          "output_type": "stream",
          "name": "stderr",
          "text": [
            "\n"
          ]
        },
        {
          "output_type": "stream",
          "name": "stdout",
          "text": [
            "2023-12-15 20:57:25,455 epoch 116 - iter 16/167 - loss 0.13555528 - time (sec): 0.76 - samples/sec: 5177.57 - lr: 0.016777 - momentum: 0.000000\n",
            "2023-12-15 20:57:26,235 epoch 116 - iter 32/167 - loss 0.12913884 - time (sec): 1.54 - samples/sec: 5162.98 - lr: 0.016777 - momentum: 0.000000\n",
            "2023-12-15 20:57:27,075 epoch 116 - iter 48/167 - loss 0.13280019 - time (sec): 2.38 - samples/sec: 4952.15 - lr: 0.016777 - momentum: 0.000000\n",
            "2023-12-15 20:57:27,879 epoch 116 - iter 64/167 - loss 0.14118940 - time (sec): 3.19 - samples/sec: 4923.02 - lr: 0.016777 - momentum: 0.000000\n",
            "2023-12-15 20:57:28,666 epoch 116 - iter 80/167 - loss 0.13892604 - time (sec): 3.97 - samples/sec: 4944.37 - lr: 0.016777 - momentum: 0.000000\n",
            "2023-12-15 20:57:29,614 epoch 116 - iter 96/167 - loss 0.13853477 - time (sec): 4.92 - samples/sec: 4829.68 - lr: 0.016777 - momentum: 0.000000\n",
            "2023-12-15 20:57:30,386 epoch 116 - iter 112/167 - loss 0.14010083 - time (sec): 5.69 - samples/sec: 4841.24 - lr: 0.016777 - momentum: 0.000000\n",
            "2023-12-15 20:57:31,050 epoch 116 - iter 128/167 - loss 0.14343358 - time (sec): 6.36 - samples/sec: 4904.24 - lr: 0.016777 - momentum: 0.000000\n",
            "2023-12-15 20:57:31,714 epoch 116 - iter 144/167 - loss 0.14431060 - time (sec): 7.02 - samples/sec: 4980.05 - lr: 0.016777 - momentum: 0.000000\n",
            "2023-12-15 20:57:32,366 epoch 116 - iter 160/167 - loss 0.14733206 - time (sec): 7.67 - samples/sec: 5032.33 - lr: 0.016777 - momentum: 0.000000\n",
            "2023-12-15 20:57:32,704 ----------------------------------------------------------------------------------------------------\n",
            "2023-12-15 20:57:32,706 EPOCH 116 done: loss 0.1485 - lr: 0.016777\n"
          ]
        },
        {
          "output_type": "stream",
          "name": "stderr",
          "text": [
            "100%|██████████| 9/9 [00:00<00:00,  9.19it/s]"
          ]
        },
        {
          "output_type": "stream",
          "name": "stdout",
          "text": [
            "2023-12-15 20:57:33,722 DEV : loss 0.0785706415772438 - f1-score (micro avg)  0.8922\n",
            "2023-12-15 20:57:33,746  - 2 epochs without improvement\n",
            "2023-12-15 20:57:33,748 ----------------------------------------------------------------------------------------------------\n"
          ]
        },
        {
          "output_type": "stream",
          "name": "stderr",
          "text": [
            "\n"
          ]
        },
        {
          "output_type": "stream",
          "name": "stdout",
          "text": [
            "2023-12-15 20:57:34,769 epoch 117 - iter 16/167 - loss 0.14986122 - time (sec): 1.02 - samples/sec: 3584.21 - lr: 0.016777 - momentum: 0.000000\n",
            "2023-12-15 20:57:35,667 epoch 117 - iter 32/167 - loss 0.14039334 - time (sec): 1.92 - samples/sec: 4100.21 - lr: 0.016777 - momentum: 0.000000\n",
            "2023-12-15 20:57:36,621 epoch 117 - iter 48/167 - loss 0.14021165 - time (sec): 2.87 - samples/sec: 4128.31 - lr: 0.016777 - momentum: 0.000000\n",
            "2023-12-15 20:57:37,417 epoch 117 - iter 64/167 - loss 0.14467629 - time (sec): 3.67 - samples/sec: 4272.68 - lr: 0.016777 - momentum: 0.000000\n",
            "2023-12-15 20:57:38,081 epoch 117 - iter 80/167 - loss 0.14934182 - time (sec): 4.33 - samples/sec: 4460.74 - lr: 0.016777 - momentum: 0.000000\n",
            "2023-12-15 20:57:38,975 epoch 117 - iter 96/167 - loss 0.14876117 - time (sec): 5.22 - samples/sec: 4503.44 - lr: 0.016777 - momentum: 0.000000\n",
            "2023-12-15 20:57:39,691 epoch 117 - iter 112/167 - loss 0.14852039 - time (sec): 5.94 - samples/sec: 4554.74 - lr: 0.016777 - momentum: 0.000000\n",
            "2023-12-15 20:57:40,409 epoch 117 - iter 128/167 - loss 0.14874206 - time (sec): 6.66 - samples/sec: 4633.54 - lr: 0.016777 - momentum: 0.000000\n",
            "2023-12-15 20:57:41,151 epoch 117 - iter 144/167 - loss 0.14946712 - time (sec): 7.40 - samples/sec: 4695.25 - lr: 0.016777 - momentum: 0.000000\n",
            "2023-12-15 20:57:41,867 epoch 117 - iter 160/167 - loss 0.14840698 - time (sec): 8.12 - samples/sec: 4761.44 - lr: 0.016777 - momentum: 0.000000\n",
            "2023-12-15 20:57:42,190 ----------------------------------------------------------------------------------------------------\n",
            "2023-12-15 20:57:42,191 EPOCH 117 done: loss 0.1487 - lr: 0.016777\n"
          ]
        },
        {
          "output_type": "stream",
          "name": "stderr",
          "text": [
            "100%|██████████| 9/9 [00:00<00:00, 12.23it/s]"
          ]
        },
        {
          "output_type": "stream",
          "name": "stdout",
          "text": [
            "2023-12-15 20:57:42,963 DEV : loss 0.07955863326787949 - f1-score (micro avg)  0.8974\n",
            "2023-12-15 20:57:42,981  - 3 epochs without improvement\n",
            "2023-12-15 20:57:42,982 ----------------------------------------------------------------------------------------------------\n"
          ]
        },
        {
          "output_type": "stream",
          "name": "stderr",
          "text": [
            "\n"
          ]
        },
        {
          "output_type": "stream",
          "name": "stdout",
          "text": [
            "2023-12-15 20:57:43,836 epoch 118 - iter 16/167 - loss 0.15053548 - time (sec): 0.85 - samples/sec: 4559.31 - lr: 0.016777 - momentum: 0.000000\n",
            "2023-12-15 20:57:44,475 epoch 118 - iter 32/167 - loss 0.15493030 - time (sec): 1.49 - samples/sec: 4947.16 - lr: 0.016777 - momentum: 0.000000\n",
            "2023-12-15 20:57:45,490 epoch 118 - iter 48/167 - loss 0.15133906 - time (sec): 2.50 - samples/sec: 4474.20 - lr: 0.016777 - momentum: 0.000000\n",
            "2023-12-15 20:57:46,745 epoch 118 - iter 64/167 - loss 0.14721444 - time (sec): 3.76 - samples/sec: 4083.63 - lr: 0.016777 - momentum: 0.000000\n",
            "2023-12-15 20:57:47,542 epoch 118 - iter 80/167 - loss 0.14915875 - time (sec): 4.56 - samples/sec: 4234.62 - lr: 0.016777 - momentum: 0.000000\n",
            "2023-12-15 20:57:48,377 epoch 118 - iter 96/167 - loss 0.14942139 - time (sec): 5.39 - samples/sec: 4321.89 - lr: 0.016777 - momentum: 0.000000\n",
            "2023-12-15 20:57:49,020 epoch 118 - iter 112/167 - loss 0.15317711 - time (sec): 6.03 - samples/sec: 4453.71 - lr: 0.016777 - momentum: 0.000000\n",
            "2023-12-15 20:57:49,820 epoch 118 - iter 128/167 - loss 0.15174094 - time (sec): 6.83 - samples/sec: 4504.74 - lr: 0.016777 - momentum: 0.000000\n",
            "2023-12-15 20:57:50,584 epoch 118 - iter 144/167 - loss 0.15130999 - time (sec): 7.60 - samples/sec: 4555.32 - lr: 0.016777 - momentum: 0.000000\n",
            "2023-12-15 20:57:51,448 epoch 118 - iter 160/167 - loss 0.14862320 - time (sec): 8.46 - samples/sec: 4575.41 - lr: 0.016777 - momentum: 0.000000\n",
            "2023-12-15 20:57:51,726 ----------------------------------------------------------------------------------------------------\n",
            "2023-12-15 20:57:51,727 EPOCH 118 done: loss 0.1494 - lr: 0.016777\n"
          ]
        },
        {
          "output_type": "stream",
          "name": "stderr",
          "text": [
            "100%|██████████| 9/9 [00:00<00:00, 11.97it/s]"
          ]
        },
        {
          "output_type": "stream",
          "name": "stdout",
          "text": [
            "2023-12-15 20:57:52,509 DEV : loss 0.07715649157762527 - f1-score (micro avg)  0.9085\n",
            "2023-12-15 20:57:52,527  - 4 epochs without improvement (above 'patience')-> annealing learning_rate to [0.013421772800000007]\n",
            "2023-12-15 20:57:52,529 ----------------------------------------------------------------------------------------------------\n"
          ]
        },
        {
          "output_type": "stream",
          "name": "stderr",
          "text": [
            "\n"
          ]
        },
        {
          "output_type": "stream",
          "name": "stdout",
          "text": [
            "2023-12-15 20:57:53,210 epoch 119 - iter 16/167 - loss 0.15472677 - time (sec): 0.68 - samples/sec: 5461.90 - lr: 0.013422 - momentum: 0.000000\n",
            "2023-12-15 20:57:53,891 epoch 119 - iter 32/167 - loss 0.15924521 - time (sec): 1.36 - samples/sec: 5376.07 - lr: 0.013422 - momentum: 0.000000\n",
            "2023-12-15 20:57:54,678 epoch 119 - iter 48/167 - loss 0.15511863 - time (sec): 2.15 - samples/sec: 5257.82 - lr: 0.013422 - momentum: 0.000000\n",
            "2023-12-15 20:57:55,410 epoch 119 - iter 64/167 - loss 0.15508019 - time (sec): 2.88 - samples/sec: 5232.86 - lr: 0.013422 - momentum: 0.000000\n",
            "2023-12-15 20:57:56,262 epoch 119 - iter 80/167 - loss 0.15316611 - time (sec): 3.73 - samples/sec: 5104.67 - lr: 0.013422 - momentum: 0.000000\n",
            "2023-12-15 20:57:57,267 epoch 119 - iter 96/167 - loss 0.14795112 - time (sec): 4.73 - samples/sec: 4862.96 - lr: 0.013422 - momentum: 0.000000\n",
            "2023-12-15 20:57:58,298 epoch 119 - iter 112/167 - loss 0.14868479 - time (sec): 5.77 - samples/sec: 4664.31 - lr: 0.013422 - momentum: 0.000000\n",
            "2023-12-15 20:57:59,057 epoch 119 - iter 128/167 - loss 0.14914233 - time (sec): 6.53 - samples/sec: 4700.63 - lr: 0.013422 - momentum: 0.000000\n",
            "2023-12-15 20:57:59,963 epoch 119 - iter 144/167 - loss 0.15039711 - time (sec): 7.43 - samples/sec: 4651.59 - lr: 0.013422 - momentum: 0.000000\n",
            "2023-12-15 20:58:00,884 epoch 119 - iter 160/167 - loss 0.14837729 - time (sec): 8.35 - samples/sec: 4623.67 - lr: 0.013422 - momentum: 0.000000\n",
            "2023-12-15 20:58:01,173 ----------------------------------------------------------------------------------------------------\n",
            "2023-12-15 20:58:01,175 EPOCH 119 done: loss 0.1490 - lr: 0.013422\n"
          ]
        },
        {
          "output_type": "stream",
          "name": "stderr",
          "text": [
            "100%|██████████| 9/9 [00:00<00:00, 12.09it/s]"
          ]
        },
        {
          "output_type": "stream",
          "name": "stdout",
          "text": [
            "2023-12-15 20:58:01,949 DEV : loss 0.07435625791549683 - f1-score (micro avg)  0.9164\n",
            "2023-12-15 20:58:01,967  - 0 epochs without improvement\n",
            "2023-12-15 20:58:01,969 saving best model\n"
          ]
        },
        {
          "output_type": "stream",
          "name": "stderr",
          "text": [
            "\n"
          ]
        },
        {
          "output_type": "stream",
          "name": "stdout",
          "text": [
            "2023-12-15 20:58:02,718 ----------------------------------------------------------------------------------------------------\n",
            "2023-12-15 20:58:03,474 epoch 120 - iter 16/167 - loss 0.14697952 - time (sec): 0.75 - samples/sec: 5007.92 - lr: 0.013422 - momentum: 0.000000\n",
            "2023-12-15 20:58:04,409 epoch 120 - iter 32/167 - loss 0.14227454 - time (sec): 1.68 - samples/sec: 4658.43 - lr: 0.013422 - momentum: 0.000000\n",
            "2023-12-15 20:58:05,078 epoch 120 - iter 48/167 - loss 0.14215303 - time (sec): 2.35 - samples/sec: 4811.87 - lr: 0.013422 - momentum: 0.000000\n",
            "2023-12-15 20:58:05,958 epoch 120 - iter 64/167 - loss 0.14453357 - time (sec): 3.23 - samples/sec: 4721.98 - lr: 0.013422 - momentum: 0.000000\n",
            "2023-12-15 20:58:06,704 epoch 120 - iter 80/167 - loss 0.14617865 - time (sec): 3.98 - samples/sec: 4769.95 - lr: 0.013422 - momentum: 0.000000\n",
            "2023-12-15 20:58:07,384 epoch 120 - iter 96/167 - loss 0.14607949 - time (sec): 4.66 - samples/sec: 4906.53 - lr: 0.013422 - momentum: 0.000000\n",
            "2023-12-15 20:58:08,109 epoch 120 - iter 112/167 - loss 0.14726990 - time (sec): 5.38 - samples/sec: 4946.31 - lr: 0.013422 - momentum: 0.000000\n",
            "2023-12-15 20:58:08,960 epoch 120 - iter 128/167 - loss 0.14871955 - time (sec): 6.24 - samples/sec: 4872.52 - lr: 0.013422 - momentum: 0.000000\n",
            "2023-12-15 20:58:10,181 epoch 120 - iter 144/167 - loss 0.14861252 - time (sec): 7.46 - samples/sec: 4620.46 - lr: 0.013422 - momentum: 0.000000\n",
            "2023-12-15 20:58:10,979 epoch 120 - iter 160/167 - loss 0.14700134 - time (sec): 8.25 - samples/sec: 4664.89 - lr: 0.013422 - momentum: 0.000000\n",
            "2023-12-15 20:58:11,405 ----------------------------------------------------------------------------------------------------\n",
            "2023-12-15 20:58:11,407 EPOCH 120 done: loss 0.1468 - lr: 0.013422\n"
          ]
        },
        {
          "output_type": "stream",
          "name": "stderr",
          "text": [
            "100%|██████████| 9/9 [00:00<00:00, 11.91it/s]"
          ]
        },
        {
          "output_type": "stream",
          "name": "stdout",
          "text": [
            "2023-12-15 20:58:12,191 DEV : loss 0.07577323168516159 - f1-score (micro avg)  0.9145\n",
            "2023-12-15 20:58:12,209  - 1 epochs without improvement\n",
            "2023-12-15 20:58:12,211 ----------------------------------------------------------------------------------------------------\n"
          ]
        },
        {
          "output_type": "stream",
          "name": "stderr",
          "text": [
            "\n"
          ]
        },
        {
          "output_type": "stream",
          "name": "stdout",
          "text": [
            "2023-12-15 20:58:13,009 epoch 121 - iter 16/167 - loss 0.13906509 - time (sec): 0.80 - samples/sec: 4808.14 - lr: 0.013422 - momentum: 0.000000\n",
            "2023-12-15 20:58:13,783 epoch 121 - iter 32/167 - loss 0.14233537 - time (sec): 1.57 - samples/sec: 4872.12 - lr: 0.013422 - momentum: 0.000000\n",
            "2023-12-15 20:58:14,575 epoch 121 - iter 48/167 - loss 0.14329634 - time (sec): 2.36 - samples/sec: 4886.69 - lr: 0.013422 - momentum: 0.000000\n",
            "2023-12-15 20:58:15,382 epoch 121 - iter 64/167 - loss 0.14006542 - time (sec): 3.17 - samples/sec: 4934.83 - lr: 0.013422 - momentum: 0.000000\n",
            "2023-12-15 20:58:16,192 epoch 121 - iter 80/167 - loss 0.14191661 - time (sec): 3.98 - samples/sec: 4898.35 - lr: 0.013422 - momentum: 0.000000\n",
            "2023-12-15 20:58:16,834 epoch 121 - iter 96/167 - loss 0.14255345 - time (sec): 4.62 - samples/sec: 5019.52 - lr: 0.013422 - momentum: 0.000000\n",
            "2023-12-15 20:58:17,532 epoch 121 - iter 112/167 - loss 0.14331973 - time (sec): 5.32 - samples/sec: 5069.35 - lr: 0.013422 - momentum: 0.000000\n",
            "2023-12-15 20:58:18,187 epoch 121 - iter 128/167 - loss 0.14504072 - time (sec): 5.97 - samples/sec: 5119.63 - lr: 0.013422 - momentum: 0.000000\n",
            "2023-12-15 20:58:19,060 epoch 121 - iter 144/167 - loss 0.14555981 - time (sec): 6.85 - samples/sec: 5066.55 - lr: 0.013422 - momentum: 0.000000\n",
            "2023-12-15 20:58:19,813 epoch 121 - iter 160/167 - loss 0.14683862 - time (sec): 7.60 - samples/sec: 5064.24 - lr: 0.013422 - momentum: 0.000000\n",
            "2023-12-15 20:58:20,305 ----------------------------------------------------------------------------------------------------\n",
            "2023-12-15 20:58:20,307 EPOCH 121 done: loss 0.1461 - lr: 0.013422\n"
          ]
        },
        {
          "output_type": "stream",
          "name": "stderr",
          "text": [
            "100%|██████████| 9/9 [00:01<00:00,  7.68it/s]\n"
          ]
        },
        {
          "output_type": "stream",
          "name": "stdout",
          "text": [
            "2023-12-15 20:58:21,513 DEV : loss 0.07357156276702881 - f1-score (micro avg)  0.918\n",
            "2023-12-15 20:58:21,540  - 0 epochs without improvement\n",
            "2023-12-15 20:58:21,543 saving best model\n",
            "2023-12-15 20:58:22,486 ----------------------------------------------------------------------------------------------------\n",
            "2023-12-15 20:58:23,307 epoch 122 - iter 16/167 - loss 0.15433355 - time (sec): 0.82 - samples/sec: 4838.26 - lr: 0.013422 - momentum: 0.000000\n",
            "2023-12-15 20:58:24,160 epoch 122 - iter 32/167 - loss 0.14516119 - time (sec): 1.67 - samples/sec: 4836.22 - lr: 0.013422 - momentum: 0.000000\n",
            "2023-12-15 20:58:24,797 epoch 122 - iter 48/167 - loss 0.14935297 - time (sec): 2.31 - samples/sec: 5144.32 - lr: 0.013422 - momentum: 0.000000\n",
            "2023-12-15 20:58:25,429 epoch 122 - iter 64/167 - loss 0.14824625 - time (sec): 2.94 - samples/sec: 5286.51 - lr: 0.013422 - momentum: 0.000000\n",
            "2023-12-15 20:58:26,199 epoch 122 - iter 80/167 - loss 0.14855103 - time (sec): 3.71 - samples/sec: 5229.95 - lr: 0.013422 - momentum: 0.000000\n",
            "2023-12-15 20:58:26,972 epoch 122 - iter 96/167 - loss 0.14619023 - time (sec): 4.48 - samples/sec: 5168.49 - lr: 0.013422 - momentum: 0.000000\n",
            "2023-12-15 20:58:27,815 epoch 122 - iter 112/167 - loss 0.14547729 - time (sec): 5.33 - samples/sec: 5098.76 - lr: 0.013422 - momentum: 0.000000\n",
            "2023-12-15 20:58:28,636 epoch 122 - iter 128/167 - loss 0.14752827 - time (sec): 6.15 - samples/sec: 5045.35 - lr: 0.013422 - momentum: 0.000000\n",
            "2023-12-15 20:58:29,511 epoch 122 - iter 144/167 - loss 0.14700289 - time (sec): 7.02 - samples/sec: 4973.14 - lr: 0.013422 - momentum: 0.000000\n",
            "2023-12-15 20:58:30,183 epoch 122 - iter 160/167 - loss 0.14770903 - time (sec): 7.69 - samples/sec: 5030.38 - lr: 0.013422 - momentum: 0.000000\n",
            "2023-12-15 20:58:30,504 ----------------------------------------------------------------------------------------------------\n",
            "2023-12-15 20:58:30,505 EPOCH 122 done: loss 0.1477 - lr: 0.013422\n"
          ]
        },
        {
          "output_type": "stream",
          "name": "stderr",
          "text": [
            "100%|██████████| 9/9 [00:00<00:00, 12.06it/s]"
          ]
        },
        {
          "output_type": "stream",
          "name": "stdout",
          "text": [
            "2023-12-15 20:58:31,280 DEV : loss 0.07621455192565918 - f1-score (micro avg)  0.9044\n",
            "2023-12-15 20:58:31,299  - 1 epochs without improvement\n",
            "2023-12-15 20:58:31,300 ----------------------------------------------------------------------------------------------------\n"
          ]
        },
        {
          "output_type": "stream",
          "name": "stderr",
          "text": [
            "\n"
          ]
        },
        {
          "output_type": "stream",
          "name": "stdout",
          "text": [
            "2023-12-15 20:58:32,252 epoch 123 - iter 16/167 - loss 0.14565653 - time (sec): 0.95 - samples/sec: 4175.61 - lr: 0.013422 - momentum: 0.000000\n",
            "2023-12-15 20:58:33,234 epoch 123 - iter 32/167 - loss 0.15100794 - time (sec): 1.93 - samples/sec: 3989.63 - lr: 0.013422 - momentum: 0.000000\n",
            "2023-12-15 20:58:34,161 epoch 123 - iter 48/167 - loss 0.14672868 - time (sec): 2.86 - samples/sec: 4005.87 - lr: 0.013422 - momentum: 0.000000\n",
            "2023-12-15 20:58:35,071 epoch 123 - iter 64/167 - loss 0.14338541 - time (sec): 3.77 - samples/sec: 4145.07 - lr: 0.013422 - momentum: 0.000000\n",
            "2023-12-15 20:58:35,877 epoch 123 - iter 80/167 - loss 0.14393915 - time (sec): 4.57 - samples/sec: 4292.05 - lr: 0.013422 - momentum: 0.000000\n",
            "2023-12-15 20:58:36,674 epoch 123 - iter 96/167 - loss 0.14350304 - time (sec): 5.37 - samples/sec: 4357.01 - lr: 0.013422 - momentum: 0.000000\n",
            "2023-12-15 20:58:37,308 epoch 123 - iter 112/167 - loss 0.14502548 - time (sec): 6.00 - samples/sec: 4486.12 - lr: 0.013422 - momentum: 0.000000\n",
            "2023-12-15 20:58:37,974 epoch 123 - iter 128/167 - loss 0.14614219 - time (sec): 6.67 - samples/sec: 4599.33 - lr: 0.013422 - momentum: 0.000000\n",
            "2023-12-15 20:58:38,758 epoch 123 - iter 144/167 - loss 0.14746471 - time (sec): 7.45 - samples/sec: 4642.48 - lr: 0.013422 - momentum: 0.000000\n",
            "2023-12-15 20:58:39,672 epoch 123 - iter 160/167 - loss 0.14805037 - time (sec): 8.37 - samples/sec: 4602.89 - lr: 0.013422 - momentum: 0.000000\n",
            "2023-12-15 20:58:40,043 ----------------------------------------------------------------------------------------------------\n",
            "2023-12-15 20:58:40,044 EPOCH 123 done: loss 0.1475 - lr: 0.013422\n"
          ]
        },
        {
          "output_type": "stream",
          "name": "stderr",
          "text": [
            "100%|██████████| 9/9 [00:01<00:00,  7.67it/s]"
          ]
        },
        {
          "output_type": "stream",
          "name": "stdout",
          "text": [
            "2023-12-15 20:58:41,252 DEV : loss 0.07362964004278183 - f1-score (micro avg)  0.9065\n",
            "2023-12-15 20:58:41,270  - 2 epochs without improvement\n",
            "2023-12-15 20:58:41,271 ----------------------------------------------------------------------------------------------------\n"
          ]
        },
        {
          "output_type": "stream",
          "name": "stderr",
          "text": [
            "\n"
          ]
        },
        {
          "output_type": "stream",
          "name": "stdout",
          "text": [
            "2023-12-15 20:58:41,930 epoch 124 - iter 16/167 - loss 0.14841641 - time (sec): 0.66 - samples/sec: 5622.02 - lr: 0.013422 - momentum: 0.000000\n",
            "2023-12-15 20:58:42,830 epoch 124 - iter 32/167 - loss 0.14460641 - time (sec): 1.56 - samples/sec: 4954.16 - lr: 0.013422 - momentum: 0.000000\n",
            "2023-12-15 20:58:43,667 epoch 124 - iter 48/167 - loss 0.14815518 - time (sec): 2.39 - samples/sec: 4849.24 - lr: 0.013422 - momentum: 0.000000\n",
            "2023-12-15 20:58:44,887 epoch 124 - iter 64/167 - loss 0.14806704 - time (sec): 3.61 - samples/sec: 4341.39 - lr: 0.013422 - momentum: 0.000000\n",
            "2023-12-15 20:58:45,833 epoch 124 - iter 80/167 - loss 0.14615447 - time (sec): 4.56 - samples/sec: 4289.38 - lr: 0.013422 - momentum: 0.000000\n",
            "2023-12-15 20:58:46,621 epoch 124 - iter 96/167 - loss 0.14573333 - time (sec): 5.35 - samples/sec: 4379.28 - lr: 0.013422 - momentum: 0.000000\n",
            "2023-12-15 20:58:47,282 epoch 124 - iter 112/167 - loss 0.14742335 - time (sec): 6.01 - samples/sec: 4511.22 - lr: 0.013422 - momentum: 0.000000\n",
            "2023-12-15 20:58:47,939 epoch 124 - iter 128/167 - loss 0.14957516 - time (sec): 6.66 - samples/sec: 4630.02 - lr: 0.013422 - momentum: 0.000000\n",
            "2023-12-15 20:58:48,899 epoch 124 - iter 144/167 - loss 0.14662459 - time (sec): 7.62 - samples/sec: 4566.81 - lr: 0.013422 - momentum: 0.000000\n",
            "2023-12-15 20:58:49,663 epoch 124 - iter 160/167 - loss 0.14701238 - time (sec): 8.39 - samples/sec: 4591.01 - lr: 0.013422 - momentum: 0.000000\n",
            "2023-12-15 20:58:50,042 ----------------------------------------------------------------------------------------------------\n",
            "2023-12-15 20:58:50,043 EPOCH 124 done: loss 0.1464 - lr: 0.013422\n"
          ]
        },
        {
          "output_type": "stream",
          "name": "stderr",
          "text": [
            "100%|██████████| 9/9 [00:00<00:00, 11.93it/s]"
          ]
        },
        {
          "output_type": "stream",
          "name": "stdout",
          "text": [
            "2023-12-15 20:58:50,829 DEV : loss 0.07461313158273697 - f1-score (micro avg)  0.9132\n",
            "2023-12-15 20:58:50,847  - 3 epochs without improvement\n",
            "2023-12-15 20:58:50,849 ----------------------------------------------------------------------------------------------------\n"
          ]
        },
        {
          "output_type": "stream",
          "name": "stderr",
          "text": [
            "\n"
          ]
        },
        {
          "output_type": "stream",
          "name": "stdout",
          "text": [
            "2023-12-15 20:58:51,712 epoch 125 - iter 16/167 - loss 0.14980191 - time (sec): 0.86 - samples/sec: 4600.86 - lr: 0.013422 - momentum: 0.000000\n",
            "2023-12-15 20:58:52,428 epoch 125 - iter 32/167 - loss 0.15643037 - time (sec): 1.58 - samples/sec: 4862.36 - lr: 0.013422 - momentum: 0.000000\n",
            "2023-12-15 20:58:53,232 epoch 125 - iter 48/167 - loss 0.15194496 - time (sec): 2.38 - samples/sec: 4865.91 - lr: 0.013422 - momentum: 0.000000\n",
            "2023-12-15 20:58:53,870 epoch 125 - iter 64/167 - loss 0.15104555 - time (sec): 3.02 - samples/sec: 5036.68 - lr: 0.013422 - momentum: 0.000000\n",
            "2023-12-15 20:58:54,661 epoch 125 - iter 80/167 - loss 0.15024032 - time (sec): 3.81 - samples/sec: 5012.25 - lr: 0.013422 - momentum: 0.000000\n",
            "2023-12-15 20:58:55,585 epoch 125 - iter 96/167 - loss 0.14972493 - time (sec): 4.73 - samples/sec: 4867.47 - lr: 0.013422 - momentum: 0.000000\n",
            "2023-12-15 20:58:56,511 epoch 125 - iter 112/167 - loss 0.14906052 - time (sec): 5.66 - samples/sec: 4706.57 - lr: 0.013422 - momentum: 0.000000\n",
            "2023-12-15 20:58:57,600 epoch 125 - iter 128/167 - loss 0.14977774 - time (sec): 6.75 - samples/sec: 4529.84 - lr: 0.013422 - momentum: 0.000000\n",
            "2023-12-15 20:58:58,293 epoch 125 - iter 144/167 - loss 0.14990751 - time (sec): 7.44 - samples/sec: 4605.45 - lr: 0.013422 - momentum: 0.000000\n",
            "2023-12-15 20:58:59,107 epoch 125 - iter 160/167 - loss 0.14697479 - time (sec): 8.26 - samples/sec: 4654.22 - lr: 0.013422 - momentum: 0.000000\n",
            "2023-12-15 20:58:59,458 ----------------------------------------------------------------------------------------------------\n",
            "2023-12-15 20:58:59,460 EPOCH 125 done: loss 0.1457 - lr: 0.013422\n"
          ]
        },
        {
          "output_type": "stream",
          "name": "stderr",
          "text": [
            "100%|██████████| 9/9 [00:00<00:00, 11.75it/s]"
          ]
        },
        {
          "output_type": "stream",
          "name": "stdout",
          "text": [
            "2023-12-15 20:59:00,258 DEV : loss 0.07279784977436066 - f1-score (micro avg)  0.9143\n",
            "2023-12-15 20:59:00,278  - 4 epochs without improvement (above 'patience')-> annealing learning_rate to [0.010737418240000006]\n",
            "2023-12-15 20:59:00,279 ----------------------------------------------------------------------------------------------------\n"
          ]
        },
        {
          "output_type": "stream",
          "name": "stderr",
          "text": [
            "\n"
          ]
        },
        {
          "output_type": "stream",
          "name": "stdout",
          "text": [
            "2023-12-15 20:59:01,045 epoch 126 - iter 16/167 - loss 0.13780791 - time (sec): 0.76 - samples/sec: 5170.22 - lr: 0.010737 - momentum: 0.000000\n",
            "2023-12-15 20:59:01,916 epoch 126 - iter 32/167 - loss 0.13583949 - time (sec): 1.63 - samples/sec: 4881.40 - lr: 0.010737 - momentum: 0.000000\n",
            "2023-12-15 20:59:02,601 epoch 126 - iter 48/167 - loss 0.13831917 - time (sec): 2.32 - samples/sec: 5074.93 - lr: 0.010737 - momentum: 0.000000\n",
            "2023-12-15 20:59:03,256 epoch 126 - iter 64/167 - loss 0.14303909 - time (sec): 2.97 - samples/sec: 5197.02 - lr: 0.010737 - momentum: 0.000000\n",
            "2023-12-15 20:59:04,041 epoch 126 - iter 80/167 - loss 0.14319846 - time (sec): 3.76 - samples/sec: 5146.81 - lr: 0.010737 - momentum: 0.000000\n",
            "2023-12-15 20:59:04,731 epoch 126 - iter 96/167 - loss 0.14369069 - time (sec): 4.45 - samples/sec: 5196.41 - lr: 0.010737 - momentum: 0.000000\n",
            "2023-12-15 20:59:05,432 epoch 126 - iter 112/167 - loss 0.14285102 - time (sec): 5.15 - samples/sec: 5235.28 - lr: 0.010737 - momentum: 0.000000\n",
            "2023-12-15 20:59:06,276 epoch 126 - iter 128/167 - loss 0.14158941 - time (sec): 5.99 - samples/sec: 5151.36 - lr: 0.010737 - momentum: 0.000000\n",
            "2023-12-15 20:59:07,163 epoch 126 - iter 144/167 - loss 0.14217449 - time (sec): 6.88 - samples/sec: 5042.64 - lr: 0.010737 - momentum: 0.000000\n",
            "2023-12-15 20:59:08,185 epoch 126 - iter 160/167 - loss 0.14323892 - time (sec): 7.90 - samples/sec: 4893.40 - lr: 0.010737 - momentum: 0.000000\n",
            "2023-12-15 20:59:08,713 ----------------------------------------------------------------------------------------------------\n",
            "2023-12-15 20:59:08,715 EPOCH 126 done: loss 0.1440 - lr: 0.010737\n"
          ]
        },
        {
          "output_type": "stream",
          "name": "stderr",
          "text": [
            "100%|██████████| 9/9 [00:00<00:00, 10.13it/s]"
          ]
        },
        {
          "output_type": "stream",
          "name": "stdout",
          "text": [
            "2023-12-15 20:59:09,632 DEV : loss 0.07503731548786163 - f1-score (micro avg)  0.9065\n",
            "2023-12-15 20:59:09,650  - 1 epochs without improvement\n",
            "2023-12-15 20:59:09,652 ----------------------------------------------------------------------------------------------------\n"
          ]
        },
        {
          "output_type": "stream",
          "name": "stderr",
          "text": [
            "\n"
          ]
        },
        {
          "output_type": "stream",
          "name": "stdout",
          "text": [
            "2023-12-15 20:59:10,278 epoch 127 - iter 16/167 - loss 0.15604095 - time (sec): 0.62 - samples/sec: 5727.88 - lr: 0.010737 - momentum: 0.000000\n",
            "2023-12-15 20:59:11,179 epoch 127 - iter 32/167 - loss 0.14776829 - time (sec): 1.52 - samples/sec: 4948.26 - lr: 0.010737 - momentum: 0.000000\n",
            "2023-12-15 20:59:12,183 epoch 127 - iter 48/167 - loss 0.13683311 - time (sec): 2.53 - samples/sec: 4720.69 - lr: 0.010737 - momentum: 0.000000\n",
            "2023-12-15 20:59:12,946 epoch 127 - iter 64/167 - loss 0.13945322 - time (sec): 3.29 - samples/sec: 4855.87 - lr: 0.010737 - momentum: 0.000000\n",
            "2023-12-15 20:59:13,712 epoch 127 - iter 80/167 - loss 0.14517871 - time (sec): 4.05 - samples/sec: 4840.18 - lr: 0.010737 - momentum: 0.000000\n",
            "2023-12-15 20:59:14,446 epoch 127 - iter 96/167 - loss 0.14501400 - time (sec): 4.79 - samples/sec: 4891.63 - lr: 0.010737 - momentum: 0.000000\n",
            "2023-12-15 20:59:15,264 epoch 127 - iter 112/167 - loss 0.14316240 - time (sec): 5.61 - samples/sec: 4890.54 - lr: 0.010737 - momentum: 0.000000\n",
            "2023-12-15 20:59:15,925 epoch 127 - iter 128/167 - loss 0.14401104 - time (sec): 6.27 - samples/sec: 4953.45 - lr: 0.010737 - momentum: 0.000000\n",
            "2023-12-15 20:59:16,656 epoch 127 - iter 144/167 - loss 0.14408880 - time (sec): 7.00 - samples/sec: 4988.63 - lr: 0.010737 - momentum: 0.000000\n",
            "2023-12-15 20:59:17,323 epoch 127 - iter 160/167 - loss 0.14377473 - time (sec): 7.66 - samples/sec: 5027.99 - lr: 0.010737 - momentum: 0.000000\n",
            "2023-12-15 20:59:17,693 ----------------------------------------------------------------------------------------------------\n",
            "2023-12-15 20:59:17,695 EPOCH 127 done: loss 0.1435 - lr: 0.010737\n"
          ]
        },
        {
          "output_type": "stream",
          "name": "stderr",
          "text": [
            "100%|██████████| 9/9 [00:00<00:00, 12.08it/s]"
          ]
        },
        {
          "output_type": "stream",
          "name": "stdout",
          "text": [
            "2023-12-15 20:59:18,476 DEV : loss 0.07149702310562134 - f1-score (micro avg)  0.915\n",
            "2023-12-15 20:59:18,494  - 2 epochs without improvement\n",
            "2023-12-15 20:59:18,496 ----------------------------------------------------------------------------------------------------\n"
          ]
        },
        {
          "output_type": "stream",
          "name": "stderr",
          "text": [
            "\n"
          ]
        },
        {
          "output_type": "stream",
          "name": "stdout",
          "text": [
            "2023-12-15 20:59:19,210 epoch 128 - iter 16/167 - loss 0.15493113 - time (sec): 0.71 - samples/sec: 5130.74 - lr: 0.010737 - momentum: 0.000000\n",
            "2023-12-15 20:59:20,519 epoch 128 - iter 32/167 - loss 0.14146529 - time (sec): 2.02 - samples/sec: 3912.18 - lr: 0.010737 - momentum: 0.000000\n",
            "2023-12-15 20:59:21,612 epoch 128 - iter 48/167 - loss 0.13758192 - time (sec): 3.11 - samples/sec: 3886.99 - lr: 0.010737 - momentum: 0.000000\n",
            "2023-12-15 20:59:22,301 epoch 128 - iter 64/167 - loss 0.14021811 - time (sec): 3.80 - samples/sec: 4153.12 - lr: 0.010737 - momentum: 0.000000\n",
            "2023-12-15 20:59:22,961 epoch 128 - iter 80/167 - loss 0.14378720 - time (sec): 4.46 - samples/sec: 4348.59 - lr: 0.010737 - momentum: 0.000000\n",
            "2023-12-15 20:59:23,617 epoch 128 - iter 96/167 - loss 0.14550304 - time (sec): 5.12 - samples/sec: 4484.80 - lr: 0.010737 - momentum: 0.000000\n",
            "2023-12-15 20:59:24,346 epoch 128 - iter 112/167 - loss 0.14580783 - time (sec): 5.85 - samples/sec: 4601.64 - lr: 0.010737 - momentum: 0.000000\n",
            "2023-12-15 20:59:25,176 epoch 128 - iter 128/167 - loss 0.14396921 - time (sec): 6.68 - samples/sec: 4628.47 - lr: 0.010737 - momentum: 0.000000\n",
            "2023-12-15 20:59:25,946 epoch 128 - iter 144/167 - loss 0.14591426 - time (sec): 7.45 - samples/sec: 4669.75 - lr: 0.010737 - momentum: 0.000000\n",
            "2023-12-15 20:59:26,767 epoch 128 - iter 160/167 - loss 0.14505319 - time (sec): 8.27 - samples/sec: 4684.91 - lr: 0.010737 - momentum: 0.000000\n",
            "2023-12-15 20:59:27,055 ----------------------------------------------------------------------------------------------------\n",
            "2023-12-15 20:59:27,056 EPOCH 128 done: loss 0.1452 - lr: 0.010737\n"
          ]
        },
        {
          "output_type": "stream",
          "name": "stderr",
          "text": [
            "100%|██████████| 9/9 [00:00<00:00, 12.03it/s]"
          ]
        },
        {
          "output_type": "stream",
          "name": "stdout",
          "text": [
            "2023-12-15 20:59:27,834 DEV : loss 0.07258918136358261 - f1-score (micro avg)  0.9011\n",
            "2023-12-15 20:59:27,852  - 3 epochs without improvement\n",
            "2023-12-15 20:59:27,853 ----------------------------------------------------------------------------------------------------\n"
          ]
        },
        {
          "output_type": "stream",
          "name": "stderr",
          "text": [
            "\n"
          ]
        },
        {
          "output_type": "stream",
          "name": "stdout",
          "text": [
            "2023-12-15 20:59:28,454 epoch 129 - iter 16/167 - loss 0.17022973 - time (sec): 0.60 - samples/sec: 5825.31 - lr: 0.010737 - momentum: 0.000000\n",
            "2023-12-15 20:59:29,225 epoch 129 - iter 32/167 - loss 0.15553262 - time (sec): 1.37 - samples/sec: 5474.66 - lr: 0.010737 - momentum: 0.000000\n",
            "2023-12-15 20:59:30,016 epoch 129 - iter 48/167 - loss 0.15170526 - time (sec): 2.16 - samples/sec: 5331.03 - lr: 0.010737 - momentum: 0.000000\n",
            "2023-12-15 20:59:30,694 epoch 129 - iter 64/167 - loss 0.15234967 - time (sec): 2.84 - samples/sec: 5361.59 - lr: 0.010737 - momentum: 0.000000\n",
            "2023-12-15 20:59:31,615 epoch 129 - iter 80/167 - loss 0.15444482 - time (sec): 3.76 - samples/sec: 5027.20 - lr: 0.010737 - momentum: 0.000000\n",
            "2023-12-15 20:59:32,777 epoch 129 - iter 96/167 - loss 0.15168573 - time (sec): 4.92 - samples/sec: 4663.34 - lr: 0.010737 - momentum: 0.000000\n",
            "2023-12-15 20:59:33,627 epoch 129 - iter 112/167 - loss 0.14901561 - time (sec): 5.77 - samples/sec: 4675.34 - lr: 0.010737 - momentum: 0.000000\n",
            "2023-12-15 20:59:34,345 epoch 129 - iter 128/167 - loss 0.14818050 - time (sec): 6.49 - samples/sec: 4742.02 - lr: 0.010737 - momentum: 0.000000\n",
            "2023-12-15 20:59:35,129 epoch 129 - iter 144/167 - loss 0.14766556 - time (sec): 7.27 - samples/sec: 4747.02 - lr: 0.010737 - momentum: 0.000000\n",
            "2023-12-15 20:59:36,030 epoch 129 - iter 160/167 - loss 0.14550506 - time (sec): 8.17 - samples/sec: 4711.60 - lr: 0.010737 - momentum: 0.000000\n",
            "2023-12-15 20:59:36,464 ----------------------------------------------------------------------------------------------------\n",
            "2023-12-15 20:59:36,466 EPOCH 129 done: loss 0.1450 - lr: 0.010737\n"
          ]
        },
        {
          "output_type": "stream",
          "name": "stderr",
          "text": [
            "100%|██████████| 9/9 [00:00<00:00, 11.76it/s]"
          ]
        },
        {
          "output_type": "stream",
          "name": "stdout",
          "text": [
            "2023-12-15 20:59:37,259 DEV : loss 0.07139483094215393 - f1-score (micro avg)  0.9151\n",
            "2023-12-15 20:59:37,279  - 4 epochs without improvement (above 'patience')-> annealing learning_rate to [0.008589934592000005]\n",
            "2023-12-15 20:59:37,281 ----------------------------------------------------------------------------------------------------\n",
            "2023-12-15 20:59:37,283 learning rate too small - quitting training!\n",
            "2023-12-15 20:59:37,284 ----------------------------------------------------------------------------------------------------\n",
            "2023-12-15 20:59:37,286 Saving model ...\n"
          ]
        },
        {
          "output_type": "stream",
          "name": "stderr",
          "text": [
            "\n"
          ]
        },
        {
          "output_type": "stream",
          "name": "stdout",
          "text": [
            "2023-12-15 20:59:38,035 Done.\n",
            "2023-12-15 20:59:38,037 ----------------------------------------------------------------------------------------------------\n",
            "2023-12-15 20:59:38,039 Loading model from best epoch ...\n",
            "2023-12-15 20:59:38,678 SequenceTagger predicts: Dictionary with 11 tags: O, B-Requirement, I-Requirement, B-Application, I-Application, B-Exception, I-Exception, B-Selection, I-Selection, <START>, <STOP>\n"
          ]
        },
        {
          "output_type": "stream",
          "name": "stderr",
          "text": [
            "100%|██████████| 9/9 [00:00<00:00, 13.56it/s]"
          ]
        },
        {
          "output_type": "stream",
          "name": "stdout",
          "text": [
            "2023-12-15 20:59:39,481 \n",
            "Results:\n",
            "- F-score (micro) 0.8925\n",
            "- F-score (macro) 0.9041\n",
            "- Accuracy 0.8457\n",
            "\n",
            "By class:\n",
            "              precision    recall  f1-score   support\n",
            "\n",
            " Requirement     0.8619    0.9030    0.8819       608\n",
            " Application     0.9396    0.8550    0.8953       200\n",
            "   Selection     0.9802    0.9519    0.9659       104\n",
            "   Exception     0.8846    0.8625    0.8734        80\n",
            "\n",
            "   micro avg     0.8898    0.8952    0.8925       992\n",
            "   macro avg     0.9166    0.8931    0.9041       992\n",
            "weighted avg     0.8918    0.8952    0.8927       992\n",
            "\n",
            "2023-12-15 20:59:39,482 ----------------------------------------------------------------------------------------------------\n"
          ]
        },
        {
          "output_type": "stream",
          "name": "stderr",
          "text": [
            "\n"
          ]
        },
        {
          "output_type": "execute_result",
          "data": {
            "text/plain": [
              "{'test_score': 0.892462311557789}"
            ]
          },
          "metadata": {},
          "execution_count": 19
        }
      ]
    },
    {
      "cell_type": "code",
      "source": [
        "from flair.models import SequenceTagger\n",
        "\n",
        "# Load the trained model\n",
        "model = SequenceTagger.load('output/best-model.pt')\n",
        "\n",
        "# Assuming you've already created a corpus with test data\n",
        "# test_data = corpus.test"
      ],
      "metadata": {
        "colab": {
          "base_uri": "https://localhost:8080/"
        },
        "id": "sdRZU1WVMm98",
        "outputId": "71dec387-188f-4e77-ed95-a13abab9cf8b"
      },
      "execution_count": 8,
      "outputs": [
        {
          "output_type": "stream",
          "name": "stdout",
          "text": [
            "2023-12-16 19:15:21,760 SequenceTagger predicts: Dictionary with 11 tags: O, B-Requirement, I-Requirement, B-Application, I-Application, B-Exception, I-Exception, B-Selection, I-Selection, <START>, <STOP>\n"
          ]
        }
      ]
    },
    {
      "cell_type": "code",
      "source": [
        "from flair.data import Sentence\n",
        "\n",
        "# Example: Predicting tags for a single sentence\n",
        "sentence = Sentence('''Maximum travel distances Location Where travel is possible in one direction only (m) Where travel is possible in more than one direction (m) Places of special fire hazard 1 9 1 18 Areas with seating in rows 1 15 1 32 Areas not listed above 1 18 1 45 Ground storey of small premises with a single exit 1 27 N/A Notes: 1''')\n",
        "model.predict(sentence)\n",
        "print(sentence.to_tagged_string())\n"
      ],
      "metadata": {
        "colab": {
          "base_uri": "https://localhost:8080/"
        },
        "id": "2eGuAclBMiw9",
        "outputId": "9a4009c7-414c-4cba-adcd-8dddc296f0b3"
      },
      "execution_count": 11,
      "outputs": [
        {
          "output_type": "stream",
          "name": "stdout",
          "text": [
            "Sentence[70]: \"Maximum travel distances Location Where travel is possible in one direction only (m) Where travel is possible in more than one direction (m) Places of special fire hazard 1 9 1 18 Areas with seating in rows 1 15 1 32 Areas not listed above 1 18 1 45 Ground storey of small premises with a single exit 1 27 N/A Notes: 1\" → [\"Maximum travel distances Location Where travel is possible in one direction only (m) Where travel is possible in more than one direction (m) Places of special fire hazard 1 9\"/Requirement, \"1\"/Exception, \"18\"/Exception, \"Areas with seating in rows 1\"/Requirement, \"15\"/Exception, \"1\"/Exception, \"32\"/Exception, \"Areas not listed above 1 18 1 45 Ground storey of small premises with a single exit 1 27 N/A Notes: 1\"/Requirement]\n"
          ]
        }
      ]
    },
    {
      "cell_type": "code",
      "source": [
        "from flair.models import SequenceTagger\n",
        "from flair.data import Sentence\n",
        "import os\n",
        "import pathlib\n",
        "import sys\n",
        "import re\n",
        "\n",
        "temp = pathlib.PosixPath\n",
        "pathlib.PosixPath = pathlib.WindowsPath\n",
        "\n",
        "sys.stdin.reconfigure(encoding='utf-8')\n",
        "sys.stdout.reconfigure(encoding='utf-8')\n",
        "\n",
        "def infer(text):\n",
        "    # Load the trained model\n",
        "    path = f'best-model.pt'\n",
        "    model = SequenceTagger.load(path)\n",
        "\n",
        "    text_split = text.split(\".\")\n",
        "\n",
        "    final_string = \"\"\n",
        "    a = []\n",
        "    for x in text_split:\n",
        "        sentence = Sentence(x)\n",
        "        model.predict(sentence)\n",
        "        value = sentence.to_tagged_string()\n",
        "        a.append(value)\n",
        "        value_split = value.split('\\u2192')[-1]\n",
        "\n",
        "\n",
        "\n",
        "        pattern = r'\"([^\"]*)\"/\\w+'\n",
        "        extracted_items = re.findall(pattern, value_split)\n",
        "\n",
        "        pattern_2 = r'\"/([A-Z][a-z]*)'\n",
        "        extracted_items_tags =  re.findall(pattern_2, value_split)\n",
        "\n",
        "\n",
        "        for i, item in enumerate(extracted_items):\n",
        "            final_string += f\"<strong>{extracted_items_tags[i]}</strong>: {item}<br>\"\n",
        "\n",
        "\n",
        "    return final_string\n",
        "\n"
      ],
      "metadata": {
        "id": "KZW7f09aQJ4N"
      },
      "execution_count": null,
      "outputs": []
    },
    {
      "cell_type": "code",
      "source": [
        "print(infer(\"\"))"
      ],
      "metadata": {
        "id": "M-DuH1NqQLis"
      },
      "execution_count": null,
      "outputs": []
    }
  ]
}